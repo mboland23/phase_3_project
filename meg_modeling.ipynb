{
 "cells": [
  {
   "cell_type": "code",
   "execution_count": 1,
   "metadata": {},
   "outputs": [],
   "source": [
    "import pandas as pd\n",
    "import numpy as np\n",
    "import matplotlib.pyplot as plt\n",
    "%matplotlib inline\n",
    "\n",
    "from sklearn.preprocessing import LabelEncoder, StandardScaler\n",
    "from sklearn.model_selection import train_test_split, cross_val_score, GridSearchCV\n",
    "from sklearn.dummy import DummyClassifier\n",
    "from sklearn.metrics import classification_report, accuracy_score, precision_score, recall_score, f1_score, confusion_matrix, plot_confusion_matrix\n",
    "from sklearn.neighbors import KNeighborsClassifier\n",
    "from sklearn.linear_model import LogisticRegression\n",
    "from sklearn.ensemble import RandomForestClassifier\n",
    "\n",
    "\n",
    "from sklearn.pipeline import Pipeline\n",
    "from sklearn.preprocessing import FunctionTransformer, OrdinalEncoder, OneHotEncoder\n",
    "from sklearn.compose import ColumnTransformer\n",
    "from sklearn.impute import SimpleImputer\n",
    "\n",
    "# Import imblearn dependencies\n",
    "from imblearn.over_sampling import SMOTE\n",
    "from imblearn.under_sampling import RandomUnderSampler\n",
    "from imblearn.pipeline import Pipeline as imbPipeline\n",
    "from collections import Counter\n",
    "from numpy import where"
   ]
  },
  {
   "cell_type": "code",
   "execution_count": 2,
   "metadata": {
    "scrolled": true
   },
   "outputs": [],
   "source": [
    "cleaned_water_pump = pd.read_csv(\"./Data/cleaned_water_pump.csv\")"
   ]
  },
  {
   "cell_type": "code",
   "execution_count": 3,
   "metadata": {
    "scrolled": true
   },
   "outputs": [
    {
     "data": {
      "text/plain": [
       "amount_tsh                     0\n",
       "gps_height                     0\n",
       "basin                          0\n",
       "region                         0\n",
       "region_code                    0\n",
       "lga                            0\n",
       "public_meeting                 0\n",
       "scheme_management              0\n",
       "permit                         0\n",
       "extraction_type_group          0\n",
       "extraction_type_class          0\n",
       "management                     0\n",
       "management_group               0\n",
       "payment                        0\n",
       "quality_group                  0\n",
       "quantity                       0\n",
       "source                         0\n",
       "source_class                   0\n",
       "waterpoint_type                0\n",
       "status_group                   0\n",
       "unknown_construction_yr        0\n",
       "age_at_inspection          20708\n",
       "water_per_person           21380\n",
       "dtype: int64"
      ]
     },
     "execution_count": 3,
     "metadata": {},
     "output_type": "execute_result"
    }
   ],
   "source": [
    "cleaned_water_pump.isna().sum()"
   ]
  },
  {
   "cell_type": "code",
   "execution_count": 3,
   "metadata": {},
   "outputs": [],
   "source": [
    "cleaned_water_pump[\"region_code\"]= cleaned_water_pump[\"region_code\"].astype(str)"
   ]
  },
  {
   "cell_type": "code",
   "execution_count": 6,
   "metadata": {},
   "outputs": [
    {
     "name": "stdout",
     "output_type": "stream",
     "text": [
      "<class 'pandas.core.frame.DataFrame'>\n",
      "RangeIndex: 59399 entries, 0 to 59398\n",
      "Data columns (total 23 columns):\n",
      " #   Column                   Non-Null Count  Dtype  \n",
      "---  ------                   --------------  -----  \n",
      " 0   amount_tsh               59399 non-null  float64\n",
      " 1   gps_height               59399 non-null  int64  \n",
      " 2   basin                    59399 non-null  object \n",
      " 3   region                   59399 non-null  object \n",
      " 4   region_code              59399 non-null  object \n",
      " 5   lga                      59399 non-null  object \n",
      " 6   public_meeting           59399 non-null  object \n",
      " 7   scheme_management        59399 non-null  object \n",
      " 8   permit                   59399 non-null  object \n",
      " 9   extraction_type_group    59399 non-null  object \n",
      " 10  extraction_type_class    59399 non-null  object \n",
      " 11  management               59399 non-null  object \n",
      " 12  management_group         59399 non-null  object \n",
      " 13  payment                  59399 non-null  object \n",
      " 14  quality_group            59399 non-null  object \n",
      " 15  quantity                 59399 non-null  object \n",
      " 16  source                   59399 non-null  object \n",
      " 17  source_class             59399 non-null  object \n",
      " 18  waterpoint_type          59399 non-null  object \n",
      " 19  status_group             59399 non-null  int64  \n",
      " 20  unknown_construction_yr  59399 non-null  bool   \n",
      " 21  age_at_inspection        38691 non-null  float64\n",
      " 22  water_per_person         38019 non-null  float64\n",
      "dtypes: bool(1), float64(3), int64(2), object(17)\n",
      "memory usage: 10.0+ MB\n"
     ]
    }
   ],
   "source": [
    "cleaned_water_pump.info()"
   ]
  },
  {
   "cell_type": "code",
   "execution_count": 4,
   "metadata": {},
   "outputs": [],
   "source": [
    "#Set X and Y \n",
    "X = cleaned_water_pump.drop(\"status_group\", axis=1)\n",
    "y = cleaned_water_pump[\"status_group\"]"
   ]
  },
  {
   "cell_type": "code",
   "execution_count": 5,
   "metadata": {},
   "outputs": [],
   "source": [
    "#Break into numeric and categorical columns \n",
    "numeric_cols = [\"amount_tsh\", \"gps_height\", \n",
    "                \"age_at_inspection\", \"water_per_person\"]\n",
    "cat_cols =[\"basin\", \"region\", \"region_code\", \"lga\", \"public_meeting\", \"scheme_management\", \"permit\",\n",
    "          \"extraction_type_group\", \"extraction_type_class\", \"management\", \"management_group\", \"payment\", \"quality_group\",\n",
    "          \"quantity\", \"source\", \"source_class\", \"waterpoint_type\"]\n",
    "bool_cols = [\"unknown_construction_yr\"]"
   ]
  },
  {
   "cell_type": "code",
   "execution_count": 6,
   "metadata": {},
   "outputs": [],
   "source": [
    "#Train Test Split\n",
    "\n",
    "X_train, X_test, y_train, y_test = train_test_split(X, y, random_state=42)"
   ]
  },
  {
   "cell_type": "code",
   "execution_count": 43,
   "metadata": {},
   "outputs": [
    {
     "data": {
      "text/html": [
       "<div>\n",
       "<style scoped>\n",
       "    .dataframe tbody tr th:only-of-type {\n",
       "        vertical-align: middle;\n",
       "    }\n",
       "\n",
       "    .dataframe tbody tr th {\n",
       "        vertical-align: top;\n",
       "    }\n",
       "\n",
       "    .dataframe thead th {\n",
       "        text-align: right;\n",
       "    }\n",
       "</style>\n",
       "<table border=\"1\" class=\"dataframe\">\n",
       "  <thead>\n",
       "    <tr style=\"text-align: right;\">\n",
       "      <th></th>\n",
       "      <th>amount_tsh</th>\n",
       "      <th>gps_height</th>\n",
       "      <th>basin</th>\n",
       "      <th>region</th>\n",
       "      <th>region_code</th>\n",
       "      <th>lga</th>\n",
       "      <th>public_meeting</th>\n",
       "      <th>scheme_management</th>\n",
       "      <th>permit</th>\n",
       "      <th>extraction_type_group</th>\n",
       "      <th>...</th>\n",
       "      <th>management_group</th>\n",
       "      <th>payment</th>\n",
       "      <th>quality_group</th>\n",
       "      <th>quantity</th>\n",
       "      <th>source</th>\n",
       "      <th>source_class</th>\n",
       "      <th>waterpoint_type</th>\n",
       "      <th>unknown_construction_yr</th>\n",
       "      <th>age_at_inspection</th>\n",
       "      <th>water_per_person</th>\n",
       "    </tr>\n",
       "  </thead>\n",
       "  <tbody>\n",
       "    <tr>\n",
       "      <th>42186</th>\n",
       "      <td>0.0</td>\n",
       "      <td>143</td>\n",
       "      <td>Wami / Ruvu</td>\n",
       "      <td>Pwani</td>\n",
       "      <td>6</td>\n",
       "      <td>Kibaha</td>\n",
       "      <td>True</td>\n",
       "      <td>VWC</td>\n",
       "      <td>True</td>\n",
       "      <td>mono</td>\n",
       "      <td>...</td>\n",
       "      <td>user-group</td>\n",
       "      <td>never pay</td>\n",
       "      <td>good</td>\n",
       "      <td>enough</td>\n",
       "      <td>river</td>\n",
       "      <td>surface</td>\n",
       "      <td>communal standpipe multiple</td>\n",
       "      <td>False</td>\n",
       "      <td>36.0</td>\n",
       "      <td>0.0</td>\n",
       "    </tr>\n",
       "    <tr>\n",
       "      <th>22629</th>\n",
       "      <td>0.0</td>\n",
       "      <td>0</td>\n",
       "      <td>Lake Victoria</td>\n",
       "      <td>Mwanza</td>\n",
       "      <td>17</td>\n",
       "      <td>Magu</td>\n",
       "      <td>Unknown</td>\n",
       "      <td>WUG</td>\n",
       "      <td>False</td>\n",
       "      <td>nira/tanira</td>\n",
       "      <td>...</td>\n",
       "      <td>user-group</td>\n",
       "      <td>unknown</td>\n",
       "      <td>good</td>\n",
       "      <td>enough</td>\n",
       "      <td>shallow well</td>\n",
       "      <td>groundwater</td>\n",
       "      <td>hand pump</td>\n",
       "      <td>True</td>\n",
       "      <td>NaN</td>\n",
       "      <td>NaN</td>\n",
       "    </tr>\n",
       "    <tr>\n",
       "      <th>13789</th>\n",
       "      <td>0.0</td>\n",
       "      <td>0</td>\n",
       "      <td>Lake Tanganyika</td>\n",
       "      <td>Shinyanga</td>\n",
       "      <td>17</td>\n",
       "      <td>Bukombe</td>\n",
       "      <td>True</td>\n",
       "      <td>Parastatal</td>\n",
       "      <td>False</td>\n",
       "      <td>gravity</td>\n",
       "      <td>...</td>\n",
       "      <td>parastatal</td>\n",
       "      <td>unknown</td>\n",
       "      <td>good</td>\n",
       "      <td>seasonal</td>\n",
       "      <td>rainwater harvesting</td>\n",
       "      <td>surface</td>\n",
       "      <td>communal standpipe</td>\n",
       "      <td>True</td>\n",
       "      <td>NaN</td>\n",
       "      <td>NaN</td>\n",
       "    </tr>\n",
       "    <tr>\n",
       "      <th>15697</th>\n",
       "      <td>3000.0</td>\n",
       "      <td>1120</td>\n",
       "      <td>Lake Rukwa</td>\n",
       "      <td>Rukwa</td>\n",
       "      <td>15</td>\n",
       "      <td>Mpanda</td>\n",
       "      <td>True</td>\n",
       "      <td>VWC</td>\n",
       "      <td>True</td>\n",
       "      <td>india mark ii</td>\n",
       "      <td>...</td>\n",
       "      <td>user-group</td>\n",
       "      <td>pay annually</td>\n",
       "      <td>good</td>\n",
       "      <td>insufficient</td>\n",
       "      <td>machine dbh</td>\n",
       "      <td>groundwater</td>\n",
       "      <td>hand pump</td>\n",
       "      <td>False</td>\n",
       "      <td>21.0</td>\n",
       "      <td>75.0</td>\n",
       "    </tr>\n",
       "    <tr>\n",
       "      <th>29893</th>\n",
       "      <td>0.0</td>\n",
       "      <td>405</td>\n",
       "      <td>Ruvuma / Southern Coast</td>\n",
       "      <td>Mtwara</td>\n",
       "      <td>90</td>\n",
       "      <td>Masasi</td>\n",
       "      <td>True</td>\n",
       "      <td>VWC</td>\n",
       "      <td>True</td>\n",
       "      <td>other</td>\n",
       "      <td>...</td>\n",
       "      <td>user-group</td>\n",
       "      <td>unknown</td>\n",
       "      <td>good</td>\n",
       "      <td>dry</td>\n",
       "      <td>shallow well</td>\n",
       "      <td>groundwater</td>\n",
       "      <td>other</td>\n",
       "      <td>False</td>\n",
       "      <td>38.0</td>\n",
       "      <td>0.0</td>\n",
       "    </tr>\n",
       "  </tbody>\n",
       "</table>\n",
       "<p>5 rows × 22 columns</p>\n",
       "</div>"
      ],
      "text/plain": [
       "       amount_tsh  gps_height                    basin     region region_code  \\\n",
       "42186         0.0         143              Wami / Ruvu      Pwani           6   \n",
       "22629         0.0           0            Lake Victoria     Mwanza          17   \n",
       "13789         0.0           0          Lake Tanganyika  Shinyanga          17   \n",
       "15697      3000.0        1120               Lake Rukwa      Rukwa          15   \n",
       "29893         0.0         405  Ruvuma / Southern Coast     Mtwara          90   \n",
       "\n",
       "           lga public_meeting scheme_management permit extraction_type_group  \\\n",
       "42186   Kibaha           True               VWC   True                  mono   \n",
       "22629     Magu        Unknown               WUG  False           nira/tanira   \n",
       "13789  Bukombe           True        Parastatal  False               gravity   \n",
       "15697   Mpanda           True               VWC   True         india mark ii   \n",
       "29893   Masasi           True               VWC   True                 other   \n",
       "\n",
       "       ... management_group       payment quality_group      quantity  \\\n",
       "42186  ...       user-group     never pay          good        enough   \n",
       "22629  ...       user-group       unknown          good        enough   \n",
       "13789  ...       parastatal       unknown          good      seasonal   \n",
       "15697  ...       user-group  pay annually          good  insufficient   \n",
       "29893  ...       user-group       unknown          good           dry   \n",
       "\n",
       "                     source source_class              waterpoint_type  \\\n",
       "42186                 river      surface  communal standpipe multiple   \n",
       "22629          shallow well  groundwater                    hand pump   \n",
       "13789  rainwater harvesting      surface           communal standpipe   \n",
       "15697           machine dbh  groundwater                    hand pump   \n",
       "29893          shallow well  groundwater                        other   \n",
       "\n",
       "      unknown_construction_yr age_at_inspection  water_per_person  \n",
       "42186                   False              36.0               0.0  \n",
       "22629                    True               NaN               NaN  \n",
       "13789                    True               NaN               NaN  \n",
       "15697                   False              21.0              75.0  \n",
       "29893                   False              38.0               0.0  \n",
       "\n",
       "[5 rows x 22 columns]"
      ]
     },
     "execution_count": 43,
     "metadata": {},
     "output_type": "execute_result"
    }
   ],
   "source": [
    "X_train.head()"
   ]
  },
  {
   "cell_type": "markdown",
   "metadata": {},
   "source": [
    "## Pipeline "
   ]
  },
  {
   "cell_type": "code",
   "execution_count": 7,
   "metadata": {},
   "outputs": [],
   "source": [
    "#Create subtypes\n",
    "subpipe_num = Pipeline(steps=[(\"num_impute\", SimpleImputer(strategy=\"mean\")),(\"ss\", StandardScaler())])\n",
    "subpipe_cat = Pipeline(steps=[(\"ohe\", OneHotEncoder(sparse=False, handle_unknown=\"ignore\"))])\n",
    "subpipe_ord = Pipeline(steps= [(\"ord_encode\", OrdinalEncoder())])"
   ]
  },
  {
   "cell_type": "code",
   "execution_count": 8,
   "metadata": {},
   "outputs": [],
   "source": [
    "#Column Transformers\n",
    "CT = ColumnTransformer(transformers=[\n",
    "                                    (\"subpipe_num\", subpipe_num, numeric_cols), \n",
    "                                     (\"subpipe_cat\", subpipe_cat, cat_cols),\n",
    "                                    (\"subpipe_ord\", subpipe_ord, bool_cols)\n",
    "                                    ], \n",
    "                       remainder=\"drop\"\n",
    "                      )"
   ]
  },
  {
   "cell_type": "code",
   "execution_count": 11,
   "metadata": {},
   "outputs": [],
   "source": [
    "class ModelWithCV():\n",
    "    '''Structure to save the model and more easily see its crossvalidation'''\n",
    "    def __init__(self, model, model_name, X, y, cv_now=True):\n",
    "        self.model = model\n",
    "        self.name = model_name\n",
    "        self.X = X\n",
    "        self.y = y\n",
    "        # For CV results\n",
    "        self.cv_results = None\n",
    "        self.cv_mean = None\n",
    "        self.cv_median = None\n",
    "        self.cv_std = None\n",
    "        #\n",
    "        if cv_now:\n",
    "            self.cross_validate()\n",
    "    def cross_validate(self, X=None, y=None, kfolds=10):\n",
    "        '''\n",
    "        Perform cross-validation and return results.\n",
    "        Args:\n",
    "          X:\n",
    "            Optional; Training data to perform CV on. Otherwise use X from object\n",
    "          y:\n",
    "            Optional; Training data to perform CV on. Otherwise use y from object\n",
    "          kfolds:\n",
    "            Optional; Number of folds for CV (default is 10)\n",
    "        '''\n",
    "        cv_X = X if X else self.X\n",
    "        cv_y = y if y else self.y\n",
    "        self.cv_results = cross_val_score(self.model, cv_X, cv_y, cv=kfolds)\n",
    "        self.cv_mean = np.mean(self.cv_results)\n",
    "        self.cv_median = np.median(self.cv_results)\n",
    "        self.cv_std = np.std(self.cv_results)\n",
    "    def print_cv_summary(self):\n",
    "        cv_summary = (\n",
    "        f'''CV Results for `{self.name}` model:\n",
    "            {self.cv_mean:.5f} ± {self.cv_std:.5f} accuracy\n",
    "        ''')\n",
    "        print(cv_summary)\n",
    "    def plot_cv(self, ax):\n",
    "        '''\n",
    "        Plot the cross-validation values using the array of results and given\n",
    "        Axis for plotting.\n",
    "        '''\n",
    "        ax.set_title(f'CV Results for `{self.name}` Model')\n",
    "        # Thinner violinplot with higher bw\n",
    "        sns.violinplot(y=self.cv_results, ax=ax, bw=.4)\n",
    "        sns.swarmplot(\n",
    "                y=self.cv_results,\n",
    "                color='orange',\n",
    "                size=10,\n",
    "                alpha= 0.8,\n",
    "                ax=ax\n",
    "        )\n",
    "        return ax"
   ]
  },
  {
   "cell_type": "markdown",
   "metadata": {},
   "source": [
    "## Dummy Model"
   ]
  },
  {
   "cell_type": "code",
   "execution_count": 12,
   "metadata": {},
   "outputs": [],
   "source": [
    "dummy_model_pipe = Pipeline(steps=[('ct', CT), ('dummy_model', DummyClassifier(strategy=\"most_frequent\",random_state=42))])"
   ]
  },
  {
   "cell_type": "code",
   "execution_count": 13,
   "metadata": {},
   "outputs": [
    {
     "data": {
      "text/plain": [
       "Pipeline(steps=[('ct',\n",
       "                 ColumnTransformer(transformers=[('subpipe_num',\n",
       "                                                  Pipeline(steps=[('num_impute',\n",
       "                                                                   SimpleImputer()),\n",
       "                                                                  ('ss',\n",
       "                                                                   StandardScaler())]),\n",
       "                                                  ['amount_tsh', 'gps_height',\n",
       "                                                   'age_at_inspection',\n",
       "                                                   'water_per_person']),\n",
       "                                                 ('subpipe_cat',\n",
       "                                                  Pipeline(steps=[('ohe',\n",
       "                                                                   OneHotEncoder(handle_unknown='ignore',\n",
       "                                                                                 sparse=False))]),\n",
       "                                                  ['basin', 'region',\n",
       "                                                   'region_code', 'lga',\n",
       "                                                   'public_m...\n",
       "                                                   'scheme_management',\n",
       "                                                   'permit',\n",
       "                                                   'extraction_type_group',\n",
       "                                                   'extraction_type_class',\n",
       "                                                   'management',\n",
       "                                                   'management_group',\n",
       "                                                   'payment', 'quality_group',\n",
       "                                                   'quantity', 'source',\n",
       "                                                   'source_class',\n",
       "                                                   'waterpoint_type']),\n",
       "                                                 ('subpipe_ord',\n",
       "                                                  Pipeline(steps=[('ord_encode',\n",
       "                                                                   OrdinalEncoder())]),\n",
       "                                                  ['unknown_construction_yr'])])),\n",
       "                ('dummy_model',\n",
       "                 DummyClassifier(random_state=42, strategy='most_frequent'))])"
      ]
     },
     "execution_count": 13,
     "metadata": {},
     "output_type": "execute_result"
    }
   ],
   "source": [
    "dummy_model_pipe.fit(X_train, y_train)"
   ]
  },
  {
   "cell_type": "code",
   "execution_count": 14,
   "metadata": {},
   "outputs": [
    {
     "data": {
      "text/plain": [
       "0.5416058721856832"
      ]
     },
     "execution_count": 14,
     "metadata": {},
     "output_type": "execute_result"
    }
   ],
   "source": [
    "#Accuracy Scores \n",
    "dummy_model_pipe.score(X_train, y_train)\n"
   ]
  },
  {
   "cell_type": "code",
   "execution_count": 15,
   "metadata": {},
   "outputs": [],
   "source": [
    "dummy_model_results = ModelWithCV(\n",
    "                                  model = dummy_model_pipe,\n",
    "                                  model_name = \"dummy\",\n",
    "                                  X=X_train,\n",
    "                                  y=y_train\n",
    ")"
   ]
  },
  {
   "cell_type": "code",
   "execution_count": 16,
   "metadata": {
    "scrolled": true
   },
   "outputs": [
    {
     "name": "stdout",
     "output_type": "stream",
     "text": [
      "CV Results for `dummy` model:\n",
      "            0.54161 ± 0.00007 accuracy\n",
      "        \n"
     ]
    }
   ],
   "source": [
    "dummy_model_results.print_cv_summary()"
   ]
  },
  {
   "cell_type": "code",
   "execution_count": null,
   "metadata": {},
   "outputs": [],
   "source": [
    "#Print classification report\n",
    "\n",
    "y_preds = dummy_model_pipe(X_test)\n",
    "\n",
    "print(classification_report(y_test, y_preds)"
   ]
  },
  {
   "cell_type": "markdown",
   "metadata": {},
   "source": [
    "## Logistic Regression Model"
   ]
  },
  {
   "cell_type": "code",
   "execution_count": null,
   "metadata": {
    "scrolled": true
   },
   "outputs": [],
   "source": [
    "logreg_model_pipe = Pipeline(steps=[('ct', CT), ('log_reg_model', LogisticRegression(max_iter = 850, random_state=42))])\n"
   ]
  },
  {
   "cell_type": "code",
   "execution_count": null,
   "metadata": {},
   "outputs": [],
   "source": [
    "logreg_model_pipe.fit(X_train, y_train)"
   ]
  },
  {
   "cell_type": "code",
   "execution_count": null,
   "metadata": {},
   "outputs": [],
   "source": [
    "logreg_model_pipe.score(X_train, y_train)"
   ]
  },
  {
   "cell_type": "code",
   "execution_count": null,
   "metadata": {},
   "outputs": [],
   "source": [
    "logreg_model_results = ModelWithCV(\n",
    "                                  model = logreg_model_pipe,\n",
    "                                  model_name = \"logreg\",\n",
    "                                  X=X_train,\n",
    "                                  y=y_train\n",
    ")"
   ]
  },
  {
   "cell_type": "code",
   "execution_count": null,
   "metadata": {},
   "outputs": [],
   "source": [
    "logreg_model_results.print_cv_summary()"
   ]
  },
  {
   "cell_type": "code",
   "execution_count": null,
   "metadata": {},
   "outputs": [],
   "source": [
    "#Print classification report\n",
    "y_preds = logreg_model_pipe(X_test)\n",
    "\n",
    "print(classification_report(y_test, y_preds)"
   ]
  },
  {
   "cell_type": "markdown",
   "metadata": {},
   "source": [
    "## Random Forest Model"
   ]
  },
  {
   "cell_type": "code",
   "execution_count": 10,
   "metadata": {},
   "outputs": [],
   "source": [
    "rfc_model_pipe = Pipeline(steps=[('ct', CT), ('rfc_model', RandomForestClassifier(random_state=42))])\n"
   ]
  },
  {
   "cell_type": "code",
   "execution_count": null,
   "metadata": {},
   "outputs": [],
   "source": [
    "rfc_model_pipe.fit(X_train, y_train)"
   ]
  },
  {
   "cell_type": "code",
   "execution_count": null,
   "metadata": {},
   "outputs": [],
   "source": [
    "rfc_model_pipe.score(X_train, y_train)"
   ]
  },
  {
   "cell_type": "code",
   "execution_count": null,
   "metadata": {},
   "outputs": [],
   "source": [
    "rfc_model_results = ModelWithCV(\n",
    "                                  model = rfc_model_pipe,\n",
    "                                  model_name = \"rfc\",\n",
    "                                  X=X_train,\n",
    "                                  y=y_train\n",
    ")"
   ]
  },
  {
   "cell_type": "code",
   "execution_count": null,
   "metadata": {},
   "outputs": [],
   "source": [
    "rfc_model_results.print_cv_summary()"
   ]
  },
  {
   "cell_type": "code",
   "execution_count": null,
   "metadata": {},
   "outputs": [],
   "source": [
    "#Print classification report\n",
    "y_preds = rfc_model_pipe.predict(X_test)\n",
    "\n",
    "print(classification_report(y_test, y_preds)"
   ]
  },
  {
   "cell_type": "markdown",
   "metadata": {},
   "source": [
    "## GridSearch "
   ]
  },
  {
   "cell_type": "code",
   "execution_count": 11,
   "metadata": {},
   "outputs": [],
   "source": [
    "#Grid search using params for our rfc model \n",
    "params = { \"rfc_model__n_estimators\": [50, 100, 150],\n",
    "        \"rfc_model__criterion\": [\"gini\", \"entropy\"],\n",
    "         \"rfc_model__min_samples_leaf\": [5, 10, 30]}\n",
    "\n",
    "gs = GridSearchCV(estimator = rfc_model_pipe,\n",
    "                 param_grid=params,\n",
    "                 cv=5)"
   ]
  },
  {
   "cell_type": "code",
   "execution_count": 12,
   "metadata": {
    "scrolled": true
   },
   "outputs": [
    {
     "data": {
      "text/plain": [
       "GridSearchCV(cv=5,\n",
       "             estimator=Pipeline(steps=[('ct',\n",
       "                                        ColumnTransformer(transformers=[('subpipe_num',\n",
       "                                                                         Pipeline(steps=[('num_impute',\n",
       "                                                                                          SimpleImputer()),\n",
       "                                                                                         ('ss',\n",
       "                                                                                          StandardScaler())]),\n",
       "                                                                         ['amount_tsh',\n",
       "                                                                          'gps_height',\n",
       "                                                                          'age_at_inspection',\n",
       "                                                                          'water_per_person']),\n",
       "                                                                        ('subpipe_cat',\n",
       "                                                                         Pipeline(steps=[('ohe',\n",
       "                                                                                          OneHotEncoder(handle_unknown='ignore',\n",
       "                                                                                                        sparse=False))]),\n",
       "                                                                         ['basin',\n",
       "                                                                          'region',\n",
       "                                                                          '...\n",
       "                                                                          'quality_group',\n",
       "                                                                          'quantity',\n",
       "                                                                          'source',\n",
       "                                                                          'source_class',\n",
       "                                                                          'waterpoint_type']),\n",
       "                                                                        ('subpipe_ord',\n",
       "                                                                         Pipeline(steps=[('ord_encode',\n",
       "                                                                                          OrdinalEncoder())]),\n",
       "                                                                         ['unknown_construction_yr'])])),\n",
       "                                       ('rfc_model',\n",
       "                                        RandomForestClassifier(random_state=42))]),\n",
       "             param_grid={'rfc_model__criterion': ['gini', 'entropy'],\n",
       "                         'rfc_model__min_samples_leaf': [5, 10, 30],\n",
       "                         'rfc_model__n_estimators': [50, 100, 150]})"
      ]
     },
     "execution_count": 12,
     "metadata": {},
     "output_type": "execute_result"
    }
   ],
   "source": [
    "gs.fit(X_train, y_train)"
   ]
  },
  {
   "cell_type": "code",
   "execution_count": 15,
   "metadata": {},
   "outputs": [],
   "source": [
    "basic_rfc_best = gs.best_params_"
   ]
  },
  {
   "cell_type": "markdown",
   "metadata": {},
   "source": [
    "{'rfc_model__criterion': 'gini',\n",
    " 'rfc_model__min_samples_leaf': 5,\n",
    " 'rfc_model__n_estimators': 100}"
   ]
  },
  {
   "cell_type": "code",
   "execution_count": 14,
   "metadata": {},
   "outputs": [
    {
     "data": {
      "text/plain": [
       "0.7804440231753436"
      ]
     },
     "execution_count": 14,
     "metadata": {},
     "output_type": "execute_result"
    }
   ],
   "source": [
    "gs.best_score_"
   ]
  },
  {
   "cell_type": "markdown",
   "metadata": {},
   "source": [
    "{'rfc_model__criterion': 'gini',\n",
    " 'rfc_model__min_samples_leaf': 5,\n",
    " 'rfc_model__n_estimators': 100}\n",
    "\n",
    "best_score = .780"
   ]
  },
  {
   "cell_type": "code",
   "execution_count": 18,
   "metadata": {},
   "outputs": [
    {
     "data": {
      "text/plain": [
       "0.7666140294452489"
      ]
     },
     "execution_count": 18,
     "metadata": {},
     "output_type": "execute_result"
    }
   ],
   "source": [
    "gs.cv_results_['mean_test_score'].mean()"
   ]
  },
  {
   "cell_type": "code",
   "execution_count": 24,
   "metadata": {},
   "outputs": [
    {
     "name": "stdout",
     "output_type": "stream",
     "text": [
      "              precision    recall  f1-score   support\n",
      "\n",
      "           0       0.76      0.92      0.83      8131\n",
      "           1       0.62      0.16      0.26      1046\n",
      "           2       0.84      0.70      0.76      5673\n",
      "\n",
      "    accuracy                           0.78     14850\n",
      "   macro avg       0.74      0.59      0.62     14850\n",
      "weighted avg       0.78      0.78      0.76     14850\n",
      "\n"
     ]
    }
   ],
   "source": [
    "y_preds_rfc_basic = gs.best_estimator_.predict(X_test)\n",
    "\n",
    "print(classification_report(y_test, y_preds_rfc_basic))"
   ]
  },
  {
   "cell_type": "code",
   "execution_count": null,
   "metadata": {},
   "outputs": [],
   "source": [
    "## Pipeline 2 with median as strategy\n",
    "subpipe_num2 = Pipeline(steps=[(\"num_impute\", SimpleImputer(strategy=\"median\")),(\"ss\", StandardScaler())])\n",
    "subpipe_cat2 = Pipeline(steps=[(\"ohe\", OneHotEncoder(sparse=False, handle_unknown=\"ignore\"))])\n",
    "subpipe_ord2 = Pipeline(steps= [(\"ord_encode\", OrdinalEncoder())])\n",
    "\n",
    "#Column Transformers with subpipe_2\n",
    "CT_2 = ColumnTransformer(transformers=[\n",
    "                                    (\"subpipe_num\", subpipe_num2, numeric_cols), \n",
    "                                     (\"subpipe_cat\", subpipe_cat2, cat_cols),\n",
    "                                    (\"subpipe_ord\", subpipe_ord2, bool_cols)\n",
    "                                    ], \n",
    "                       remainder=\"drop\"\n",
    "                      )\n",
    "\n",
    "\n",
    "rfc_model_pipe2 = Pipeline(steps=[('ct_2', CT_2), ('rfc_model_2', RandomForestClassifier(random_state=42))])\n",
    "rfc_model_pipe2.fit(X_train, y_train)"
   ]
  },
  {
   "cell_type": "code",
   "execution_count": null,
   "metadata": {},
   "outputs": [],
   "source": [
    "#Grid search using params for our rfc model 2\n",
    "params = { \"rfc_model_2__n_estimators\": [50, 100, 150],\n",
    "        \"rfc_model_2__criterion\": [\"gini\", \"entropy\"],\n",
    "         \"rfc_model_2__min_samples_leaf\": [5, 10, 30]}\n",
    "\n",
    "gs2 = GridSearchCV(estimator = rfc_model_pipe2,\n",
    "                 param_grid=params,\n",
    "                 cv=5)"
   ]
  },
  {
   "cell_type": "code",
   "execution_count": null,
   "metadata": {},
   "outputs": [],
   "source": [
    "gs2.fit(X_train, y_train)"
   ]
  },
  {
   "cell_type": "code",
   "execution_count": null,
   "metadata": {},
   "outputs": [],
   "source": [
    "gs2.best_params_"
   ]
  },
  {
   "cell_type": "code",
   "execution_count": null,
   "metadata": {},
   "outputs": [],
   "source": [
    "gs2.best_score_"
   ]
  },
  {
   "cell_type": "code",
   "execution_count": null,
   "metadata": {},
   "outputs": [],
   "source": [
    "gs2.cv_results_['mean_test_score'].mean()"
   ]
  },
  {
   "cell_type": "code",
   "execution_count": null,
   "metadata": {},
   "outputs": [],
   "source": [
    "params_3 = { \"rfc_model__n_estimators\": [50, 100, 150],\n",
    "        \"rfc_model__criterion\": [\"gini\", \"entropy\"],\n",
    "         \"rfc_model__min_samples_split\": [2, 6, 10]}\n",
    "\n",
    "gs3 = GridSearchCV(estimator = rfc_model_pipe,\n",
    "                 param_grid=params_3,\n",
    "                 cv=5)"
   ]
  },
  {
   "cell_type": "code",
   "execution_count": null,
   "metadata": {},
   "outputs": [],
   "source": [
    "gs3.fit(X_train, y_train)"
   ]
  },
  {
   "cell_type": "code",
   "execution_count": null,
   "metadata": {},
   "outputs": [],
   "source": [
    "gs3.best_score_"
   ]
  },
  {
   "cell_type": "code",
   "execution_count": null,
   "metadata": {},
   "outputs": [],
   "source": [
    "gs3.cv_results_['mean_test_score'].mean()"
   ]
  },
  {
   "cell_type": "code",
   "execution_count": null,
   "metadata": {},
   "outputs": [],
   "source": [
    "gs3.best_params_"
   ]
  },
  {
   "cell_type": "code",
   "execution_count": null,
   "metadata": {},
   "outputs": [],
   "source": [
    "params_4 = { \"rfc_model__n_estimators\": [100, 150, 200],\n",
    "        \"rfc_model__criterion\": [\"gini\", \"entropy\"],\n",
    "         \"rfc_model__min_samples_split\": [10, 20, 30]\n",
    "           }\n",
    "\n",
    "gs4 = GridSearchCV(estimator = rfc_model_pipe,\n",
    "                 param_grid=params_4,\n",
    "                 cv=5)"
   ]
  },
  {
   "cell_type": "code",
   "execution_count": null,
   "metadata": {},
   "outputs": [],
   "source": [
    "gs4.fit(X_train, y_train)"
   ]
  },
  {
   "cell_type": "code",
   "execution_count": null,
   "metadata": {},
   "outputs": [],
   "source": [
    "gs4.best_score_"
   ]
  },
  {
   "cell_type": "code",
   "execution_count": null,
   "metadata": {},
   "outputs": [],
   "source": [
    "gs4.cv_results_[\"mean_test_score\"].mean()"
   ]
  },
  {
   "cell_type": "markdown",
   "metadata": {},
   "source": [
    "## Using Smote: Oversamping Minority and Undersampling Majority Classes"
   ]
  },
  {
   "cell_type": "code",
   "execution_count": 24,
   "metadata": {},
   "outputs": [
    {
     "name": "stdout",
     "output_type": "stream",
     "text": [
      "Counter({0: 24128, 2: 17150, 1: 3271})\n"
     ]
    }
   ],
   "source": [
    "# Check the class distribution of the target\n",
    "counter = Counter(y_train)\n",
    "print(counter)"
   ]
  },
  {
   "cell_type": "code",
   "execution_count": 14,
   "metadata": {},
   "outputs": [],
   "source": [
    "# Create the oversampler and undersampler objects\n",
    "over = SMOTE(sampling_strategy=\"minority\", random_state=42)\n",
    "under = RandomUnderSampler(sampling_strategy=\"not minority\", random_state=42)"
   ]
  },
  {
   "cell_type": "code",
   "execution_count": 33,
   "metadata": {
    "scrolled": true
   },
   "outputs": [],
   "source": [
    "imbal_rf_pipe = imbPipeline(steps=[('ct', CT), (\"over\", over),\n",
    "                                (\"under\", under), \n",
    "                             ('rfc_model', RandomForestClassifier(random_state=42))])"
   ]
  },
  {
   "cell_type": "code",
   "execution_count": 34,
   "metadata": {},
   "outputs": [],
   "source": [
    "params_imb = { \"rfc_model__n_estimators\": [50, 100, 150],\n",
    "               \"rfc_model__criterion\": [\"gini\", \"entropy\"],\n",
    "              \"rfc_model__min_samples_split\": [2, 6, 10]\n",
    "             }\n",
    "\n",
    "gs_imb = GridSearchCV(estimator = imbal_rf_pipe,\n",
    "                 param_grid=params_imb,\n",
    "                 cv=5)"
   ]
  },
  {
   "cell_type": "code",
   "execution_count": 35,
   "metadata": {},
   "outputs": [
    {
     "data": {
      "text/plain": [
       "GridSearchCV(cv=5,\n",
       "             estimator=Pipeline(steps=[('ct',\n",
       "                                        ColumnTransformer(transformers=[('subpipe_num',\n",
       "                                                                         Pipeline(steps=[('num_impute',\n",
       "                                                                                          SimpleImputer()),\n",
       "                                                                                         ('ss',\n",
       "                                                                                          StandardScaler())]),\n",
       "                                                                         ['amount_tsh',\n",
       "                                                                          'gps_height',\n",
       "                                                                          'age_at_inspection',\n",
       "                                                                          'water_per_person']),\n",
       "                                                                        ('subpipe_cat',\n",
       "                                                                         Pipeline(steps=[('ohe',\n",
       "                                                                                          OneHotEncoder(handle_unknown='ignore',\n",
       "                                                                                                        sparse=False))]),\n",
       "                                                                         ['basin',\n",
       "                                                                          'region',\n",
       "                                                                          '...\n",
       "                                                                         ['unknown_construction_yr'])])),\n",
       "                                       ('over',\n",
       "                                        SMOTE(random_state=42,\n",
       "                                              sampling_strategy='minority')),\n",
       "                                       ('under',\n",
       "                                        RandomUnderSampler(random_state=42,\n",
       "                                                           sampling_strategy='not '\n",
       "                                                                             'minority')),\n",
       "                                       ('rfc_model',\n",
       "                                        RandomForestClassifier(random_state=42))]),\n",
       "             param_grid={'rfc_model__criterion': ['gini', 'entropy'],\n",
       "                         'rfc_model__min_samples_split': [2, 6, 10],\n",
       "                         'rfc_model__n_estimators': [50, 100, 150]})"
      ]
     },
     "execution_count": 35,
     "metadata": {},
     "output_type": "execute_result"
    }
   ],
   "source": [
    "gs_imb.fit(X_train, y_train)"
   ]
  },
  {
   "cell_type": "code",
   "execution_count": 40,
   "metadata": {},
   "outputs": [
    {
     "data": {
      "text/plain": [
       "0.7587089997321016"
      ]
     },
     "execution_count": 40,
     "metadata": {},
     "output_type": "execute_result"
    }
   ],
   "source": [
    "gs_imb.cv_results_['mean_test_score'].mean()"
   ]
  },
  {
   "cell_type": "code",
   "execution_count": 41,
   "metadata": {
    "scrolled": true
   },
   "outputs": [
    {
     "data": {
      "text/plain": [
       "0.7626884023381948"
      ]
     },
     "execution_count": 41,
     "metadata": {},
     "output_type": "execute_result"
    }
   ],
   "source": [
    "gs_imb.best_score_"
   ]
  },
  {
   "cell_type": "code",
   "execution_count": null,
   "metadata": {},
   "outputs": [],
   "source": [
    "gs_imb.best_estimator_"
   ]
  },
  {
   "cell_type": "code",
   "execution_count": 97,
   "metadata": {},
   "outputs": [
    {
     "name": "stdout",
     "output_type": "stream",
     "text": [
      "              precision    recall  f1-score   support\n",
      "\n",
      "           0       0.83      0.78      0.81      8131\n",
      "           1       0.32      0.51      0.39      1046\n",
      "           2       0.80      0.78      0.79      5673\n",
      "\n",
      "    accuracy                           0.76     14850\n",
      "   macro avg       0.65      0.69      0.66     14850\n",
      "weighted avg       0.78      0.76      0.77     14850\n",
      "\n"
     ]
    }
   ],
   "source": [
    "y_pred_smote_1 = gs_imb.best_estimator_.predict(X_test)\n",
    "print(classification_report(y_test, y_pred_smote_1))"
   ]
  },
  {
   "cell_type": "markdown",
   "metadata": {},
   "source": [
    "## GridSearch Random Forest With Smote only Oversampling Minority"
   ]
  },
  {
   "cell_type": "code",
   "execution_count": 42,
   "metadata": {},
   "outputs": [
    {
     "data": {
      "text/plain": [
       "GridSearchCV(cv=5,\n",
       "             estimator=Pipeline(steps=[('ct',\n",
       "                                        ColumnTransformer(transformers=[('subpipe_num',\n",
       "                                                                         Pipeline(steps=[('num_impute',\n",
       "                                                                                          SimpleImputer()),\n",
       "                                                                                         ('ss',\n",
       "                                                                                          StandardScaler())]),\n",
       "                                                                         ['amount_tsh',\n",
       "                                                                          'gps_height',\n",
       "                                                                          'age_at_inspection',\n",
       "                                                                          'water_per_person']),\n",
       "                                                                        ('subpipe_cat',\n",
       "                                                                         Pipeline(steps=[('ohe',\n",
       "                                                                                          OneHotEncoder(handle_unknown='ignore',\n",
       "                                                                                                        sparse=False))]),\n",
       "                                                                         ['basin',\n",
       "                                                                          'region',\n",
       "                                                                          '...\n",
       "                                                                          'waterpoint_type']),\n",
       "                                                                        ('subpipe_ord',\n",
       "                                                                         Pipeline(steps=[('ord_encode',\n",
       "                                                                                          OrdinalEncoder())]),\n",
       "                                                                         ['unknown_construction_yr'])])),\n",
       "                                       ('over',\n",
       "                                        SMOTE(random_state=42,\n",
       "                                              sampling_strategy='minority')),\n",
       "                                       ('rfc_model',\n",
       "                                        RandomForestClassifier(random_state=42))]),\n",
       "             param_grid={'rfc_model__criterion': ['gini', 'entropy'],\n",
       "                         'rfc_model__min_samples_split': [2, 6, 10],\n",
       "                         'rfc_model__n_estimators': [50, 100, 150]})"
      ]
     },
     "execution_count": 42,
     "metadata": {},
     "output_type": "execute_result"
    }
   ],
   "source": [
    "## Second SMOTE using only oversampling of minority class (our target of interest functional needs repair)\n",
    "imbal_rf_pipe_2 = imbPipeline(steps=[('ct', CT), (\"over\", over), \n",
    "                             ('rfc_model', RandomForestClassifier(random_state=42))])\n",
    "\n",
    "params_imb = { \"rfc_model__n_estimators\": [50, 100, 150],\n",
    "               \"rfc_model__criterion\": [\"gini\", \"entropy\"],\n",
    "              \"rfc_model__min_samples_split\": [2, 6, 10]\n",
    "             }\n",
    "\n",
    "gs_imb_2 = GridSearchCV(estimator = imbal_rf_pipe_2,\n",
    "                 param_grid=params_imb,\n",
    "                 cv=5)\n",
    "\n",
    "gs_imb_2.fit(X_train, y_train)"
   ]
  },
  {
   "cell_type": "code",
   "execution_count": null,
   "metadata": {},
   "outputs": [],
   "source": []
  },
  {
   "cell_type": "code",
   "execution_count": 44,
   "metadata": {},
   "outputs": [
    {
     "data": {
      "text/plain": [
       "0.7653920310292351"
      ]
     },
     "execution_count": 44,
     "metadata": {},
     "output_type": "execute_result"
    }
   ],
   "source": [
    "gs_imb_2.cv_results_['mean_test_score'].mean()"
   ]
  },
  {
   "cell_type": "code",
   "execution_count": 56,
   "metadata": {},
   "outputs": [
    {
     "data": {
      "text/plain": [
       "{'rfc_model__criterion': 'gini',\n",
       " 'rfc_model__min_samples_split': 6,\n",
       " 'rfc_model__n_estimators': 150}"
      ]
     },
     "execution_count": 56,
     "metadata": {},
     "output_type": "execute_result"
    }
   ],
   "source": [
    "gs_imb_2.best_params_"
   ]
  },
  {
   "cell_type": "code",
   "execution_count": 15,
   "metadata": {},
   "outputs": [
    {
     "data": {
      "text/plain": [
       "Pipeline(steps=[('ct',\n",
       "                 ColumnTransformer(transformers=[('subpipe_num',\n",
       "                                                  Pipeline(steps=[('num_impute',\n",
       "                                                                   SimpleImputer()),\n",
       "                                                                  ('ss',\n",
       "                                                                   StandardScaler())]),\n",
       "                                                  ['amount_tsh', 'gps_height',\n",
       "                                                   'age_at_inspection',\n",
       "                                                   'water_per_person']),\n",
       "                                                 ('subpipe_cat',\n",
       "                                                  Pipeline(steps=[('ohe',\n",
       "                                                                   OneHotEncoder(handle_unknown='ignore',\n",
       "                                                                                 sparse=False))]),\n",
       "                                                  ['basin', 'region',\n",
       "                                                   'region_code', 'lga',\n",
       "                                                   'public_m...\n",
       "                                                   'management_group',\n",
       "                                                   'payment', 'quality_group',\n",
       "                                                   'quantity', 'source',\n",
       "                                                   'source_class',\n",
       "                                                   'waterpoint_type']),\n",
       "                                                 ('subpipe_ord',\n",
       "                                                  Pipeline(steps=[('ord_encode',\n",
       "                                                                   OrdinalEncoder())]),\n",
       "                                                  ['unknown_construction_yr'])])),\n",
       "                ('over', SMOTE(random_state=42, sampling_strategy='minority')),\n",
       "                ('rfc_model',\n",
       "                 RandomForestClassifier(min_samples_split=6, n_estimators=150,\n",
       "                                        random_state=42))])"
      ]
     },
     "execution_count": 15,
     "metadata": {},
     "output_type": "execute_result"
    }
   ],
   "source": [
    "rfc_smote_model_pipe = imbPipeline(steps=[('ct', CT), (\"over\", over), ('rfc_model', \n",
    "                                     RandomForestClassifier(criterion= \"gini\", min_samples_split=6, \n",
    "                                                            n_estimators=150, random_state=42))])\n",
    "rfc_smote_model_pipe.fit(X_train, y_train)"
   ]
  },
  {
   "cell_type": "code",
   "execution_count": 30,
   "metadata": {
    "scrolled": true
   },
   "outputs": [
    {
     "data": {
      "text/plain": [
       "Pipeline(steps=[('ohe', OneHotEncoder(handle_unknown='ignore', sparse=False))])"
      ]
     },
     "execution_count": 30,
     "metadata": {},
     "output_type": "execute_result"
    }
   ],
   "source": [
    "rfc_smote_model_pipe.named_steps[\"ct\"].named_transformers_[\"subpipe_cat\"]"
   ]
  },
  {
   "cell_type": "code",
   "execution_count": 31,
   "metadata": {},
   "outputs": [
    {
     "data": {
      "text/plain": [
       "OneHotEncoder(handle_unknown='ignore', sparse=False)"
      ]
     },
     "execution_count": 31,
     "metadata": {},
     "output_type": "execute_result"
    }
   ],
   "source": [
    "rfc_smote_model_pipe.named_steps[\"ct\"].named_transformers_[\"subpipe_cat\"].named_steps[\"ohe\"]"
   ]
  },
  {
   "cell_type": "code",
   "execution_count": 10,
   "metadata": {},
   "outputs": [
    {
     "ename": "NameError",
     "evalue": "name 'rfc_smote_model_pipe' is not defined",
     "output_type": "error",
     "traceback": [
      "\u001b[0;31m---------------------------------------------------------------------------\u001b[0m",
      "\u001b[0;31mNameError\u001b[0m                                 Traceback (most recent call last)",
      "\u001b[0;32m<ipython-input-10-76a6eca73f68>\u001b[0m in \u001b[0;36m<module>\u001b[0;34m\u001b[0m\n\u001b[0;32m----> 1\u001b[0;31m \u001b[0mcat_features_list\u001b[0m \u001b[0;34m=\u001b[0m \u001b[0mlist\u001b[0m\u001b[0;34m(\u001b[0m\u001b[0mrfc_smote_model_pipe\u001b[0m\u001b[0;34m.\u001b[0m\u001b[0mnamed_steps\u001b[0m\u001b[0;34m[\u001b[0m\u001b[0;34m\"ct\"\u001b[0m\u001b[0;34m]\u001b[0m\u001b[0;34m.\u001b[0m\u001b[0mnamed_transformers_\u001b[0m\u001b[0;34m[\u001b[0m\u001b[0;34m\"subpipe_cat\"\u001b[0m\u001b[0;34m]\u001b[0m\u001b[0;34m.\u001b[0m\u001b[0mnamed_steps\u001b[0m\u001b[0;34m[\u001b[0m\u001b[0;34m\"ohe\"\u001b[0m\u001b[0;34m]\u001b[0m\u001b[0;34m.\u001b[0m\u001b[0mget_feature_names\u001b[0m\u001b[0;34m(\u001b[0m\u001b[0;34m)\u001b[0m\u001b[0;34m)\u001b[0m\u001b[0;34m\u001b[0m\u001b[0;34m\u001b[0m\u001b[0m\n\u001b[0m",
      "\u001b[0;31mNameError\u001b[0m: name 'rfc_smote_model_pipe' is not defined"
     ]
    }
   ],
   "source": [
    "cat_features_list = list(rfc_smote_model_pipe.named_steps[\"ct\"].named_transformers_[\"subpipe_cat\"].named_steps[\"ohe\"].get_feature_names())"
   ]
  },
  {
   "cell_type": "code",
   "execution_count": 17,
   "metadata": {},
   "outputs": [],
   "source": [
    "features_names = [\"amount_tsh\", \"gps_height\"] + cat_features_list + [\"unknown_construction_yr\", \"age_at_inspection\", \"water_per_person\"]"
   ]
  },
  {
   "cell_type": "code",
   "execution_count": 44,
   "metadata": {},
   "outputs": [
    {
     "data": {
      "text/html": [
       "<div>\n",
       "<style scoped>\n",
       "    .dataframe tbody tr th:only-of-type {\n",
       "        vertical-align: middle;\n",
       "    }\n",
       "\n",
       "    .dataframe tbody tr th {\n",
       "        vertical-align: top;\n",
       "    }\n",
       "\n",
       "    .dataframe thead th {\n",
       "        text-align: right;\n",
       "    }\n",
       "</style>\n",
       "<table border=\"1\" class=\"dataframe\">\n",
       "  <thead>\n",
       "    <tr style=\"text-align: right;\">\n",
       "      <th></th>\n",
       "      <th>amount_tsh</th>\n",
       "      <th>gps_height</th>\n",
       "      <th>basin</th>\n",
       "      <th>region</th>\n",
       "      <th>region_code</th>\n",
       "      <th>lga</th>\n",
       "      <th>public_meeting</th>\n",
       "      <th>scheme_management</th>\n",
       "      <th>permit</th>\n",
       "      <th>extraction_type_group</th>\n",
       "      <th>...</th>\n",
       "      <th>management_group</th>\n",
       "      <th>payment</th>\n",
       "      <th>quality_group</th>\n",
       "      <th>quantity</th>\n",
       "      <th>source</th>\n",
       "      <th>source_class</th>\n",
       "      <th>waterpoint_type</th>\n",
       "      <th>unknown_construction_yr</th>\n",
       "      <th>age_at_inspection</th>\n",
       "      <th>water_per_person</th>\n",
       "    </tr>\n",
       "  </thead>\n",
       "  <tbody>\n",
       "    <tr>\n",
       "      <th>42186</th>\n",
       "      <td>0.0</td>\n",
       "      <td>143</td>\n",
       "      <td>Wami / Ruvu</td>\n",
       "      <td>Pwani</td>\n",
       "      <td>6</td>\n",
       "      <td>Kibaha</td>\n",
       "      <td>True</td>\n",
       "      <td>VWC</td>\n",
       "      <td>True</td>\n",
       "      <td>mono</td>\n",
       "      <td>...</td>\n",
       "      <td>user-group</td>\n",
       "      <td>never pay</td>\n",
       "      <td>good</td>\n",
       "      <td>enough</td>\n",
       "      <td>river</td>\n",
       "      <td>surface</td>\n",
       "      <td>communal standpipe multiple</td>\n",
       "      <td>False</td>\n",
       "      <td>36.0</td>\n",
       "      <td>0.0</td>\n",
       "    </tr>\n",
       "    <tr>\n",
       "      <th>22629</th>\n",
       "      <td>0.0</td>\n",
       "      <td>0</td>\n",
       "      <td>Lake Victoria</td>\n",
       "      <td>Mwanza</td>\n",
       "      <td>17</td>\n",
       "      <td>Magu</td>\n",
       "      <td>Unknown</td>\n",
       "      <td>WUG</td>\n",
       "      <td>False</td>\n",
       "      <td>nira/tanira</td>\n",
       "      <td>...</td>\n",
       "      <td>user-group</td>\n",
       "      <td>unknown</td>\n",
       "      <td>good</td>\n",
       "      <td>enough</td>\n",
       "      <td>shallow well</td>\n",
       "      <td>groundwater</td>\n",
       "      <td>hand pump</td>\n",
       "      <td>True</td>\n",
       "      <td>NaN</td>\n",
       "      <td>NaN</td>\n",
       "    </tr>\n",
       "    <tr>\n",
       "      <th>13789</th>\n",
       "      <td>0.0</td>\n",
       "      <td>0</td>\n",
       "      <td>Lake Tanganyika</td>\n",
       "      <td>Shinyanga</td>\n",
       "      <td>17</td>\n",
       "      <td>Bukombe</td>\n",
       "      <td>True</td>\n",
       "      <td>Parastatal</td>\n",
       "      <td>False</td>\n",
       "      <td>gravity</td>\n",
       "      <td>...</td>\n",
       "      <td>parastatal</td>\n",
       "      <td>unknown</td>\n",
       "      <td>good</td>\n",
       "      <td>seasonal</td>\n",
       "      <td>rainwater harvesting</td>\n",
       "      <td>surface</td>\n",
       "      <td>communal standpipe</td>\n",
       "      <td>True</td>\n",
       "      <td>NaN</td>\n",
       "      <td>NaN</td>\n",
       "    </tr>\n",
       "    <tr>\n",
       "      <th>15697</th>\n",
       "      <td>3000.0</td>\n",
       "      <td>1120</td>\n",
       "      <td>Lake Rukwa</td>\n",
       "      <td>Rukwa</td>\n",
       "      <td>15</td>\n",
       "      <td>Mpanda</td>\n",
       "      <td>True</td>\n",
       "      <td>VWC</td>\n",
       "      <td>True</td>\n",
       "      <td>india mark ii</td>\n",
       "      <td>...</td>\n",
       "      <td>user-group</td>\n",
       "      <td>pay annually</td>\n",
       "      <td>good</td>\n",
       "      <td>insufficient</td>\n",
       "      <td>machine dbh</td>\n",
       "      <td>groundwater</td>\n",
       "      <td>hand pump</td>\n",
       "      <td>False</td>\n",
       "      <td>21.0</td>\n",
       "      <td>75.0</td>\n",
       "    </tr>\n",
       "    <tr>\n",
       "      <th>29893</th>\n",
       "      <td>0.0</td>\n",
       "      <td>405</td>\n",
       "      <td>Ruvuma / Southern Coast</td>\n",
       "      <td>Mtwara</td>\n",
       "      <td>90</td>\n",
       "      <td>Masasi</td>\n",
       "      <td>True</td>\n",
       "      <td>VWC</td>\n",
       "      <td>True</td>\n",
       "      <td>other</td>\n",
       "      <td>...</td>\n",
       "      <td>user-group</td>\n",
       "      <td>unknown</td>\n",
       "      <td>good</td>\n",
       "      <td>dry</td>\n",
       "      <td>shallow well</td>\n",
       "      <td>groundwater</td>\n",
       "      <td>other</td>\n",
       "      <td>False</td>\n",
       "      <td>38.0</td>\n",
       "      <td>0.0</td>\n",
       "    </tr>\n",
       "  </tbody>\n",
       "</table>\n",
       "<p>5 rows × 22 columns</p>\n",
       "</div>"
      ],
      "text/plain": [
       "       amount_tsh  gps_height                    basin     region region_code  \\\n",
       "42186         0.0         143              Wami / Ruvu      Pwani           6   \n",
       "22629         0.0           0            Lake Victoria     Mwanza          17   \n",
       "13789         0.0           0          Lake Tanganyika  Shinyanga          17   \n",
       "15697      3000.0        1120               Lake Rukwa      Rukwa          15   \n",
       "29893         0.0         405  Ruvuma / Southern Coast     Mtwara          90   \n",
       "\n",
       "           lga public_meeting scheme_management permit extraction_type_group  \\\n",
       "42186   Kibaha           True               VWC   True                  mono   \n",
       "22629     Magu        Unknown               WUG  False           nira/tanira   \n",
       "13789  Bukombe           True        Parastatal  False               gravity   \n",
       "15697   Mpanda           True               VWC   True         india mark ii   \n",
       "29893   Masasi           True               VWC   True                 other   \n",
       "\n",
       "       ... management_group       payment quality_group      quantity  \\\n",
       "42186  ...       user-group     never pay          good        enough   \n",
       "22629  ...       user-group       unknown          good        enough   \n",
       "13789  ...       parastatal       unknown          good      seasonal   \n",
       "15697  ...       user-group  pay annually          good  insufficient   \n",
       "29893  ...       user-group       unknown          good           dry   \n",
       "\n",
       "                     source source_class              waterpoint_type  \\\n",
       "42186                 river      surface  communal standpipe multiple   \n",
       "22629          shallow well  groundwater                    hand pump   \n",
       "13789  rainwater harvesting      surface           communal standpipe   \n",
       "15697           machine dbh  groundwater                    hand pump   \n",
       "29893          shallow well  groundwater                        other   \n",
       "\n",
       "      unknown_construction_yr age_at_inspection  water_per_person  \n",
       "42186                   False              36.0               0.0  \n",
       "22629                    True               NaN               NaN  \n",
       "13789                    True               NaN               NaN  \n",
       "15697                   False              21.0              75.0  \n",
       "29893                   False              38.0               0.0  \n",
       "\n",
       "[5 rows x 22 columns]"
      ]
     },
     "execution_count": 44,
     "metadata": {},
     "output_type": "execute_result"
    }
   ],
   "source": [
    "X_train.head()"
   ]
  },
  {
   "cell_type": "code",
   "execution_count": 37,
   "metadata": {},
   "outputs": [
    {
     "data": {
      "text/plain": [
       "279"
      ]
     },
     "execution_count": 37,
     "metadata": {},
     "output_type": "execute_result"
    }
   ],
   "source": [
    "len(features_names)"
   ]
  },
  {
   "cell_type": "code",
   "execution_count": 41,
   "metadata": {
    "scrolled": true
   },
   "outputs": [
    {
     "data": {
      "text/plain": [
       "279"
      ]
     },
     "execution_count": 41,
     "metadata": {},
     "output_type": "execute_result"
    }
   ],
   "source": [
    "len(rfc_importances)"
   ]
  },
  {
   "cell_type": "code",
   "execution_count": 48,
   "metadata": {},
   "outputs": [],
   "source": [
    "# Save off best estimator for the SMOTE calc\n",
    "random_forest_smote = gs_imb_2.best_estimator_"
   ]
  },
  {
   "cell_type": "code",
   "execution_count": 47,
   "metadata": {},
   "outputs": [
    {
     "data": {
      "text/plain": [
       "<function sklearn.pipeline.Pipeline.score(self, X, y=None, sample_weight=None)>"
      ]
     },
     "execution_count": 47,
     "metadata": {},
     "output_type": "execute_result"
    }
   ],
   "source": [
    "gs_imb_2.best_estimator_.score"
   ]
  },
  {
   "cell_type": "code",
   "execution_count": 51,
   "metadata": {},
   "outputs": [
    {
     "name": "stdout",
     "output_type": "stream",
     "text": [
      "              precision    recall  f1-score   support\n",
      "\n",
      "           0       0.81      0.82      0.82      8131\n",
      "           1       0.33      0.50      0.40      1046\n",
      "           2       0.83      0.74      0.78      5673\n",
      "\n",
      "    accuracy                           0.77     14850\n",
      "   macro avg       0.66      0.69      0.67     14850\n",
      "weighted avg       0.79      0.77      0.77     14850\n",
      "\n"
     ]
    }
   ],
   "source": [
    "y_pred_smote = random_forest_smote.predict(X_test)\n",
    "print(classification_report(y_test, y_pred_smote))"
   ]
  },
  {
   "cell_type": "code",
   "execution_count": 54,
   "metadata": {
    "scrolled": true
   },
   "outputs": [],
   "source": [
    "rfc_importances = rfc_smote_model_pipe.named_steps[\"rfc_model\"].feature_importances_"
   ]
  },
  {
   "cell_type": "code",
   "execution_count": 55,
   "metadata": {},
   "outputs": [],
   "source": [
    "rfc_smote_feature_importance_dict = dict(zip(features_names, rfc_importances)) \n"
   ]
  },
  {
   "cell_type": "code",
   "execution_count": 56,
   "metadata": {},
   "outputs": [
    {
     "name": "stdout",
     "output_type": "stream",
     "text": [
      "gps_height 0.09190549151127303\n",
      "x0_Internal 0.07170842218544114\n",
      "x13_insufficient 0.06304950958875825\n",
      "x0_Lake Nyasa 0.034854233220206574\n",
      "x13_seasonal 0.03352474461431216\n",
      "x13_unknown 0.024732105512407225\n",
      "amount_tsh 0.021480644630357645\n",
      "x11_pay annually 0.021471953591636946\n",
      "age_at_inspection 0.017440666561069535\n",
      "x16_dam 0.015132454262304995\n",
      "x7_other motorpump 0.014588767558686466\n",
      "x8_submersible 0.014088488789497736\n",
      "x3_Bukoba Rural 0.012276148477740698\n",
      "x16_hand pump 0.011744738874286205\n",
      "x5_WUG 0.011394109379913026\n",
      "x11_pay when scheme fails 0.011276002689809213\n",
      "x7_afridev 0.010978201510099159\n",
      "x8_motorpump 0.010908553442299206\n",
      "x9_water board 0.010171462404950083\n",
      "x6_Unknown 0.009942606015527005\n",
      "x11_unknown 0.009883859213683842\n",
      "x12_salty 0.00983216512207532\n",
      "x7_india mark iii 0.00965424685521461\n",
      "x5_Company 0.008519775329753721\n",
      "x12_fluoride 0.008389189525807226\n",
      "x7_other handpump 0.007978214798117972\n",
      "x15_groundwater 0.007938749353716747\n",
      "x14_dam 0.007851757138555812\n",
      "x2_13 0.007343842597206572\n",
      "x16_other 0.007299062559601664\n",
      "x14_unknown 0.0069380857890686785\n",
      "x8_other 0.006726209009581493\n",
      "x15_unknown 0.0066973396430873\n",
      "x16_cattle trough 0.006685713939423854\n",
      "x4_Unknown 0.0066683857438360064\n",
      "x1_Kigoma 0.00658936770468032\n",
      "x14_rainwater harvesting 0.0065871125676510555\n",
      "x0_Rufiji 0.006314355107130706\n",
      "x0_Lake Rukwa 0.006290325002662925\n",
      "x1_Lindi 0.0061873629218380825\n",
      "x12_colored 0.006048608127338531\n",
      "x14_spring 0.006034749323817527\n",
      "x2_18 0.005754668945753543\n",
      "x13_dry 0.005431006059429591\n",
      "x11_pay per bucket 0.005240678661035773\n",
      "water_per_person 0.005236427845177079\n",
      "x0_Lake Victoria 0.005131176415000627\n",
      "x0_Wami / Ruvu 0.004931888498414721\n",
      "x6_False 0.004839782054895817\n",
      "x0_Lake Tanganyika 0.004827584204586797\n",
      "x11_other 0.0048090182311124954\n",
      "x0_Pangani 0.004773467915207898\n",
      "x5_WUA 0.004770080116830719\n",
      "x9_company 0.004409305591558666\n",
      "x8_gravity 0.004396711778981016\n",
      "x13_enough 0.004374941334997699\n",
      "x5_Water authority 0.004365828797159554\n",
      "x0_Ruvuma / Southern Coast 0.004307141031462322\n",
      "x3_Kilindi 0.004214172544108735\n",
      "x5_Other 0.0042099091077550865\n",
      "x6_True 0.003907788967104799\n",
      "x7_wind-powered 0.003870737172834864\n",
      "x10_other 0.003852505512316429\n",
      "x9_wug 0.003738994092912787\n",
      "x10_parastatal 0.00368363416812076\n",
      "x2_19 0.0036024346479106815\n",
      "x1_Dar es Salaam 0.0035887549639737593\n",
      "x14_shallow well 0.003496157185278613\n",
      "x1_Arusha 0.003419161543292744\n",
      "x7_india mark ii 0.0033886325337636886\n",
      "x1_Tabora 0.0032674335523907583\n",
      "unknown_construction_yr 0.0030776678306729905\n",
      "x7_gravity 0.0029938603913400165\n",
      "x7_mono 0.0029891697987331376\n",
      "x3_Bukombe 0.002887230242872194\n",
      "x3_Geita 0.0027472108816610323\n",
      "x5_Water Board 0.002668680129258183\n",
      "x2_20 0.00262108488149151\n",
      "x1_Rukwa 0.0025732754241850294\n",
      "x3_Manyoni 0.00245828741899617\n",
      "x8_rope pump 0.0024138862088533236\n",
      "x7_other 0.002402213792857958\n",
      "x1_Dodoma 0.0023491730965694044\n",
      "x3_Kinondoni 0.0023111760985140063\n",
      "x2_10 0.002285751936329867\n",
      "x9_unknown 0.0022855419330997085\n",
      "x10_commercial 0.0022233477997358263\n",
      "x3_Mbeya Rural 0.0021956139739569805\n",
      "x1_Mtwara 0.0021581097707218705\n",
      "x3_Nzega 0.002075540793330133\n",
      "x2_60 0.002059618264091838\n",
      "x1_Manyara 0.0020135548503189484\n",
      "x1_Ruvuma 0.001992814953227371\n",
      "x2_5 0.0019873479396098053\n",
      "x2_40 0.0019428537872601837\n",
      "x14_hand dtw 0.0019108125436548703\n",
      "x1_Mwanza 0.0019011976570323921\n",
      "x3_Lindi Urban 0.0018364806657427334\n",
      "x11_pay monthly 0.001827989491981575\n",
      "x3_Urambo 0.001827175142361912\n",
      "x1_Singida 0.001812506086634328\n",
      "x2_2 0.001789261792988438\n",
      "x1_Kilimanjaro 0.0017850262794432837\n",
      "x2_14 0.0017808419323291729\n",
      "x2_21 0.0017644208392011303\n",
      "x2_12 0.0017480905868850175\n",
      "x3_Arusha Rural 0.001693538313881818\n",
      "x1_Kagera 0.0016139427717211342\n",
      "x3_Mpanda 0.001613440228194894\n",
      "x2_11 0.0016127826783768973\n",
      "x1_Pwani 0.001607412064272197\n",
      "x9_trust 0.0015124635328915691\n",
      "x5_SWC 0.0015009406917823281\n",
      "x12_good 0.0014775769032295209\n",
      "x3_Babati 0.0014543595267852536\n",
      "x3_Serengeti 0.0014499286133323969\n",
      "x3_Korogwe 0.0014460007783552852\n",
      "x10_user-group 0.0014416938594541265\n",
      "x2_17 0.0013965049502262514\n",
      "x5_Parastatal 0.0013831054741102126\n",
      "x9_other - school 0.0013771249726031354\n",
      "x3_Nachingwea 0.0013661398165619402\n",
      "x1_Shinyanga 0.0013559941174323222\n",
      "x3_Mtwara Rural 0.001344229462014027\n",
      "x14_other 0.0013438656355525133\n",
      "x3_Siha 0.0012992665436288278\n",
      "x3_Mvomero 0.0012814944036099803\n",
      "x3_Kwimba 0.0012719954361577403\n",
      "x1_Tanga 0.001266424758351658\n",
      "x2_7 0.0012588755078500136\n",
      "x3_Mbarali 0.0012386135316410957\n",
      "x12_unknown 0.0012269002526175698\n",
      "x2_15 0.0012267057562415395\n",
      "x1_Mbeya 0.0012204755558493294\n",
      "x2_3 0.001210376621865003\n",
      "x3_Kasulu 0.0012088668366126913\n",
      "x3_Moshi Rural 0.0012069901576457053\n",
      "x2_1 0.0011920188490089285\n",
      "x3_Missungwi 0.0011880046589581527\n",
      "x3_Kibondo 0.0011697354131754267\n",
      "x1_Mara 0.0011547604100026218\n",
      "x2_24 0.001127152102556021\n",
      "x9_wua 0.0010889543476355565\n",
      "x14_lake 0.0010750366227646312\n",
      "x3_Hai 0.0010719071888881408\n",
      "x5_Trust 0.0010551333024596376\n",
      "x3_Sengerema 0.001032081532621352\n",
      "x3_Ulanga 0.0010220672821477372\n",
      "x1_Morogoro 0.0010168527184506776\n",
      "x3_Mkinga 0.001006484130968485\n",
      "x3_Namtumbo 0.0010061585567231867\n",
      "x3_Bukoba Urban 0.0010040672057434646\n",
      "x3_Kilwa 0.0009786742360176034\n",
      "x3_Lindi Rural 0.0009781372086227946\n",
      "x3_Njombe 0.0009757635647383726\n",
      "x3_Misenyi 0.000965685677133454\n",
      "x2_16 0.0009451752631825982\n",
      "x3_Karatu 0.0009391679138926397\n",
      "x10_unknown 0.0009323430948848871\n",
      "x3_Shinyanga Rural 0.0009304121419637628\n",
      "x3_Igunga 0.0009144305186165295\n",
      "x2_8 0.0008975119517628902\n",
      "x3_Meatu 0.0008847882593088776\n",
      "x3_Hanang 0.0008707979666735773\n",
      "x3_Ruangwa 0.0008588750557685865\n",
      "x3_Ngorongoro 0.0008530620200222801\n",
      "x2_90 0.0008506642464588931\n",
      "x3_Kigoma Urban 0.0008456830244203121\n",
      "x9_parastatal 0.0008374440268995167\n",
      "x3_Songea Rural 0.0008225784651989249\n",
      "x14_machine dbh 0.0008004403355133934\n",
      "x7_rope pump 0.0007770756650416918\n",
      "x3_Karagwe 0.0007732194668290607\n",
      "x3_Uyui 0.0007724706007805971\n",
      "x2_4 0.000769216139111192\n",
      "x3_Simanjiro 0.000753254457288921\n",
      "x12_milky 0.0007494036333467891\n",
      "x3_Bahi 0.0007462596551022834\n",
      "x3_Kahama 0.0007275912486723396\n",
      "x3_Makete 0.0007209592262865619\n",
      "x3_Mtwara Urban 0.0007073843344116144\n",
      "x3_Kondoa 0.000695094425002514\n",
      "x5_Private operator 0.0006850173725157927\n",
      "x3_Mbinga 0.0006827110968020035\n",
      "x3_Kibaha 0.0006685831586493305\n",
      "x8_wind-powered 0.000663061273833033\n",
      "x3_Bariadi 0.0006593270364923908\n",
      "x3_Newala 0.0006558625006786542\n",
      "x3_Mbozi 0.0006460378912532822\n",
      "x3_Morogoro Urban 0.0006368656239569146\n",
      "x3_Chamwino 0.0006318827674731141\n",
      "x3_Iringa Rural 0.0006165238352348083\n",
      "x3_Lushoto 0.0006160170861660183\n",
      "x7_swn 80 0.0006149732756812746\n",
      "x3_Mbulu 0.0006120354007786097\n",
      "x3_Masasi 0.0005855981777870096\n",
      "x3_Tabora Urban 0.0005755496317762097\n",
      "x3_Sumbawanga Rural 0.0005748031824497743\n",
      "x3_Shinyanga Urban 0.0005628106458504188\n",
      "x3_Nkasi 0.0005616831516370115\n",
      "x9_water authority 0.0005549115837123073\n",
      "x3_Magu 0.0005514172528590617\n",
      "x3_Pangani 0.0005423609368548875\n",
      "x11_never pay 0.000538117289699308\n",
      "x3_Rombo 0.0005287105022728769\n",
      "x3_Monduli 0.0005277422465208793\n",
      "x3_Kongwa 0.0005272040397004402\n",
      "x3_Chato 0.000521979431328743\n",
      "x4_False 0.000521831238915332\n",
      "x3_Mwanga 0.0005141225687003238\n",
      "x3_Handeni 0.000511881482328465\n",
      "x3_Meru 0.000509743764697222\n",
      "x2_80 0.0005001694873305083\n",
      "x3_Kyela 0.0004971893496438542\n",
      "x3_Maswa 0.0004930100361884474\n",
      "x3_Dodoma Urban 0.0004833819266403547\n",
      "x3_Iramba 0.00048143884222601803\n",
      "x3_Musoma Rural 0.00047584885018926503\n",
      "x4_True 0.00047470025162555106\n",
      "x3_Nanyumbu 0.000469992492158475\n",
      "x3_Sikonge 0.00045612612893690396\n",
      "x16_communal standpipe multiple 0.00045532987097456214\n",
      "x3_Chunya 0.00044454518370125475\n",
      "x3_Mkuranga 0.0004423816591028501\n",
      "x3_Rungwe 0.00043614286927685117\n",
      "x3_Same 0.00043212696565196124\n",
      "x3_Muleba 0.0004317507012465421\n",
      "x3_Biharamulo 0.00042699033957606353\n",
      "x2_9 0.0004241904133546071\n",
      "x3_Morogoro Rural 0.0004231529843448385\n",
      "x1_Iringa 0.0004198644936653595\n",
      "x2_99 0.0004018612358578392\n",
      "x3_Liwale 0.000399344484376906\n",
      "x3_Kilosa 0.0003993150917454249\n",
      "x3_Singida Urban 0.0003991306813978321\n",
      "x3_Kisarawe 0.0003912648310701024\n",
      "x7_submersible 0.0003751603725365217\n",
      "x3_Ileje 0.0003735219677705217\n",
      "x16_communal standpipe 0.0003664205794978219\n",
      "x3_Arusha Urban 0.00035366345103662005\n",
      "x3_Moshi Urban 0.0003478109208459879\n",
      "x3_Mafia 0.00034376954192940056\n",
      "x3_Muheza 0.00031504537722646476\n",
      "x3_Ilemela 0.00031271471650541946\n",
      "x3_Mufindi 0.00030534309728074435\n",
      "x3_Rorya 0.0003026616442696391\n",
      "x3_Bunda 0.00030082533513732073\n",
      "x7_nira/tanira 0.0002882265270216144\n",
      "x3_Rufiji 0.0002750479038506877\n",
      "x3_Kiteto 0.0002694362705669122\n",
      "x3_Kigoma Rural 0.0002646365658304911\n",
      "x5_VWC 0.00025923050463692025\n",
      "x14_river 0.0002590863158893404\n",
      "x3_Temeke 0.00024890628768830896\n",
      "x9_vwc 0.00024557713539969674\n",
      "x9_other 0.00023216433949362487\n",
      "x3_Tandahimba 0.00022375131417952775\n",
      "x3_Kilombero 0.00022119564294245604\n",
      "x8_handpump 0.00021115638111115988\n",
      "x3_Tunduru 0.00020292713445132954\n",
      "x3_Ilala 0.00019817004273404366\n",
      "x3_Songea Urban 0.00018036566040179335\n",
      "x3_Tarime 0.00015854245959311616\n",
      "x3_Bagamoyo 0.00014783622774844043\n",
      "x3_Ukerewe 0.00011877985642852696\n",
      "x3_Tanga 0.00011713507758652218\n",
      "x15_surface 0.0001151548498506042\n",
      "x3_Singida Rural 0.00011465963966552933\n",
      "x3_Mpwapwa 0.00010656661283924828\n",
      "x3_Sumbawanga Urban 9.668929451070755e-05\n",
      "x3_Ngara 9.16299699867062e-05\n",
      "x9_private operator 7.119291209162338e-05\n",
      "x3_Kishapu 6.4179946280239e-05\n",
      "x3_Kilolo 6.169668001515578e-05\n",
      "x3_Ludewa 6.14302219159372e-05\n",
      "x5_Unknown 5.7256009888089996e-05\n",
      "x16_improved spring 2.1457421891425842e-05\n",
      "x3_Longido 3.27107528590177e-06\n",
      "x2_6 4.6331565683735683e-07\n"
     ]
    }
   ],
   "source": [
    "sort_feature_importance = sorted(rfc_smote_feature_importance_dict.items(), key=lambda x: x[1], reverse=True)\n",
    "\n",
    "for i in sort_feature_importance:\n",
    "    print(i[0], i[1])"
   ]
  },
  {
   "cell_type": "code",
   "execution_count": null,
   "metadata": {},
   "outputs": [],
   "source": [
    "#GPS_height (altitude of the well is the most important feature)\n",
    "#Whether or not the pump is in the internal drainage basin is the second largest indictaor (Lake Nyasa) is close\n",
    "#AmountTSH\n",
    "#quantity\n",
    "\n",
    "\n",
    "#least important \"lga\", \"management\", \"region_code\"\n"
   ]
  },
  {
   "cell_type": "code",
   "execution_count": 58,
   "metadata": {},
   "outputs": [
    {
     "data": {
      "text/plain": [
       "enough          33185\n",
       "insufficient    15129\n",
       "dry              6246\n",
       "seasonal         4050\n",
       "unknown           789\n",
       "Name: quantity, dtype: int64"
      ]
     },
     "execution_count": 58,
     "metadata": {},
     "output_type": "execute_result"
    }
   ],
   "source": [
    "cleaned_water_pump[\"quantity\"].value_counts()"
   ]
  },
  {
   "cell_type": "markdown",
   "metadata": {},
   "source": [
    "## RFC with Dropped Features Based on Importance "
   ]
  },
  {
   "cell_type": "code",
   "execution_count": 21,
   "metadata": {},
   "outputs": [
    {
     "data": {
      "text/plain": [
       "Pipeline(steps=[('ct',\n",
       "                 ColumnTransformer(transformers=[('subpipe_num',\n",
       "                                                  Pipeline(steps=[('num_impute',\n",
       "                                                                   SimpleImputer()),\n",
       "                                                                  ('ss',\n",
       "                                                                   StandardScaler())]),\n",
       "                                                  ['amount_tsh', 'gps_height',\n",
       "                                                   'age_at_inspection',\n",
       "                                                   'water_per_person']),\n",
       "                                                 ('subpipe_cat',\n",
       "                                                  Pipeline(steps=[('ohe',\n",
       "                                                                   OneHotEncoder(handle_unknown='ignore',\n",
       "                                                                                 sparse=False))]),\n",
       "                                                  ['basin', 'region',\n",
       "                                                   'region_code', 'lga',\n",
       "                                                   'public_m...\n",
       "                                                   'management_group',\n",
       "                                                   'payment', 'quality_group',\n",
       "                                                   'quantity', 'source',\n",
       "                                                   'source_class',\n",
       "                                                   'waterpoint_type']),\n",
       "                                                 ('subpipe_ord',\n",
       "                                                  Pipeline(steps=[('ord_encode',\n",
       "                                                                   OrdinalEncoder())]),\n",
       "                                                  ['unknown_construction_yr'])])),\n",
       "                ('over', SMOTE(random_state=42, sampling_strategy='minority')),\n",
       "                ('rfc_model',\n",
       "                 RandomForestClassifier(min_samples_split=6, n_estimators=150,\n",
       "                                        random_state=42))])"
      ]
     },
     "execution_count": 21,
     "metadata": {},
     "output_type": "execute_result"
    }
   ],
   "source": [
    "X_train.drop([\"lga\", \"management\", \"region_code\"], axis = 1)\n",
    "\n",
    "rfc_smote_model_pipe_dropped_vars = imbPipeline(steps=[('ct', CT), (\"over\", over), ('rfc_model', \n",
    "                                     RandomForestClassifier(criterion= \"gini\", min_samples_split=6, \n",
    "                                                            n_estimators=150, random_state=42))])\n",
    "rfc_smote_model_pipe_dropped_vars.fit(X_train, y_train)\n"
   ]
  },
  {
   "cell_type": "code",
   "execution_count": 23,
   "metadata": {},
   "outputs": [
    {
     "data": {
      "text/plain": [
       "0.8837235403712765"
      ]
     },
     "execution_count": 23,
     "metadata": {},
     "output_type": "execute_result"
    }
   ],
   "source": [
    "rfc_smote_model_pipe_dropped_vars.score(X_train, y_train)"
   ]
  },
  {
   "cell_type": "code",
   "execution_count": 24,
   "metadata": {},
   "outputs": [],
   "source": [
    "y_preds_smote_dropped_vars = rfc_smote_model_pipe_dropped_vars.predict(X_test)"
   ]
  },
  {
   "cell_type": "code",
   "execution_count": 26,
   "metadata": {},
   "outputs": [
    {
     "name": "stdout",
     "output_type": "stream",
     "text": [
      "              precision    recall  f1-score   support\n",
      "\n",
      "           0       0.81      0.82      0.82      8131\n",
      "           1       0.33      0.50      0.40      1046\n",
      "           2       0.83      0.74      0.78      5673\n",
      "\n",
      "    accuracy                           0.77     14850\n",
      "   macro avg       0.66      0.69      0.67     14850\n",
      "weighted avg       0.79      0.77      0.77     14850\n",
      "\n"
     ]
    }
   ],
   "source": [
    "print(classification_report(y_test, y_preds_smote_dropped_vars))"
   ]
  },
  {
   "cell_type": "code",
   "execution_count": 30,
   "metadata": {
    "scrolled": false
   },
   "outputs": [
    {
     "data": {
      "text/plain": [
       "<sklearn.metrics._plot.confusion_matrix.ConfusionMatrixDisplay at 0x7fd2bcc60e80>"
      ]
     },
     "execution_count": 30,
     "metadata": {},
     "output_type": "execute_result"
    },
    {
     "data": {
      "image/png": "[encoded data removed]",
      "text/plain": [
       "<Figure size 432x288 with 2 Axes>"
      ]
     },
     "metadata": {
      "needs_background": "light"
     },
     "output_type": "display_data"
    }
   ],
   "source": [
    "plot_confusion_matrix(estimator=rfc_smote_model_pipe_dropped_vars, X=X_test, y_true=y_test)"
   ]
  },
  {
   "cell_type": "markdown",
   "metadata": {},
   "source": [
    "## Optimized Random Forest  "
   ]
  },
  {
   "cell_type": "code",
   "execution_count": 9,
   "metadata": {},
   "outputs": [
    {
     "data": {
      "text/plain": [
       "Pipeline(steps=[('ct',\n",
       "                 ColumnTransformer(transformers=[('subpipe_num',\n",
       "                                                  Pipeline(steps=[('num_impute',\n",
       "                                                                   SimpleImputer()),\n",
       "                                                                  ('ss',\n",
       "                                                                   StandardScaler())]),\n",
       "                                                  ['amount_tsh', 'gps_height',\n",
       "                                                   'age_at_inspection',\n",
       "                                                   'water_per_person']),\n",
       "                                                 ('subpipe_cat',\n",
       "                                                  Pipeline(steps=[('ohe',\n",
       "                                                                   OneHotEncoder(handle_unknown='ignore',\n",
       "                                                                                 sparse=False))]),\n",
       "                                                  ['basin', 'region',\n",
       "                                                   'region_code', 'lga',\n",
       "                                                   'public_meeting',\n",
       "                                                   'scheme_management',\n",
       "                                                   'permit',\n",
       "                                                   'extraction_type_group',\n",
       "                                                   'extraction_type_class',\n",
       "                                                   'management',\n",
       "                                                   'management_group',\n",
       "                                                   'payment', 'quality_group',\n",
       "                                                   'quantity', 'source',\n",
       "                                                   'source_class',\n",
       "                                                   'waterpoint_type']),\n",
       "                                                 ('subpipe_ord',\n",
       "                                                  Pipeline(steps=[('ord_encode',\n",
       "                                                                   OrdinalEncoder())]),\n",
       "                                                  ['unknown_construction_yr'])])),\n",
       "                ('rfc', RandomForestClassifier(min_samples_leaf=5))])"
      ]
     },
     "execution_count": 9,
     "metadata": {},
     "output_type": "execute_result"
    }
   ],
   "source": [
    "optimal_rfc_model_pipe = Pipeline(steps=[('ct', CT), ('rfc', RandomForestClassifier(\n",
    "      criterion='gini', min_samples_leaf=5, n_estimators=100))])\n",
    "\n",
    "optimal_rfc_model_pipe.fit(X_train, y_train)\n",
    "\n"
   ]
  },
  {
   "cell_type": "code",
   "execution_count": 1,
   "metadata": {},
   "outputs": [
    {
     "ename": "NameError",
     "evalue": "name 'optimal_rfc_model_pipe' is not defined",
     "output_type": "error",
     "traceback": [
      "\u001b[0;31m---------------------------------------------------------------------------\u001b[0m",
      "\u001b[0;31mNameError\u001b[0m                                 Traceback (most recent call last)",
      "\u001b[0;32m<ipython-input-1-f8184c6e1caf>\u001b[0m in \u001b[0;36m<module>\u001b[0;34m\u001b[0m\n\u001b[0;32m----> 1\u001b[0;31m \u001b[0moptimal_rfc_model_pipe\u001b[0m\u001b[0;34m.\u001b[0m\u001b[0mscore\u001b[0m\u001b[0;34m(\u001b[0m\u001b[0mX_train\u001b[0m\u001b[0;34m,\u001b[0m \u001b[0my_train\u001b[0m\u001b[0;34m)\u001b[0m\u001b[0;34m\u001b[0m\u001b[0;34m\u001b[0m\u001b[0m\n\u001b[0m",
      "\u001b[0;31mNameError\u001b[0m: name 'optimal_rfc_model_pipe' is not defined"
     ]
    }
   ],
   "source": [
    "optimal_rfc_model_pipe.score(X_train, y_train)"
   ]
  },
  {
   "cell_type": "code",
   "execution_count": 11,
   "metadata": {},
   "outputs": [],
   "source": [
    "cat_features_list = list(optimal_rfc_model_pipe.named_steps[\"ct\"].named_transformers_[\"subpipe_cat\"].named_steps[\"ohe\"].get_feature_names())"
   ]
  },
  {
   "cell_type": "code",
   "execution_count": 12,
   "metadata": {},
   "outputs": [],
   "source": [
    "features_names = [\"amount_tsh\", \"gps_height\"] + cat_features_list + [\"unknown_construction_yr\", \"age_at_inspection\", \"water_per_person\"]"
   ]
  },
  {
   "cell_type": "code",
   "execution_count": null,
   "metadata": {},
   "outputs": [],
   "source": []
  },
  {
   "cell_type": "code",
   "execution_count": 14,
   "metadata": {},
   "outputs": [],
   "source": [
    "optimal_rfc_importances = optimal_rfc_model_pipe.named_steps[\"rfc\"].feature_importances_"
   ]
  },
  {
   "cell_type": "code",
   "execution_count": 16,
   "metadata": {
    "scrolled": true
   },
   "outputs": [],
   "source": [
    "optimal_rfc_feature_importance_dict = dict(zip(features_names, optimal_rfc_importances)) "
   ]
  },
  {
   "cell_type": "code",
   "execution_count": 18,
   "metadata": {
    "scrolled": true
   },
   "outputs": [
    {
     "name": "stdout",
     "output_type": "stream",
     "text": [
      "x13_insufficient 0.13314590420268896\n",
      "x0_Internal 0.05819842554656524\n",
      "age_at_inspection 0.04578139276283127\n",
      "x7_other motorpump 0.04337504409361148\n",
      "x13_seasonal 0.04242226770433083\n",
      "gps_height 0.036628901723765754\n",
      "x8_submersible 0.031800299071269175\n",
      "amount_tsh 0.030126486826594266\n",
      "x0_Lake Nyasa 0.025982364410185758\n",
      "x16_dam 0.016861187928049203\n",
      "x13_unknown 0.016047594586819303\n",
      "x11_pay annually 0.01586052387456499\n",
      "x8_other 0.013224560355777043\n",
      "x16_hand pump 0.012853963550742326\n",
      "x16_other 0.011830488760469417\n",
      "x13_enough 0.011457798456746509\n",
      "x7_india mark iii 0.011340559845155293\n",
      "x8_motorpump 0.010829011715406893\n",
      "x9_water board 0.008800538526678614\n",
      "x15_groundwater 0.008593548098256165\n",
      "x7_other handpump 0.008367204268347929\n",
      "x11_unknown 0.007760733515065111\n",
      "x11_pay when scheme fails 0.007359426192135294\n",
      "x7_afridev 0.007219518222228777\n",
      "x1_Kigoma 0.007160243795654914\n",
      "x5_WUG 0.00703869880319329\n",
      "x14_unknown 0.006592245468133914\n",
      "x12_fluoride 0.006452199351362744\n",
      "x16_cattle trough 0.006316876238585127\n",
      "x6_Unknown 0.0063029388572063355\n",
      "x14_dam 0.0062598644286363655\n",
      "x15_unknown 0.006207182802005701\n",
      "x14_rainwater harvesting 0.005899333547205935\n",
      "x12_salty 0.005780340432148805\n",
      "x2_13 0.005466222410261536\n",
      "x0_Lake Rukwa 0.005450725072599039\n",
      "x5_Company 0.005324311457934784\n",
      "water_per_person 0.005263329529647048\n",
      "x4_Unknown 0.005235777645574861\n",
      "x0_Lake Tanganyika 0.004759667832468041\n",
      "x14_shallow well 0.0046500704551516725\n",
      "x14_spring 0.0043299777978485065\n",
      "x11_pay per bucket 0.004302262198354745\n",
      "x11_other 0.004205828011716624\n",
      "x3_Bukoba Rural 0.004191755080058872\n",
      "x0_Rufiji 0.004190086798875973\n",
      "x7_wind-powered 0.00414768231183287\n",
      "x0_Pangani 0.004121792892872608\n",
      "x1_Arusha 0.0039949397482919435\n",
      "x9_company 0.003924702452251217\n",
      "x6_False 0.0038623599594172476\n",
      "x2_18 0.0038223641729382804\n",
      "x0_Lake Victoria 0.0037503164319282467\n",
      "x0_Ruvuma / Southern Coast 0.003727886180589455\n",
      "x1_Lindi 0.003703018983270737\n",
      "x2_19 0.0033503144080804744\n",
      "x10_other 0.003311365757353536\n",
      "x1_Dar es Salaam 0.0032735684459920486\n",
      "x8_rope pump 0.003271481991289202\n",
      "x0_Wami / Ruvu 0.0032267896680654444\n",
      "x5_Water authority 0.0032112515555089882\n",
      "x3_Kilindi 0.0032077153535991984\n",
      "x7_gravity 0.0032030900289619696\n",
      "x3_Lindi Urban 0.003107652861536984\n",
      "x10_parastatal 0.0029970192643246876\n",
      "x7_other 0.0029820656693959834\n",
      "x1_Dodoma 0.0029179670957540037\n",
      "x6_True 0.002911301554097843\n",
      "x9_unknown 0.002824749050973396\n",
      "x14_other 0.0028032131576545063\n",
      "x1_Tabora 0.002788248326987556\n",
      "unknown_construction_yr 0.0027440252124049467\n",
      "x3_Geita 0.002698680944802704\n",
      "x13_dry 0.0026563719688356973\n",
      "x1_Manyara 0.0025701881598823337\n",
      "x5_WUA 0.0025231151320974404\n",
      "x9_wug 0.002450080320850394\n",
      "x8_gravity 0.002439685009434313\n",
      "x2_40 0.0024371815851035755\n",
      "x12_colored 0.002381230328068399\n",
      "x1_Kagera 0.002196635227930444\n",
      "x5_Other 0.002176254640871272\n",
      "x2_2 0.0021345830908118773\n",
      "x3_Ruangwa 0.002090318474781436\n",
      "x2_14 0.0020899901526389613\n",
      "x3_Nzega 0.001989644424028592\n",
      "x1_Mwanza 0.0019658290986857077\n",
      "x1_Mtwara 0.0019592582502797086\n",
      "x1_Morogoro 0.0019366989330430377\n",
      "x2_5 0.0019128694343945399\n",
      "x2_20 0.0019035635472860835\n",
      "x1_Rukwa 0.001843321435569503\n",
      "x14_hand dtw 0.0018241061906037008\n",
      "x1_Ruvuma 0.0017975353543101676\n",
      "x2_24 0.0017954202114970434\n",
      "x9_other - school 0.001792072371679659\n",
      "x2_17 0.0017866512750581492\n",
      "x5_Water Board 0.0017718590285474094\n",
      "x2_60 0.0017554670383781526\n",
      "x2_12 0.0017490272887836975\n",
      "x3_Mpanda 0.0017197425569835038\n",
      "x2_15 0.0017129945103337607\n",
      "x2_11 0.001679282492611803\n",
      "x1_Singida 0.001673276785646173\n",
      "x3_Shinyanga Rural 0.0016594738172107375\n",
      "x3_Sengerema 0.0016545000685527296\n",
      "x2_10 0.0016428150041088148\n",
      "x3_Arusha Rural 0.0016020670400127175\n",
      "x2_21 0.0015969882189516068\n",
      "x1_Kilimanjaro 0.0015967906654126038\n",
      "x1_Shinyanga 0.001592845140876436\n",
      "x1_Pwani 0.0015608101285770717\n",
      "x3_Korogwe 0.0015119577894550178\n",
      "x7_india mark ii 0.0014859697003213213\n",
      "x1_Tanga 0.0014610741283975746\n",
      "x5_Parastatal 0.0014551459792410367\n",
      "x3_Karatu 0.0014375769781719565\n",
      "x10_commercial 0.0014322851156100755\n",
      "x3_Nachingwea 0.0014256208046324764\n",
      "x7_mono 0.0013990436620387708\n",
      "x1_Mara 0.0013633407124356873\n",
      "x3_Babati 0.0013618200553146152\n",
      "x2_8 0.0013267691390992946\n",
      "x3_Hanang 0.0013246922227433226\n",
      "x2_1 0.0013027012565154034\n",
      "x14_lake 0.0012900156339372575\n",
      "x3_Manyoni 0.0012886139664882972\n",
      "x3_Meatu 0.0012791678520719975\n",
      "x3_Kibondo 0.0012611800467065195\n",
      "x3_Kigoma Urban 0.001253397750835904\n",
      "x3_Kinondoni 0.0012505900124231664\n",
      "x3_Songea Rural 0.0012309094985005766\n",
      "x10_user-group 0.0011961171278596682\n",
      "x3_Njombe 0.0011712567612712167\n",
      "x9_trust 0.0011549674340041603\n",
      "x3_Lindi Rural 0.0011502846353818128\n",
      "x3_Kwimba 0.0011462899712310582\n",
      "x9_wua 0.0010756515895023403\n",
      "x2_3 0.001074899367755897\n",
      "x2_16 0.0010615068680032964\n",
      "x3_Simanjiro 0.0010486959031365895\n",
      "x5_SWC 0.0010472015825591305\n",
      "x3_Mvomero 0.0010013150934036564\n",
      "x3_Kasulu 0.0009999980554800784\n",
      "x2_7 0.000982398466298404\n",
      "x3_Missungwi 0.0009723234311408496\n",
      "x3_Ngorongoro 0.0009713464540111342\n",
      "x3_Shinyanga Urban 0.000968740335533102\n",
      "x3_Siha 0.0009426407817929157\n",
      "x3_Serengeti 0.0009230813994482859\n",
      "x1_Mbeya 0.0008998826026702691\n",
      "x3_Mbeya Rural 0.0008899154755386583\n",
      "x3_Mtwara Rural 0.0008638725882570057\n",
      "x5_Trust 0.0008615457228001176\n",
      "x3_Sumbawanga Rural 0.0008551051296642609\n",
      "x3_Rorya 0.000843723772501454\n",
      "x3_Urambo 0.0008414321101785916\n",
      "x12_unknown 0.0008038089078245605\n",
      "x3_Karagwe 0.0007603478855131481\n",
      "x3_Iramba 0.0007525647379089409\n",
      "x3_Tabora Urban 0.0007308272801056772\n",
      "x2_90 0.0007190110695360027\n",
      "x3_Chunya 0.0006946489193556999\n",
      "x7_swn 80 0.000693073518258417\n",
      "x3_Bahi 0.0006851319061412807\n",
      "x3_Mbarali 0.0006844208620194329\n",
      "x3_Newala 0.0006748925006767763\n",
      "x5_Private operator 0.0006719503293986934\n",
      "x3_Chato 0.0006699647713750016\n",
      "x3_Mtwara Urban 0.0006572278162690251\n",
      "x3_Namtumbo 0.000656259726189353\n",
      "x1_Iringa 0.0006541093785891775\n",
      "x3_Kilwa 0.0006470133418039245\n",
      "x3_Igunga 0.0006461237648344595\n",
      "x3_Mkinga 0.0006439442051064437\n",
      "x3_Morogoro Rural 0.0006301885325182083\n",
      "x3_Same 0.0006274302149946717\n",
      "x14_machine dbh 0.0006207643423672812\n",
      "x3_Bariadi 0.0006111466803285742\n",
      "x2_80 0.0006052359568616363\n",
      "x3_Bukombe 0.0005972923938957466\n",
      "x11_pay monthly 0.0005792457180284203\n",
      "x9_parastatal 0.0005758165367166358\n",
      "x3_Maswa 0.0005752072349948537\n",
      "x10_unknown 0.0005700114067798875\n",
      "x8_wind-powered 0.0005610366087262482\n",
      "x3_Masasi 0.0005587028139260936\n",
      "x3_Hai 0.0005580514694977864\n",
      "x3_Ulanga 0.0005575758432188871\n",
      "x3_Rombo 0.0005543913185656693\n",
      "x3_Mbinga 0.000548586499173873\n",
      "x3_Monduli 0.0005435260272519381\n",
      "x3_Mbulu 0.0005416215254006952\n",
      "x4_True 0.0005102423426808777\n",
      "x3_Kibaha 0.0005072634875196701\n",
      "x2_4 0.0004995962801657008\n",
      "x3_Kilosa 0.0004910089037058865\n",
      "x3_Magu 0.0004847327303918278\n",
      "x3_Ilemela 0.00047198766308625\n",
      "x3_Moshi Rural 0.0004697813368245299\n",
      "x3_Ileje 0.000460498920576462\n",
      "x3_Meru 0.0004565800408196247\n",
      "x3_Mwanga 0.00045467085945126174\n",
      "x3_Uyui 0.0004462230328972303\n",
      "x3_Rungwe 0.0004406579246494406\n",
      "x3_Makete 0.0004329510056163174\n",
      "x3_Bukoba Urban 0.0004226060895526257\n",
      "x3_Musoma Rural 0.0004129963958239345\n",
      "x12_good 0.0004049547514331288\n",
      "x3_Kongwa 0.0003939284529226172\n",
      "x3_Misenyi 0.00038801135679899254\n",
      "x3_Rufiji 0.00038752488451563477\n",
      "x3_Nanyumbu 0.00038711493782362803\n",
      "x3_Morogoro Urban 0.0003868490734778346\n",
      "x3_Singida Urban 0.000383163607033795\n",
      "x11_never pay 0.0003774239662667496\n",
      "x3_Kyela 0.0003729370594197214\n",
      "x3_Mbozi 0.0003711534110650415\n",
      "x3_Muleba 0.00036373665437785727\n",
      "x3_Mufindi 0.00035988089448938727\n",
      "x3_Nkasi 0.0003560369379082816\n",
      "x3_Sikonge 0.00035470762439443183\n",
      "x3_Dodoma Urban 0.00034782579563124997\n",
      "x14_river 0.0003464208892729252\n",
      "x16_communal standpipe 0.00034007344346404764\n",
      "x2_9 0.0003393289280096266\n",
      "x3_Liwale 0.00033216108089948105\n",
      "x7_nira/tanira 0.0003307211383828102\n",
      "x3_Kiteto 0.00032072406609847667\n",
      "x3_Tunduru 0.00031826713305232616\n",
      "x3_Biharamulo 0.0003130303570318512\n",
      "x3_Kondoa 0.0003121774667714271\n",
      "x9_water authority 0.0003085069728592558\n",
      "x3_Mkuranga 0.0003066969311507922\n",
      "x3_Kahama 0.0003039454107285685\n",
      "x3_Pangani 0.00029819995525499806\n",
      "x2_99 0.0002880154713430946\n",
      "x3_Lushoto 0.00028287355651082245\n",
      "x3_Arusha Urban 0.0002827428299401093\n",
      "x12_milky 0.0002749942551288068\n",
      "x3_Tarime 0.000265610145647836\n",
      "x3_Mafia 0.00026225244222308447\n",
      "x7_rope pump 0.0002575640400125066\n",
      "x3_Tandahimba 0.0002422938599424338\n",
      "x3_Ukerewe 0.00021761284153713856\n",
      "x3_Chamwino 0.00019933789468688212\n",
      "x4_False 0.00019849267730701859\n",
      "x3_Ilala 0.00019605548971881172\n",
      "x16_communal standpipe multiple 0.00018414258734262014\n",
      "x3_Singida Rural 0.00016625524884200207\n",
      "x3_Handeni 0.00016567874141046595\n",
      "x7_submersible 0.00016515546842403472\n",
      "x3_Kisarawe 0.00016166329907362834\n",
      "x3_Kilombero 0.00015173083274177773\n",
      "x3_Tanga 0.00014693588605967233\n",
      "x3_Kishapu 0.0001318404399171994\n",
      "x3_Kigoma Rural 0.00011848554349623458\n",
      "x3_Temeke 0.0001133098716399496\n",
      "x3_Iringa Rural 9.54129614838367e-05\n",
      "x5_Unknown 9.359597321147087e-05\n",
      "x3_Sumbawanga Urban 9.222495972929312e-05\n",
      "x3_Bunda 8.770027394901167e-05\n",
      "x3_Ludewa 8.013688705282622e-05\n",
      "x3_Muheza 7.324789922331767e-05\n",
      "x3_Mpwapwa 7.045504653921689e-05\n",
      "x3_Ngara 6.27868622450419e-05\n",
      "x3_Songea Urban 6.147129000498407e-05\n",
      "x8_handpump 6.0013916610279204e-05\n",
      "x3_Moshi Urban 5.797650498901299e-05\n",
      "x9_private operator 5.72929786942977e-05\n",
      "x9_other 4.908455385615291e-05\n",
      "x3_Bagamoyo 3.617126719788204e-05\n",
      "x3_Kilolo 3.292372394294878e-05\n",
      "x5_VWC 3.044690462832018e-05\n",
      "x9_vwc 1.7416424016027002e-05\n",
      "x3_Longido 2.90811050387745e-07\n",
      "x2_6 0.0\n",
      "x15_surface 0.0\n",
      "x16_improved spring 0.0\n"
     ]
    }
   ],
   "source": [
    "sort_rfc_feature_importance = sorted(optimal_rfc_feature_importance_dict.items(), key=lambda x: x[1], reverse=True)\n",
    "\n",
    "for i in sort_rfc_feature_importance:\n",
    "    print(i[0], i[1])"
   ]
  },
  {
   "cell_type": "code",
   "execution_count": 19,
   "metadata": {},
   "outputs": [
    {
     "data": {
      "text/plain": [
       "enough          33185\n",
       "insufficient    15129\n",
       "dry              6246\n",
       "seasonal         4050\n",
       "unknown           789\n",
       "Name: quantity, dtype: int64"
      ]
     },
     "execution_count": 19,
     "metadata": {},
     "output_type": "execute_result"
    }
   ],
   "source": [
    "cleaned_water_pump[\"quantity\"].value_counts()"
   ]
  },
  {
   "cell_type": "code",
   "execution_count": 22,
   "metadata": {
    "scrolled": true
   },
   "outputs": [
    {
     "ename": "KeyError",
     "evalue": "\"['lga' 'management' 'region_code'] not found in axis\"",
     "output_type": "error",
     "traceback": [
      "\u001b[0;31m---------------------------------------------------------------------------\u001b[0m",
      "\u001b[0;31mKeyError\u001b[0m                                  Traceback (most recent call last)",
      "\u001b[0;32m<ipython-input-22-c483a4d748f4>\u001b[0m in \u001b[0;36m<module>\u001b[0;34m\u001b[0m\n\u001b[0;32m----> 1\u001b[0;31m \u001b[0mX_train_drop\u001b[0m \u001b[0;34m=\u001b[0m \u001b[0mX_train\u001b[0m\u001b[0;34m.\u001b[0m\u001b[0mdrop\u001b[0m\u001b[0;34m(\u001b[0m\u001b[0;34m[\u001b[0m\u001b[0;34m\"lga\"\u001b[0m\u001b[0;34m,\u001b[0m \u001b[0;34m\"management\"\u001b[0m\u001b[0;34m,\u001b[0m \u001b[0;34m\"region_code\"\u001b[0m\u001b[0;34m]\u001b[0m\u001b[0;34m,\u001b[0m \u001b[0maxis\u001b[0m\u001b[0;34m=\u001b[0m\u001b[0;36m1\u001b[0m\u001b[0;34m,\u001b[0m \u001b[0minplace\u001b[0m\u001b[0;34m=\u001b[0m\u001b[0;32mTrue\u001b[0m\u001b[0;34m)\u001b[0m\u001b[0;34m\u001b[0m\u001b[0;34m\u001b[0m\u001b[0m\n\u001b[0m",
      "\u001b[0;32m~/opt/anaconda3/envs/learn-env/lib/python3.8/site-packages/pandas/core/frame.py\u001b[0m in \u001b[0;36mdrop\u001b[0;34m(self, labels, axis, index, columns, level, inplace, errors)\u001b[0m\n\u001b[1;32m   4161\u001b[0m                 \u001b[0mweight\u001b[0m  \u001b[0;36m1.0\u001b[0m     \u001b[0;36m0.8\u001b[0m\u001b[0;34m\u001b[0m\u001b[0;34m\u001b[0m\u001b[0m\n\u001b[1;32m   4162\u001b[0m         \"\"\"\n\u001b[0;32m-> 4163\u001b[0;31m         return super().drop(\n\u001b[0m\u001b[1;32m   4164\u001b[0m             \u001b[0mlabels\u001b[0m\u001b[0;34m=\u001b[0m\u001b[0mlabels\u001b[0m\u001b[0;34m,\u001b[0m\u001b[0;34m\u001b[0m\u001b[0;34m\u001b[0m\u001b[0m\n\u001b[1;32m   4165\u001b[0m             \u001b[0maxis\u001b[0m\u001b[0;34m=\u001b[0m\u001b[0maxis\u001b[0m\u001b[0;34m,\u001b[0m\u001b[0;34m\u001b[0m\u001b[0;34m\u001b[0m\u001b[0m\n",
      "\u001b[0;32m~/opt/anaconda3/envs/learn-env/lib/python3.8/site-packages/pandas/core/generic.py\u001b[0m in \u001b[0;36mdrop\u001b[0;34m(self, labels, axis, index, columns, level, inplace, errors)\u001b[0m\n\u001b[1;32m   3885\u001b[0m         \u001b[0;32mfor\u001b[0m \u001b[0maxis\u001b[0m\u001b[0;34m,\u001b[0m \u001b[0mlabels\u001b[0m \u001b[0;32min\u001b[0m \u001b[0maxes\u001b[0m\u001b[0;34m.\u001b[0m\u001b[0mitems\u001b[0m\u001b[0;34m(\u001b[0m\u001b[0;34m)\u001b[0m\u001b[0;34m:\u001b[0m\u001b[0;34m\u001b[0m\u001b[0;34m\u001b[0m\u001b[0m\n\u001b[1;32m   3886\u001b[0m             \u001b[0;32mif\u001b[0m \u001b[0mlabels\u001b[0m \u001b[0;32mis\u001b[0m \u001b[0;32mnot\u001b[0m \u001b[0;32mNone\u001b[0m\u001b[0;34m:\u001b[0m\u001b[0;34m\u001b[0m\u001b[0;34m\u001b[0m\u001b[0m\n\u001b[0;32m-> 3887\u001b[0;31m                 \u001b[0mobj\u001b[0m \u001b[0;34m=\u001b[0m \u001b[0mobj\u001b[0m\u001b[0;34m.\u001b[0m\u001b[0m_drop_axis\u001b[0m\u001b[0;34m(\u001b[0m\u001b[0mlabels\u001b[0m\u001b[0;34m,\u001b[0m \u001b[0maxis\u001b[0m\u001b[0;34m,\u001b[0m \u001b[0mlevel\u001b[0m\u001b[0;34m=\u001b[0m\u001b[0mlevel\u001b[0m\u001b[0;34m,\u001b[0m \u001b[0merrors\u001b[0m\u001b[0;34m=\u001b[0m\u001b[0merrors\u001b[0m\u001b[0;34m)\u001b[0m\u001b[0;34m\u001b[0m\u001b[0;34m\u001b[0m\u001b[0m\n\u001b[0m\u001b[1;32m   3888\u001b[0m \u001b[0;34m\u001b[0m\u001b[0m\n\u001b[1;32m   3889\u001b[0m         \u001b[0;32mif\u001b[0m \u001b[0minplace\u001b[0m\u001b[0;34m:\u001b[0m\u001b[0;34m\u001b[0m\u001b[0;34m\u001b[0m\u001b[0m\n",
      "\u001b[0;32m~/opt/anaconda3/envs/learn-env/lib/python3.8/site-packages/pandas/core/generic.py\u001b[0m in \u001b[0;36m_drop_axis\u001b[0;34m(self, labels, axis, level, errors)\u001b[0m\n\u001b[1;32m   3919\u001b[0m                 \u001b[0mnew_axis\u001b[0m \u001b[0;34m=\u001b[0m \u001b[0maxis\u001b[0m\u001b[0;34m.\u001b[0m\u001b[0mdrop\u001b[0m\u001b[0;34m(\u001b[0m\u001b[0mlabels\u001b[0m\u001b[0;34m,\u001b[0m \u001b[0mlevel\u001b[0m\u001b[0;34m=\u001b[0m\u001b[0mlevel\u001b[0m\u001b[0;34m,\u001b[0m \u001b[0merrors\u001b[0m\u001b[0;34m=\u001b[0m\u001b[0merrors\u001b[0m\u001b[0;34m)\u001b[0m\u001b[0;34m\u001b[0m\u001b[0;34m\u001b[0m\u001b[0m\n\u001b[1;32m   3920\u001b[0m             \u001b[0;32melse\u001b[0m\u001b[0;34m:\u001b[0m\u001b[0;34m\u001b[0m\u001b[0;34m\u001b[0m\u001b[0m\n\u001b[0;32m-> 3921\u001b[0;31m                 \u001b[0mnew_axis\u001b[0m \u001b[0;34m=\u001b[0m \u001b[0maxis\u001b[0m\u001b[0;34m.\u001b[0m\u001b[0mdrop\u001b[0m\u001b[0;34m(\u001b[0m\u001b[0mlabels\u001b[0m\u001b[0;34m,\u001b[0m \u001b[0merrors\u001b[0m\u001b[0;34m=\u001b[0m\u001b[0merrors\u001b[0m\u001b[0;34m)\u001b[0m\u001b[0;34m\u001b[0m\u001b[0;34m\u001b[0m\u001b[0m\n\u001b[0m\u001b[1;32m   3922\u001b[0m             \u001b[0mresult\u001b[0m \u001b[0;34m=\u001b[0m \u001b[0mself\u001b[0m\u001b[0;34m.\u001b[0m\u001b[0mreindex\u001b[0m\u001b[0;34m(\u001b[0m\u001b[0;34m**\u001b[0m\u001b[0;34m{\u001b[0m\u001b[0maxis_name\u001b[0m\u001b[0;34m:\u001b[0m \u001b[0mnew_axis\u001b[0m\u001b[0;34m}\u001b[0m\u001b[0;34m)\u001b[0m\u001b[0;34m\u001b[0m\u001b[0;34m\u001b[0m\u001b[0m\n\u001b[1;32m   3923\u001b[0m \u001b[0;34m\u001b[0m\u001b[0m\n",
      "\u001b[0;32m~/opt/anaconda3/envs/learn-env/lib/python3.8/site-packages/pandas/core/indexes/base.py\u001b[0m in \u001b[0;36mdrop\u001b[0;34m(self, labels, errors)\u001b[0m\n\u001b[1;32m   5280\u001b[0m         \u001b[0;32mif\u001b[0m \u001b[0mmask\u001b[0m\u001b[0;34m.\u001b[0m\u001b[0many\u001b[0m\u001b[0;34m(\u001b[0m\u001b[0;34m)\u001b[0m\u001b[0;34m:\u001b[0m\u001b[0;34m\u001b[0m\u001b[0;34m\u001b[0m\u001b[0m\n\u001b[1;32m   5281\u001b[0m             \u001b[0;32mif\u001b[0m \u001b[0merrors\u001b[0m \u001b[0;34m!=\u001b[0m \u001b[0;34m\"ignore\"\u001b[0m\u001b[0;34m:\u001b[0m\u001b[0;34m\u001b[0m\u001b[0;34m\u001b[0m\u001b[0m\n\u001b[0;32m-> 5282\u001b[0;31m                 \u001b[0;32mraise\u001b[0m \u001b[0mKeyError\u001b[0m\u001b[0;34m(\u001b[0m\u001b[0;34mf\"{labels[mask]} not found in axis\"\u001b[0m\u001b[0;34m)\u001b[0m\u001b[0;34m\u001b[0m\u001b[0;34m\u001b[0m\u001b[0m\n\u001b[0m\u001b[1;32m   5283\u001b[0m             \u001b[0mindexer\u001b[0m \u001b[0;34m=\u001b[0m \u001b[0mindexer\u001b[0m\u001b[0;34m[\u001b[0m\u001b[0;34m~\u001b[0m\u001b[0mmask\u001b[0m\u001b[0;34m]\u001b[0m\u001b[0;34m\u001b[0m\u001b[0;34m\u001b[0m\u001b[0m\n\u001b[1;32m   5284\u001b[0m         \u001b[0;32mreturn\u001b[0m \u001b[0mself\u001b[0m\u001b[0;34m.\u001b[0m\u001b[0mdelete\u001b[0m\u001b[0;34m(\u001b[0m\u001b[0mindexer\u001b[0m\u001b[0;34m)\u001b[0m\u001b[0;34m\u001b[0m\u001b[0;34m\u001b[0m\u001b[0m\n",
      "\u001b[0;31mKeyError\u001b[0m: \"['lga' 'management' 'region_code'] not found in axis\""
     ]
    }
   ],
   "source": [
    "X_train.drop([\"lga\", \"management\", \"region_code\"], axis=1, inplace=True)"
   ]
  },
  {
   "cell_type": "code",
   "execution_count": 23,
   "metadata": {},
   "outputs": [
    {
     "name": "stdout",
     "output_type": "stream",
     "text": [
      "<class 'pandas.core.frame.DataFrame'>\n",
      "Int64Index: 44549 entries, 42186 to 56422\n",
      "Data columns (total 19 columns):\n",
      " #   Column                   Non-Null Count  Dtype  \n",
      "---  ------                   --------------  -----  \n",
      " 0   amount_tsh               44549 non-null  float64\n",
      " 1   gps_height               44549 non-null  int64  \n",
      " 2   basin                    44549 non-null  object \n",
      " 3   region                   44549 non-null  object \n",
      " 4   public_meeting           44549 non-null  object \n",
      " 5   scheme_management        44549 non-null  object \n",
      " 6   permit                   44549 non-null  object \n",
      " 7   extraction_type_group    44549 non-null  object \n",
      " 8   extraction_type_class    44549 non-null  object \n",
      " 9   management_group         44549 non-null  object \n",
      " 10  payment                  44549 non-null  object \n",
      " 11  quality_group            44549 non-null  object \n",
      " 12  quantity                 44549 non-null  object \n",
      " 13  source                   44549 non-null  object \n",
      " 14  source_class             44549 non-null  object \n",
      " 15  waterpoint_type          44549 non-null  object \n",
      " 16  unknown_construction_yr  44549 non-null  bool   \n",
      " 17  age_at_inspection        28967 non-null  float64\n",
      " 18  water_per_person         28489 non-null  float64\n",
      "dtypes: bool(1), float64(3), int64(1), object(14)\n",
      "memory usage: 6.5+ MB\n"
     ]
    }
   ],
   "source": [
    "X_train.info()"
   ]
  },
  {
   "cell_type": "code",
   "execution_count": 25,
   "metadata": {},
   "outputs": [],
   "source": [
    "new_cat_cols = [\"basin\", \"region\", \"public_meeting\", \"scheme_management\", \"permit\",\n",
    "          \"extraction_type_group\", \"extraction_type_class\", \"management_group\", \"payment\", \"quality_group\",\n",
    "          \"quantity\", \"source\", \"source_class\", \"waterpoint_type\"]"
   ]
  },
  {
   "cell_type": "code",
   "execution_count": 26,
   "metadata": {},
   "outputs": [],
   "source": [
    "subpipe_cat_new = Pipeline(steps=[(\"ohe\", OneHotEncoder(sparse=False, handle_unknown=\"ignore\"))])"
   ]
  },
  {
   "cell_type": "code",
   "execution_count": 27,
   "metadata": {},
   "outputs": [],
   "source": [
    "CT_new = ColumnTransformer(transformers=[\n",
    "                                    (\"subpipe_num\", subpipe_num, numeric_cols), \n",
    "                                     (\"subpipe_cat_new\", subpipe_cat_new, new_cat_cols),\n",
    "                                    (\"subpipe_ord\", subpipe_ord, bool_cols)\n",
    "                                    ], \n",
    "                       remainder=\"drop\"\n",
    "                      )"
   ]
  },
  {
   "cell_type": "code",
   "execution_count": 28,
   "metadata": {},
   "outputs": [
    {
     "data": {
      "text/plain": [
       "Pipeline(steps=[('ct_new',\n",
       "                 ColumnTransformer(transformers=[('subpipe_num',\n",
       "                                                  Pipeline(steps=[('num_impute',\n",
       "                                                                   SimpleImputer()),\n",
       "                                                                  ('ss',\n",
       "                                                                   StandardScaler())]),\n",
       "                                                  ['amount_tsh', 'gps_height',\n",
       "                                                   'age_at_inspection',\n",
       "                                                   'water_per_person']),\n",
       "                                                 ('subpipe_cat_new',\n",
       "                                                  Pipeline(steps=[('ohe',\n",
       "                                                                   OneHotEncoder(handle_unknown='ignore',\n",
       "                                                                                 sparse=False))]),\n",
       "                                                  ['basin', 'region',\n",
       "                                                   'public_meeting',\n",
       "                                                   'scheme_management',\n",
       "                                                   'permit',\n",
       "                                                   'extraction_type_group',\n",
       "                                                   'extraction_type_class',\n",
       "                                                   'management_group',\n",
       "                                                   'payment', 'quality_group',\n",
       "                                                   'quantity', 'source',\n",
       "                                                   'source_class',\n",
       "                                                   'waterpoint_type']),\n",
       "                                                 ('subpipe_ord',\n",
       "                                                  Pipeline(steps=[('ord_encode',\n",
       "                                                                   OrdinalEncoder())]),\n",
       "                                                  ['unknown_construction_yr'])])),\n",
       "                ('rfc', RandomForestClassifier(min_samples_leaf=5))])"
      ]
     },
     "execution_count": 28,
     "metadata": {},
     "output_type": "execute_result"
    }
   ],
   "source": [
    "optimal_rfc_model_pipe_2 = Pipeline(steps=[('ct_new', CT_new), ('rfc', RandomForestClassifier(\n",
    "      criterion='gini', min_samples_leaf=5, n_estimators=100))])\n",
    "\n",
    "optimal_rfc_model_pipe_2.fit(X_train, y_train)"
   ]
  },
  {
   "cell_type": "code",
   "execution_count": 31,
   "metadata": {},
   "outputs": [
    {
     "data": {
      "text/plain": [
       "0.805270600911356"
      ]
     },
     "execution_count": 31,
     "metadata": {},
     "output_type": "execute_result"
    }
   ],
   "source": [
    "optimal_rfc_model_pipe_2.score(X_train, y_train)"
   ]
  },
  {
   "cell_type": "code",
   "execution_count": 35,
   "metadata": {},
   "outputs": [
    {
     "name": "stderr",
     "output_type": "stream",
     "text": [
      "/Users/margaretboland/opt/anaconda3/envs/learn-env/lib/python3.8/site-packages/pandas/core/frame.py:4163: SettingWithCopyWarning: \n",
      "A value is trying to be set on a copy of a slice from a DataFrame\n",
      "\n",
      "See the caveats in the documentation: https://pandas.pydata.org/pandas-docs/stable/user_guide/indexing.html#returning-a-view-versus-a-copy\n",
      "  return super().drop(\n"
     ]
    }
   ],
   "source": [
    "X_test.drop([\"lga\", \"management\", \"region_code\"], axis=1, inplace=True)"
   ]
  },
  {
   "cell_type": "code",
   "execution_count": 36,
   "metadata": {
    "scrolled": true
   },
   "outputs": [],
   "source": [
    "y_pred_optimal_2 = optimal_rfc_model_pipe_2.predict(X_test)"
   ]
  },
  {
   "cell_type": "code",
   "execution_count": 38,
   "metadata": {},
   "outputs": [
    {
     "name": "stdout",
     "output_type": "stream",
     "text": [
      "              precision    recall  f1-score   support\n",
      "\n",
      "           0       0.76      0.92      0.83      8131\n",
      "           1       0.62      0.14      0.23      1046\n",
      "           2       0.84      0.70      0.77      5673\n",
      "\n",
      "    accuracy                           0.78     14850\n",
      "   macro avg       0.74      0.59      0.61     14850\n",
      "weighted avg       0.78      0.78      0.76     14850\n",
      "\n"
     ]
    }
   ],
   "source": [
    "print(classification_report(y_test, y_pred_optimal_2))"
   ]
  },
  {
   "cell_type": "code",
   "execution_count": null,
   "metadata": {},
   "outputs": [],
   "source": []
  }
 ],
 "metadata": {
  "kernelspec": {
   "display_name": "Python (learn-env)",
   "language": "python",
   "name": "learn-env"
  },
  "language_info": {
   "codemirror_mode": {
    "name": "ipython",
    "version": 3
   },
   "file_extension": ".py",
   "mimetype": "text/x-python",
   "name": "python",
   "nbconvert_exporter": "python",
   "pygments_lexer": "ipython3",
   "version": "3.8.5"
  }
 },
 "nbformat": 4,
 "nbformat_minor": 4
}
