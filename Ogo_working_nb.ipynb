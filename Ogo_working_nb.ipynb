{
 "cells": [
  {
   "cell_type": "markdown",
   "metadata": {},
   "source": [
    "Tanzania Water Pumps"
   ]
  },
  {
   "cell_type": "code",
   "execution_count": 1,
   "metadata": {},
   "outputs": [],
   "source": [
    "import pandas as pd\n",
    "import matplotlib.pyplot as plt\n",
    "import scipy.stats as stats\n",
    "import seaborn as sns\n",
    "import numpy as np\n",
    "\n",
    "\n",
    "from sklearn.model_selection import train_test_split, cross_val_score\n",
    "from sklearn.preprocessing import OneHotEncoder, StandardScaler, LabelEncoder\n",
    "from sklearn.dummy import DummyClassifier\n",
    "from sklearn.metrics import confusion_matrix, plot_confusion_matrix, precision_score \n",
    "from sklearn.metrics import recall_score, accuracy_score, f1_score, log_loss\n",
    "from sklearn.metrics import roc_curve, roc_auc_score, classification_report, plot_roc_curve\n",
    "\n",
    "from sklearn.metrics import classification_report, auc\n",
    "\n",
    "%matplotlib inline"
   ]
  },
  {
   "cell_type": "code",
   "execution_count": 2,
   "metadata": {},
   "outputs": [
    {
     "data": {
      "text/html": [
       "<div>\n",
       "<style scoped>\n",
       "    .dataframe tbody tr th:only-of-type {\n",
       "        vertical-align: middle;\n",
       "    }\n",
       "\n",
       "    .dataframe tbody tr th {\n",
       "        vertical-align: top;\n",
       "    }\n",
       "\n",
       "    .dataframe thead th {\n",
       "        text-align: right;\n",
       "    }\n",
       "</style>\n",
       "<table border=\"1\" class=\"dataframe\">\n",
       "  <thead>\n",
       "    <tr style=\"text-align: right;\">\n",
       "      <th></th>\n",
       "      <th>id</th>\n",
       "      <th>amount_tsh</th>\n",
       "      <th>date_recorded</th>\n",
       "      <th>funder</th>\n",
       "      <th>gps_height</th>\n",
       "      <th>installer</th>\n",
       "      <th>longitude</th>\n",
       "      <th>latitude</th>\n",
       "      <th>wpt_name</th>\n",
       "      <th>num_private</th>\n",
       "      <th>...</th>\n",
       "      <th>payment_type</th>\n",
       "      <th>water_quality</th>\n",
       "      <th>quality_group</th>\n",
       "      <th>quantity</th>\n",
       "      <th>quantity_group</th>\n",
       "      <th>source</th>\n",
       "      <th>source_type</th>\n",
       "      <th>source_class</th>\n",
       "      <th>waterpoint_type</th>\n",
       "      <th>waterpoint_type_group</th>\n",
       "    </tr>\n",
       "  </thead>\n",
       "  <tbody>\n",
       "    <tr>\n",
       "      <th>0</th>\n",
       "      <td>69572</td>\n",
       "      <td>6000.0</td>\n",
       "      <td>2011-03-14</td>\n",
       "      <td>Roman</td>\n",
       "      <td>1390</td>\n",
       "      <td>Roman</td>\n",
       "      <td>34.938093</td>\n",
       "      <td>-9.856322</td>\n",
       "      <td>none</td>\n",
       "      <td>0</td>\n",
       "      <td>...</td>\n",
       "      <td>annually</td>\n",
       "      <td>soft</td>\n",
       "      <td>good</td>\n",
       "      <td>enough</td>\n",
       "      <td>enough</td>\n",
       "      <td>spring</td>\n",
       "      <td>spring</td>\n",
       "      <td>groundwater</td>\n",
       "      <td>communal standpipe</td>\n",
       "      <td>communal standpipe</td>\n",
       "    </tr>\n",
       "    <tr>\n",
       "      <th>1</th>\n",
       "      <td>8776</td>\n",
       "      <td>0.0</td>\n",
       "      <td>2013-03-06</td>\n",
       "      <td>Grumeti</td>\n",
       "      <td>1399</td>\n",
       "      <td>GRUMETI</td>\n",
       "      <td>34.698766</td>\n",
       "      <td>-2.147466</td>\n",
       "      <td>Zahanati</td>\n",
       "      <td>0</td>\n",
       "      <td>...</td>\n",
       "      <td>never pay</td>\n",
       "      <td>soft</td>\n",
       "      <td>good</td>\n",
       "      <td>insufficient</td>\n",
       "      <td>insufficient</td>\n",
       "      <td>rainwater harvesting</td>\n",
       "      <td>rainwater harvesting</td>\n",
       "      <td>surface</td>\n",
       "      <td>communal standpipe</td>\n",
       "      <td>communal standpipe</td>\n",
       "    </tr>\n",
       "    <tr>\n",
       "      <th>2</th>\n",
       "      <td>34310</td>\n",
       "      <td>25.0</td>\n",
       "      <td>2013-02-25</td>\n",
       "      <td>Lottery Club</td>\n",
       "      <td>686</td>\n",
       "      <td>World vision</td>\n",
       "      <td>37.460664</td>\n",
       "      <td>-3.821329</td>\n",
       "      <td>Kwa Mahundi</td>\n",
       "      <td>0</td>\n",
       "      <td>...</td>\n",
       "      <td>per bucket</td>\n",
       "      <td>soft</td>\n",
       "      <td>good</td>\n",
       "      <td>enough</td>\n",
       "      <td>enough</td>\n",
       "      <td>dam</td>\n",
       "      <td>dam</td>\n",
       "      <td>surface</td>\n",
       "      <td>communal standpipe multiple</td>\n",
       "      <td>communal standpipe</td>\n",
       "    </tr>\n",
       "    <tr>\n",
       "      <th>3</th>\n",
       "      <td>67743</td>\n",
       "      <td>0.0</td>\n",
       "      <td>2013-01-28</td>\n",
       "      <td>Unicef</td>\n",
       "      <td>263</td>\n",
       "      <td>UNICEF</td>\n",
       "      <td>38.486161</td>\n",
       "      <td>-11.155298</td>\n",
       "      <td>Zahanati Ya Nanyumbu</td>\n",
       "      <td>0</td>\n",
       "      <td>...</td>\n",
       "      <td>never pay</td>\n",
       "      <td>soft</td>\n",
       "      <td>good</td>\n",
       "      <td>dry</td>\n",
       "      <td>dry</td>\n",
       "      <td>machine dbh</td>\n",
       "      <td>borehole</td>\n",
       "      <td>groundwater</td>\n",
       "      <td>communal standpipe multiple</td>\n",
       "      <td>communal standpipe</td>\n",
       "    </tr>\n",
       "    <tr>\n",
       "      <th>4</th>\n",
       "      <td>19728</td>\n",
       "      <td>0.0</td>\n",
       "      <td>2011-07-13</td>\n",
       "      <td>Action In A</td>\n",
       "      <td>0</td>\n",
       "      <td>Artisan</td>\n",
       "      <td>31.130847</td>\n",
       "      <td>-1.825359</td>\n",
       "      <td>Shuleni</td>\n",
       "      <td>0</td>\n",
       "      <td>...</td>\n",
       "      <td>never pay</td>\n",
       "      <td>soft</td>\n",
       "      <td>good</td>\n",
       "      <td>seasonal</td>\n",
       "      <td>seasonal</td>\n",
       "      <td>rainwater harvesting</td>\n",
       "      <td>rainwater harvesting</td>\n",
       "      <td>surface</td>\n",
       "      <td>communal standpipe</td>\n",
       "      <td>communal standpipe</td>\n",
       "    </tr>\n",
       "  </tbody>\n",
       "</table>\n",
       "<p>5 rows × 40 columns</p>\n",
       "</div>"
      ],
      "text/plain": [
       "      id  amount_tsh date_recorded        funder  gps_height     installer  \\\n",
       "0  69572      6000.0    2011-03-14         Roman        1390         Roman   \n",
       "1   8776         0.0    2013-03-06       Grumeti        1399       GRUMETI   \n",
       "2  34310        25.0    2013-02-25  Lottery Club         686  World vision   \n",
       "3  67743         0.0    2013-01-28        Unicef         263        UNICEF   \n",
       "4  19728         0.0    2011-07-13   Action In A           0       Artisan   \n",
       "\n",
       "   longitude   latitude              wpt_name  num_private  ... payment_type  \\\n",
       "0  34.938093  -9.856322                  none            0  ...     annually   \n",
       "1  34.698766  -2.147466              Zahanati            0  ...    never pay   \n",
       "2  37.460664  -3.821329           Kwa Mahundi            0  ...   per bucket   \n",
       "3  38.486161 -11.155298  Zahanati Ya Nanyumbu            0  ...    never pay   \n",
       "4  31.130847  -1.825359               Shuleni            0  ...    never pay   \n",
       "\n",
       "  water_quality quality_group      quantity  quantity_group  \\\n",
       "0          soft          good        enough          enough   \n",
       "1          soft          good  insufficient    insufficient   \n",
       "2          soft          good        enough          enough   \n",
       "3          soft          good           dry             dry   \n",
       "4          soft          good      seasonal        seasonal   \n",
       "\n",
       "                 source           source_type  source_class  \\\n",
       "0                spring                spring   groundwater   \n",
       "1  rainwater harvesting  rainwater harvesting       surface   \n",
       "2                   dam                   dam       surface   \n",
       "3           machine dbh              borehole   groundwater   \n",
       "4  rainwater harvesting  rainwater harvesting       surface   \n",
       "\n",
       "               waterpoint_type waterpoint_type_group  \n",
       "0           communal standpipe    communal standpipe  \n",
       "1           communal standpipe    communal standpipe  \n",
       "2  communal standpipe multiple    communal standpipe  \n",
       "3  communal standpipe multiple    communal standpipe  \n",
       "4           communal standpipe    communal standpipe  \n",
       "\n",
       "[5 rows x 40 columns]"
      ]
     },
     "execution_count": 2,
     "metadata": {},
     "output_type": "execute_result"
    }
   ],
   "source": [
    "df1 = pd.read_csv('Data/water_columns.csv')\n",
    "df1.head()"
   ]
  },
  {
   "cell_type": "code",
   "execution_count": 3,
   "metadata": {},
   "outputs": [
    {
     "data": {
      "text/html": [
       "<div>\n",
       "<style scoped>\n",
       "    .dataframe tbody tr th:only-of-type {\n",
       "        vertical-align: middle;\n",
       "    }\n",
       "\n",
       "    .dataframe tbody tr th {\n",
       "        vertical-align: top;\n",
       "    }\n",
       "\n",
       "    .dataframe thead th {\n",
       "        text-align: right;\n",
       "    }\n",
       "</style>\n",
       "<table border=\"1\" class=\"dataframe\">\n",
       "  <thead>\n",
       "    <tr style=\"text-align: right;\">\n",
       "      <th></th>\n",
       "      <th>id</th>\n",
       "      <th>status_group</th>\n",
       "    </tr>\n",
       "  </thead>\n",
       "  <tbody>\n",
       "    <tr>\n",
       "      <th>0</th>\n",
       "      <td>69572</td>\n",
       "      <td>functional</td>\n",
       "    </tr>\n",
       "    <tr>\n",
       "      <th>1</th>\n",
       "      <td>8776</td>\n",
       "      <td>functional</td>\n",
       "    </tr>\n",
       "    <tr>\n",
       "      <th>2</th>\n",
       "      <td>34310</td>\n",
       "      <td>functional</td>\n",
       "    </tr>\n",
       "    <tr>\n",
       "      <th>3</th>\n",
       "      <td>67743</td>\n",
       "      <td>non functional</td>\n",
       "    </tr>\n",
       "    <tr>\n",
       "      <th>4</th>\n",
       "      <td>19728</td>\n",
       "      <td>functional</td>\n",
       "    </tr>\n",
       "  </tbody>\n",
       "</table>\n",
       "</div>"
      ],
      "text/plain": [
       "      id    status_group\n",
       "0  69572      functional\n",
       "1   8776      functional\n",
       "2  34310      functional\n",
       "3  67743  non functional\n",
       "4  19728      functional"
      ]
     },
     "execution_count": 3,
     "metadata": {},
     "output_type": "execute_result"
    }
   ],
   "source": [
    "df2 = pd.read_csv('Data/water_status_group.csv')\n",
    "df2.head()"
   ]
  },
  {
   "cell_type": "code",
   "execution_count": 4,
   "metadata": {},
   "outputs": [
    {
     "data": {
      "text/html": [
       "<div>\n",
       "<style scoped>\n",
       "    .dataframe tbody tr th:only-of-type {\n",
       "        vertical-align: middle;\n",
       "    }\n",
       "\n",
       "    .dataframe tbody tr th {\n",
       "        vertical-align: top;\n",
       "    }\n",
       "\n",
       "    .dataframe thead th {\n",
       "        text-align: right;\n",
       "    }\n",
       "</style>\n",
       "<table border=\"1\" class=\"dataframe\">\n",
       "  <thead>\n",
       "    <tr style=\"text-align: right;\">\n",
       "      <th></th>\n",
       "      <th>id</th>\n",
       "      <th>amount_tsh</th>\n",
       "      <th>date_recorded</th>\n",
       "      <th>funder</th>\n",
       "      <th>gps_height</th>\n",
       "      <th>installer</th>\n",
       "      <th>longitude</th>\n",
       "      <th>latitude</th>\n",
       "      <th>wpt_name</th>\n",
       "      <th>num_private</th>\n",
       "      <th>...</th>\n",
       "      <th>water_quality</th>\n",
       "      <th>quality_group</th>\n",
       "      <th>quantity</th>\n",
       "      <th>quantity_group</th>\n",
       "      <th>source</th>\n",
       "      <th>source_type</th>\n",
       "      <th>source_class</th>\n",
       "      <th>waterpoint_type</th>\n",
       "      <th>waterpoint_type_group</th>\n",
       "      <th>status_group</th>\n",
       "    </tr>\n",
       "  </thead>\n",
       "  <tbody>\n",
       "    <tr>\n",
       "      <th>0</th>\n",
       "      <td>69572</td>\n",
       "      <td>6000.0</td>\n",
       "      <td>2011-03-14</td>\n",
       "      <td>Roman</td>\n",
       "      <td>1390</td>\n",
       "      <td>Roman</td>\n",
       "      <td>34.938093</td>\n",
       "      <td>-9.856322</td>\n",
       "      <td>none</td>\n",
       "      <td>0</td>\n",
       "      <td>...</td>\n",
       "      <td>soft</td>\n",
       "      <td>good</td>\n",
       "      <td>enough</td>\n",
       "      <td>enough</td>\n",
       "      <td>spring</td>\n",
       "      <td>spring</td>\n",
       "      <td>groundwater</td>\n",
       "      <td>communal standpipe</td>\n",
       "      <td>communal standpipe</td>\n",
       "      <td>functional</td>\n",
       "    </tr>\n",
       "    <tr>\n",
       "      <th>1</th>\n",
       "      <td>8776</td>\n",
       "      <td>0.0</td>\n",
       "      <td>2013-03-06</td>\n",
       "      <td>Grumeti</td>\n",
       "      <td>1399</td>\n",
       "      <td>GRUMETI</td>\n",
       "      <td>34.698766</td>\n",
       "      <td>-2.147466</td>\n",
       "      <td>Zahanati</td>\n",
       "      <td>0</td>\n",
       "      <td>...</td>\n",
       "      <td>soft</td>\n",
       "      <td>good</td>\n",
       "      <td>insufficient</td>\n",
       "      <td>insufficient</td>\n",
       "      <td>rainwater harvesting</td>\n",
       "      <td>rainwater harvesting</td>\n",
       "      <td>surface</td>\n",
       "      <td>communal standpipe</td>\n",
       "      <td>communal standpipe</td>\n",
       "      <td>functional</td>\n",
       "    </tr>\n",
       "    <tr>\n",
       "      <th>2</th>\n",
       "      <td>34310</td>\n",
       "      <td>25.0</td>\n",
       "      <td>2013-02-25</td>\n",
       "      <td>Lottery Club</td>\n",
       "      <td>686</td>\n",
       "      <td>World vision</td>\n",
       "      <td>37.460664</td>\n",
       "      <td>-3.821329</td>\n",
       "      <td>Kwa Mahundi</td>\n",
       "      <td>0</td>\n",
       "      <td>...</td>\n",
       "      <td>soft</td>\n",
       "      <td>good</td>\n",
       "      <td>enough</td>\n",
       "      <td>enough</td>\n",
       "      <td>dam</td>\n",
       "      <td>dam</td>\n",
       "      <td>surface</td>\n",
       "      <td>communal standpipe multiple</td>\n",
       "      <td>communal standpipe</td>\n",
       "      <td>functional</td>\n",
       "    </tr>\n",
       "    <tr>\n",
       "      <th>3</th>\n",
       "      <td>67743</td>\n",
       "      <td>0.0</td>\n",
       "      <td>2013-01-28</td>\n",
       "      <td>Unicef</td>\n",
       "      <td>263</td>\n",
       "      <td>UNICEF</td>\n",
       "      <td>38.486161</td>\n",
       "      <td>-11.155298</td>\n",
       "      <td>Zahanati Ya Nanyumbu</td>\n",
       "      <td>0</td>\n",
       "      <td>...</td>\n",
       "      <td>soft</td>\n",
       "      <td>good</td>\n",
       "      <td>dry</td>\n",
       "      <td>dry</td>\n",
       "      <td>machine dbh</td>\n",
       "      <td>borehole</td>\n",
       "      <td>groundwater</td>\n",
       "      <td>communal standpipe multiple</td>\n",
       "      <td>communal standpipe</td>\n",
       "      <td>non functional</td>\n",
       "    </tr>\n",
       "    <tr>\n",
       "      <th>4</th>\n",
       "      <td>19728</td>\n",
       "      <td>0.0</td>\n",
       "      <td>2011-07-13</td>\n",
       "      <td>Action In A</td>\n",
       "      <td>0</td>\n",
       "      <td>Artisan</td>\n",
       "      <td>31.130847</td>\n",
       "      <td>-1.825359</td>\n",
       "      <td>Shuleni</td>\n",
       "      <td>0</td>\n",
       "      <td>...</td>\n",
       "      <td>soft</td>\n",
       "      <td>good</td>\n",
       "      <td>seasonal</td>\n",
       "      <td>seasonal</td>\n",
       "      <td>rainwater harvesting</td>\n",
       "      <td>rainwater harvesting</td>\n",
       "      <td>surface</td>\n",
       "      <td>communal standpipe</td>\n",
       "      <td>communal standpipe</td>\n",
       "      <td>functional</td>\n",
       "    </tr>\n",
       "  </tbody>\n",
       "</table>\n",
       "<p>5 rows × 41 columns</p>\n",
       "</div>"
      ],
      "text/plain": [
       "      id  amount_tsh date_recorded        funder  gps_height     installer  \\\n",
       "0  69572      6000.0    2011-03-14         Roman        1390         Roman   \n",
       "1   8776         0.0    2013-03-06       Grumeti        1399       GRUMETI   \n",
       "2  34310        25.0    2013-02-25  Lottery Club         686  World vision   \n",
       "3  67743         0.0    2013-01-28        Unicef         263        UNICEF   \n",
       "4  19728         0.0    2011-07-13   Action In A           0       Artisan   \n",
       "\n",
       "   longitude   latitude              wpt_name  num_private  ... water_quality  \\\n",
       "0  34.938093  -9.856322                  none            0  ...          soft   \n",
       "1  34.698766  -2.147466              Zahanati            0  ...          soft   \n",
       "2  37.460664  -3.821329           Kwa Mahundi            0  ...          soft   \n",
       "3  38.486161 -11.155298  Zahanati Ya Nanyumbu            0  ...          soft   \n",
       "4  31.130847  -1.825359               Shuleni            0  ...          soft   \n",
       "\n",
       "  quality_group      quantity  quantity_group                source  \\\n",
       "0          good        enough          enough                spring   \n",
       "1          good  insufficient    insufficient  rainwater harvesting   \n",
       "2          good        enough          enough                   dam   \n",
       "3          good           dry             dry           machine dbh   \n",
       "4          good      seasonal        seasonal  rainwater harvesting   \n",
       "\n",
       "            source_type source_class              waterpoint_type  \\\n",
       "0                spring  groundwater           communal standpipe   \n",
       "1  rainwater harvesting      surface           communal standpipe   \n",
       "2                   dam      surface  communal standpipe multiple   \n",
       "3              borehole  groundwater  communal standpipe multiple   \n",
       "4  rainwater harvesting      surface           communal standpipe   \n",
       "\n",
       "  waterpoint_type_group    status_group  \n",
       "0    communal standpipe      functional  \n",
       "1    communal standpipe      functional  \n",
       "2    communal standpipe      functional  \n",
       "3    communal standpipe  non functional  \n",
       "4    communal standpipe      functional  \n",
       "\n",
       "[5 rows x 41 columns]"
      ]
     },
     "execution_count": 4,
     "metadata": {},
     "output_type": "execute_result"
    }
   ],
   "source": [
    "water_pump = df1.merge(df2, how='right')\n",
    "water_pump.head()"
   ]
  },
  {
   "cell_type": "code",
   "execution_count": 5,
   "metadata": {},
   "outputs": [
    {
     "name": "stdout",
     "output_type": "stream",
     "text": [
      "<class 'pandas.core.frame.DataFrame'>\n",
      "Int64Index: 59400 entries, 0 to 59399\n",
      "Data columns (total 41 columns):\n",
      " #   Column                 Non-Null Count  Dtype  \n",
      "---  ------                 --------------  -----  \n",
      " 0   id                     59400 non-null  int64  \n",
      " 1   amount_tsh             59400 non-null  float64\n",
      " 2   date_recorded          59400 non-null  object \n",
      " 3   funder                 55765 non-null  object \n",
      " 4   gps_height             59400 non-null  int64  \n",
      " 5   installer              55745 non-null  object \n",
      " 6   longitude              59400 non-null  float64\n",
      " 7   latitude               59400 non-null  float64\n",
      " 8   wpt_name               59400 non-null  object \n",
      " 9   num_private            59400 non-null  int64  \n",
      " 10  basin                  59400 non-null  object \n",
      " 11  subvillage             59029 non-null  object \n",
      " 12  region                 59400 non-null  object \n",
      " 13  region_code            59400 non-null  int64  \n",
      " 14  district_code          59400 non-null  int64  \n",
      " 15  lga                    59400 non-null  object \n",
      " 16  ward                   59400 non-null  object \n",
      " 17  population             59400 non-null  int64  \n",
      " 18  public_meeting         56066 non-null  object \n",
      " 19  recorded_by            59400 non-null  object \n",
      " 20  scheme_management      55523 non-null  object \n",
      " 21  scheme_name            31234 non-null  object \n",
      " 22  permit                 56344 non-null  object \n",
      " 23  construction_year      59400 non-null  int64  \n",
      " 24  extraction_type        59400 non-null  object \n",
      " 25  extraction_type_group  59400 non-null  object \n",
      " 26  extraction_type_class  59400 non-null  object \n",
      " 27  management             59400 non-null  object \n",
      " 28  management_group       59400 non-null  object \n",
      " 29  payment                59400 non-null  object \n",
      " 30  payment_type           59400 non-null  object \n",
      " 31  water_quality          59400 non-null  object \n",
      " 32  quality_group          59400 non-null  object \n",
      " 33  quantity               59400 non-null  object \n",
      " 34  quantity_group         59400 non-null  object \n",
      " 35  source                 59400 non-null  object \n",
      " 36  source_type            59400 non-null  object \n",
      " 37  source_class           59400 non-null  object \n",
      " 38  waterpoint_type        59400 non-null  object \n",
      " 39  waterpoint_type_group  59400 non-null  object \n",
      " 40  status_group           59400 non-null  object \n",
      "dtypes: float64(3), int64(7), object(31)\n",
      "memory usage: 19.0+ MB\n"
     ]
    }
   ],
   "source": [
    "water_pump.info()"
   ]
  },
  {
   "cell_type": "code",
   "execution_count": 6,
   "metadata": {},
   "outputs": [
    {
     "data": {
      "text/plain": [
       "functional                 0.543081\n",
       "non functional             0.384242\n",
       "functional needs repair    0.072677\n",
       "Name: status_group, dtype: float64"
      ]
     },
     "execution_count": 6,
     "metadata": {},
     "output_type": "execute_result"
    }
   ],
   "source": [
    "water_pump['status_group'].value_counts(normalize=True)"
   ]
  },
  {
   "cell_type": "code",
   "execution_count": 7,
   "metadata": {},
   "outputs": [
    {
     "data": {
      "text/plain": [
       "id                           0\n",
       "amount_tsh                   0\n",
       "date_recorded                0\n",
       "funder                    3635\n",
       "gps_height                   0\n",
       "installer                 3655\n",
       "longitude                    0\n",
       "latitude                     0\n",
       "wpt_name                     0\n",
       "num_private                  0\n",
       "basin                        0\n",
       "subvillage                 371\n",
       "region                       0\n",
       "region_code                  0\n",
       "district_code                0\n",
       "lga                          0\n",
       "ward                         0\n",
       "population                   0\n",
       "public_meeting            3334\n",
       "recorded_by                  0\n",
       "scheme_management         3877\n",
       "scheme_name              28166\n",
       "permit                    3056\n",
       "construction_year            0\n",
       "extraction_type              0\n",
       "extraction_type_group        0\n",
       "extraction_type_class        0\n",
       "management                   0\n",
       "management_group             0\n",
       "payment                      0\n",
       "payment_type                 0\n",
       "water_quality                0\n",
       "quality_group                0\n",
       "quantity                     0\n",
       "quantity_group               0\n",
       "source                       0\n",
       "source_type                  0\n",
       "source_class                 0\n",
       "waterpoint_type              0\n",
       "waterpoint_type_group        0\n",
       "status_group                 0\n",
       "dtype: int64"
      ]
     },
     "execution_count": 7,
     "metadata": {},
     "output_type": "execute_result"
    }
   ],
   "source": [
    "water_pump.isnull().sum()"
   ]
  },
  {
   "cell_type": "code",
   "execution_count": null,
   "metadata": {},
   "outputs": [],
   "source": []
  },
  {
   "cell_type": "code",
   "execution_count": 8,
   "metadata": {},
   "outputs": [
    {
     "data": {
      "text/plain": [
       "Index(['id', 'amount_tsh', 'date_recorded', 'funder', 'gps_height',\n",
       "       'installer', 'longitude', 'latitude', 'wpt_name', 'num_private',\n",
       "       'basin', 'subvillage', 'region', 'region_code', 'district_code', 'lga',\n",
       "       'ward', 'population', 'public_meeting', 'recorded_by',\n",
       "       'scheme_management', 'scheme_name', 'permit', 'construction_year',\n",
       "       'extraction_type', 'extraction_type_group', 'extraction_type_class',\n",
       "       'management', 'management_group', 'payment', 'payment_type',\n",
       "       'water_quality', 'quality_group', 'quantity', 'quantity_group',\n",
       "       'source', 'source_type', 'source_class', 'waterpoint_type',\n",
       "       'waterpoint_type_group', 'status_group'],\n",
       "      dtype='object')"
      ]
     },
     "execution_count": 8,
     "metadata": {},
     "output_type": "execute_result"
    }
   ],
   "source": [
    "water_pump.columns"
   ]
  },
  {
   "cell_type": "code",
   "execution_count": 9,
   "metadata": {},
   "outputs": [
    {
     "name": "stdout",
     "output_type": "stream",
     "text": [
      "98\n",
      "\n",
      "\n",
      "0.0         41639\n",
      "500.0        3102\n",
      "50.0         2472\n",
      "1000.0       1488\n",
      "20.0         1463\n",
      "            ...  \n",
      "8500.0          1\n",
      "6300.0          1\n",
      "220.0           1\n",
      "138000.0        1\n",
      "12.0            1\n",
      "Name: amount_tsh, Length: 98, dtype: int64\n"
     ]
    }
   ],
   "source": [
    "print(water_pump['amount_tsh'].nunique())\n",
    "print()\n",
    "print ()\n",
    "print(water_pump['amount_tsh'].value_counts())\n"
   ]
  },
  {
   "cell_type": "code",
   "execution_count": 10,
   "metadata": {},
   "outputs": [
    {
     "name": "stdout",
     "output_type": "stream",
     "text": [
      "356\n",
      "\n",
      "\n",
      "2011-03-15    572\n",
      "2011-03-17    558\n",
      "2013-02-03    546\n",
      "2011-03-14    520\n",
      "2011-03-16    513\n",
      "             ... \n",
      "2011-09-19      1\n",
      "2011-09-20      1\n",
      "2004-04-01      1\n",
      "2002-10-14      1\n",
      "2011-09-09      1\n",
      "Name: date_recorded, Length: 356, dtype: int64\n"
     ]
    }
   ],
   "source": [
    "print(water_pump['date_recorded'].nunique())\n",
    "print()\n",
    "print()\n",
    "print(water_pump['date_recorded'].value_counts())\n",
    "#use to calculate new column age"
   ]
  },
  {
   "cell_type": "code",
   "execution_count": 11,
   "metadata": {},
   "outputs": [
    {
     "name": "stdout",
     "output_type": "stream",
     "text": [
      "1897\n",
      "\n",
      "\n",
      "Government Of Tanzania    9084\n",
      "Danida                    3114\n",
      "Hesawa                    2202\n",
      "Rwssp                     1374\n",
      "World Bank                1349\n",
      "                          ... \n",
      "Umoja                        1\n",
      "Cocu                         1\n",
      "John Fund                    1\n",
      "Villlage Contributi          1\n",
      "Scharnhorstgymnasium         1\n",
      "Name: funder, Length: 1897, dtype: int64\n"
     ]
    }
   ],
   "source": [
    "print(water_pump['funder'].nunique())\n",
    "print()\n",
    "print()\n",
    "print(water_pump['funder'].value_counts())\n",
    "#drop column"
   ]
  },
  {
   "cell_type": "code",
   "execution_count": 12,
   "metadata": {},
   "outputs": [
    {
     "name": "stdout",
     "output_type": "stream",
     "text": [
      "2428\n",
      "\n",
      "\n",
      " 0       20438\n",
      "-15         60\n",
      "-16         55\n",
      "-13         55\n",
      "-20         52\n",
      "         ...  \n",
      " 2285        1\n",
      " 2424        1\n",
      " 2552        1\n",
      " 2413        1\n",
      " 2385        1\n",
      "Name: gps_height, Length: 2428, dtype: int64\n"
     ]
    }
   ],
   "source": [
    "print(water_pump['gps_height'].nunique())\n",
    "print()\n",
    "print()\n",
    "print(water_pump['gps_height'].value_counts())\n",
    "#lots of unknown/zero values - we think zero is important"
   ]
  },
  {
   "cell_type": "code",
   "execution_count": 13,
   "metadata": {},
   "outputs": [
    {
     "name": "stdout",
     "output_type": "stream",
     "text": [
      "2145\n",
      "\n",
      "\n",
      "DWE                17402\n",
      "Government          1825\n",
      "RWE                 1206\n",
      "Commu               1060\n",
      "DANIDA              1050\n",
      "                   ...  \n",
      "Daniel                 1\n",
      "RWI                    1\n",
      "Private company        1\n",
      "AQUA WEL               1\n",
      "ABDALA                 1\n",
      "Name: installer, Length: 2145, dtype: int64\n"
     ]
    }
   ],
   "source": [
    "print(water_pump['installer'].nunique())\n",
    "print()\n",
    "print()\n",
    "print(water_pump['installer'].value_counts())\n",
    "#use'unknown'\n",
    "#create org_less_50_install"
   ]
  },
  {
   "cell_type": "code",
   "execution_count": 14,
   "metadata": {},
   "outputs": [
    {
     "name": "stdout",
     "output_type": "stream",
     "text": [
      "57516\n",
      "\n",
      "\n",
      "0.000000     1812\n",
      "37.540901       2\n",
      "33.010510       2\n",
      "39.093484       2\n",
      "32.972719       2\n",
      "             ... \n",
      "37.579803       1\n",
      "33.196490       1\n",
      "34.017119       1\n",
      "33.788326       1\n",
      "30.163579       1\n",
      "Name: longitude, Length: 57516, dtype: int64\n"
     ]
    }
   ],
   "source": [
    "print(water_pump['longitude'].nunique())\n",
    "print()\n",
    "print()\n",
    "print(water_pump['longitude'].value_counts())\n",
    "#use to map location"
   ]
  },
  {
   "cell_type": "code",
   "execution_count": 15,
   "metadata": {},
   "outputs": [
    {
     "name": "stdout",
     "output_type": "stream",
     "text": [
      "57517\n",
      "\n",
      "\n",
      "-2.000000e-08    1812\n",
      "-6.985842e+00       2\n",
      "-3.797579e+00       2\n",
      "-6.981884e+00       2\n",
      "-7.104625e+00       2\n",
      "                 ... \n",
      "-5.726001e+00       1\n",
      "-9.646831e+00       1\n",
      "-8.124530e+00       1\n",
      "-2.535985e+00       1\n",
      "-2.598965e+00       1\n",
      "Name: latitude, Length: 57517, dtype: int64\n"
     ]
    }
   ],
   "source": [
    "print(water_pump['latitude'].nunique())\n",
    "print()\n",
    "print()\n",
    "print(water_pump['latitude'].value_counts())\n",
    "#use to map location"
   ]
  },
  {
   "cell_type": "code",
   "execution_count": 16,
   "metadata": {},
   "outputs": [
    {
     "name": "stdout",
     "output_type": "stream",
     "text": [
      "9\n",
      "\n",
      "\n",
      "Lake Victoria              10248\n",
      "Pangani                     8940\n",
      "Rufiji                      7976\n",
      "Internal                    7785\n",
      "Lake Tanganyika             6432\n",
      "Wami / Ruvu                 5987\n",
      "Lake Nyasa                  5085\n",
      "Ruvuma / Southern Coast     4493\n",
      "Lake Rukwa                  2454\n",
      "Name: basin, dtype: int64\n"
     ]
    }
   ],
   "source": [
    "print(water_pump['basin'].nunique())\n",
    "print()\n",
    "print()\n",
    "print(water_pump['basin'].value_counts())"
   ]
  },
  {
   "cell_type": "code",
   "execution_count": 17,
   "metadata": {},
   "outputs": [
    {
     "name": "stdout",
     "output_type": "stream",
     "text": [
      "19287\n",
      "\n",
      "\n",
      "Madukani      508\n",
      "Shuleni       506\n",
      "Majengo       502\n",
      "Kati          373\n",
      "Mtakuja       262\n",
      "             ... \n",
      "Mwajupi         1\n",
      "Nyonga          1\n",
      "Idekamiso       1\n",
      "Mwambuluko      1\n",
      "Senje           1\n",
      "Name: subvillage, Length: 19287, dtype: int64\n"
     ]
    }
   ],
   "source": [
    "print(water_pump['subvillage'].nunique())\n",
    "print()\n",
    "print()\n",
    "print(water_pump['subvillage'].value_counts())\n",
    "#has almost 20,000 responses - some numbers and some words\n",
    "#drop column"
   ]
  },
  {
   "cell_type": "code",
   "execution_count": 18,
   "metadata": {},
   "outputs": [
    {
     "name": "stdout",
     "output_type": "stream",
     "text": [
      "21\n",
      "\n",
      "\n",
      "Iringa           5294\n",
      "Shinyanga        4982\n",
      "Mbeya            4639\n",
      "Kilimanjaro      4379\n",
      "Morogoro         4006\n",
      "Arusha           3350\n",
      "Kagera           3316\n",
      "Mwanza           3102\n",
      "Kigoma           2816\n",
      "Ruvuma           2640\n",
      "Pwani            2635\n",
      "Tanga            2547\n",
      "Dodoma           2201\n",
      "Singida          2093\n",
      "Mara             1969\n",
      "Tabora           1959\n",
      "Rukwa            1808\n",
      "Mtwara           1730\n",
      "Manyara          1583\n",
      "Lindi            1546\n",
      "Dar es Salaam     805\n",
      "Name: region, dtype: int64\n"
     ]
    }
   ],
   "source": [
    "print(water_pump['region'].nunique())\n",
    "print()\n",
    "print()\n",
    "print(water_pump['region'].value_counts())"
   ]
  },
  {
   "cell_type": "code",
   "execution_count": 55,
   "metadata": {},
   "outputs": [
    {
     "name": "stdout",
     "output_type": "stream",
     "text": [
      "27\n",
      "\n",
      "\n",
      "11    5300\n",
      "17    5011\n",
      "12    4639\n",
      "3     4379\n",
      "5     4040\n",
      "18    3324\n",
      "19    3046\n",
      "2     3024\n",
      "16    2816\n",
      "10    2640\n",
      "4     2513\n",
      "1     2201\n",
      "13    2093\n",
      "14    1979\n",
      "20    1969\n",
      "15    1808\n",
      "6     1609\n",
      "21    1583\n",
      "80    1238\n",
      "60    1025\n",
      "90     917\n",
      "7      805\n",
      "99     423\n",
      "9      390\n",
      "24     326\n",
      "8      300\n",
      "40       1\n",
      "Name: region_code, dtype: Int64\n"
     ]
    }
   ],
   "source": [
    "print(water_pump['region_code'].nunique())\n",
    "print()\n",
    "print()\n",
    "print(water_pump['region_code'].value_counts())\n",
    "\n",
    "water_pump['region_code'] = water_pump['region_code'].astype('str')"
   ]
  },
  {
   "cell_type": "code",
   "execution_count": 20,
   "metadata": {},
   "outputs": [
    {
     "name": "stdout",
     "output_type": "stream",
     "text": [
      "20\n",
      "\n",
      "\n",
      "1     12203\n",
      "2     11173\n",
      "3      9998\n",
      "4      8999\n",
      "5      4356\n",
      "6      4074\n",
      "7      3343\n",
      "8      1043\n",
      "30      995\n",
      "33      874\n",
      "53      745\n",
      "43      505\n",
      "13      391\n",
      "23      293\n",
      "63      195\n",
      "62      109\n",
      "60       63\n",
      "0        23\n",
      "80       12\n",
      "67        6\n",
      "Name: district_code, dtype: int64\n"
     ]
    }
   ],
   "source": [
    "print(water_pump['district_code'].nunique())\n",
    "print()\n",
    "print()\n",
    "print(water_pump['district_code'].value_counts())\n",
    "#drop"
   ]
  },
  {
   "cell_type": "code",
   "execution_count": 21,
   "metadata": {},
   "outputs": [
    {
     "name": "stdout",
     "output_type": "stream",
     "text": [
      "125\n",
      "\n",
      "\n",
      "Njombe          2503\n",
      "Arusha Rural    1252\n",
      "Moshi Rural     1251\n",
      "Bariadi         1177\n",
      "Rungwe          1106\n",
      "                ... \n",
      "Moshi Urban       79\n",
      "Kigoma Urban      71\n",
      "Arusha Urban      63\n",
      "Lindi Urban       21\n",
      "Nyamagana          1\n",
      "Name: lga, Length: 125, dtype: int64\n"
     ]
    }
   ],
   "source": [
    "print(water_pump['lga'].nunique())\n",
    "print()\n",
    "print()\n",
    "print(water_pump['lga'].value_counts())\n",
    "#drop Nyamagana\n",
    "water_pump.drop(water_pump[water_pump['lga'] == 'Nyamagana'].index, inplace = True)\n",
    "#group together Moshi Urban, Kigoma Urban, Arusha Urban, Lindi Urban as other urban"
   ]
  },
  {
   "cell_type": "code",
   "execution_count": 22,
   "metadata": {},
   "outputs": [
    {
     "name": "stdout",
     "output_type": "stream",
     "text": [
      "2091\n",
      "\n",
      "\n",
      "Igosi        307\n",
      "Imalinyi     252\n",
      "Siha Kati    232\n",
      "Mdandu       231\n",
      "Nduruma      217\n",
      "            ... \n",
      "Linda          1\n",
      "Simbay         1\n",
      "Burungura      1\n",
      "Kirongo        1\n",
      "Ifinga         1\n",
      "Name: ward, Length: 2091, dtype: int64\n"
     ]
    }
   ],
   "source": [
    "print(water_pump['ward'].nunique())\n",
    "print()\n",
    "print()\n",
    "print(water_pump['ward'].value_counts())\n",
    "#drop"
   ]
  },
  {
   "cell_type": "code",
   "execution_count": 23,
   "metadata": {},
   "outputs": [
    {
     "name": "stdout",
     "output_type": "stream",
     "text": [
      "1049\n",
      "\n",
      "\n",
      "0       21380\n",
      "1        7025\n",
      "200      1940\n",
      "150      1892\n",
      "250      1681\n",
      "        ...  \n",
      "3241        1\n",
      "1960        1\n",
      "1685        1\n",
      "2248        1\n",
      "1439        1\n",
      "Name: population, Length: 1049, dtype: int64\n"
     ]
    }
   ],
   "source": [
    "print(water_pump['population'].nunique())\n",
    "print()\n",
    "print()\n",
    "print(water_pump['population'].value_counts())\n",
    "\n",
    "water_pump['population'].replace(to_replace=0, value=np.nan, inplace=True)"
   ]
  },
  {
   "cell_type": "code",
   "execution_count": 24,
   "metadata": {},
   "outputs": [
    {
     "name": "stdout",
     "output_type": "stream",
     "text": [
      "2\n",
      "\n",
      "\n",
      "True     51010\n",
      "False     5055\n",
      "Name: public_meeting, dtype: int64\n"
     ]
    }
   ],
   "source": [
    "print(water_pump['public_meeting'].nunique())\n",
    "print()\n",
    "print()\n",
    "print(water_pump['public_meeting'].value_counts())\n",
    "#doesnt seem like it would be relevant"
   ]
  },
  {
   "cell_type": "code",
   "execution_count": 25,
   "metadata": {},
   "outputs": [
    {
     "name": "stdout",
     "output_type": "stream",
     "text": [
      "12\n",
      "\n",
      "\n",
      "VWC                 36792\n",
      "WUG                  5206\n",
      "Water authority      3153\n",
      "WUA                  2883\n",
      "Water Board          2748\n",
      "Parastatal           1680\n",
      "Private operator     1063\n",
      "Company              1061\n",
      "Other                 766\n",
      "SWC                    97\n",
      "Trust                  72\n",
      "None                    1\n",
      "Name: scheme_management, dtype: int64\n"
     ]
    }
   ],
   "source": [
    "print(water_pump['scheme_management'].nunique())\n",
    "print()\n",
    "print()\n",
    "print(water_pump['scheme_management'].value_counts())\n",
    "#change non \n",
    "water_pump['scheme_management'] = water_pump['scheme_management'].replace(\"None\", \"Other\")\n"
   ]
  },
  {
   "cell_type": "code",
   "execution_count": 26,
   "metadata": {},
   "outputs": [
    {
     "name": "stdout",
     "output_type": "stream",
     "text": [
      "2696\n",
      "\n",
      "\n",
      "K                              682\n",
      "None                           644\n",
      "Borehole                       546\n",
      "Chalinze wate                  405\n",
      "M                              400\n",
      "                              ... \n",
      "Individuals                      1\n",
      "KKKT Water Project               1\n",
      "lgongolo gravity water sche      1\n",
      "Ikovo                            1\n",
      "Mafuriko Water Suppl             1\n",
      "Name: scheme_name, Length: 2696, dtype: int64\n"
     ]
    }
   ],
   "source": [
    "print(water_pump['scheme_name'].nunique())\n",
    "print()\n",
    "print()\n",
    "print(water_pump['scheme_name'].value_counts())\n",
    "#drop col\n",
    "#28000 missing values"
   ]
  },
  {
   "cell_type": "code",
   "execution_count": 27,
   "metadata": {},
   "outputs": [
    {
     "name": "stdout",
     "output_type": "stream",
     "text": [
      "2\n",
      "\n",
      "\n",
      "True     38851\n",
      "False    17492\n",
      "Name: permit, dtype: int64\n"
     ]
    }
   ],
   "source": [
    "print(water_pump['permit'].nunique())\n",
    "print()\n",
    "print()\n",
    "print(water_pump['permit'].value_counts())\n",
    "# has 3056 empty values, \n"
   ]
  },
  {
   "cell_type": "code",
   "execution_count": 28,
   "metadata": {},
   "outputs": [
    {
     "data": {
      "text/plain": [
       "status_group             permit\n",
       "functional               True      0.704276\n",
       "                         False     0.295724\n",
       "functional needs repair  True      0.671397\n",
       "                         False     0.328603\n",
       "non functional           True      0.672171\n",
       "                         False     0.327829\n",
       "Name: permit, dtype: float64"
      ]
     },
     "execution_count": 28,
     "metadata": {},
     "output_type": "execute_result"
    }
   ],
   "source": [
    "water_pump['permit'].groupby(water_pump['status_group']).value_counts(normalize=True)"
   ]
  },
  {
   "cell_type": "code",
   "execution_count": 29,
   "metadata": {},
   "outputs": [
    {
     "name": "stdout",
     "output_type": "stream",
     "text": [
      "55\n",
      "\n",
      "\n",
      "0       20708\n",
      "2010     2645\n",
      "2008     2613\n",
      "2009     2533\n",
      "2000     2091\n",
      "2007     1587\n",
      "2006     1471\n",
      "2003     1286\n",
      "2011     1256\n",
      "2004     1123\n",
      "2012     1084\n",
      "2002     1075\n",
      "1978     1037\n",
      "1995     1014\n",
      "2005     1011\n",
      "1999      979\n",
      "1998      966\n",
      "1990      954\n",
      "1985      945\n",
      "1980      811\n",
      "1996      811\n",
      "1984      779\n",
      "1982      744\n",
      "1994      738\n",
      "1972      708\n",
      "1974      676\n",
      "1997      644\n",
      "1992      640\n",
      "1993      608\n",
      "2001      540\n",
      "1988      521\n",
      "1983      488\n",
      "1975      437\n",
      "1986      434\n",
      "1976      414\n",
      "1970      411\n",
      "1991      324\n",
      "1989      316\n",
      "1987      302\n",
      "1981      238\n",
      "1977      202\n",
      "1979      192\n",
      "1973      184\n",
      "2013      176\n",
      "1971      145\n",
      "1960      102\n",
      "1967       88\n",
      "1963       85\n",
      "1968       77\n",
      "1969       59\n",
      "1964       40\n",
      "1962       30\n",
      "1961       21\n",
      "1965       19\n",
      "1966       17\n",
      "Name: construction_year, dtype: int64\n"
     ]
    }
   ],
   "source": [
    "print(water_pump['construction_year'].nunique())\n",
    "print()\n",
    "print()\n",
    "print(water_pump['construction_year'].value_counts())\n",
    "#lots of unknown/zero values - 20709\n",
    "#use 'unnknown'\n",
    "#group together 1960-1969"
   ]
  },
  {
   "cell_type": "code",
   "execution_count": 30,
   "metadata": {},
   "outputs": [
    {
     "name": "stdout",
     "output_type": "stream",
     "text": [
      "18\n",
      "\n",
      "\n",
      "gravity                      26780\n",
      "nira/tanira                   8153\n",
      "other                         6430\n",
      "submersible                   4764\n",
      "swn 80                        3670\n",
      "mono                          2865\n",
      "india mark ii                 2400\n",
      "afridev                       1770\n",
      "ksb                           1415\n",
      "other - rope pump              451\n",
      "other - swn 81                 229\n",
      "windmill                       117\n",
      "india mark iii                  98\n",
      "cemo                            90\n",
      "other - play pump               85\n",
      "walimi                          48\n",
      "climax                          32\n",
      "other - mkulima/shinyanga        2\n",
      "Name: extraction_type, dtype: int64\n"
     ]
    }
   ],
   "source": [
    "print(water_pump['extraction_type'].nunique())\n",
    "print()\n",
    "print()\n",
    "print(water_pump['extraction_type'].value_counts())\n",
    "#drop - will use extraction type group"
   ]
  },
  {
   "cell_type": "code",
   "execution_count": 31,
   "metadata": {},
   "outputs": [
    {
     "name": "stdout",
     "output_type": "stream",
     "text": [
      "13\n",
      "\n",
      "\n",
      "gravity            26780\n",
      "nira/tanira         8153\n",
      "other               6430\n",
      "submersible         6179\n",
      "swn 80              3670\n",
      "mono                2865\n",
      "india mark ii       2400\n",
      "afridev             1770\n",
      "rope pump            451\n",
      "other handpump       364\n",
      "other motorpump      122\n",
      "wind-powered         117\n",
      "india mark iii        98\n",
      "Name: extraction_type_group, dtype: int64\n"
     ]
    }
   ],
   "source": [
    "print(water_pump['extraction_type_group'].nunique())\n",
    "print()\n",
    "print()\n",
    "print(water_pump['extraction_type_group'].value_counts())"
   ]
  },
  {
   "cell_type": "code",
   "execution_count": 32,
   "metadata": {},
   "outputs": [
    {
     "name": "stdout",
     "output_type": "stream",
     "text": [
      "7\n",
      "\n",
      "\n",
      "gravity         26780\n",
      "handpump        16455\n",
      "other            6430\n",
      "submersible      6179\n",
      "motorpump        2987\n",
      "rope pump         451\n",
      "wind-powered      117\n",
      "Name: extraction_type_class, dtype: int64\n"
     ]
    }
   ],
   "source": [
    "print(water_pump['extraction_type_class'].nunique())\n",
    "print()\n",
    "print()\n",
    "print(water_pump['extraction_type_class'].value_counts())"
   ]
  },
  {
   "cell_type": "code",
   "execution_count": 33,
   "metadata": {},
   "outputs": [
    {
     "name": "stdout",
     "output_type": "stream",
     "text": [
      "12\n",
      "\n",
      "\n",
      "vwc                 40506\n",
      "wug                  6515\n",
      "water board          2933\n",
      "wua                  2535\n",
      "private operator     1971\n",
      "parastatal           1768\n",
      "water authority       904\n",
      "other                 844\n",
      "company               685\n",
      "unknown               561\n",
      "other - school         99\n",
      "trust                  78\n",
      "Name: management, dtype: int64\n"
     ]
    }
   ],
   "source": [
    "print(water_pump['management'].nunique())\n",
    "print()\n",
    "print()\n",
    "print(water_pump['management'].value_counts())"
   ]
  },
  {
   "cell_type": "code",
   "execution_count": 34,
   "metadata": {},
   "outputs": [
    {
     "name": "stdout",
     "output_type": "stream",
     "text": [
      "5\n",
      "\n",
      "\n",
      "user-group    52489\n",
      "commercial     3638\n",
      "parastatal     1768\n",
      "other           943\n",
      "unknown         561\n",
      "Name: management_group, dtype: int64\n"
     ]
    }
   ],
   "source": [
    "print(water_pump['management_group'].nunique())\n",
    "print()\n",
    "print()\n",
    "print(water_pump['management_group'].value_counts())"
   ]
  },
  {
   "cell_type": "code",
   "execution_count": 35,
   "metadata": {},
   "outputs": [
    {
     "name": "stdout",
     "output_type": "stream",
     "text": [
      "7\n",
      "\n",
      "\n",
      "never pay                25347\n",
      "pay per bucket            8985\n",
      "pay monthly               8300\n",
      "unknown                   8157\n",
      "pay when scheme fails     3914\n",
      "pay annually              3642\n",
      "other                     1054\n",
      "Name: payment, dtype: int64\n"
     ]
    }
   ],
   "source": [
    "print(water_pump['payment'].nunique())\n",
    "print()\n",
    "print()\n",
    "print(water_pump['payment'].value_counts())"
   ]
  },
  {
   "cell_type": "code",
   "execution_count": 36,
   "metadata": {},
   "outputs": [
    {
     "name": "stdout",
     "output_type": "stream",
     "text": [
      "7\n",
      "\n",
      "\n",
      "never pay     25347\n",
      "per bucket     8985\n",
      "monthly        8300\n",
      "unknown        8157\n",
      "on failure     3914\n",
      "annually       3642\n",
      "other          1054\n",
      "Name: payment_type, dtype: int64\n"
     ]
    }
   ],
   "source": [
    "print(water_pump['payment_type'].nunique())\n",
    "print()\n",
    "print()\n",
    "print(water_pump['payment_type'].value_counts())\n",
    "#drop - same values as payment feature"
   ]
  },
  {
   "cell_type": "code",
   "execution_count": 37,
   "metadata": {},
   "outputs": [
    {
     "name": "stdout",
     "output_type": "stream",
     "text": [
      "8\n",
      "\n",
      "\n",
      "soft                  50817\n",
      "salty                  4856\n",
      "unknown                1876\n",
      "milky                   804\n",
      "coloured                490\n",
      "salty abandoned         339\n",
      "fluoride                200\n",
      "fluoride abandoned       17\n",
      "Name: water_quality, dtype: int64\n"
     ]
    }
   ],
   "source": [
    "print(water_pump['water_quality'].nunique())\n",
    "print()\n",
    "print()\n",
    "print(water_pump['water_quality'].value_counts())\n",
    "#drop"
   ]
  },
  {
   "cell_type": "code",
   "execution_count": 38,
   "metadata": {},
   "outputs": [
    {
     "name": "stdout",
     "output_type": "stream",
     "text": [
      "6\n",
      "\n",
      "\n",
      "good        50817\n",
      "salty        5195\n",
      "unknown      1876\n",
      "milky         804\n",
      "colored       490\n",
      "fluoride      217\n",
      "Name: quality_group, dtype: int64\n"
     ]
    }
   ],
   "source": [
    "print(water_pump['quality_group'].nunique())\n",
    "print()\n",
    "print()\n",
    "print(water_pump['quality_group'].value_counts())\n",
    "#water_quality and quality_group are similar: the quality_group just groups the salty \n",
    "#and flouride together, soft is same as good. "
   ]
  },
  {
   "cell_type": "code",
   "execution_count": 39,
   "metadata": {},
   "outputs": [
    {
     "name": "stdout",
     "output_type": "stream",
     "text": [
      "5\n",
      "\n",
      "\n",
      "enough          33185\n",
      "insufficient    15129\n",
      "dry              6246\n",
      "seasonal         4050\n",
      "unknown           789\n",
      "Name: quantity, dtype: int64\n"
     ]
    }
   ],
   "source": [
    "print(water_pump['quantity'].nunique())\n",
    "print()\n",
    "print()\n",
    "print(water_pump['quantity'].value_counts())"
   ]
  },
  {
   "cell_type": "code",
   "execution_count": 40,
   "metadata": {},
   "outputs": [
    {
     "name": "stdout",
     "output_type": "stream",
     "text": [
      "5\n",
      "\n",
      "\n",
      "enough          33185\n",
      "insufficient    15129\n",
      "dry              6246\n",
      "seasonal         4050\n",
      "unknown           789\n",
      "Name: quantity_group, dtype: int64\n"
     ]
    }
   ],
   "source": [
    "print(water_pump['quantity_group'].nunique())\n",
    "print()\n",
    "print()\n",
    "print(water_pump['quantity_group'].value_counts())\n",
    "#drop same as quantity feature"
   ]
  },
  {
   "cell_type": "code",
   "execution_count": 41,
   "metadata": {},
   "outputs": [
    {
     "name": "stdout",
     "output_type": "stream",
     "text": [
      "10\n",
      "\n",
      "\n",
      "spring                  17021\n",
      "shallow well            16823\n",
      "machine dbh             11075\n",
      "river                    9612\n",
      "rainwater harvesting     2295\n",
      "hand dtw                  874\n",
      "lake                      765\n",
      "dam                       656\n",
      "other                     212\n",
      "unknown                    66\n",
      "Name: source, dtype: int64\n"
     ]
    }
   ],
   "source": [
    "print(water_pump['source'].nunique())\n",
    "print()\n",
    "print()\n",
    "print(water_pump['source'].value_counts())"
   ]
  },
  {
   "cell_type": "code",
   "execution_count": 42,
   "metadata": {},
   "outputs": [
    {
     "name": "stdout",
     "output_type": "stream",
     "text": [
      "7\n",
      "\n",
      "\n",
      "spring                  17021\n",
      "shallow well            16823\n",
      "borehole                11949\n",
      "river/lake              10377\n",
      "rainwater harvesting     2295\n",
      "dam                       656\n",
      "other                     278\n",
      "Name: source_type, dtype: int64\n"
     ]
    }
   ],
   "source": [
    "print(water_pump['source_type'].nunique())\n",
    "print()\n",
    "print()\n",
    "print(water_pump['source_type'].value_counts())\n",
    "#drop, same as source feature just grouped differently"
   ]
  },
  {
   "cell_type": "code",
   "execution_count": 43,
   "metadata": {},
   "outputs": [
    {
     "name": "stdout",
     "output_type": "stream",
     "text": [
      "3\n",
      "\n",
      "\n",
      "groundwater    45793\n",
      "surface        13328\n",
      "unknown          278\n",
      "Name: source_class, dtype: int64\n"
     ]
    }
   ],
   "source": [
    "print(water_pump['source_class'].nunique())\n",
    "print()\n",
    "print()\n",
    "print(water_pump['source_class'].value_counts())"
   ]
  },
  {
   "cell_type": "code",
   "execution_count": 44,
   "metadata": {},
   "outputs": [
    {
     "data": {
      "text/plain": [
       "status_group             source_class\n",
       "functional               groundwater     0.769863\n",
       "                         surface         0.225239\n",
       "                         unknown         0.004898\n",
       "functional needs repair  groundwater     0.634932\n",
       "                         surface         0.363910\n",
       "                         unknown         0.001158\n",
       "non functional           groundwater     0.798186\n",
       "                         surface         0.196775\n",
       "                         unknown         0.005039\n",
       "Name: source_class, dtype: float64"
      ]
     },
     "execution_count": 44,
     "metadata": {},
     "output_type": "execute_result"
    }
   ],
   "source": [
    "water_pump['source_class'].groupby(water_pump['status_group']).value_counts(normalize=True)"
   ]
  },
  {
   "cell_type": "code",
   "execution_count": 45,
   "metadata": {},
   "outputs": [
    {
     "name": "stdout",
     "output_type": "stream",
     "text": [
      "7\n",
      "\n",
      "\n",
      "communal standpipe             28522\n",
      "hand pump                      17487\n",
      "other                           6380\n",
      "communal standpipe multiple     6103\n",
      "improved spring                  784\n",
      "cattle trough                    116\n",
      "dam                                7\n",
      "Name: waterpoint_type, dtype: int64\n"
     ]
    }
   ],
   "source": [
    "print(water_pump['waterpoint_type'].nunique())\n",
    "print()\n",
    "print()\n",
    "print(water_pump['waterpoint_type'].value_counts())"
   ]
  },
  {
   "cell_type": "code",
   "execution_count": 46,
   "metadata": {},
   "outputs": [
    {
     "name": "stdout",
     "output_type": "stream",
     "text": [
      "6\n",
      "\n",
      "\n",
      "communal standpipe    34625\n",
      "hand pump             17487\n",
      "other                  6380\n",
      "improved spring         784\n",
      "cattle trough           116\n",
      "dam                       7\n",
      "Name: waterpoint_type_group, dtype: int64\n"
     ]
    }
   ],
   "source": [
    "print(water_pump['waterpoint_type_group'].nunique())\n",
    "print()\n",
    "print()\n",
    "print(water_pump['waterpoint_type_group'].value_counts())\n",
    "#drop - waterpoint type does a better job of grouping communal standpipes\n",
    "# and multiple communal standpipes"
   ]
  },
  {
   "cell_type": "code",
   "execution_count": null,
   "metadata": {},
   "outputs": [],
   "source": []
  },
  {
   "cell_type": "code",
   "execution_count": 47,
   "metadata": {},
   "outputs": [],
   "source": [
    "water_pump['construction_year'].replace(to_replace=0, value=np.nan, inplace=True)\n",
    "water_pump[\"unknown_construction_yr\"] = water_pump[\"construction_year\"].isnull()"
   ]
  },
  {
   "cell_type": "code",
   "execution_count": 48,
   "metadata": {},
   "outputs": [
    {
     "data": {
      "text/plain": [
       "20708"
      ]
     },
     "execution_count": 48,
     "metadata": {},
     "output_type": "execute_result"
    }
   ],
   "source": [
    "water_pump['construction_year'].isnull().sum()"
   ]
  },
  {
   "cell_type": "code",
   "execution_count": 49,
   "metadata": {},
   "outputs": [
    {
     "data": {
      "text/html": [
       "<div>\n",
       "<style scoped>\n",
       "    .dataframe tbody tr th:only-of-type {\n",
       "        vertical-align: middle;\n",
       "    }\n",
       "\n",
       "    .dataframe tbody tr th {\n",
       "        vertical-align: top;\n",
       "    }\n",
       "\n",
       "    .dataframe thead th {\n",
       "        text-align: right;\n",
       "    }\n",
       "</style>\n",
       "<table border=\"1\" class=\"dataframe\">\n",
       "  <thead>\n",
       "    <tr style=\"text-align: right;\">\n",
       "      <th></th>\n",
       "      <th>id</th>\n",
       "      <th>amount_tsh</th>\n",
       "      <th>date_recorded</th>\n",
       "      <th>funder</th>\n",
       "      <th>gps_height</th>\n",
       "      <th>installer</th>\n",
       "      <th>longitude</th>\n",
       "      <th>latitude</th>\n",
       "      <th>wpt_name</th>\n",
       "      <th>num_private</th>\n",
       "      <th>...</th>\n",
       "      <th>quantity</th>\n",
       "      <th>quantity_group</th>\n",
       "      <th>source</th>\n",
       "      <th>source_type</th>\n",
       "      <th>source_class</th>\n",
       "      <th>waterpoint_type</th>\n",
       "      <th>waterpoint_type_group</th>\n",
       "      <th>status_group</th>\n",
       "      <th>unknown_construction_yr</th>\n",
       "      <th>age_at_inspection</th>\n",
       "    </tr>\n",
       "  </thead>\n",
       "  <tbody>\n",
       "    <tr>\n",
       "      <th>0</th>\n",
       "      <td>69572</td>\n",
       "      <td>6000.0</td>\n",
       "      <td>2011-03-14</td>\n",
       "      <td>Roman</td>\n",
       "      <td>1390</td>\n",
       "      <td>Roman</td>\n",
       "      <td>34.938093</td>\n",
       "      <td>-9.856322</td>\n",
       "      <td>none</td>\n",
       "      <td>0</td>\n",
       "      <td>...</td>\n",
       "      <td>enough</td>\n",
       "      <td>enough</td>\n",
       "      <td>spring</td>\n",
       "      <td>spring</td>\n",
       "      <td>groundwater</td>\n",
       "      <td>communal standpipe</td>\n",
       "      <td>communal standpipe</td>\n",
       "      <td>functional</td>\n",
       "      <td>False</td>\n",
       "      <td>12.0</td>\n",
       "    </tr>\n",
       "    <tr>\n",
       "      <th>1</th>\n",
       "      <td>8776</td>\n",
       "      <td>0.0</td>\n",
       "      <td>2013-03-06</td>\n",
       "      <td>Grumeti</td>\n",
       "      <td>1399</td>\n",
       "      <td>GRUMETI</td>\n",
       "      <td>34.698766</td>\n",
       "      <td>-2.147466</td>\n",
       "      <td>Zahanati</td>\n",
       "      <td>0</td>\n",
       "      <td>...</td>\n",
       "      <td>insufficient</td>\n",
       "      <td>insufficient</td>\n",
       "      <td>rainwater harvesting</td>\n",
       "      <td>rainwater harvesting</td>\n",
       "      <td>surface</td>\n",
       "      <td>communal standpipe</td>\n",
       "      <td>communal standpipe</td>\n",
       "      <td>functional</td>\n",
       "      <td>False</td>\n",
       "      <td>3.0</td>\n",
       "    </tr>\n",
       "    <tr>\n",
       "      <th>2</th>\n",
       "      <td>34310</td>\n",
       "      <td>25.0</td>\n",
       "      <td>2013-02-25</td>\n",
       "      <td>Lottery Club</td>\n",
       "      <td>686</td>\n",
       "      <td>World vision</td>\n",
       "      <td>37.460664</td>\n",
       "      <td>-3.821329</td>\n",
       "      <td>Kwa Mahundi</td>\n",
       "      <td>0</td>\n",
       "      <td>...</td>\n",
       "      <td>enough</td>\n",
       "      <td>enough</td>\n",
       "      <td>dam</td>\n",
       "      <td>dam</td>\n",
       "      <td>surface</td>\n",
       "      <td>communal standpipe multiple</td>\n",
       "      <td>communal standpipe</td>\n",
       "      <td>functional</td>\n",
       "      <td>False</td>\n",
       "      <td>4.0</td>\n",
       "    </tr>\n",
       "    <tr>\n",
       "      <th>3</th>\n",
       "      <td>67743</td>\n",
       "      <td>0.0</td>\n",
       "      <td>2013-01-28</td>\n",
       "      <td>Unicef</td>\n",
       "      <td>263</td>\n",
       "      <td>UNICEF</td>\n",
       "      <td>38.486161</td>\n",
       "      <td>-11.155298</td>\n",
       "      <td>Zahanati Ya Nanyumbu</td>\n",
       "      <td>0</td>\n",
       "      <td>...</td>\n",
       "      <td>dry</td>\n",
       "      <td>dry</td>\n",
       "      <td>machine dbh</td>\n",
       "      <td>borehole</td>\n",
       "      <td>groundwater</td>\n",
       "      <td>communal standpipe multiple</td>\n",
       "      <td>communal standpipe</td>\n",
       "      <td>non functional</td>\n",
       "      <td>False</td>\n",
       "      <td>27.0</td>\n",
       "    </tr>\n",
       "    <tr>\n",
       "      <th>4</th>\n",
       "      <td>19728</td>\n",
       "      <td>0.0</td>\n",
       "      <td>2011-07-13</td>\n",
       "      <td>Action In A</td>\n",
       "      <td>0</td>\n",
       "      <td>Artisan</td>\n",
       "      <td>31.130847</td>\n",
       "      <td>-1.825359</td>\n",
       "      <td>Shuleni</td>\n",
       "      <td>0</td>\n",
       "      <td>...</td>\n",
       "      <td>seasonal</td>\n",
       "      <td>seasonal</td>\n",
       "      <td>rainwater harvesting</td>\n",
       "      <td>rainwater harvesting</td>\n",
       "      <td>surface</td>\n",
       "      <td>communal standpipe</td>\n",
       "      <td>communal standpipe</td>\n",
       "      <td>functional</td>\n",
       "      <td>True</td>\n",
       "      <td>NaN</td>\n",
       "    </tr>\n",
       "    <tr>\n",
       "      <th>...</th>\n",
       "      <td>...</td>\n",
       "      <td>...</td>\n",
       "      <td>...</td>\n",
       "      <td>...</td>\n",
       "      <td>...</td>\n",
       "      <td>...</td>\n",
       "      <td>...</td>\n",
       "      <td>...</td>\n",
       "      <td>...</td>\n",
       "      <td>...</td>\n",
       "      <td>...</td>\n",
       "      <td>...</td>\n",
       "      <td>...</td>\n",
       "      <td>...</td>\n",
       "      <td>...</td>\n",
       "      <td>...</td>\n",
       "      <td>...</td>\n",
       "      <td>...</td>\n",
       "      <td>...</td>\n",
       "      <td>...</td>\n",
       "      <td>...</td>\n",
       "    </tr>\n",
       "    <tr>\n",
       "      <th>59395</th>\n",
       "      <td>60739</td>\n",
       "      <td>10.0</td>\n",
       "      <td>2013-05-03</td>\n",
       "      <td>Germany Republi</td>\n",
       "      <td>1210</td>\n",
       "      <td>CES</td>\n",
       "      <td>37.169807</td>\n",
       "      <td>-3.253847</td>\n",
       "      <td>Area Three Namba 27</td>\n",
       "      <td>0</td>\n",
       "      <td>...</td>\n",
       "      <td>enough</td>\n",
       "      <td>enough</td>\n",
       "      <td>spring</td>\n",
       "      <td>spring</td>\n",
       "      <td>groundwater</td>\n",
       "      <td>communal standpipe</td>\n",
       "      <td>communal standpipe</td>\n",
       "      <td>functional</td>\n",
       "      <td>False</td>\n",
       "      <td>14.0</td>\n",
       "    </tr>\n",
       "    <tr>\n",
       "      <th>59396</th>\n",
       "      <td>27263</td>\n",
       "      <td>4700.0</td>\n",
       "      <td>2011-05-07</td>\n",
       "      <td>Cefa-njombe</td>\n",
       "      <td>1212</td>\n",
       "      <td>Cefa</td>\n",
       "      <td>35.249991</td>\n",
       "      <td>-9.070629</td>\n",
       "      <td>Kwa Yahona Kuvala</td>\n",
       "      <td>0</td>\n",
       "      <td>...</td>\n",
       "      <td>enough</td>\n",
       "      <td>enough</td>\n",
       "      <td>river</td>\n",
       "      <td>river/lake</td>\n",
       "      <td>surface</td>\n",
       "      <td>communal standpipe</td>\n",
       "      <td>communal standpipe</td>\n",
       "      <td>functional</td>\n",
       "      <td>False</td>\n",
       "      <td>15.0</td>\n",
       "    </tr>\n",
       "    <tr>\n",
       "      <th>59397</th>\n",
       "      <td>37057</td>\n",
       "      <td>0.0</td>\n",
       "      <td>2011-04-11</td>\n",
       "      <td>NaN</td>\n",
       "      <td>0</td>\n",
       "      <td>NaN</td>\n",
       "      <td>34.017087</td>\n",
       "      <td>-8.750434</td>\n",
       "      <td>Mashine</td>\n",
       "      <td>0</td>\n",
       "      <td>...</td>\n",
       "      <td>enough</td>\n",
       "      <td>enough</td>\n",
       "      <td>machine dbh</td>\n",
       "      <td>borehole</td>\n",
       "      <td>groundwater</td>\n",
       "      <td>hand pump</td>\n",
       "      <td>hand pump</td>\n",
       "      <td>functional</td>\n",
       "      <td>True</td>\n",
       "      <td>NaN</td>\n",
       "    </tr>\n",
       "    <tr>\n",
       "      <th>59398</th>\n",
       "      <td>31282</td>\n",
       "      <td>0.0</td>\n",
       "      <td>2011-03-08</td>\n",
       "      <td>Malec</td>\n",
       "      <td>0</td>\n",
       "      <td>Musa</td>\n",
       "      <td>35.861315</td>\n",
       "      <td>-6.378573</td>\n",
       "      <td>Mshoro</td>\n",
       "      <td>0</td>\n",
       "      <td>...</td>\n",
       "      <td>insufficient</td>\n",
       "      <td>insufficient</td>\n",
       "      <td>shallow well</td>\n",
       "      <td>shallow well</td>\n",
       "      <td>groundwater</td>\n",
       "      <td>hand pump</td>\n",
       "      <td>hand pump</td>\n",
       "      <td>functional</td>\n",
       "      <td>True</td>\n",
       "      <td>NaN</td>\n",
       "    </tr>\n",
       "    <tr>\n",
       "      <th>59399</th>\n",
       "      <td>26348</td>\n",
       "      <td>0.0</td>\n",
       "      <td>2011-03-23</td>\n",
       "      <td>World Bank</td>\n",
       "      <td>191</td>\n",
       "      <td>World</td>\n",
       "      <td>38.104048</td>\n",
       "      <td>-6.747464</td>\n",
       "      <td>Kwa Mzee Lugawa</td>\n",
       "      <td>0</td>\n",
       "      <td>...</td>\n",
       "      <td>enough</td>\n",
       "      <td>enough</td>\n",
       "      <td>shallow well</td>\n",
       "      <td>shallow well</td>\n",
       "      <td>groundwater</td>\n",
       "      <td>hand pump</td>\n",
       "      <td>hand pump</td>\n",
       "      <td>functional</td>\n",
       "      <td>False</td>\n",
       "      <td>9.0</td>\n",
       "    </tr>\n",
       "  </tbody>\n",
       "</table>\n",
       "<p>59399 rows × 43 columns</p>\n",
       "</div>"
      ],
      "text/plain": [
       "          id  amount_tsh date_recorded           funder  gps_height  \\\n",
       "0      69572      6000.0    2011-03-14            Roman        1390   \n",
       "1       8776         0.0    2013-03-06          Grumeti        1399   \n",
       "2      34310        25.0    2013-02-25     Lottery Club         686   \n",
       "3      67743         0.0    2013-01-28           Unicef         263   \n",
       "4      19728         0.0    2011-07-13      Action In A           0   \n",
       "...      ...         ...           ...              ...         ...   \n",
       "59395  60739        10.0    2013-05-03  Germany Republi        1210   \n",
       "59396  27263      4700.0    2011-05-07      Cefa-njombe        1212   \n",
       "59397  37057         0.0    2011-04-11              NaN           0   \n",
       "59398  31282         0.0    2011-03-08            Malec           0   \n",
       "59399  26348         0.0    2011-03-23       World Bank         191   \n",
       "\n",
       "          installer  longitude   latitude              wpt_name  num_private  \\\n",
       "0             Roman  34.938093  -9.856322                  none            0   \n",
       "1           GRUMETI  34.698766  -2.147466              Zahanati            0   \n",
       "2      World vision  37.460664  -3.821329           Kwa Mahundi            0   \n",
       "3            UNICEF  38.486161 -11.155298  Zahanati Ya Nanyumbu            0   \n",
       "4           Artisan  31.130847  -1.825359               Shuleni            0   \n",
       "...             ...        ...        ...                   ...          ...   \n",
       "59395           CES  37.169807  -3.253847   Area Three Namba 27            0   \n",
       "59396          Cefa  35.249991  -9.070629     Kwa Yahona Kuvala            0   \n",
       "59397           NaN  34.017087  -8.750434               Mashine            0   \n",
       "59398          Musa  35.861315  -6.378573                Mshoro            0   \n",
       "59399         World  38.104048  -6.747464       Kwa Mzee Lugawa            0   \n",
       "\n",
       "       ...      quantity quantity_group                source  \\\n",
       "0      ...        enough         enough                spring   \n",
       "1      ...  insufficient   insufficient  rainwater harvesting   \n",
       "2      ...        enough         enough                   dam   \n",
       "3      ...           dry            dry           machine dbh   \n",
       "4      ...      seasonal       seasonal  rainwater harvesting   \n",
       "...    ...           ...            ...                   ...   \n",
       "59395  ...        enough         enough                spring   \n",
       "59396  ...        enough         enough                 river   \n",
       "59397  ...        enough         enough           machine dbh   \n",
       "59398  ...  insufficient   insufficient          shallow well   \n",
       "59399  ...        enough         enough          shallow well   \n",
       "\n",
       "                source_type  source_class              waterpoint_type  \\\n",
       "0                    spring   groundwater           communal standpipe   \n",
       "1      rainwater harvesting       surface           communal standpipe   \n",
       "2                       dam       surface  communal standpipe multiple   \n",
       "3                  borehole   groundwater  communal standpipe multiple   \n",
       "4      rainwater harvesting       surface           communal standpipe   \n",
       "...                     ...           ...                          ...   \n",
       "59395                spring   groundwater           communal standpipe   \n",
       "59396            river/lake       surface           communal standpipe   \n",
       "59397              borehole   groundwater                    hand pump   \n",
       "59398          shallow well   groundwater                    hand pump   \n",
       "59399          shallow well   groundwater                    hand pump   \n",
       "\n",
       "      waterpoint_type_group    status_group unknown_construction_yr  \\\n",
       "0        communal standpipe      functional                   False   \n",
       "1        communal standpipe      functional                   False   \n",
       "2        communal standpipe      functional                   False   \n",
       "3        communal standpipe  non functional                   False   \n",
       "4        communal standpipe      functional                    True   \n",
       "...                     ...             ...                     ...   \n",
       "59395    communal standpipe      functional                   False   \n",
       "59396    communal standpipe      functional                   False   \n",
       "59397             hand pump      functional                    True   \n",
       "59398             hand pump      functional                    True   \n",
       "59399             hand pump      functional                   False   \n",
       "\n",
       "      age_at_inspection  \n",
       "0                  12.0  \n",
       "1                   3.0  \n",
       "2                   4.0  \n",
       "3                  27.0  \n",
       "4                   NaN  \n",
       "...                 ...  \n",
       "59395              14.0  \n",
       "59396              15.0  \n",
       "59397               NaN  \n",
       "59398               NaN  \n",
       "59399               9.0  \n",
       "\n",
       "[59399 rows x 43 columns]"
      ]
     },
     "execution_count": 49,
     "metadata": {},
     "output_type": "execute_result"
    }
   ],
   "source": [
    "\n",
    "water_pump['age_at_inspection'] = water_pump['date_recorded'].str[:4].astype(int) - water_pump['construction_year'] \n",
    "water_pump"
   ]
  },
  {
   "cell_type": "code",
   "execution_count": 50,
   "metadata": {},
   "outputs": [],
   "source": [
    "water_pump['water_per_person'] = water_pump['amount_tsh']/water_pump['population']"
   ]
  },
  {
   "cell_type": "code",
   "execution_count": null,
   "metadata": {},
   "outputs": [],
   "source": []
  },
  {
   "cell_type": "code",
   "execution_count": 51,
   "metadata": {},
   "outputs": [],
   "source": [
    "drop_cols = [\"funder\", \"id\",\"subvillage\", \"district_code\", \"ward\", \"scheme_name\",\n",
    "             \"longitude\", \"latitude\", \"wpt_name\",\"date_recorded\", \"num_private\",\n",
    "             \"extraction_type\", \"payment_type\", \"water_quality\", \"recorded_by\",\n",
    "             \"quantity_group\", \"source_type\", \"waterpoint_type_group\"]"
   ]
  },
  {
   "cell_type": "code",
   "execution_count": 52,
   "metadata": {},
   "outputs": [
    {
     "name": "stdout",
     "output_type": "stream",
     "text": [
      "<class 'pandas.core.frame.DataFrame'>\n",
      "Int64Index: 59399 entries, 0 to 59399\n",
      "Data columns (total 26 columns):\n",
      " #   Column                   Non-Null Count  Dtype  \n",
      "---  ------                   --------------  -----  \n",
      " 0   amount_tsh               59399 non-null  float64\n",
      " 1   gps_height               59399 non-null  int64  \n",
      " 2   installer                55744 non-null  object \n",
      " 3   basin                    59399 non-null  object \n",
      " 4   region                   59399 non-null  object \n",
      " 5   region_code              59399 non-null  string \n",
      " 6   lga                      59399 non-null  object \n",
      " 7   population               38019 non-null  float64\n",
      " 8   public_meeting           56065 non-null  object \n",
      " 9   scheme_management        55522 non-null  object \n",
      " 10  permit                   56343 non-null  object \n",
      " 11  construction_year        38691 non-null  float64\n",
      " 12  extraction_type_group    59399 non-null  object \n",
      " 13  extraction_type_class    59399 non-null  object \n",
      " 14  management               59399 non-null  object \n",
      " 15  management_group         59399 non-null  object \n",
      " 16  payment                  59399 non-null  object \n",
      " 17  quality_group            59399 non-null  object \n",
      " 18  quantity                 59399 non-null  object \n",
      " 19  source                   59399 non-null  object \n",
      " 20  source_class             59399 non-null  object \n",
      " 21  waterpoint_type          59399 non-null  object \n",
      " 22  status_group             59399 non-null  object \n",
      " 23  unknown_construction_yr  59399 non-null  bool   \n",
      " 24  age_at_inspection        38691 non-null  float64\n",
      " 25  water_per_person         38019 non-null  float64\n",
      "dtypes: bool(1), float64(5), int64(1), object(18), string(1)\n",
      "memory usage: 14.3+ MB\n"
     ]
    }
   ],
   "source": [
    "water_pump.drop(drop_cols, axis=1, inplace=True)\n",
    "water_pump.info()"
   ]
  },
  {
   "cell_type": "code",
   "execution_count": 53,
   "metadata": {},
   "outputs": [
    {
     "data": {
      "text/html": [
       "<div>\n",
       "<style scoped>\n",
       "    .dataframe tbody tr th:only-of-type {\n",
       "        vertical-align: middle;\n",
       "    }\n",
       "\n",
       "    .dataframe tbody tr th {\n",
       "        vertical-align: top;\n",
       "    }\n",
       "\n",
       "    .dataframe thead th {\n",
       "        text-align: right;\n",
       "    }\n",
       "</style>\n",
       "<table border=\"1\" class=\"dataframe\">\n",
       "  <thead>\n",
       "    <tr style=\"text-align: right;\">\n",
       "      <th></th>\n",
       "      <th>amount_tsh</th>\n",
       "      <th>gps_height</th>\n",
       "      <th>installer</th>\n",
       "      <th>basin</th>\n",
       "      <th>region</th>\n",
       "      <th>region_code</th>\n",
       "      <th>lga</th>\n",
       "      <th>population</th>\n",
       "      <th>public_meeting</th>\n",
       "      <th>scheme_management</th>\n",
       "      <th>...</th>\n",
       "      <th>payment</th>\n",
       "      <th>quality_group</th>\n",
       "      <th>quantity</th>\n",
       "      <th>source</th>\n",
       "      <th>source_class</th>\n",
       "      <th>waterpoint_type</th>\n",
       "      <th>status_group</th>\n",
       "      <th>unknown_construction_yr</th>\n",
       "      <th>age_at_inspection</th>\n",
       "      <th>water_per_person</th>\n",
       "    </tr>\n",
       "  </thead>\n",
       "  <tbody>\n",
       "    <tr>\n",
       "      <th>0</th>\n",
       "      <td>6000.0</td>\n",
       "      <td>1390</td>\n",
       "      <td>Roman</td>\n",
       "      <td>Lake Nyasa</td>\n",
       "      <td>Iringa</td>\n",
       "      <td>11</td>\n",
       "      <td>Ludewa</td>\n",
       "      <td>109.0</td>\n",
       "      <td>True</td>\n",
       "      <td>VWC</td>\n",
       "      <td>...</td>\n",
       "      <td>pay annually</td>\n",
       "      <td>good</td>\n",
       "      <td>enough</td>\n",
       "      <td>spring</td>\n",
       "      <td>groundwater</td>\n",
       "      <td>communal standpipe</td>\n",
       "      <td>0</td>\n",
       "      <td>False</td>\n",
       "      <td>12.0</td>\n",
       "      <td>55.045872</td>\n",
       "    </tr>\n",
       "    <tr>\n",
       "      <th>1</th>\n",
       "      <td>0.0</td>\n",
       "      <td>1399</td>\n",
       "      <td>GRUMETI</td>\n",
       "      <td>Lake Victoria</td>\n",
       "      <td>Mara</td>\n",
       "      <td>20</td>\n",
       "      <td>Serengeti</td>\n",
       "      <td>280.0</td>\n",
       "      <td>NaN</td>\n",
       "      <td>Other</td>\n",
       "      <td>...</td>\n",
       "      <td>never pay</td>\n",
       "      <td>good</td>\n",
       "      <td>insufficient</td>\n",
       "      <td>rainwater harvesting</td>\n",
       "      <td>surface</td>\n",
       "      <td>communal standpipe</td>\n",
       "      <td>0</td>\n",
       "      <td>False</td>\n",
       "      <td>3.0</td>\n",
       "      <td>0.000000</td>\n",
       "    </tr>\n",
       "    <tr>\n",
       "      <th>2</th>\n",
       "      <td>25.0</td>\n",
       "      <td>686</td>\n",
       "      <td>World vision</td>\n",
       "      <td>Pangani</td>\n",
       "      <td>Manyara</td>\n",
       "      <td>21</td>\n",
       "      <td>Simanjiro</td>\n",
       "      <td>250.0</td>\n",
       "      <td>True</td>\n",
       "      <td>VWC</td>\n",
       "      <td>...</td>\n",
       "      <td>pay per bucket</td>\n",
       "      <td>good</td>\n",
       "      <td>enough</td>\n",
       "      <td>dam</td>\n",
       "      <td>surface</td>\n",
       "      <td>communal standpipe multiple</td>\n",
       "      <td>0</td>\n",
       "      <td>False</td>\n",
       "      <td>4.0</td>\n",
       "      <td>0.100000</td>\n",
       "    </tr>\n",
       "    <tr>\n",
       "      <th>3</th>\n",
       "      <td>0.0</td>\n",
       "      <td>263</td>\n",
       "      <td>UNICEF</td>\n",
       "      <td>Ruvuma / Southern Coast</td>\n",
       "      <td>Mtwara</td>\n",
       "      <td>90</td>\n",
       "      <td>Nanyumbu</td>\n",
       "      <td>58.0</td>\n",
       "      <td>True</td>\n",
       "      <td>VWC</td>\n",
       "      <td>...</td>\n",
       "      <td>never pay</td>\n",
       "      <td>good</td>\n",
       "      <td>dry</td>\n",
       "      <td>machine dbh</td>\n",
       "      <td>groundwater</td>\n",
       "      <td>communal standpipe multiple</td>\n",
       "      <td>2</td>\n",
       "      <td>False</td>\n",
       "      <td>27.0</td>\n",
       "      <td>0.000000</td>\n",
       "    </tr>\n",
       "    <tr>\n",
       "      <th>4</th>\n",
       "      <td>0.0</td>\n",
       "      <td>0</td>\n",
       "      <td>Artisan</td>\n",
       "      <td>Lake Victoria</td>\n",
       "      <td>Kagera</td>\n",
       "      <td>18</td>\n",
       "      <td>Karagwe</td>\n",
       "      <td>NaN</td>\n",
       "      <td>True</td>\n",
       "      <td>NaN</td>\n",
       "      <td>...</td>\n",
       "      <td>never pay</td>\n",
       "      <td>good</td>\n",
       "      <td>seasonal</td>\n",
       "      <td>rainwater harvesting</td>\n",
       "      <td>surface</td>\n",
       "      <td>communal standpipe</td>\n",
       "      <td>0</td>\n",
       "      <td>True</td>\n",
       "      <td>NaN</td>\n",
       "      <td>NaN</td>\n",
       "    </tr>\n",
       "  </tbody>\n",
       "</table>\n",
       "<p>5 rows × 26 columns</p>\n",
       "</div>"
      ],
      "text/plain": [
       "   amount_tsh  gps_height     installer                    basin   region  \\\n",
       "0      6000.0        1390         Roman               Lake Nyasa   Iringa   \n",
       "1         0.0        1399       GRUMETI            Lake Victoria     Mara   \n",
       "2        25.0         686  World vision                  Pangani  Manyara   \n",
       "3         0.0         263        UNICEF  Ruvuma / Southern Coast   Mtwara   \n",
       "4         0.0           0       Artisan            Lake Victoria   Kagera   \n",
       "\n",
       "  region_code        lga  population public_meeting scheme_management  ...  \\\n",
       "0          11     Ludewa       109.0           True               VWC  ...   \n",
       "1          20  Serengeti       280.0            NaN             Other  ...   \n",
       "2          21  Simanjiro       250.0           True               VWC  ...   \n",
       "3          90   Nanyumbu        58.0           True               VWC  ...   \n",
       "4          18    Karagwe         NaN           True               NaN  ...   \n",
       "\n",
       "          payment  quality_group      quantity                source  \\\n",
       "0    pay annually           good        enough                spring   \n",
       "1       never pay           good  insufficient  rainwater harvesting   \n",
       "2  pay per bucket           good        enough                   dam   \n",
       "3       never pay           good           dry           machine dbh   \n",
       "4       never pay           good      seasonal  rainwater harvesting   \n",
       "\n",
       "  source_class              waterpoint_type status_group  \\\n",
       "0  groundwater           communal standpipe            0   \n",
       "1      surface           communal standpipe            0   \n",
       "2      surface  communal standpipe multiple            0   \n",
       "3  groundwater  communal standpipe multiple            2   \n",
       "4      surface           communal standpipe            0   \n",
       "\n",
       "  unknown_construction_yr age_at_inspection water_per_person  \n",
       "0                   False              12.0        55.045872  \n",
       "1                   False               3.0         0.000000  \n",
       "2                   False               4.0         0.100000  \n",
       "3                   False              27.0         0.000000  \n",
       "4                    True               NaN              NaN  \n",
       "\n",
       "[5 rows x 26 columns]"
      ]
     },
     "execution_count": 53,
     "metadata": {},
     "output_type": "execute_result"
    }
   ],
   "source": [
    "le = LabelEncoder()\n",
    "water_pump[\"status_group\"] = le.fit_transform(water_pump[\"status_group\"])\n",
    "water_pump.head()\n"
   ]
  },
  {
   "cell_type": "code",
   "execution_count": 54,
   "metadata": {},
   "outputs": [],
   "source": [
    "water_pump.to_csv('cleaned_water_pump.csv', index=False)"
   ]
  },
  {
   "cell_type": "code",
   "execution_count": null,
   "metadata": {},
   "outputs": [],
   "source": []
  },
  {
   "cell_type": "code",
   "execution_count": null,
   "metadata": {},
   "outputs": [],
   "source": []
  },
  {
   "cell_type": "code",
   "execution_count": null,
   "metadata": {},
   "outputs": [],
   "source": [
    "X= water_pump.drop('status_group', axis=1)\n",
    "y=water_pump['status_group']\n",
    "X_train, X_test, y_train, y_test = train_test_split(X, y, random_state=42)"
   ]
  },
  {
   "cell_type": "code",
   "execution_count": null,
   "metadata": {},
   "outputs": [],
   "source": [
    "sns.pairplot(water_pump[numeric_cols]);"
   ]
  },
  {
   "cell_type": "code",
   "execution_count": null,
   "metadata": {},
   "outputs": [],
   "source": [
    "dummy = DummyClassifier(strategy= \"most_frequent\", random_state=42)\n",
    "dummy_model = dummy.fit(X_train, y_train)\n",
    "dummy.score(X_test, y_test)"
   ]
  },
  {
   "cell_type": "code",
   "execution_count": null,
   "metadata": {},
   "outputs": [],
   "source": []
  },
  {
   "cell_type": "code",
   "execution_count": null,
   "metadata": {},
   "outputs": [],
   "source": []
  },
  {
   "cell_type": "code",
   "execution_count": null,
   "metadata": {},
   "outputs": [],
   "source": [
    "y_pred = dummy_model.predict(X_test)\n",
    "y_pred"
   ]
  },
  {
   "cell_type": "code",
   "execution_count": null,
   "metadata": {},
   "outputs": [],
   "source": [
    "print(classification_report(y_test, y_pred));"
   ]
  },
  {
   "cell_type": "code",
   "execution_count": null,
   "metadata": {},
   "outputs": [],
   "source": []
  },
  {
   "cell_type": "code",
   "execution_count": null,
   "metadata": {},
   "outputs": [],
   "source": []
  },
  {
   "cell_type": "code",
   "execution_count": null,
   "metadata": {},
   "outputs": [],
   "source": []
  },
  {
   "cell_type": "code",
   "execution_count": null,
   "metadata": {},
   "outputs": [],
   "source": []
  },
  {
   "cell_type": "code",
   "execution_count": null,
   "metadata": {},
   "outputs": [],
   "source": []
  },
  {
   "cell_type": "code",
   "execution_count": null,
   "metadata": {},
   "outputs": [],
   "source": [
    "X_train, X_test, y_train, y_test = train_test_split(X,y,random_state=42)"
   ]
  },
  {
   "cell_type": "code",
   "execution_count": null,
   "metadata": {},
   "outputs": [],
   "source": [
    "water_pump['pop_year'] = water_pump['population'] / water_pump['age']"
   ]
  },
  {
   "cell_type": "code",
   "execution_count": null,
   "metadata": {},
   "outputs": [],
   "source": [
    "water_pump['pop_year-construction'] = water_pump['population'] / water_pump['age_construction']"
   ]
  },
  {
   "cell_type": "code",
   "execution_count": null,
   "metadata": {},
   "outputs": [],
   "source": [
    "for col_name in water_pump.columns:\n",
    "    print(water_pump[col_name].value_counts())"
   ]
  },
  {
   "cell_type": "code",
   "execution_count": null,
   "metadata": {},
   "outputs": [],
   "source": [
    "water_pump['pop/year'] = water_pump['population'] / water_pump['age']"
   ]
  },
  {
   "cell_type": "code",
   "execution_count": null,
   "metadata": {},
   "outputs": [],
   "source": [
    "water_pump.corr().status_group.sort_values(ascending=False)\n"
   ]
  },
  {
   "cell_type": "code",
   "execution_count": null,
   "metadata": {},
   "outputs": [],
   "source": [
    "water_pump['num_private'].value_counts()"
   ]
  },
  {
   "cell_type": "code",
   "execution_count": null,
   "metadata": {},
   "outputs": [],
   "source": [
    "water_pump['age_construction'] = water_pump['current_yr'] - water_pump['construction_year']\n",
    "water_pump['age_construction'].loc[water_pump['age_construction'] == water_pump['current_yr']] = 0"
   ]
  },
  {
   "cell_type": "code",
   "execution_count": null,
   "metadata": {},
   "outputs": [],
   "source": [
    "scatterplot_data = X_train_numeric.drop(\"sqft_living\", axis=1) #already graphed above\n",
    "\n",
    "fig, axes = plt.subplots(ncols=3, nrows=5, figsize=(12, 8))\n",
    "fig.set_tight_layout(True)\n",
    "\n",
    "for index, col in enumerate(scatterplot_data.columns):\n",
    "    ax = axes[index//3][index%3]\n",
    "    ax.scatter(X_train_numeric[col], y_train, alpha=0.2)\n",
    "    ax.set_xlabel(col)\n",
    "    ax.set_ylabel(\"price\")\n",
    "\n",
    "    \n",
    "fig.delaxes(axes[4][1])\n",
    "fig.delaxes(axes[4][2])"
   ]
  },
  {
   "cell_type": "code",
   "execution_count": null,
   "metadata": {
    "scrolled": true
   },
   "outputs": [],
   "source": [
    "water_pump['funder'].value_counts()"
   ]
  },
  {
   "cell_type": "code",
   "execution_count": null,
   "metadata": {},
   "outputs": [],
   "source": [
    "water_pump['funder'].nunique()"
   ]
  },
  {
   "cell_type": "code",
   "execution_count": null,
   "metadata": {},
   "outputs": [],
   "source": [
    "water_pump['funder'].value_counts().plot(kind='hist');"
   ]
  }
 ],
 "metadata": {
  "kernelspec": {
   "display_name": "Python (learn-env)",
   "language": "python",
   "name": "learn-env"
  },
  "language_info": {
   "codemirror_mode": {
    "name": "ipython",
    "version": 3
   },
   "file_extension": ".py",
   "mimetype": "text/x-python",
   "name": "python",
   "nbconvert_exporter": "python",
   "pygments_lexer": "ipython3",
   "version": "3.8.5"
  }
 },
 "nbformat": 4,
 "nbformat_minor": 4
}
