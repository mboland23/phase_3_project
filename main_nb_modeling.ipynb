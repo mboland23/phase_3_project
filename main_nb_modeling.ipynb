{
 "cells": [
  {
   "cell_type": "markdown",
   "metadata": {},
   "source": [
    "## MODELING"
   ]
  },
  {
   "cell_type": "code",
   "execution_count": 177,
   "metadata": {},
   "outputs": [],
   "source": [
    "import pandas as pd\n",
    "import matplotlib.pyplot as plt\n",
    "import scipy.stats as stats\n",
    "import seaborn as sns\n",
    "import numpy as np\n",
    "\n",
    "from sklearn.model_selection import train_test_split, cross_val_score\n",
    "from sklearn.model_selection import GridSearchCV\n",
    "\n",
    "from sklearn.dummy import DummyClassifier\n",
    "from sklearn.ensemble import RandomForestClassifier\n",
    "from sklearn.linear_model import LogisticRegression\n",
    "from sklearn.neighbors import KNeighborsClassifier\n",
    "from sklearn.tree import DecisionTreeClassifier\n",
    "\n",
    "from sklearn.metrics import confusion_matrix, plot_confusion_matrix  \n",
    "from sklearn.metrics import roc_curve, roc_auc_score, classification_report\n",
    "from sklearn.metrics import auc, multilabel_confusion_matrix, plot_roc_curve\n",
    "\n",
    "from sklearn.pipeline import Pipeline\n",
    "\n",
    "from sklearn.preprocessing import OneHotEncoder, StandardScaler\n",
    "from sklearn.preprocessing import MinMaxScaler, LabelEncoder, OrdinalEncoder\n",
    "\n",
    "from sklearn.compose import ColumnTransformer\n",
    "from sklearn.impute import MissingIndicator, SimpleImputer\n",
    "\n",
    "from imblearn.over_sampling import SMOTE\n",
    "from imblearn.pipeline import Pipeline as imPipeline\n",
    "from imblearn.under_sampling import RandomUnderSampler\n",
    "\n",
    "from collections import Counter\n",
    "\n",
    "%matplotlib inline"
   ]
  },
  {
   "cell_type": "code",
   "execution_count": 61,
   "metadata": {},
   "outputs": [
    {
     "data": {
      "text/html": [
       "<div>\n",
       "<style scoped>\n",
       "    .dataframe tbody tr th:only-of-type {\n",
       "        vertical-align: middle;\n",
       "    }\n",
       "\n",
       "    .dataframe tbody tr th {\n",
       "        vertical-align: top;\n",
       "    }\n",
       "\n",
       "    .dataframe thead th {\n",
       "        text-align: right;\n",
       "    }\n",
       "</style>\n",
       "<table border=\"1\" class=\"dataframe\">\n",
       "  <thead>\n",
       "    <tr style=\"text-align: right;\">\n",
       "      <th></th>\n",
       "      <th>status_group</th>\n",
       "      <th>amount_tsh</th>\n",
       "      <th>gps_height</th>\n",
       "      <th>basin</th>\n",
       "      <th>region</th>\n",
       "      <th>region_code</th>\n",
       "      <th>lga</th>\n",
       "      <th>public_meeting</th>\n",
       "      <th>scheme_management</th>\n",
       "      <th>permit</th>\n",
       "      <th>...</th>\n",
       "      <th>management_group</th>\n",
       "      <th>payment</th>\n",
       "      <th>quality_group</th>\n",
       "      <th>quantity</th>\n",
       "      <th>source</th>\n",
       "      <th>source_class</th>\n",
       "      <th>waterpoint_type</th>\n",
       "      <th>water_per_person</th>\n",
       "      <th>unknown_construction_yr</th>\n",
       "      <th>age_at_inspection</th>\n",
       "    </tr>\n",
       "  </thead>\n",
       "  <tbody>\n",
       "    <tr>\n",
       "      <th>0</th>\n",
       "      <td>functional</td>\n",
       "      <td>6000.0</td>\n",
       "      <td>1390</td>\n",
       "      <td>Lake Nyasa</td>\n",
       "      <td>Iringa</td>\n",
       "      <td>11</td>\n",
       "      <td>Ludewa</td>\n",
       "      <td>True</td>\n",
       "      <td>VWC</td>\n",
       "      <td>False</td>\n",
       "      <td>...</td>\n",
       "      <td>user-group</td>\n",
       "      <td>pay annually</td>\n",
       "      <td>good</td>\n",
       "      <td>enough</td>\n",
       "      <td>spring</td>\n",
       "      <td>groundwater</td>\n",
       "      <td>communal standpipe</td>\n",
       "      <td>55.045872</td>\n",
       "      <td>False</td>\n",
       "      <td>12.0</td>\n",
       "    </tr>\n",
       "    <tr>\n",
       "      <th>1</th>\n",
       "      <td>functional</td>\n",
       "      <td>0.0</td>\n",
       "      <td>1399</td>\n",
       "      <td>Lake Victoria</td>\n",
       "      <td>Mara</td>\n",
       "      <td>20</td>\n",
       "      <td>Serengeti</td>\n",
       "      <td>Unknown</td>\n",
       "      <td>Other</td>\n",
       "      <td>True</td>\n",
       "      <td>...</td>\n",
       "      <td>user-group</td>\n",
       "      <td>never pay</td>\n",
       "      <td>good</td>\n",
       "      <td>insufficient</td>\n",
       "      <td>rainwater harvesting</td>\n",
       "      <td>surface</td>\n",
       "      <td>communal standpipe</td>\n",
       "      <td>0.000000</td>\n",
       "      <td>False</td>\n",
       "      <td>3.0</td>\n",
       "    </tr>\n",
       "    <tr>\n",
       "      <th>2</th>\n",
       "      <td>functional</td>\n",
       "      <td>25.0</td>\n",
       "      <td>686</td>\n",
       "      <td>Pangani</td>\n",
       "      <td>Manyara</td>\n",
       "      <td>21</td>\n",
       "      <td>Simanjiro</td>\n",
       "      <td>True</td>\n",
       "      <td>VWC</td>\n",
       "      <td>True</td>\n",
       "      <td>...</td>\n",
       "      <td>user-group</td>\n",
       "      <td>pay per bucket</td>\n",
       "      <td>good</td>\n",
       "      <td>enough</td>\n",
       "      <td>dam</td>\n",
       "      <td>surface</td>\n",
       "      <td>communal standpipe multiple</td>\n",
       "      <td>0.100000</td>\n",
       "      <td>False</td>\n",
       "      <td>4.0</td>\n",
       "    </tr>\n",
       "    <tr>\n",
       "      <th>3</th>\n",
       "      <td>non functional</td>\n",
       "      <td>0.0</td>\n",
       "      <td>263</td>\n",
       "      <td>Ruvuma / Southern Coast</td>\n",
       "      <td>Mtwara</td>\n",
       "      <td>90</td>\n",
       "      <td>Nanyumbu</td>\n",
       "      <td>True</td>\n",
       "      <td>VWC</td>\n",
       "      <td>True</td>\n",
       "      <td>...</td>\n",
       "      <td>user-group</td>\n",
       "      <td>never pay</td>\n",
       "      <td>good</td>\n",
       "      <td>dry</td>\n",
       "      <td>machine dbh</td>\n",
       "      <td>groundwater</td>\n",
       "      <td>communal standpipe multiple</td>\n",
       "      <td>0.000000</td>\n",
       "      <td>False</td>\n",
       "      <td>27.0</td>\n",
       "    </tr>\n",
       "    <tr>\n",
       "      <th>4</th>\n",
       "      <td>functional</td>\n",
       "      <td>0.0</td>\n",
       "      <td>0</td>\n",
       "      <td>Lake Victoria</td>\n",
       "      <td>Kagera</td>\n",
       "      <td>18</td>\n",
       "      <td>Karagwe</td>\n",
       "      <td>True</td>\n",
       "      <td>Unknown</td>\n",
       "      <td>True</td>\n",
       "      <td>...</td>\n",
       "      <td>other</td>\n",
       "      <td>never pay</td>\n",
       "      <td>good</td>\n",
       "      <td>seasonal</td>\n",
       "      <td>rainwater harvesting</td>\n",
       "      <td>surface</td>\n",
       "      <td>communal standpipe</td>\n",
       "      <td>NaN</td>\n",
       "      <td>True</td>\n",
       "      <td>NaN</td>\n",
       "    </tr>\n",
       "  </tbody>\n",
       "</table>\n",
       "<p>5 rows × 23 columns</p>\n",
       "</div>"
      ],
      "text/plain": [
       "     status_group  amount_tsh  gps_height                    basin   region  \\\n",
       "0      functional      6000.0        1390               Lake Nyasa   Iringa   \n",
       "1      functional         0.0        1399            Lake Victoria     Mara   \n",
       "2      functional        25.0         686                  Pangani  Manyara   \n",
       "3  non functional         0.0         263  Ruvuma / Southern Coast   Mtwara   \n",
       "4      functional         0.0           0            Lake Victoria   Kagera   \n",
       "\n",
       "   region_code        lga public_meeting scheme_management permit  ...  \\\n",
       "0           11     Ludewa           True               VWC  False  ...   \n",
       "1           20  Serengeti        Unknown             Other   True  ...   \n",
       "2           21  Simanjiro           True               VWC   True  ...   \n",
       "3           90   Nanyumbu           True               VWC   True  ...   \n",
       "4           18    Karagwe           True           Unknown   True  ...   \n",
       "\n",
       "  management_group         payment quality_group      quantity  \\\n",
       "0       user-group    pay annually          good        enough   \n",
       "1       user-group       never pay          good  insufficient   \n",
       "2       user-group  pay per bucket          good        enough   \n",
       "3       user-group       never pay          good           dry   \n",
       "4            other       never pay          good      seasonal   \n",
       "\n",
       "                 source source_class              waterpoint_type  \\\n",
       "0                spring  groundwater           communal standpipe   \n",
       "1  rainwater harvesting      surface           communal standpipe   \n",
       "2                   dam      surface  communal standpipe multiple   \n",
       "3           machine dbh  groundwater  communal standpipe multiple   \n",
       "4  rainwater harvesting      surface           communal standpipe   \n",
       "\n",
       "  water_per_person unknown_construction_yr age_at_inspection  \n",
       "0        55.045872                   False              12.0  \n",
       "1         0.000000                   False               3.0  \n",
       "2         0.100000                   False               4.0  \n",
       "3         0.000000                   False              27.0  \n",
       "4              NaN                    True               NaN  \n",
       "\n",
       "[5 rows x 23 columns]"
      ]
     },
     "execution_count": 61,
     "metadata": {},
     "output_type": "execute_result"
    }
   ],
   "source": [
    "#importing data\n",
    "water_pump = pd.read_csv('Data/cleaned_water_pump.csv')\n",
    "water_pump.head()"
   ]
  },
  {
   "cell_type": "code",
   "execution_count": 62,
   "metadata": {},
   "outputs": [],
   "source": [
    "#changing region_code to str\n",
    "water_pump['region_code'] = water_pump['region_code'].astype('str')"
   ]
  },
  {
   "cell_type": "code",
   "execution_count": 63,
   "metadata": {},
   "outputs": [
    {
     "name": "stdout",
     "output_type": "stream",
     "text": [
      "<class 'pandas.core.frame.DataFrame'>\n",
      "RangeIndex: 59400 entries, 0 to 59399\n",
      "Data columns (total 23 columns):\n",
      " #   Column                   Non-Null Count  Dtype  \n",
      "---  ------                   --------------  -----  \n",
      " 0   status_group             59400 non-null  object \n",
      " 1   amount_tsh               59400 non-null  float64\n",
      " 2   gps_height               59400 non-null  int64  \n",
      " 3   basin                    59400 non-null  object \n",
      " 4   region                   59400 non-null  object \n",
      " 5   region_code              59400 non-null  object \n",
      " 6   lga                      59400 non-null  object \n",
      " 7   public_meeting           59400 non-null  object \n",
      " 8   scheme_management        59400 non-null  object \n",
      " 9   permit                   59400 non-null  object \n",
      " 10  extraction_type_group    59400 non-null  object \n",
      " 11  extraction_type_class    59400 non-null  object \n",
      " 12  management               59400 non-null  object \n",
      " 13  management_group         59400 non-null  object \n",
      " 14  payment                  59400 non-null  object \n",
      " 15  quality_group            59400 non-null  object \n",
      " 16  quantity                 59400 non-null  object \n",
      " 17  source                   59400 non-null  object \n",
      " 18  source_class             59400 non-null  object \n",
      " 19  waterpoint_type          59400 non-null  object \n",
      " 20  water_per_person         38019 non-null  float64\n",
      " 21  unknown_construction_yr  59400 non-null  bool   \n",
      " 22  age_at_inspection        38691 non-null  float64\n",
      "dtypes: bool(1), float64(3), int64(1), object(18)\n",
      "memory usage: 10.0+ MB\n"
     ]
    }
   ],
   "source": [
    "water_pump.info()"
   ]
  },
  {
   "cell_type": "code",
   "execution_count": 64,
   "metadata": {},
   "outputs": [
    {
     "data": {
      "text/plain": [
       "functional                 0.543081\n",
       "non functional             0.384242\n",
       "functional needs repair    0.072677\n",
       "Name: status_group, dtype: float64"
      ]
     },
     "execution_count": 64,
     "metadata": {},
     "output_type": "execute_result"
    }
   ],
   "source": [
    "#checking target variables\n",
    "water_pump['status_group'].value_counts(normalize=True)"
   ]
  },
  {
   "cell_type": "code",
   "execution_count": 65,
   "metadata": {},
   "outputs": [],
   "source": [
    "#encoding target variables \n",
    "le = LabelEncoder()\n",
    "water_pump[\"status_group\"] = le.fit_transform(water_pump[\"status_group\"])"
   ]
  },
  {
   "cell_type": "code",
   "execution_count": 66,
   "metadata": {},
   "outputs": [
    {
     "data": {
      "text/plain": [
       "0    0.543081\n",
       "2    0.384242\n",
       "1    0.072677\n",
       "Name: status_group, dtype: float64"
      ]
     },
     "execution_count": 66,
     "metadata": {},
     "output_type": "execute_result"
    }
   ],
   "source": [
    "#verifying what each class refers to 0 - functional, 2 - nonfunctional, 1 - functional needs repair\n",
    "water_pump['status_group'].value_counts(normalize=True)"
   ]
  },
  {
   "cell_type": "markdown",
   "metadata": {},
   "source": [
    "## Setting up pipeline and functions\n",
    "Setting up our Pipeline and functions. We have two separate Pipelines. Our first Pipeline uses a Standard Scaler. We used this Pipeline for our Baseline, Logistical, Decision Tree, and Random Forest Models. Our second Pipeline was used for our KNN models. That Pipeline uses a MinMaxScaler. \n"
   ]
  },
  {
   "cell_type": "code",
   "execution_count": 67,
   "metadata": {},
   "outputs": [],
   "source": [
    "#function from lecture\n",
    "class ModelWithCV():\n",
    "    '''Structure to save the model and more easily see its crossvalidation'''\n",
    "    \n",
    "    def __init__(self, model, model_name, X, y, cv_now=True):\n",
    "        self.model = model\n",
    "        self.name = model_name\n",
    "        self.X = X\n",
    "        self.y = y\n",
    "        # For CV results\n",
    "        self.cv_results = None\n",
    "        self.cv_mean = None\n",
    "        self.cv_median = None\n",
    "        self.cv_std = None\n",
    "        #\n",
    "        if cv_now:\n",
    "            self.cross_validate()\n",
    "        \n",
    "    def cross_validate(self, X=None, y=None, kfolds=10):\n",
    "        '''\n",
    "        Perform cross-validation and return results.\n",
    "        \n",
    "        Args: \n",
    "          X:\n",
    "            Optional; Training data to perform CV on. Otherwise use X from object\n",
    "          y:\n",
    "            Optional; Training data to perform CV on. Otherwise use y from object\n",
    "          kfolds:\n",
    "            Optional; Number of folds for CV (default is 10)  \n",
    "        '''\n",
    "        \n",
    "        cv_X = X if X else self.X\n",
    "        cv_y = y if y else self.y\n",
    "\n",
    "        self.cv_results = cross_val_score(self.model, cv_X, cv_y, cv=kfolds)\n",
    "        self.cv_mean = np.mean(self.cv_results)\n",
    "        self.cv_median = np.median(self.cv_results)\n",
    "        self.cv_std = np.std(self.cv_results)\n",
    "\n",
    "        \n",
    "    def print_cv_summary(self):\n",
    "        cv_summary = (\n",
    "        f'''CV Results for `{self.name}` model:\n",
    "            {self.cv_mean:.5f} ± {self.cv_std:.5f} accuracy\n",
    "        ''')\n",
    "        print(cv_summary)\n",
    "\n",
    "        \n",
    "    def plot_cv(self, ax):\n",
    "        '''\n",
    "        Plot the cross-validation values using the array of results and given \n",
    "        Axis for plotting.\n",
    "        '''\n",
    "        ax.set_title(f'CV Results for `{self.name}` Model')\n",
    "        # Thinner violinplot with higher bw\n",
    "        sns.violinplot(y=self.cv_results, ax=ax, bw=.4)\n",
    "        sns.swarmplot(\n",
    "                y=self.cv_results,\n",
    "                color='orange',\n",
    "                size=10,\n",
    "                alpha= 0.8,\n",
    "                ax=ax\n",
    "        )\n",
    "\n",
    "        return ax"
   ]
  },
  {
   "cell_type": "code",
   "execution_count": 68,
   "metadata": {},
   "outputs": [],
   "source": [
    "#Train Test Split\n",
    "X = water_pump.drop('status_group', axis=1)\n",
    "y = water_pump['status_group']\n",
    "X_train, X_test, y_train, y_test = train_test_split(X, y, random_state=42)"
   ]
  },
  {
   "cell_type": "code",
   "execution_count": 69,
   "metadata": {},
   "outputs": [],
   "source": [
    "#Setting up Data for encoding within both Pipelines\n",
    "numeric_cols = [\"amount_tsh\", \"gps_height\", \"age_at_inspection\", \"water_per_person\"]\n",
    "\n",
    "cat_cols =[\"basin\", \"region\", \"region_code\", \"lga\", \"public_meeting\", \"scheme_management\", \"permit\",\n",
    "          \"extraction_type_group\", \"extraction_type_class\", \"management\", \"management_group\", \"payment\", \"quality_group\",\n",
    "          \"quantity\", \"source\", \"source_class\", \"waterpoint_type\"]\n",
    "bool_cols = [\"unknown_construction_yr\"]"
   ]
  },
  {
   "cell_type": "code",
   "execution_count": 98,
   "metadata": {},
   "outputs": [],
   "source": [
    "#subpipes for Pipeline 1. #using the mean for the imputer\n",
    "subpipe_num = Pipeline(steps=[(\"num_impute\", SimpleImputer(strategy=\"mean\")),(\"ss\", StandardScaler())])\n",
    "subpipe_cat = Pipeline(steps=[(\"ohe\", OneHotEncoder(sparse=False, handle_unknown=\"ignore\"))])\n",
    "subpipe_ord = Pipeline(steps= [(\"ord_encode\", OrdinalEncoder())])"
   ]
  },
  {
   "cell_type": "code",
   "execution_count": 99,
   "metadata": {},
   "outputs": [],
   "source": [
    "#subpipes for Pipeline 2\n",
    "subpipe_num2 = Pipeline(steps=[(\"num_impute\", SimpleImputer(strategy=\"median\")),(\"mm\", MinMaxScaler())])\n",
    "subpipe_cat2 = Pipeline(steps=[(\"ohe\", OneHotEncoder(sparse=False, handle_unknown=\"ignore\"))])\n",
    "subpipe_ord2 = Pipeline(steps= [(\"ord_encode\", OrdinalEncoder())])"
   ]
  },
  {
   "cell_type": "code",
   "execution_count": 100,
   "metadata": {},
   "outputs": [],
   "source": [
    "#Column Transformers\n",
    "CT = ColumnTransformer(transformers=[\n",
    "                                    (\"subpipe_num\", subpipe_num, numeric_cols), \n",
    "                                     (\"subpipe_cat\", subpipe_cat, cat_cols),\n",
    "                                    (\"subpipe_ord\", subpipe_ord, bool_cols)\n",
    "                                    ], \n",
    "                       remainder=\"drop\"\n",
    "                      )"
   ]
  },
  {
   "cell_type": "code",
   "execution_count": 101,
   "metadata": {},
   "outputs": [],
   "source": [
    "#Column Transformers\n",
    "CT2 = ColumnTransformer(transformers=[\n",
    "                                    (\"subpipe_num2\", subpipe_num2, numeric_cols), \n",
    "                                     (\"subpipe_cat2\", subpipe_cat2, cat_cols),\n",
    "                                    (\"subpipe_ord2\", subpipe_ord2, bool_cols)\n",
    "                                    ], \n",
    "                       remainder=\"drop\"\n",
    "                      )"
   ]
  },
  {
   "cell_type": "markdown",
   "metadata": {},
   "source": [
    "## MODELS\n",
    "We took an iterative process - we first created a Baseline Model. Then we created several more models - a Logistical, a KNN, a Decision Tree, and a RandomForest Model. We than evaluated each based on two metrics - accuracy and precision. We compared each of these models to the Baseline model. "
   ]
  },
  {
   "cell_type": "markdown",
   "metadata": {},
   "source": [
    "####  Model 1- Baseline Model (Dummy Model)\n",
    "- shouldn't it be predicting that everything is the 0/functional? Dont think that is happening."
   ]
  },
  {
   "cell_type": "code",
   "execution_count": 74,
   "metadata": {},
   "outputs": [],
   "source": [
    "dummy_model_pipe = Pipeline(steps=[('ct', CT), ('dum', \n",
    "                                                DummyClassifier(strategy=\"most_frequent\",random_state=42))])"
   ]
  },
  {
   "cell_type": "code",
   "execution_count": 75,
   "metadata": {},
   "outputs": [
    {
     "data": {
      "text/plain": [
       "Pipeline(steps=[('ct',\n",
       "                 ColumnTransformer(transformers=[('subpipe_num',\n",
       "                                                  Pipeline(steps=[('num_impute',\n",
       "                                                                   SimpleImputer()),\n",
       "                                                                  ('ss',\n",
       "                                                                   StandardScaler())]),\n",
       "                                                  ['amount_tsh', 'gps_height',\n",
       "                                                   'age_at_inspection',\n",
       "                                                   'water_per_person']),\n",
       "                                                 ('subpipe_cat',\n",
       "                                                  Pipeline(steps=[('ohe',\n",
       "                                                                   OneHotEncoder(handle_unknown='ignore',\n",
       "                                                                                 sparse=False))]),\n",
       "                                                  ['basin', 'region',\n",
       "                                                   'region_code', 'lga',\n",
       "                                                   'public_m...\n",
       "                                                   'scheme_management',\n",
       "                                                   'permit',\n",
       "                                                   'extraction_type_group',\n",
       "                                                   'extraction_type_class',\n",
       "                                                   'management',\n",
       "                                                   'management_group',\n",
       "                                                   'payment', 'quality_group',\n",
       "                                                   'quantity', 'source',\n",
       "                                                   'source_class',\n",
       "                                                   'waterpoint_type']),\n",
       "                                                 ('subpipe_ord',\n",
       "                                                  Pipeline(steps=[('ord_encode',\n",
       "                                                                   OrdinalEncoder())]),\n",
       "                                                  ['unknown_construction_yr'])])),\n",
       "                ('dum',\n",
       "                 DummyClassifier(random_state=42, strategy='most_frequent'))])"
      ]
     },
     "execution_count": 75,
     "metadata": {},
     "output_type": "execute_result"
    }
   ],
   "source": [
    "dummy_model_pipe.fit(X_train, y_train)"
   ]
  },
  {
   "cell_type": "code",
   "execution_count": 76,
   "metadata": {},
   "outputs": [
    {
     "data": {
      "text/plain": [
       "0.542334455667789"
      ]
     },
     "execution_count": 76,
     "metadata": {},
     "output_type": "execute_result"
    }
   ],
   "source": [
    "dummy_model_pipe.score(X_train, y_train)"
   ]
  },
  {
   "cell_type": "code",
   "execution_count": 77,
   "metadata": {},
   "outputs": [
    {
     "data": {
      "image/png": "[encoded data removed]",
      "text/plain": [
       "<Figure size 432x288 with 2 Axes>"
      ]
     },
     "metadata": {
      "needs_background": "light"
     },
     "output_type": "display_data"
    }
   ],
   "source": [
    "fig, ax = plt.subplots()\n",
    "\n",
    "fig.suptitle(\"Dummy Model\")\n",
    "\n",
    "#Plot confusion matrix\n",
    "plot_confusion_matrix(dummy_model_pipe, X_train, y_train, ax =ax);"
   ]
  },
  {
   "cell_type": "code",
   "execution_count": 78,
   "metadata": {},
   "outputs": [],
   "source": [
    "dummy_y_pred = dummy_model_pipe.predict(X_test)"
   ]
  },
  {
   "cell_type": "code",
   "execution_count": 79,
   "metadata": {},
   "outputs": [
    {
     "name": "stdout",
     "output_type": "stream",
     "text": [
      "              precision    recall  f1-score   support\n",
      "\n",
      "           0       0.55      1.00      0.71      8098\n",
      "           1       1.00      0.00      0.00      1074\n",
      "           2       1.00      0.00      0.00      5678\n",
      "\n",
      "    accuracy                           0.55     14850\n",
      "   macro avg       0.85      0.33      0.24     14850\n",
      "weighted avg       0.75      0.55      0.38     14850\n",
      "\n"
     ]
    }
   ],
   "source": [
    "print(classification_report(y_test, dummy_y_pred, zero_division=1));"
   ]
  },
  {
   "cell_type": "code",
   "execution_count": 80,
   "metadata": {},
   "outputs": [
    {
     "data": {
      "text/plain": [
       "array([[8098,    0,    0],\n",
       "       [1074,    0,    0],\n",
       "       [5678,    0,    0]])"
      ]
     },
     "execution_count": 80,
     "metadata": {},
     "output_type": "execute_result"
    }
   ],
   "source": [
    "confusion_matrix(y_test, dummy_y_pred)"
   ]
  },
  {
   "cell_type": "markdown",
   "metadata": {},
   "source": [
    "####  Model 2 - Logistic Regression Model "
   ]
  },
  {
   "cell_type": "code",
   "execution_count": 50,
   "metadata": {},
   "outputs": [],
   "source": [
    "log_model_pipe = Pipeline(steps=[('ct', CT), \n",
    "                                    ('log', LogisticRegression(random_state=42, max_iter=1000))])"
   ]
  },
  {
   "cell_type": "code",
   "execution_count": 51,
   "metadata": {},
   "outputs": [
    {
     "data": {
      "text/plain": [
       "0.7508641975308642"
      ]
     },
     "execution_count": 51,
     "metadata": {},
     "output_type": "execute_result"
    }
   ],
   "source": [
    "log_model_pipe.fit(X_train, y_train)\n",
    "log_model_pipe.score(X_train, y_train)"
   ]
  },
  {
   "cell_type": "code",
   "execution_count": 52,
   "metadata": {},
   "outputs": [
    {
     "name": "stdout",
     "output_type": "stream",
     "text": [
      "              precision    recall  f1-score   support\n",
      "\n",
      "           0       0.74      0.89      0.80      8098\n",
      "           1       0.51      0.12      0.20      1074\n",
      "           2       0.78      0.66      0.72      5678\n",
      "\n",
      "    accuracy                           0.75     14850\n",
      "   macro avg       0.68      0.56      0.57     14850\n",
      "weighted avg       0.74      0.75      0.73     14850\n",
      "\n"
     ]
    }
   ],
   "source": [
    "log_y_pred = log_model_pipe.predict(X_test)\n",
    "print(classification_report(y_test, log_y_pred));"
   ]
  },
  {
   "cell_type": "markdown",
   "metadata": {},
   "source": [
    "####  Model 3 - K Nearest Neighbors Model "
   ]
  },
  {
   "cell_type": "code",
   "execution_count": 102,
   "metadata": {},
   "outputs": [],
   "source": [
    "knneighbors_model_pipe = Pipeline(steps=[('ct', CT2), ('knn', KNeighborsClassifier(\n",
    "    metric='manhattan', n_neighbors=5, weights='distance'))])"
   ]
  },
  {
   "cell_type": "code",
   "execution_count": 103,
   "metadata": {},
   "outputs": [
    {
     "data": {
      "text/plain": [
       "Pipeline(steps=[('ct',\n",
       "                 ColumnTransformer(transformers=[('subpipe_num2',\n",
       "                                                  Pipeline(steps=[('num_impute',\n",
       "                                                                   SimpleImputer(strategy='median')),\n",
       "                                                                  ('mm',\n",
       "                                                                   MinMaxScaler())]),\n",
       "                                                  ['amount_tsh', 'gps_height',\n",
       "                                                   'age_at_inspection',\n",
       "                                                   'water_per_person']),\n",
       "                                                 ('subpipe_cat2',\n",
       "                                                  Pipeline(steps=[('ohe',\n",
       "                                                                   OneHotEncoder(handle_unknown='ignore',\n",
       "                                                                                 sparse=False))]),\n",
       "                                                  ['basin', 'region',\n",
       "                                                   'region_code...\n",
       "                                                   'scheme_management',\n",
       "                                                   'permit',\n",
       "                                                   'extraction_type_group',\n",
       "                                                   'extraction_type_class',\n",
       "                                                   'management',\n",
       "                                                   'management_group',\n",
       "                                                   'payment', 'quality_group',\n",
       "                                                   'quantity', 'source',\n",
       "                                                   'source_class',\n",
       "                                                   'waterpoint_type']),\n",
       "                                                 ('subpipe_ord2',\n",
       "                                                  Pipeline(steps=[('ord_encode',\n",
       "                                                                   OrdinalEncoder())]),\n",
       "                                                  ['unknown_construction_yr'])])),\n",
       "                ('knn',\n",
       "                 KNeighborsClassifier(metric='manhattan', weights='distance'))])"
      ]
     },
     "execution_count": 103,
     "metadata": {},
     "output_type": "execute_result"
    }
   ],
   "source": [
    "knneighbors_model_pipe.fit(X_train, y_train)"
   ]
  },
  {
   "cell_type": "code",
   "execution_count": 104,
   "metadata": {},
   "outputs": [
    {
     "data": {
      "text/plain": [
       "0.9350392817059484"
      ]
     },
     "execution_count": 104,
     "metadata": {},
     "output_type": "execute_result"
    }
   ],
   "source": [
    "knneighbors_model_pipe.score(X_train, y_train)"
   ]
  },
  {
   "cell_type": "code",
   "execution_count": 105,
   "metadata": {},
   "outputs": [
    {
     "name": "stdout",
     "output_type": "stream",
     "text": [
      "              precision    recall  f1-score   support\n",
      "\n",
      "           0       0.79      0.83      0.81      8098\n",
      "           1       0.41      0.38      0.39      1074\n",
      "           2       0.79      0.74      0.76      5678\n",
      "\n",
      "    accuracy                           0.76     14850\n",
      "   macro avg       0.66      0.65      0.66     14850\n",
      "weighted avg       0.76      0.76      0.76     14850\n",
      "\n"
     ]
    }
   ],
   "source": [
    "knn_y_pred = knneighbors_model_pipe.predict(X_test)\n",
    "print(classification_report(y_test, knn_y_pred));"
   ]
  },
  {
   "cell_type": "markdown",
   "metadata": {},
   "source": [
    "####  Model 4 - Decision Tree Model \n",
    "?? whats going DT?"
   ]
  },
  {
   "cell_type": "code",
   "execution_count": 93,
   "metadata": {},
   "outputs": [],
   "source": [
    "dct_model_pipe = Pipeline(steps=[('ct', CT), ('Dct', DecisionTreeClassifier(\n",
    "    class_weight='balanced', criterion='entropy', min_impurity_decrease=2))])"
   ]
  },
  {
   "cell_type": "code",
   "execution_count": 94,
   "metadata": {},
   "outputs": [
    {
     "data": {
      "text/plain": [
       "Pipeline(steps=[('ct',\n",
       "                 ColumnTransformer(transformers=[('subpipe_num',\n",
       "                                                  Pipeline(steps=[('num_impute',\n",
       "                                                                   SimpleImputer()),\n",
       "                                                                  ('ss',\n",
       "                                                                   StandardScaler())]),\n",
       "                                                  ['amount_tsh', 'gps_height',\n",
       "                                                   'age_at_inspection',\n",
       "                                                   'water_per_person']),\n",
       "                                                 ('subpipe_cat',\n",
       "                                                  Pipeline(steps=[('ohe',\n",
       "                                                                   OneHotEncoder(handle_unknown='ignore',\n",
       "                                                                                 sparse=False))]),\n",
       "                                                  ['basin', 'region',\n",
       "                                                   'region_code', 'lga',\n",
       "                                                   'public_m...\n",
       "                                                   'extraction_type_group',\n",
       "                                                   'extraction_type_class',\n",
       "                                                   'management',\n",
       "                                                   'management_group',\n",
       "                                                   'payment', 'quality_group',\n",
       "                                                   'quantity', 'source',\n",
       "                                                   'source_class',\n",
       "                                                   'waterpoint_type']),\n",
       "                                                 ('subpipe_ord',\n",
       "                                                  Pipeline(steps=[('ord_encode',\n",
       "                                                                   OrdinalEncoder())]),\n",
       "                                                  ['unknown_construction_yr'])])),\n",
       "                ('Dct',\n",
       "                 DecisionTreeClassifier(class_weight='balanced',\n",
       "                                        criterion='entropy',\n",
       "                                        min_impurity_decrease=2))])"
      ]
     },
     "execution_count": 94,
     "metadata": {},
     "output_type": "execute_result"
    }
   ],
   "source": [
    "dct_model_pipe.fit(X_train, y_train)"
   ]
  },
  {
   "cell_type": "code",
   "execution_count": 95,
   "metadata": {},
   "outputs": [
    {
     "data": {
      "text/plain": [
       "0.3848709315375982"
      ]
     },
     "execution_count": 95,
     "metadata": {},
     "output_type": "execute_result"
    }
   ],
   "source": [
    "dct_model_pipe.score(X_train, y_train)"
   ]
  },
  {
   "cell_type": "code",
   "execution_count": 96,
   "metadata": {},
   "outputs": [
    {
     "name": "stdout",
     "output_type": "stream",
     "text": [
      "              precision    recall  f1-score   support\n",
      "\n",
      "           0       1.00      0.00      0.00      8098\n",
      "           1       1.00      0.00      0.00      1074\n",
      "           2       0.38      1.00      0.55      5678\n",
      "\n",
      "    accuracy                           0.38     14850\n",
      "   macro avg       0.79      0.33      0.18     14850\n",
      "weighted avg       0.76      0.38      0.21     14850\n",
      "\n"
     ]
    }
   ],
   "source": [
    "dct_y_pred = dct_model_pipe.predict(X_test)\n",
    "print(classification_report(y_test, dct_y_pred, zero_division=1 ));"
   ]
  },
  {
   "cell_type": "markdown",
   "metadata": {},
   "source": [
    "####  Model 5 - Random Forest Model "
   ]
  },
  {
   "cell_type": "code",
   "execution_count": 149,
   "metadata": {},
   "outputs": [],
   "source": [
    "rfc_model_pipe = Pipeline(steps=[('ct', CT), ('rfc', RandomForestClassifier(random_state=42))])"
   ]
  },
  {
   "cell_type": "code",
   "execution_count": 150,
   "metadata": {},
   "outputs": [
    {
     "data": {
      "text/plain": [
       "Pipeline(steps=[('ct',\n",
       "                 ColumnTransformer(transformers=[('subpipe_num',\n",
       "                                                  Pipeline(steps=[('num_impute',\n",
       "                                                                   SimpleImputer()),\n",
       "                                                                  ('ss',\n",
       "                                                                   StandardScaler())]),\n",
       "                                                  ['amount_tsh', 'gps_height',\n",
       "                                                   'age_at_inspection',\n",
       "                                                   'water_per_person']),\n",
       "                                                 ('subpipe_cat',\n",
       "                                                  Pipeline(steps=[('ohe',\n",
       "                                                                   OneHotEncoder(handle_unknown='ignore',\n",
       "                                                                                 sparse=False))]),\n",
       "                                                  ['basin', 'region',\n",
       "                                                   'region_code', 'lga',\n",
       "                                                   'public_meeting',\n",
       "                                                   'scheme_management',\n",
       "                                                   'permit',\n",
       "                                                   'extraction_type_group',\n",
       "                                                   'extraction_type_class',\n",
       "                                                   'management',\n",
       "                                                   'management_group',\n",
       "                                                   'payment', 'quality_group',\n",
       "                                                   'quantity', 'source',\n",
       "                                                   'source_class',\n",
       "                                                   'waterpoint_type']),\n",
       "                                                 ('subpipe_ord',\n",
       "                                                  Pipeline(steps=[('ord_encode',\n",
       "                                                                   OrdinalEncoder())]),\n",
       "                                                  ['unknown_construction_yr'])])),\n",
       "                ('rfc', RandomForestClassifier(random_state=42))])"
      ]
     },
     "execution_count": 150,
     "metadata": {},
     "output_type": "execute_result"
    }
   ],
   "source": [
    "rfc_model_pipe.fit(X_train, y_train)"
   ]
  },
  {
   "cell_type": "code",
   "execution_count": 151,
   "metadata": {},
   "outputs": [
    {
     "data": {
      "text/plain": [
       "0.9418630751964086"
      ]
     },
     "execution_count": 151,
     "metadata": {},
     "output_type": "execute_result"
    }
   ],
   "source": [
    "rfc_model_pipe.score(X_train, y_train)"
   ]
  },
  {
   "cell_type": "code",
   "execution_count": 152,
   "metadata": {},
   "outputs": [
    {
     "name": "stdout",
     "output_type": "stream",
     "text": [
      "              precision    recall  f1-score   support\n",
      "\n",
      "           0       0.80      0.86      0.83      8098\n",
      "           1       0.46      0.36      0.40      1074\n",
      "           2       0.81      0.75      0.78      5678\n",
      "\n",
      "    accuracy                           0.78     14850\n",
      "   macro avg       0.69      0.66      0.67     14850\n",
      "weighted avg       0.78      0.78      0.78     14850\n",
      "\n"
     ]
    }
   ],
   "source": [
    "rfc_y_preds = rfc_model_pipe.predict(X_test)\n",
    "\n",
    "print(classification_report(y_test, rfc_y_preds))"
   ]
  },
  {
   "cell_type": "markdown",
   "metadata": {},
   "source": [
    "### Comparison of First 5 Models"
   ]
  },
  {
   "cell_type": "markdown",
   "metadata": {},
   "source": [
    "### WORDS"
   ]
  },
  {
   "cell_type": "markdown",
   "metadata": {},
   "source": [
    "<img src='images/Model_Results.png' width=100%/>"
   ]
  },
  {
   "cell_type": "markdown",
   "metadata": {},
   "source": [
    "## GridSearch and Model Optimization\n",
    "We decided that the Logistical Model didnt do much better than our Dummy Model. While precison was high for our repair pump class - the recall was very low. The f1 score was the lowest - so we turned our attention to our other models. We feel that we can get better metrics. So we decided to run several GridSearches to find the optimal hyperparameters for our KNN, Decision Tree, and RandomForest Models. "
   ]
  },
  {
   "cell_type": "markdown",
   "metadata": {},
   "source": [
    "####  Model 6 - Optimized KNN Model "
   ]
  },
  {
   "cell_type": "code",
   "execution_count": 123,
   "metadata": {},
   "outputs": [],
   "source": [
    "knneighbors_model_pipe = Pipeline(steps=[('ct', CT2), ('knn', KNeighborsClassifier())])"
   ]
  },
  {
   "cell_type": "code",
   "execution_count": null,
   "metadata": {},
   "outputs": [],
   "source": [
    "knn_pipe_grid = {\n",
    "    'knn__n_neighbors': [3, 5, 7, 9, 11, 13, 15, 17], \n",
    "    'knn__metric': ['minkowski', 'manhattan', 'euclidean'],\n",
    "    'knn__weights': ['uniform', 'distance']\n",
    "\n",
    "}\n",
    "\n",
    "\n",
    "knn_gs_pipe = GridSearchCV(estimator=knneighbors_model_pipe, param_grid=knn_pipe_grid)"
   ]
  },
  {
   "cell_type": "markdown",
   "metadata": {},
   "source": [
    "<img src='images/KNN_Gridsearch.png' width=100%/>"
   ]
  },
  {
   "cell_type": "code",
   "execution_count": 128,
   "metadata": {},
   "outputs": [],
   "source": [
    "optimal_knneighbors_model_pipe = Pipeline(steps=[('ct', CT2), ('knn', KNeighborsClassifier(\n",
    "              metric='manhattan', n_neighbors=17, weights='distance'))])"
   ]
  },
  {
   "cell_type": "code",
   "execution_count": 129,
   "metadata": {},
   "outputs": [
    {
     "data": {
      "text/plain": [
       "Pipeline(steps=[('ct',\n",
       "                 ColumnTransformer(transformers=[('subpipe_num2',\n",
       "                                                  Pipeline(steps=[('num_impute',\n",
       "                                                                   SimpleImputer(strategy='median')),\n",
       "                                                                  ('mm',\n",
       "                                                                   MinMaxScaler())]),\n",
       "                                                  ['amount_tsh', 'gps_height',\n",
       "                                                   'age_at_inspection',\n",
       "                                                   'water_per_person']),\n",
       "                                                 ('subpipe_cat2',\n",
       "                                                  Pipeline(steps=[('ohe',\n",
       "                                                                   OneHotEncoder(handle_unknown='ignore',\n",
       "                                                                                 sparse=False))]),\n",
       "                                                  ['basin', 'region',\n",
       "                                                   'region_code...\n",
       "                                                   'permit',\n",
       "                                                   'extraction_type_group',\n",
       "                                                   'extraction_type_class',\n",
       "                                                   'management',\n",
       "                                                   'management_group',\n",
       "                                                   'payment', 'quality_group',\n",
       "                                                   'quantity', 'source',\n",
       "                                                   'source_class',\n",
       "                                                   'waterpoint_type']),\n",
       "                                                 ('subpipe_ord2',\n",
       "                                                  Pipeline(steps=[('ord_encode',\n",
       "                                                                   OrdinalEncoder())]),\n",
       "                                                  ['unknown_construction_yr'])])),\n",
       "                ('knn',\n",
       "                 KNeighborsClassifier(metric='manhattan', n_neighbors=17,\n",
       "                                      weights='distance'))])"
      ]
     },
     "execution_count": 129,
     "metadata": {},
     "output_type": "execute_result"
    }
   ],
   "source": [
    "optimal_knneighbors_model_pipe.fit(X_train, y_train)"
   ]
  },
  {
   "cell_type": "code",
   "execution_count": 130,
   "metadata": {},
   "outputs": [
    {
     "data": {
      "text/plain": [
       "0.9412121212121212"
      ]
     },
     "execution_count": 130,
     "metadata": {},
     "output_type": "execute_result"
    }
   ],
   "source": [
    "optimal_knneighbors_model_pipe.score(X_train, y_train)"
   ]
  },
  {
   "cell_type": "code",
   "execution_count": 131,
   "metadata": {},
   "outputs": [
    {
     "name": "stdout",
     "output_type": "stream",
     "text": [
      "              precision    recall  f1-score   support\n",
      "\n",
      "           0       0.79      0.86      0.82      8098\n",
      "           1       0.47      0.35      0.40      1074\n",
      "           2       0.80      0.74      0.77      5678\n",
      "\n",
      "    accuracy                           0.77     14850\n",
      "   macro avg       0.68      0.65      0.66     14850\n",
      "weighted avg       0.77      0.77      0.77     14850\n",
      "\n"
     ]
    }
   ],
   "source": [
    "opt_knn_y_preds = optimal_knneighbors_model_pipe.predict(X_test)\n",
    "\n",
    "print(classification_report(y_test, opt_knn_y_preds))"
   ]
  },
  {
   "cell_type": "markdown",
   "metadata": {},
   "source": [
    "####  Model 7 - Optimized Decision Tree Model "
   ]
  },
  {
   "cell_type": "code",
   "execution_count": null,
   "metadata": {},
   "outputs": [],
   "source": [
    "dct_model_pipe = Pipeline(steps=[('ct', CT), ('dct', DecisionTreeClassifier(random_state=42))])"
   ]
  },
  {
   "cell_type": "code",
   "execution_count": null,
   "metadata": {},
   "outputs": [],
   "source": [
    "pipe_grid_dt = {\n",
    "    'dt__criterion': ['gini', 'entropy', 'log_loss'], \n",
    "    'dt__class_weight': ['None', 'balanced'],\n",
    "    'dt__min_impurity_decrease': [0.15, 0.2, 0.3]\n",
    "\n",
    "}\n",
    "\n",
    "\n",
    "gs_pipe_dt = GridSearchCV(estimator=dt_model_pipe, param_grid=pipe_grid_dt)"
   ]
  },
  {
   "cell_type": "markdown",
   "metadata": {},
   "source": [
    "<img src='images/DCT_Gridsearch.png' width=100%/>"
   ]
  },
  {
   "cell_type": "code",
   "execution_count": 132,
   "metadata": {},
   "outputs": [],
   "source": [
    "optimal_dct_model_pipe = Pipeline(steps=[('ct', CT), ('Dct', DecisionTreeClassifier(\n",
    "    class_weight=None, criterion='gini', min_impurity_decrease=0.15))])"
   ]
  },
  {
   "cell_type": "code",
   "execution_count": 133,
   "metadata": {},
   "outputs": [
    {
     "data": {
      "text/plain": [
       "Pipeline(steps=[('ct',\n",
       "                 ColumnTransformer(transformers=[('subpipe_num',\n",
       "                                                  Pipeline(steps=[('num_impute',\n",
       "                                                                   SimpleImputer()),\n",
       "                                                                  ('ss',\n",
       "                                                                   StandardScaler())]),\n",
       "                                                  ['amount_tsh', 'gps_height',\n",
       "                                                   'age_at_inspection',\n",
       "                                                   'water_per_person']),\n",
       "                                                 ('subpipe_cat',\n",
       "                                                  Pipeline(steps=[('ohe',\n",
       "                                                                   OneHotEncoder(handle_unknown='ignore',\n",
       "                                                                                 sparse=False))]),\n",
       "                                                  ['basin', 'region',\n",
       "                                                   'region_code', 'lga',\n",
       "                                                   'public_m...g',\n",
       "                                                   'scheme_management',\n",
       "                                                   'permit',\n",
       "                                                   'extraction_type_group',\n",
       "                                                   'extraction_type_class',\n",
       "                                                   'management',\n",
       "                                                   'management_group',\n",
       "                                                   'payment', 'quality_group',\n",
       "                                                   'quantity', 'source',\n",
       "                                                   'source_class',\n",
       "                                                   'waterpoint_type']),\n",
       "                                                 ('subpipe_ord',\n",
       "                                                  Pipeline(steps=[('ord_encode',\n",
       "                                                                   OrdinalEncoder())]),\n",
       "                                                  ['unknown_construction_yr'])])),\n",
       "                ('Dct', DecisionTreeClassifier(min_impurity_decrease=0.15))])"
      ]
     },
     "execution_count": 133,
     "metadata": {},
     "output_type": "execute_result"
    }
   ],
   "source": [
    "optimal_dct_model_pipe.fit(X_train, y_train)"
   ]
  },
  {
   "cell_type": "code",
   "execution_count": 134,
   "metadata": {},
   "outputs": [
    {
     "data": {
      "text/plain": [
       "0.542334455667789"
      ]
     },
     "execution_count": 134,
     "metadata": {},
     "output_type": "execute_result"
    }
   ],
   "source": [
    "optimal_dct_model_pipe.score(X_train, y_train)"
   ]
  },
  {
   "cell_type": "code",
   "execution_count": 135,
   "metadata": {},
   "outputs": [
    {
     "name": "stdout",
     "output_type": "stream",
     "text": [
      "              precision    recall  f1-score   support\n",
      "\n",
      "           0       0.55      1.00      0.71      8098\n",
      "           1       1.00      0.00      0.00      1074\n",
      "           2       1.00      0.00      0.00      5678\n",
      "\n",
      "    accuracy                           0.55     14850\n",
      "   macro avg       0.85      0.33      0.24     14850\n",
      "weighted avg       0.75      0.55      0.38     14850\n",
      "\n"
     ]
    }
   ],
   "source": [
    "opt_dct_y_pred = optimal_dct_model_pipe.predict(X_test)\n",
    "print(classification_report(y_test, opt_dct_y_pred, zero_division=1 ));"
   ]
  },
  {
   "cell_type": "markdown",
   "metadata": {},
   "source": [
    "####  Model 8 - Optimized Random Forest Model "
   ]
  },
  {
   "cell_type": "code",
   "execution_count": null,
   "metadata": {},
   "outputs": [],
   "source": [
    "rfc_model_pipe = Pipeline(steps=[('ct', CT), ('rfc', RandomForestClassifier(random_state=42))])"
   ]
  },
  {
   "cell_type": "code",
   "execution_count": null,
   "metadata": {},
   "outputs": [],
   "source": [
    "pipe_grid_rfc = { \n",
    "    'rfc__criterion': ['gini', 'entropy'],\n",
    "    'rfc__min_samples_leaf': [5, 10, 30],\n",
    "    'rfc__n_estimators': [50, 100, 150],\n",
    "}\n",
    "\n",
    "gs_pipe_rfc = GridSearchCV(estimator = rfc_model_pipe, param_grid=pipe_grid_rfc)"
   ]
  },
  {
   "cell_type": "markdown",
   "metadata": {},
   "source": [
    "<img src='images/RFC_Gridsearch1.png' width=100%/>"
   ]
  },
  {
   "cell_type": "code",
   "execution_count": 145,
   "metadata": {},
   "outputs": [],
   "source": [
    "optimal_rfc_model_pipe = Pipeline(steps=[('ct', CT), ('rfc', RandomForestClassifier(random_state=42, \n",
    "                                criterion='gini', min_samples_leaf=5, n_estimators=100))])"
   ]
  },
  {
   "cell_type": "code",
   "execution_count": 146,
   "metadata": {},
   "outputs": [
    {
     "data": {
      "text/plain": [
       "Pipeline(steps=[('ct',\n",
       "                 ColumnTransformer(transformers=[('subpipe_num',\n",
       "                                                  Pipeline(steps=[('num_impute',\n",
       "                                                                   SimpleImputer()),\n",
       "                                                                  ('ss',\n",
       "                                                                   StandardScaler())]),\n",
       "                                                  ['amount_tsh', 'gps_height',\n",
       "                                                   'age_at_inspection',\n",
       "                                                   'water_per_person']),\n",
       "                                                 ('subpipe_cat',\n",
       "                                                  Pipeline(steps=[('ohe',\n",
       "                                                                   OneHotEncoder(handle_unknown='ignore',\n",
       "                                                                                 sparse=False))]),\n",
       "                                                  ['basin', 'region',\n",
       "                                                   'region_code', 'lga',\n",
       "                                                   'public_m...\n",
       "                                                   'scheme_management',\n",
       "                                                   'permit',\n",
       "                                                   'extraction_type_group',\n",
       "                                                   'extraction_type_class',\n",
       "                                                   'management',\n",
       "                                                   'management_group',\n",
       "                                                   'payment', 'quality_group',\n",
       "                                                   'quantity', 'source',\n",
       "                                                   'source_class',\n",
       "                                                   'waterpoint_type']),\n",
       "                                                 ('subpipe_ord',\n",
       "                                                  Pipeline(steps=[('ord_encode',\n",
       "                                                                   OrdinalEncoder())]),\n",
       "                                                  ['unknown_construction_yr'])])),\n",
       "                ('rfc',\n",
       "                 RandomForestClassifier(min_samples_leaf=5, random_state=42))])"
      ]
     },
     "execution_count": 146,
     "metadata": {},
     "output_type": "execute_result"
    }
   ],
   "source": [
    "optimal_rfc_model_pipe.fit(X_train, y_train)"
   ]
  },
  {
   "cell_type": "code",
   "execution_count": 147,
   "metadata": {},
   "outputs": [
    {
     "data": {
      "text/plain": [
       "0.8051851851851852"
      ]
     },
     "execution_count": 147,
     "metadata": {},
     "output_type": "execute_result"
    }
   ],
   "source": [
    "optimal_rfc_model_pipe.score(X_train, y_train)"
   ]
  },
  {
   "cell_type": "code",
   "execution_count": 148,
   "metadata": {},
   "outputs": [
    {
     "name": "stdout",
     "output_type": "stream",
     "text": [
      "              precision    recall  f1-score   support\n",
      "\n",
      "           0       0.76      0.92      0.83      8098\n",
      "           1       0.65      0.19      0.29      1074\n",
      "           2       0.84      0.70      0.76      5678\n",
      "\n",
      "    accuracy                           0.78     14850\n",
      "   macro avg       0.75      0.60      0.63     14850\n",
      "weighted avg       0.78      0.78      0.77     14850\n",
      "\n"
     ]
    }
   ],
   "source": [
    "opt_rfc_y_pred = optimal_rfc_model_pipe.predict(X_test)\n",
    "print(classification_report(y_test, opt_rfc_y_pred));"
   ]
  },
  {
   "cell_type": "markdown",
   "metadata": {},
   "source": [
    "#### Optimal Model Comparisons"
   ]
  },
  {
   "cell_type": "markdown",
   "metadata": {},
   "source": [
    "<img src='images/Optimal_Model_Results.png' width=100%/>"
   ]
  },
  {
   "cell_type": "markdown",
   "metadata": {},
   "source": [
    "## Model Analysis\n",
    "\n",
    "Taking a look at our results - between our optimal KNN and Random Forest Models - we have pretty good scores on predicting which pumps are nonfunctional or functional (precision scores of 79% - KNN, and 81%(nonfunctional) and 80%(functional) for RFC.  \n",
    "\n",
    "Our models dont have a really high precison score in our class (1) of interest - so when we predict a pump is in need of repair - we are only accurate 47%(KNN) or 65% (RFC) of the time. We also see that recall scores for our target class is pretty bad - meaning both models arent doing a great job at finding the pumps that are in need of repair - our KNN model is 35% which is better than the Random Forest model's recall score of 19%.\n",
    "\n",
    "Overall our models arent doing a great job when it comes to predicting pumps in need of repair. We arent giving it enough information. This is probably due to the class imbalance we see in our target. only 7% of pumps are in need of repair compared to 54% (functioning) and 39%(nonfuctioning). Our next step is do try smoting the data to increase this minority class.\n"
   ]
  },
  {
   "cell_type": "markdown",
   "metadata": {},
   "source": [
    "# Start editing from here\n"
   ]
  },
  {
   "cell_type": "code",
   "execution_count": null,
   "metadata": {},
   "outputs": [],
   "source": [
    "error message to mark place"
   ]
  },
  {
   "cell_type": "code",
   "execution_count": null,
   "metadata": {},
   "outputs": [],
   "source": []
  },
  {
   "cell_type": "code",
   "execution_count": 163,
   "metadata": {},
   "outputs": [
    {
     "data": {
      "text/plain": [
       "Pipeline(steps=[('ohe', OneHotEncoder(handle_unknown='ignore', sparse=False))])"
      ]
     },
     "execution_count": 163,
     "metadata": {},
     "output_type": "execute_result"
    }
   ],
   "source": [
    "optimal_rfc_model_pipe.named_steps[\"ct\"].named_transformers_[\"subpipe_cat\"]"
   ]
  },
  {
   "cell_type": "code",
   "execution_count": 164,
   "metadata": {},
   "outputs": [
    {
     "data": {
      "text/plain": [
       "OneHotEncoder(handle_unknown='ignore', sparse=False)"
      ]
     },
     "execution_count": 164,
     "metadata": {},
     "output_type": "execute_result"
    }
   ],
   "source": [
    "optimal_rfc_model_pipe.named_steps[\"ct\"].named_transformers_[\"subpipe_cat\"].named_steps[\"ohe\"]"
   ]
  },
  {
   "cell_type": "code",
   "execution_count": 165,
   "metadata": {},
   "outputs": [],
   "source": [
    "cat_features_list = list(optimal_rfc_model_pipe.named_steps[\"ct\"].named_transformers_[\"subpipe_cat\"].named_steps[\"ohe\"].get_feature_names())\n"
   ]
  },
  {
   "cell_type": "code",
   "execution_count": 166,
   "metadata": {},
   "outputs": [
    {
     "data": {
      "text/html": [
       "<div>\n",
       "<style scoped>\n",
       "    .dataframe tbody tr th:only-of-type {\n",
       "        vertical-align: middle;\n",
       "    }\n",
       "\n",
       "    .dataframe tbody tr th {\n",
       "        vertical-align: top;\n",
       "    }\n",
       "\n",
       "    .dataframe thead th {\n",
       "        text-align: right;\n",
       "    }\n",
       "</style>\n",
       "<table border=\"1\" class=\"dataframe\">\n",
       "  <thead>\n",
       "    <tr style=\"text-align: right;\">\n",
       "      <th></th>\n",
       "      <th>amount_tsh</th>\n",
       "      <th>gps_height</th>\n",
       "      <th>basin</th>\n",
       "      <th>region</th>\n",
       "      <th>region_code</th>\n",
       "      <th>lga</th>\n",
       "      <th>public_meeting</th>\n",
       "      <th>scheme_management</th>\n",
       "      <th>permit</th>\n",
       "      <th>extraction_type_group</th>\n",
       "      <th>...</th>\n",
       "      <th>management_group</th>\n",
       "      <th>payment</th>\n",
       "      <th>quality_group</th>\n",
       "      <th>quantity</th>\n",
       "      <th>source</th>\n",
       "      <th>source_class</th>\n",
       "      <th>waterpoint_type</th>\n",
       "      <th>water_per_person</th>\n",
       "      <th>unknown_construction_yr</th>\n",
       "      <th>age_at_inspection</th>\n",
       "    </tr>\n",
       "  </thead>\n",
       "  <tbody>\n",
       "    <tr>\n",
       "      <th>24947</th>\n",
       "      <td>20.0</td>\n",
       "      <td>330</td>\n",
       "      <td>Wami / Ruvu</td>\n",
       "      <td>Pwani</td>\n",
       "      <td>6</td>\n",
       "      <td>Bagamoyo</td>\n",
       "      <td>True</td>\n",
       "      <td>VWC</td>\n",
       "      <td>True</td>\n",
       "      <td>submersible</td>\n",
       "      <td>...</td>\n",
       "      <td>user-group</td>\n",
       "      <td>pay per bucket</td>\n",
       "      <td>salty</td>\n",
       "      <td>insufficient</td>\n",
       "      <td>machine dbh</td>\n",
       "      <td>groundwater</td>\n",
       "      <td>communal standpipe</td>\n",
       "      <td>0.25</td>\n",
       "      <td>False</td>\n",
       "      <td>39.0</td>\n",
       "    </tr>\n",
       "    <tr>\n",
       "      <th>22630</th>\n",
       "      <td>0.0</td>\n",
       "      <td>0</td>\n",
       "      <td>Lake Victoria</td>\n",
       "      <td>Mwanza</td>\n",
       "      <td>17</td>\n",
       "      <td>Magu</td>\n",
       "      <td>Unknown</td>\n",
       "      <td>WUG</td>\n",
       "      <td>False</td>\n",
       "      <td>nira/tanira</td>\n",
       "      <td>...</td>\n",
       "      <td>user-group</td>\n",
       "      <td>unknown</td>\n",
       "      <td>good</td>\n",
       "      <td>enough</td>\n",
       "      <td>shallow well</td>\n",
       "      <td>groundwater</td>\n",
       "      <td>hand pump</td>\n",
       "      <td>NaN</td>\n",
       "      <td>True</td>\n",
       "      <td>NaN</td>\n",
       "    </tr>\n",
       "    <tr>\n",
       "      <th>13789</th>\n",
       "      <td>0.0</td>\n",
       "      <td>0</td>\n",
       "      <td>Lake Victoria</td>\n",
       "      <td>Mwanza</td>\n",
       "      <td>19</td>\n",
       "      <td>Kwimba</td>\n",
       "      <td>True</td>\n",
       "      <td>VWC</td>\n",
       "      <td>True</td>\n",
       "      <td>india mark ii</td>\n",
       "      <td>...</td>\n",
       "      <td>user-group</td>\n",
       "      <td>never pay</td>\n",
       "      <td>good</td>\n",
       "      <td>enough</td>\n",
       "      <td>machine dbh</td>\n",
       "      <td>groundwater</td>\n",
       "      <td>hand pump</td>\n",
       "      <td>NaN</td>\n",
       "      <td>True</td>\n",
       "      <td>NaN</td>\n",
       "    </tr>\n",
       "    <tr>\n",
       "      <th>15697</th>\n",
       "      <td>0.0</td>\n",
       "      <td>1542</td>\n",
       "      <td>Internal</td>\n",
       "      <td>Singida</td>\n",
       "      <td>13</td>\n",
       "      <td>Singida Urban</td>\n",
       "      <td>True</td>\n",
       "      <td>WUA</td>\n",
       "      <td>True</td>\n",
       "      <td>gravity</td>\n",
       "      <td>...</td>\n",
       "      <td>user-group</td>\n",
       "      <td>never pay</td>\n",
       "      <td>good</td>\n",
       "      <td>seasonal</td>\n",
       "      <td>rainwater harvesting</td>\n",
       "      <td>surface</td>\n",
       "      <td>communal standpipe</td>\n",
       "      <td>0.00</td>\n",
       "      <td>False</td>\n",
       "      <td>3.0</td>\n",
       "    </tr>\n",
       "    <tr>\n",
       "      <th>22613</th>\n",
       "      <td>0.0</td>\n",
       "      <td>523</td>\n",
       "      <td>Lake Nyasa</td>\n",
       "      <td>Ruvuma</td>\n",
       "      <td>10</td>\n",
       "      <td>Mbinga</td>\n",
       "      <td>Unknown</td>\n",
       "      <td>VWC</td>\n",
       "      <td>True</td>\n",
       "      <td>gravity</td>\n",
       "      <td>...</td>\n",
       "      <td>user-group</td>\n",
       "      <td>unknown</td>\n",
       "      <td>good</td>\n",
       "      <td>dry</td>\n",
       "      <td>spring</td>\n",
       "      <td>groundwater</td>\n",
       "      <td>communal standpipe</td>\n",
       "      <td>0.00</td>\n",
       "      <td>False</td>\n",
       "      <td>0.0</td>\n",
       "    </tr>\n",
       "  </tbody>\n",
       "</table>\n",
       "<p>5 rows × 22 columns</p>\n",
       "</div>"
      ],
      "text/plain": [
       "       amount_tsh  gps_height          basin   region region_code  \\\n",
       "24947        20.0         330    Wami / Ruvu    Pwani           6   \n",
       "22630         0.0           0  Lake Victoria   Mwanza          17   \n",
       "13789         0.0           0  Lake Victoria   Mwanza          19   \n",
       "15697         0.0        1542       Internal  Singida          13   \n",
       "22613         0.0         523     Lake Nyasa   Ruvuma          10   \n",
       "\n",
       "                 lga public_meeting scheme_management permit  \\\n",
       "24947       Bagamoyo           True               VWC   True   \n",
       "22630           Magu        Unknown               WUG  False   \n",
       "13789         Kwimba           True               VWC   True   \n",
       "15697  Singida Urban           True               WUA   True   \n",
       "22613         Mbinga        Unknown               VWC   True   \n",
       "\n",
       "      extraction_type_group  ... management_group         payment  \\\n",
       "24947           submersible  ...       user-group  pay per bucket   \n",
       "22630           nira/tanira  ...       user-group         unknown   \n",
       "13789         india mark ii  ...       user-group       never pay   \n",
       "15697               gravity  ...       user-group       never pay   \n",
       "22613               gravity  ...       user-group         unknown   \n",
       "\n",
       "      quality_group      quantity                source source_class  \\\n",
       "24947         salty  insufficient           machine dbh  groundwater   \n",
       "22630          good        enough          shallow well  groundwater   \n",
       "13789          good        enough           machine dbh  groundwater   \n",
       "15697          good      seasonal  rainwater harvesting      surface   \n",
       "22613          good           dry                spring  groundwater   \n",
       "\n",
       "          waterpoint_type water_per_person unknown_construction_yr  \\\n",
       "24947  communal standpipe             0.25                   False   \n",
       "22630           hand pump              NaN                    True   \n",
       "13789           hand pump              NaN                    True   \n",
       "15697  communal standpipe             0.00                   False   \n",
       "22613  communal standpipe             0.00                   False   \n",
       "\n",
       "       age_at_inspection  \n",
       "24947               39.0  \n",
       "22630                NaN  \n",
       "13789                NaN  \n",
       "15697                3.0  \n",
       "22613                0.0  \n",
       "\n",
       "[5 rows x 22 columns]"
      ]
     },
     "execution_count": 166,
     "metadata": {},
     "output_type": "execute_result"
    }
   ],
   "source": [
    "X_train.head()"
   ]
  },
  {
   "cell_type": "code",
   "execution_count": 167,
   "metadata": {},
   "outputs": [],
   "source": [
    "features_names = [\"amount_tsh\", \"gps_height\"] + cat_features_list + [\"water_per_person\", \"unknown_construction_yr\", \"age_at_inspection\"]"
   ]
  },
  {
   "cell_type": "code",
   "execution_count": 168,
   "metadata": {},
   "outputs": [],
   "source": [
    "rfc_importances = optimal_rfc_model_pipe.named_steps[\"rfc\"].feature_importances_"
   ]
  },
  {
   "cell_type": "code",
   "execution_count": 169,
   "metadata": {},
   "outputs": [],
   "source": [
    "optimal_rfc_model_feature_importance_dict = dict(zip(features_names, rfc_importances)) "
   ]
  },
  {
   "cell_type": "code",
   "execution_count": 170,
   "metadata": {},
   "outputs": [
    {
     "name": "stdout",
     "output_type": "stream",
     "text": [
      "x13_insufficient 0.14027828804465312\n",
      "x0_Internal 0.057160681954456206\n",
      "unknown_construction_yr 0.04565125216095784\n",
      "x13_seasonal 0.041893955617869655\n",
      "gps_height 0.037568398243498974\n",
      "x8_submersible 0.0371984312324623\n",
      "x7_other motorpump 0.03528754611593883\n",
      "amount_tsh 0.030390615163535174\n",
      "x0_Lake Nyasa 0.02677327859923114\n",
      "x16_dam 0.017414148876290045\n",
      "x13_unknown 0.016381528557518357\n",
      "x11_pay annually 0.015892779924744246\n",
      "x13_enough 0.013844224234665217\n",
      "x8_other 0.012956781291852182\n",
      "x7_india mark iii 0.012157186023959442\n",
      "x16_hand pump 0.011442730226705191\n",
      "x16_other 0.010415392092595913\n",
      "x9_water board 0.008819699641442094\n",
      "x15_groundwater 0.008808281986173505\n",
      "x7_other handpump 0.008114562655105274\n",
      "x11_unknown 0.007777268572419805\n",
      "x2_13 0.007407089676433712\n",
      "x14_unknown 0.007256007476073383\n",
      "x8_motorpump 0.007056124127864869\n",
      "x5_WUG 0.0068832860344387415\n",
      "x7_afridev 0.006827096711604138\n",
      "x1_Kigoma 0.006564751061853383\n",
      "x6_Unknown 0.0063321936871662465\n",
      "x16_cattle trough 0.006209891029728323\n",
      "x15_unknown 0.00591894803464038\n",
      "x14_dam 0.005807913798264512\n",
      "x12_fluoride 0.0057056089044114685\n",
      "x12_salty 0.0057050562891581445\n",
      "x3_Bukoba Rural 0.005585703401523375\n",
      "x0_Lake Rukwa 0.0055391762236687335\n",
      "x5_Company 0.005398792956269374\n",
      "x14_rainwater harvesting 0.0053899754431897436\n",
      "x14_shallow well 0.005285212631465989\n",
      "x4_Unknown 0.005192094231453913\n",
      "x11_pay when scheme fails 0.0050691113529368614\n",
      "x1_Lindi 0.004892341499275563\n",
      "age_at_inspection 0.00477370523401709\n",
      "x14_spring 0.004725791127862505\n",
      "x0_Rufiji 0.004402243946697579\n",
      "x0_Lake Tanganyika 0.004226874461926259\n",
      "x0_Pangani 0.004211650667498723\n",
      "x14_other 0.004095858628447624\n",
      "x9_company 0.00406920677513322\n",
      "x7_wind-powered 0.003974652258917689\n",
      "x11_other 0.0038390433835383685\n",
      "x8_rope pump 0.0037556427565725325\n",
      "x0_Lake Victoria 0.0037272532461753954\n",
      "x6_False 0.003664084944392287\n",
      "x2_18 0.0036061776594434624\n",
      "x2_19 0.003594608450712619\n",
      "x0_Ruvuma / Southern Coast 0.003428480983712975\n",
      "x5_Water authority 0.0033774363241396237\n",
      "x11_pay per bucket 0.003347814922368626\n",
      "x7_other 0.003339348974735253\n",
      "x1_Tabora 0.0032732185392708607\n",
      "x10_parastatal 0.003241746013667612\n",
      "x0_Wami / Ruvu 0.003229522168200141\n",
      "water_per_person 0.0031285508452536864\n",
      "x1_Dar es Salaam 0.002982226713927988\n",
      "x6_True 0.0029707458174351646\n",
      "x1_Arusha 0.0029658300458111986\n",
      "x1_Dodoma 0.0029271816329555834\n",
      "x9_wug 0.0029245704524297617\n",
      "x3_Kilolo 0.002909708538389043\n",
      "x7_gravity 0.0028986469401611\n",
      "x10_other 0.002861635389125832\n",
      "x9_trust 0.002832893253302638\n",
      "x5_WUA 0.002716448970492455\n",
      "x1_Manyara 0.002682259232283324\n",
      "x8_gravity 0.002574194262649624\n",
      "x1_Pwani 0.0025247394951586886\n",
      "x12_colored 0.0024665087057712605\n",
      "x3_Liwale 0.002445216283073592\n",
      "x13_dry 0.0024070170771346537\n",
      "x2_40 0.002401732825000169\n",
      "x2_21 0.002294229755931284\n",
      "x5_Other 0.0022665241144051752\n",
      "x1_Mtwara 0.0022566744944659905\n",
      "x1_Ruvuma 0.0022342508547334885\n",
      "x2_14 0.002232300368676628\n",
      "x3_Geita 0.0022263399115457346\n",
      "x2_17 0.0021995341252462734\n",
      "x2_20 0.002031191300510417\n",
      "x14_hand dtw 0.001994499719313637\n",
      "x1_Mwanza 0.0019936419661509648\n",
      "x2_5 0.001961710699365715\n",
      "x2_60 0.0019429371856442537\n",
      "x2_11 0.0019412602485523512\n",
      "x2_24 0.001934274265070502\n",
      "x1_Morogoro 0.0019340149770108097\n",
      "x1_Singida 0.0019070356925523183\n",
      "x1_Kagera 0.001892128176005008\n",
      "x3_Nyamagana 0.0018829037343494634\n",
      "x3_Ruangwa 0.001822667652649851\n",
      "x1_Rukwa 0.0018210844030856297\n",
      "x5_Parastatal 0.001790248282047666\n",
      "x2_2 0.001788166143035132\n",
      "x2_15 0.0017610759388880714\n",
      "x2_12 0.0017284045441309603\n",
      "x2_10 0.0017246659996750762\n",
      "x1_Shinyanga 0.0017222838026197318\n",
      "x1_Kilimanjaro 0.0017074795268243223\n",
      "x3_Arusha Rural 0.001660754995424304\n",
      "x7_india mark ii 0.0015538820301903389\n",
      "x3_Hanang 0.001545760157868272\n",
      "x3_Karatu 0.001454599391868456\n",
      "x3_Nachingwea 0.0014265495457743403\n",
      "x3_Korogwe 0.001415952821770182\n",
      "x3_Sengerema 0.0014090953001802834\n",
      "x5_Water Board 0.0014005652657728463\n",
      "x2_8 0.0013929729328791651\n",
      "x7_mono 0.001380807436038712\n",
      "x3_Manyoni 0.0013771413383558608\n",
      "x3_Mpwapwa 0.001342550935393732\n",
      "x10_commercial 0.0012833968012897438\n",
      "x1_Mbeya 0.0012345882589825069\n",
      "x3_Songea Rural 0.0012319554225832831\n",
      "x1_Tanga 0.001231878201420649\n",
      "x9_parastatal 0.0012068351455986677\n",
      "x2_3 0.0012008590282098861\n",
      "x3_Kwimba 0.0011611186154183656\n",
      "x3_Shinyanga Rural 0.00116062633910316\n",
      "x3_Meatu 0.0011392435465026054\n",
      "x3_Kinondoni 0.0011240408708564362\n",
      "x3_Bagamoyo 0.0011181700923703058\n",
      "x5_SWC 0.001112909529628102\n",
      "x3_Mvomero 0.001104981205730187\n",
      "x3_Kibondo 0.0010910889330277376\n",
      "x3_Mbeya Rural 0.0010893552263539494\n",
      "x2_1 0.0010630551576899924\n",
      "x9_wua 0.0010627578807944026\n",
      "x3_Mkinga 0.0010501553023749234\n",
      "x14_lake 0.0010468007427907964\n",
      "x3_Lindi Rural 0.0010406483803760364\n",
      "x2_16 0.0010290861337431958\n",
      "x3_Missungwi 0.0010272730153766951\n",
      "x2_7 0.0010126344363894564\n",
      "x1_Mara 0.0010022099480977657\n",
      "x9_school 0.0009845193105951155\n",
      "x3_Kilindi 0.0009545186086857753\n",
      "x10_user-group 0.0009270142796661236\n",
      "x12_unknown 0.0008973595288529923\n",
      "x3_Njombe 0.0008899993802713725\n",
      "x3_Serengeti 0.0008859621275911218\n",
      "x3_Simanjiro 0.0008764055583085252\n",
      "x3_Sumbawanga Urban 0.0008640718351561968\n",
      "x3_Siha 0.0008625896176566788\n",
      "x3_Same 0.0008310926857637833\n",
      "x3_Mtwara Rural 0.0007807864293678281\n",
      "x3_Namtumbo 0.0007774238630525805\n",
      "x3_Ngorongoro 0.0007757807863528248\n",
      "x3_Kibaha 0.0007520968495399033\n",
      "x9_private operator 0.0007379472247264484\n",
      "x3_Rorya 0.0007326483990467773\n",
      "x3_Shinyanga Urban 0.0007316054569781404\n",
      "x2_90 0.0007261095545467775\n",
      "x3_Urambo 0.00071596799103156\n",
      "x7_swn 80 0.0007156317964927884\n",
      "x3_Bahi 0.000706073191509088\n",
      "x5_Trust 0.0006849193905583414\n",
      "x3_Mufindi 0.0006750119994236297\n",
      "x10_unknown 0.0006683114858643421\n",
      "x3_Hai 0.0006665945151394533\n",
      "x5_Private operator 0.0006473384632727771\n",
      "x3_Maswa 0.0006414246527471145\n",
      "x3_Mbinga 0.000640457909583629\n",
      "x3_Masasi 0.0006332160954032959\n",
      "x3_Rungwe 0.0006244832777456062\n",
      "x3_Monduli 0.000622782485826095\n",
      "x3_Karagwe 0.0006222218213763541\n",
      "x3_Bunda 0.0006190749387508237\n",
      "x3_Mbarali 0.0006182004457480643\n",
      "x3_Tabora Urban 0.0006181134535410631\n",
      "x2_4 0.000610369103122192\n",
      "x8_wind-powered 0.00060608711230077\n",
      "x3_Magu 0.0005982140448712204\n",
      "x3_Chato 0.0005964406030185456\n",
      "x2_80 0.0005870801909085042\n",
      "x4_True 0.000584332636616407\n",
      "x3_Chunya 0.0005800076931706041\n",
      "x3_Kasulu 0.0005793985436444408\n",
      "x3_Kilwa 0.0005626864640686541\n",
      "x3_Ulanga 0.0005588040950936147\n",
      "x3_Mbulu 0.0005481541301022752\n",
      "x3_Bukombe 0.0005383177072835207\n",
      "x14_machine dbh 0.0005196569913204256\n",
      "x3_Mwanga 0.0005153014072480923\n",
      "x3_Igunga 0.0005138026832220959\n",
      "x4_False 0.000511371206755816\n",
      "x3_Makete 0.0005095951425299306\n",
      "x3_Mpanda 0.0005018057260698489\n",
      "x3_Morogoro Rural 0.0004912281633354084\n",
      "x1_Iringa 0.0004885360822258243\n",
      "x3_Ileje 0.0004883879079243646\n",
      "x3_Kilosa 0.0004843343643751067\n",
      "x3_Bariadi 0.00048131756626926763\n",
      "x3_Biharamulo 0.00046487800318255513\n",
      "x3_Iramba 0.00046427582841390523\n",
      "x3_Dodoma Urban 0.0004623659427743527\n",
      "x11_pay monthly 0.00045080096075377505\n",
      "x3_Rombo 0.00044549088809763844\n",
      "x3_Tunduru 0.00044530429559980005\n",
      "x3_Babati 0.00042921978228828694\n",
      "x3_Urban 0.00042794113132908805\n",
      "x3_Kondoa 0.00041975969501992976\n",
      "x2_9 0.00041650949282464033\n",
      "x3_Kyela 0.0004133520966223951\n",
      "x3_Moshi Rural 0.00040663467822839777\n",
      "x3_Newala 0.0004052386617685548\n",
      "x3_Longido 0.0003986066497856075\n",
      "x3_Meru 0.00038028475826030626\n",
      "x3_Musoma Rural 0.0003610269720481675\n",
      "x3_Misenyi 0.00035985976380136376\n",
      "x7_rope pump 0.0003527032691262642\n",
      "x16_communal standpipe 0.0003515056016208312\n",
      "x3_Mkuranga 0.0003504312499076946\n",
      "x3_Kiteto 0.0003478534707968049\n",
      "x3_Kahama 0.00034583070513753873\n",
      "x3_Mbozi 0.0003421940347451909\n",
      "x3_Muheza 0.00033679862263837735\n",
      "x3_Uyui 0.0003367757383034702\n",
      "x3_Rufiji 0.0003316889351765448\n",
      "x3_Tandahimba 0.00032736813199046167\n",
      "x9_water authority 0.0003239206500528914\n",
      "x3_Mafia 0.0003203103425996978\n",
      "x3_Nkasi 0.00031861381499461436\n",
      "x3_Tarime 0.00031493517443257203\n",
      "x3_Nzega 0.0003024920150927039\n",
      "x14_river 0.00029677839612176645\n",
      "x3_Singida Urban 0.00028870578216200394\n",
      "x3_Nanyumbu 0.0002843443711068106\n",
      "x16_communal standpipe multiple 0.00027707950148768374\n",
      "x3_Muleba 0.0002659793498871248\n",
      "x12_good 0.00026290225589382753\n",
      "x11_never pay 0.0002585615221597181\n",
      "x3_Ilemela 0.0002548140693189687\n",
      "x3_Lushoto 0.0002504653583864872\n",
      "x3_Singida Rural 0.00024963175195617175\n",
      "x3_Kisarawe 0.00024404706696576437\n",
      "x3_Kongwa 0.00023935610439515583\n",
      "x3_Handeni 0.00023481025229379088\n",
      "x2_99 0.00022887729412845211\n",
      "x7_nira/tanira 0.00022202149204846527\n",
      "x3_Sikonge 0.00021936164140064023\n",
      "x3_Ilala 0.00018695391712044806\n",
      "x3_Ukerewe 0.0001831033381097834\n",
      "x12_milky 0.00017442598729920403\n",
      "x3_Chamwino 0.00014708566344823063\n",
      "x3_Kilombero 0.0001449823479778089\n",
      "x3_Temeke 0.00013240140603642883\n",
      "x3_Tanga 0.00012337623002957093\n",
      "x3_Sumbawanga Rural 0.00012047445983032699\n",
      "x7_submersible 0.0001185699934526939\n",
      "x3_Kishapu 0.00011575584971912608\n",
      "x9_unknown 0.00010999109622293375\n",
      "x3_Kigoma Rural 0.00010247931010080504\n",
      "x3_Ngara 0.00010076956329061889\n",
      "x3_Ludewa 9.307893268021753e-05\n",
      "x3_Iringa Rural 8.893258279812026e-05\n",
      "x5_Unknown 8.552498230409388e-05\n",
      "x8_handpump 6.560507972485494e-05\n",
      "x9_other 6.402984594453502e-05\n",
      "x5_VWC 4.785305752239578e-05\n",
      "x9_vwc 2.8334346798157933e-05\n",
      "x15_surface 1.4877482819065117e-05\n",
      "x2_6 0.0\n",
      "x3_Pangani 0.0\n",
      "x16_improved spring 0.0\n"
     ]
    }
   ],
   "source": [
    "sort_feature_importance = sorted(optimal_rfc_model_feature_importance_dict.items(), key=lambda x: x[1], reverse=True)\n",
    "\n",
    "for i in sort_feature_importance:\n",
    "    print(i[0], i[1])"
   ]
  },
  {
   "cell_type": "code",
   "execution_count": null,
   "metadata": {},
   "outputs": [],
   "source": []
  },
  {
   "cell_type": "markdown",
   "metadata": {},
   "source": [
    "## Using Smote\n"
   ]
  },
  {
   "cell_type": "markdown",
   "metadata": {},
   "source": [
    "description"
   ]
  },
  {
   "cell_type": "code",
   "execution_count": 147,
   "metadata": {},
   "outputs": [
    {
     "name": "stdout",
     "output_type": "stream",
     "text": [
      "Counter({0: 24161, 2: 17146, 1: 3243})\n"
     ]
    }
   ],
   "source": [
    "# Check the class distribution of the target\n",
    "counter = Counter(y_train)\n",
    "print(counter)"
   ]
  },
  {
   "cell_type": "code",
   "execution_count": 148,
   "metadata": {},
   "outputs": [],
   "source": [
    "# Create the oversampler and undersampler objects\n",
    "over = SMOTE(sampling_strategy=\"minority\", random_state=42)\n",
    "under = RandomUnderSampler(sampling_strategy=\"not minority\", random_state=42)"
   ]
  },
  {
   "cell_type": "markdown",
   "metadata": {},
   "source": [
    "## Optimal Random Forest with oversamping Minority and undersampling Majority Classes"
   ]
  },
  {
   "cell_type": "code",
   "execution_count": 179,
   "metadata": {},
   "outputs": [
    {
     "ename": "NameError",
     "evalue": "name 'imbPipeline' is not defined",
     "output_type": "error",
     "traceback": [
      "\u001b[0;31m---------------------------------------------------------------------------\u001b[0m",
      "\u001b[0;31mNameError\u001b[0m                                 Traceback (most recent call last)",
      "\u001b[0;32m<ipython-input-179-c9b9f4f12d21>\u001b[0m in \u001b[0;36m<module>\u001b[0;34m\u001b[0m\n\u001b[0;32m----> 1\u001b[0;31m imbal_rf_pipe = imbPipeline(steps=[('ct', CT), (\"over\", over),\n\u001b[0m\u001b[1;32m      2\u001b[0m                                 \u001b[0;34m(\u001b[0m\u001b[0;34m\"under\"\u001b[0m\u001b[0;34m,\u001b[0m \u001b[0munder\u001b[0m\u001b[0;34m)\u001b[0m\u001b[0;34m,\u001b[0m\u001b[0;34m\u001b[0m\u001b[0;34m\u001b[0m\u001b[0m\n\u001b[1;32m      3\u001b[0m                              ('rfc_model', RandomForestClassifier(random_state=42))])\n",
      "\u001b[0;31mNameError\u001b[0m: name 'imbPipeline' is not defined"
     ]
    }
   ],
   "source": [
    "imbal_rf_pipe = imbPipeline(steps=[('ct', CT), (\"over\", over),\n",
    "                                (\"under\", under), \n",
    "                             ('rfc_model', RandomForestClassifier(random_state=42))])"
   ]
  },
  {
   "cell_type": "code",
   "execution_count": 159,
   "metadata": {},
   "outputs": [
    {
     "ename": "NameError",
     "evalue": "name 'rfc_over_under_smote_model_pipe' is not defined",
     "output_type": "error",
     "traceback": [
      "\u001b[0;31m---------------------------------------------------------------------------\u001b[0m",
      "\u001b[0;31mNameError\u001b[0m                                 Traceback (most recent call last)",
      "\u001b[0;32m<ipython-input-159-4a1ca1c7be59>\u001b[0m in \u001b[0;36m<module>\u001b[0;34m\u001b[0m\n\u001b[0;32m----> 1\u001b[0;31m \u001b[0mrfc_over_under_smote_model_pipe\u001b[0m\u001b[0;34m.\u001b[0m\u001b[0mfit\u001b[0m\u001b[0;34m(\u001b[0m\u001b[0mX_train\u001b[0m\u001b[0;34m,\u001b[0m \u001b[0my_train\u001b[0m\u001b[0;34m)\u001b[0m\u001b[0;34m\u001b[0m\u001b[0;34m\u001b[0m\u001b[0m\n\u001b[0m",
      "\u001b[0;31mNameError\u001b[0m: name 'rfc_over_under_smote_model_pipe' is not defined"
     ]
    }
   ],
   "source": [
    "rfc_over_under_smote_model_pipe.fit(X_train, y_train)"
   ]
  },
  {
   "cell_type": "code",
   "execution_count": null,
   "metadata": {},
   "outputs": [],
   "source": [
    "rfc_over_under_smote_model_pipe.score(X_train, y_train)"
   ]
  },
  {
   "cell_type": "code",
   "execution_count": null,
   "metadata": {},
   "outputs": [],
   "source": [
    "rfc_over_under_smote_y_pred = rfc_over_under_smote_model_pipe.predict(X_test)\n",
    "print(classification_report(y_test, rfc_over_under_smote_y_pred ));"
   ]
  },
  {
   "cell_type": "code",
   "execution_count": null,
   "metadata": {},
   "outputs": [],
   "source": []
  },
  {
   "cell_type": "markdown",
   "metadata": {},
   "source": [
    "## Optimal Random Forest with oversamping Minority"
   ]
  },
  {
   "cell_type": "code",
   "execution_count": 180,
   "metadata": {},
   "outputs": [
    {
     "ename": "NameError",
     "evalue": "name 'imbPipeline' is not defined",
     "output_type": "error",
     "traceback": [
      "\u001b[0;31m---------------------------------------------------------------------------\u001b[0m",
      "\u001b[0;31mNameError\u001b[0m                                 Traceback (most recent call last)",
      "\u001b[0;32m<ipython-input-180-115b34fd6b96>\u001b[0m in \u001b[0;36m<module>\u001b[0;34m\u001b[0m\n\u001b[0;32m----> 1\u001b[0;31m rfc_over_smote_model_pipe = imbPipeline(steps=[('ct', CT), (\"over\", over), ('rfc', \n\u001b[0m\u001b[1;32m      2\u001b[0m                                      RandomForestClassifier(criterion= \"gini\", min_samples_split=6, \n\u001b[1;32m      3\u001b[0m                                                             n_estimators=150, random_state=42))])\n",
      "\u001b[0;31mNameError\u001b[0m: name 'imbPipeline' is not defined"
     ]
    }
   ],
   "source": [
    "rfc_over_smote_model_pipe = imbPipeline(steps=[('ct', CT), (\"over\", over), ('rfc', \n",
    "                                     RandomForestClassifier(criterion= \"gini\", min_samples_split=6, \n",
    "                                                            n_estimators=150, random_state=42))])"
   ]
  },
  {
   "cell_type": "code",
   "execution_count": 153,
   "metadata": {},
   "outputs": [
    {
     "data": {
      "text/plain": [
       "Pipeline(steps=[('ct',\n",
       "                 ColumnTransformer(transformers=[('subpipe_num',\n",
       "                                                  Pipeline(steps=[('num_impute',\n",
       "                                                                   SimpleImputer()),\n",
       "                                                                  ('ss',\n",
       "                                                                   StandardScaler())]),\n",
       "                                                  ['amount_tsh', 'gps_height',\n",
       "                                                   'age_at_inspection',\n",
       "                                                   'water_per_person']),\n",
       "                                                 ('subpipe_cat',\n",
       "                                                  Pipeline(steps=[('ohe',\n",
       "                                                                   OneHotEncoder(handle_unknown='ignore',\n",
       "                                                                                 sparse=False))]),\n",
       "                                                  ['basin', 'region',\n",
       "                                                   'region_code', 'lga',\n",
       "                                                   'public_m...\n",
       "                                                   'management_group',\n",
       "                                                   'payment', 'quality_group',\n",
       "                                                   'quantity', 'source',\n",
       "                                                   'source_class',\n",
       "                                                   'waterpoint_type']),\n",
       "                                                 ('subpipe_ord',\n",
       "                                                  Pipeline(steps=[('ord_encode',\n",
       "                                                                   OrdinalEncoder())]),\n",
       "                                                  ['unknown_construction_yr'])])),\n",
       "                ('over', SMOTE(random_state=42, sampling_strategy='minority')),\n",
       "                ('rfc_model',\n",
       "                 RandomForestClassifier(min_samples_split=6, n_estimators=150,\n",
       "                                        random_state=42))])"
      ]
     },
     "execution_count": 153,
     "metadata": {},
     "output_type": "execute_result"
    }
   ],
   "source": [
    "rfc_over_smote_model_pipe.fit(X_train, y_train)"
   ]
  },
  {
   "cell_type": "code",
   "execution_count": 156,
   "metadata": {},
   "outputs": [
    {
     "data": {
      "text/plain": [
       "0.8786307519640852"
      ]
     },
     "execution_count": 156,
     "metadata": {},
     "output_type": "execute_result"
    }
   ],
   "source": [
    "rfc_over_smote_model_pipe.score(X_train, y_train)"
   ]
  },
  {
   "cell_type": "code",
   "execution_count": 157,
   "metadata": {
    "scrolled": true
   },
   "outputs": [
    {
     "name": "stdout",
     "output_type": "stream",
     "text": [
      "              precision    recall  f1-score   support\n",
      "\n",
      "           0       0.81      0.81      0.81      8098\n",
      "           1       0.32      0.53      0.40      1074\n",
      "           2       0.83      0.73      0.78      5678\n",
      "\n",
      "    accuracy                           0.76     14850\n",
      "   macro avg       0.65      0.69      0.66     14850\n",
      "weighted avg       0.78      0.76      0.77     14850\n",
      "\n"
     ]
    }
   ],
   "source": [
    "rfc_over_smote_y_pred = rfc_over_smote_model_pipe.predict(X_test)\n",
    "print(classification_report(y_test, rfc_over_smote_y_pred ));"
   ]
  },
  {
   "cell_type": "code",
   "execution_count": null,
   "metadata": {},
   "outputs": [],
   "source": []
  },
  {
   "cell_type": "code",
   "execution_count": 189,
   "metadata": {},
   "outputs": [
    {
     "name": "stdout",
     "output_type": "stream",
     "text": [
      "Counter({0: 24161, 2: 17146, 1: 3243})\n"
     ]
    }
   ],
   "source": [
    "counter = Counter(y_train)\n",
    "print(counter)"
   ]
  },
  {
   "cell_type": "code",
   "execution_count": 190,
   "metadata": {},
   "outputs": [],
   "source": [
    "strategy = {0:24128, 2:17150., 1:6542}\n",
    "oversample = SMOTE(sampling_strategy=strategy)\n"
   ]
  },
  {
   "cell_type": "code",
   "execution_count": null,
   "metadata": {},
   "outputs": [],
   "source": [
    "over = SMOTE(sampling_strategy=\"strategy\", random_state=42)"
   ]
  },
  {
   "cell_type": "code",
   "execution_count": 192,
   "metadata": {},
   "outputs": [],
   "source": [
    "imbal_knn_pipe = imbPipeline(steps=[('ct', CT), (\"over\", over), \n",
    "                ('knn', KNeighborsClassifier(metric='manhattan', \n",
    "                n_neighbors=17, weights='distance'))])\n"
   ]
  },
  {
   "cell_type": "code",
   "execution_count": 193,
   "metadata": {},
   "outputs": [
    {
     "data": {
      "text/plain": [
       "Pipeline(steps=[('ct',\n",
       "                 ColumnTransformer(transformers=[('subpipe_num',\n",
       "                                                  Pipeline(steps=[('num_impute',\n",
       "                                                                   SimpleImputer()),\n",
       "                                                                  ('ss',\n",
       "                                                                   StandardScaler())]),\n",
       "                                                  ['amount_tsh', 'gps_height',\n",
       "                                                   'age_at_inspection',\n",
       "                                                   'water_per_person']),\n",
       "                                                 ('subpipe_cat',\n",
       "                                                  Pipeline(steps=[('ohe',\n",
       "                                                                   OneHotEncoder(handle_unknown='ignore',\n",
       "                                                                                 sparse=False))]),\n",
       "                                                  ['basin', 'region',\n",
       "                                                   'region_code', 'lga',\n",
       "                                                   'public_m...\n",
       "                                                   'management',\n",
       "                                                   'management_group',\n",
       "                                                   'payment', 'quality_group',\n",
       "                                                   'quantity', 'source',\n",
       "                                                   'source_class',\n",
       "                                                   'waterpoint_type']),\n",
       "                                                 ('subpipe_ord',\n",
       "                                                  Pipeline(steps=[('ord_encode',\n",
       "                                                                   OrdinalEncoder())]),\n",
       "                                                  ['unknown_construction_yr'])])),\n",
       "                ('over', SMOTE(random_state=42, sampling_strategy='minority')),\n",
       "                ('knn',\n",
       "                 KNeighborsClassifier(metric='manhattan', n_neighbors=17,\n",
       "                                      weights='distance'))])"
      ]
     },
     "execution_count": 193,
     "metadata": {},
     "output_type": "execute_result"
    }
   ],
   "source": [
    "imbal_knn_pipe.fit(X_train, y_train)"
   ]
  },
  {
   "cell_type": "code",
   "execution_count": 194,
   "metadata": {},
   "outputs": [
    {
     "data": {
      "text/plain": [
       "0.9407856341189674"
      ]
     },
     "execution_count": 194,
     "metadata": {},
     "output_type": "execute_result"
    }
   ],
   "source": [
    "imbal_knn_pipe.score(X_train, y_train)"
   ]
  },
  {
   "cell_type": "code",
   "execution_count": 195,
   "metadata": {},
   "outputs": [
    {
     "name": "stdout",
     "output_type": "stream",
     "text": [
      "              precision    recall  f1-score   support\n",
      "\n",
      "           0       0.79      0.82      0.81      8098\n",
      "           1       0.33      0.48      0.39      1074\n",
      "           2       0.82      0.71      0.76      5678\n",
      "\n",
      "    accuracy                           0.76     14850\n",
      "   macro avg       0.65      0.67      0.65     14850\n",
      "weighted avg       0.77      0.76      0.76     14850\n",
      "\n"
     ]
    }
   ],
   "source": [
    "imbal_knn_y_pred = imbal_knn_pipe. predict(X_test)\n",
    "print(classification_report(y_test, imbal_knn_y_pred));"
   ]
  },
  {
   "cell_type": "code",
   "execution_count": 196,
   "metadata": {},
   "outputs": [],
   "source": [
    "imbal_knn_pipe2 = imbPipeline(steps=[('ct', CT), (\"over\", over), \n",
    "                ('knn', KNeighborsClassifier(metric='manhattan', \n",
    "                n_neighbors=11, weights='distance'))])"
   ]
  },
  {
   "cell_type": "code",
   "execution_count": 197,
   "metadata": {},
   "outputs": [
    {
     "data": {
      "text/plain": [
       "Pipeline(steps=[('ct',\n",
       "                 ColumnTransformer(transformers=[('subpipe_num',\n",
       "                                                  Pipeline(steps=[('num_impute',\n",
       "                                                                   SimpleImputer()),\n",
       "                                                                  ('ss',\n",
       "                                                                   StandardScaler())]),\n",
       "                                                  ['amount_tsh', 'gps_height',\n",
       "                                                   'age_at_inspection',\n",
       "                                                   'water_per_person']),\n",
       "                                                 ('subpipe_cat',\n",
       "                                                  Pipeline(steps=[('ohe',\n",
       "                                                                   OneHotEncoder(handle_unknown='ignore',\n",
       "                                                                                 sparse=False))]),\n",
       "                                                  ['basin', 'region',\n",
       "                                                   'region_code', 'lga',\n",
       "                                                   'public_m...\n",
       "                                                   'management',\n",
       "                                                   'management_group',\n",
       "                                                   'payment', 'quality_group',\n",
       "                                                   'quantity', 'source',\n",
       "                                                   'source_class',\n",
       "                                                   'waterpoint_type']),\n",
       "                                                 ('subpipe_ord',\n",
       "                                                  Pipeline(steps=[('ord_encode',\n",
       "                                                                   OrdinalEncoder())]),\n",
       "                                                  ['unknown_construction_yr'])])),\n",
       "                ('over', SMOTE(random_state=42, sampling_strategy='minority')),\n",
       "                ('knn',\n",
       "                 KNeighborsClassifier(metric='manhattan', n_neighbors=11,\n",
       "                                      weights='distance'))])"
      ]
     },
     "execution_count": 197,
     "metadata": {},
     "output_type": "execute_result"
    }
   ],
   "source": [
    "imbal_knn_pipe2.fit(X_train, y_train)"
   ]
  },
  {
   "cell_type": "code",
   "execution_count": 198,
   "metadata": {},
   "outputs": [
    {
     "data": {
      "text/plain": [
       "0.9408978675645342"
      ]
     },
     "execution_count": 198,
     "metadata": {},
     "output_type": "execute_result"
    }
   ],
   "source": [
    "imbal_knn_pipe2.score(X_train, y_train)"
   ]
  },
  {
   "cell_type": "code",
   "execution_count": 199,
   "metadata": {},
   "outputs": [
    {
     "name": "stdout",
     "output_type": "stream",
     "text": [
      "              precision    recall  f1-score   support\n",
      "\n",
      "           0       0.79      0.83      0.81      8098\n",
      "           1       0.35      0.46      0.40      1074\n",
      "           2       0.81      0.72      0.76      5678\n",
      "\n",
      "    accuracy                           0.76     14850\n",
      "   macro avg       0.65      0.67      0.66     14850\n",
      "weighted avg       0.77      0.76      0.76     14850\n",
      "\n"
     ]
    }
   ],
   "source": [
    "imbal_knn_y_pred = imbal_knn_pipe2. predict(X_test)\n",
    "print(classification_report(y_test, imbal_knn_y_pred));"
   ]
  },
  {
   "cell_type": "code",
   "execution_count": null,
   "metadata": {},
   "outputs": [],
   "source": []
  },
  {
   "cell_type": "markdown",
   "metadata": {},
   "source": [
    "## IGNORE WILL MOVE"
   ]
  },
  {
   "cell_type": "code",
   "execution_count": null,
   "metadata": {},
   "outputs": [],
   "source": []
  }
 ],
 "metadata": {
  "kernelspec": {
   "display_name": "Python (learn-env)",
   "language": "python",
   "name": "learn-env"
  },
  "language_info": {
   "codemirror_mode": {
    "name": "ipython",
    "version": 3
   },
   "file_extension": ".py",
   "mimetype": "text/x-python",
   "name": "python",
   "nbconvert_exporter": "python",
   "pygments_lexer": "ipython3",
   "version": "3.8.5"
  }
 },
 "nbformat": 4,
 "nbformat_minor": 4
}
