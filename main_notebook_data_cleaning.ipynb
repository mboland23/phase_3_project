{
 "cells": [
  {
   "cell_type": "markdown",
   "metadata": {},
   "source": [
    "## Tanzanian Water Pumps"
   ]
  },
  {
   "cell_type": "markdown",
   "metadata": {},
   "source": [
    "## Overview\n",
    "Water pumps are an essential tool in developing nations to deliver safe and reliable water to rural communities and have become a hallmark of the United Nations’ Sustainable Development Goals (SDGs) to drive down poverty globally. The typical water pump taps into below ground water sources, which tend to be less contaminated than surface water sources and allow water-scarce communities access to a vital resource. While water pumps have been a focal point for development programs, it is estimated that between // $1.2 billion to // $1.5 billion in investment were lost from 1989 to 2009 from unfunctional wells, according to non-profit [Lifewater.org] ((https://lifewater.org/blog/3-reasons-water-wells-fail-and-why-sustainable-development-is-possible/) . Determining which water pumps are in need of repair before they become nonfunctional can both help save development programs from costly replacement and, more importantly, ensure that vulnerable communities are not left without clean drinking water."
   ]
  },
  {
   "cell_type": "markdown",
   "metadata": {},
   "source": [
    "## Business Problem"
   ]
  },
  {
   "cell_type": "markdown",
   "metadata": {},
   "source": [
    "We are tasked with developing a prediction tool that will predict water pumps in need of repair. \n",
    "We used the data provided in an iterative modeling process to create a final classification model or tool that can be used by development organizations to predict whether or not a pump is in need of repair before the pump fails. This tool will enable development organizations to appropriately allocate resources in dispatching repair teams."
   ]
  },
  {
   "cell_type": "markdown",
   "metadata": {},
   "source": [
    "## Data Understanding"
   ]
  },
  {
   "cell_type": "markdown",
   "metadata": {},
   "source": [
    "We examined data collected by [Taarifa](http://taarifa.org/)an infrastructure open source platform, and the [Tanzanian Water Ministry](http://maji.go.tz/) and published by [Driven Data](https://www.drivendata.org/competitions/7/pump-it-up-data-mining-the-water-table/page/23/) on nearly 60,000 water pumps across Tanzania. The data encompassed 39 different characteristics of the pumps including location data, pump management information, and pump characteristics.\n",
    "\n",
    "Our analysis looked at 59,400 observations and 39 characteristics (columns) on water pumps in Tanzania.\n",
    "\n",
    "Our target variable, status_group, represents the status of the water pump categorized as either ‘functional’, ‘functional needs repair’, and ‘non functional’ — 54% of observations were functional pumps, 38% non functional, and 7% of pumps were deemed functional, needs repair."
   ]
  },
  {
   "cell_type": "code",
   "execution_count": 1,
   "metadata": {},
   "outputs": [],
   "source": [
    "import pandas as pd\n",
    "import numpy as np\n",
    "import matplotlib.pyplot as plt\n",
    "from matplotlib import ticker\n",
    "import seaborn as sns\n",
    "from sklearn.preprocessing import LabelEncoder"
   ]
  },
  {
   "cell_type": "code",
   "execution_count": 2,
   "metadata": {},
   "outputs": [
    {
     "data": {
      "text/html": [
       "<div>\n",
       "<style scoped>\n",
       "    .dataframe tbody tr th:only-of-type {\n",
       "        vertical-align: middle;\n",
       "    }\n",
       "\n",
       "    .dataframe tbody tr th {\n",
       "        vertical-align: top;\n",
       "    }\n",
       "\n",
       "    .dataframe thead th {\n",
       "        text-align: right;\n",
       "    }\n",
       "</style>\n",
       "<table border=\"1\" class=\"dataframe\">\n",
       "  <thead>\n",
       "    <tr style=\"text-align: right;\">\n",
       "      <th></th>\n",
       "      <th>id</th>\n",
       "      <th>amount_tsh</th>\n",
       "      <th>date_recorded</th>\n",
       "      <th>funder</th>\n",
       "      <th>gps_height</th>\n",
       "      <th>installer</th>\n",
       "      <th>longitude</th>\n",
       "      <th>latitude</th>\n",
       "      <th>wpt_name</th>\n",
       "      <th>num_private</th>\n",
       "      <th>...</th>\n",
       "      <th>payment_type</th>\n",
       "      <th>water_quality</th>\n",
       "      <th>quality_group</th>\n",
       "      <th>quantity</th>\n",
       "      <th>quantity_group</th>\n",
       "      <th>source</th>\n",
       "      <th>source_type</th>\n",
       "      <th>source_class</th>\n",
       "      <th>waterpoint_type</th>\n",
       "      <th>waterpoint_type_group</th>\n",
       "    </tr>\n",
       "  </thead>\n",
       "  <tbody>\n",
       "    <tr>\n",
       "      <th>0</th>\n",
       "      <td>69572</td>\n",
       "      <td>6000.0</td>\n",
       "      <td>2011-03-14</td>\n",
       "      <td>Roman</td>\n",
       "      <td>1390</td>\n",
       "      <td>Roman</td>\n",
       "      <td>34.938093</td>\n",
       "      <td>-9.856322</td>\n",
       "      <td>none</td>\n",
       "      <td>0</td>\n",
       "      <td>...</td>\n",
       "      <td>annually</td>\n",
       "      <td>soft</td>\n",
       "      <td>good</td>\n",
       "      <td>enough</td>\n",
       "      <td>enough</td>\n",
       "      <td>spring</td>\n",
       "      <td>spring</td>\n",
       "      <td>groundwater</td>\n",
       "      <td>communal standpipe</td>\n",
       "      <td>communal standpipe</td>\n",
       "    </tr>\n",
       "    <tr>\n",
       "      <th>1</th>\n",
       "      <td>8776</td>\n",
       "      <td>0.0</td>\n",
       "      <td>2013-03-06</td>\n",
       "      <td>Grumeti</td>\n",
       "      <td>1399</td>\n",
       "      <td>GRUMETI</td>\n",
       "      <td>34.698766</td>\n",
       "      <td>-2.147466</td>\n",
       "      <td>Zahanati</td>\n",
       "      <td>0</td>\n",
       "      <td>...</td>\n",
       "      <td>never pay</td>\n",
       "      <td>soft</td>\n",
       "      <td>good</td>\n",
       "      <td>insufficient</td>\n",
       "      <td>insufficient</td>\n",
       "      <td>rainwater harvesting</td>\n",
       "      <td>rainwater harvesting</td>\n",
       "      <td>surface</td>\n",
       "      <td>communal standpipe</td>\n",
       "      <td>communal standpipe</td>\n",
       "    </tr>\n",
       "    <tr>\n",
       "      <th>2</th>\n",
       "      <td>34310</td>\n",
       "      <td>25.0</td>\n",
       "      <td>2013-02-25</td>\n",
       "      <td>Lottery Club</td>\n",
       "      <td>686</td>\n",
       "      <td>World vision</td>\n",
       "      <td>37.460664</td>\n",
       "      <td>-3.821329</td>\n",
       "      <td>Kwa Mahundi</td>\n",
       "      <td>0</td>\n",
       "      <td>...</td>\n",
       "      <td>per bucket</td>\n",
       "      <td>soft</td>\n",
       "      <td>good</td>\n",
       "      <td>enough</td>\n",
       "      <td>enough</td>\n",
       "      <td>dam</td>\n",
       "      <td>dam</td>\n",
       "      <td>surface</td>\n",
       "      <td>communal standpipe multiple</td>\n",
       "      <td>communal standpipe</td>\n",
       "    </tr>\n",
       "    <tr>\n",
       "      <th>3</th>\n",
       "      <td>67743</td>\n",
       "      <td>0.0</td>\n",
       "      <td>2013-01-28</td>\n",
       "      <td>Unicef</td>\n",
       "      <td>263</td>\n",
       "      <td>UNICEF</td>\n",
       "      <td>38.486161</td>\n",
       "      <td>-11.155298</td>\n",
       "      <td>Zahanati Ya Nanyumbu</td>\n",
       "      <td>0</td>\n",
       "      <td>...</td>\n",
       "      <td>never pay</td>\n",
       "      <td>soft</td>\n",
       "      <td>good</td>\n",
       "      <td>dry</td>\n",
       "      <td>dry</td>\n",
       "      <td>machine dbh</td>\n",
       "      <td>borehole</td>\n",
       "      <td>groundwater</td>\n",
       "      <td>communal standpipe multiple</td>\n",
       "      <td>communal standpipe</td>\n",
       "    </tr>\n",
       "    <tr>\n",
       "      <th>4</th>\n",
       "      <td>19728</td>\n",
       "      <td>0.0</td>\n",
       "      <td>2011-07-13</td>\n",
       "      <td>Action In A</td>\n",
       "      <td>0</td>\n",
       "      <td>Artisan</td>\n",
       "      <td>31.130847</td>\n",
       "      <td>-1.825359</td>\n",
       "      <td>Shuleni</td>\n",
       "      <td>0</td>\n",
       "      <td>...</td>\n",
       "      <td>never pay</td>\n",
       "      <td>soft</td>\n",
       "      <td>good</td>\n",
       "      <td>seasonal</td>\n",
       "      <td>seasonal</td>\n",
       "      <td>rainwater harvesting</td>\n",
       "      <td>rainwater harvesting</td>\n",
       "      <td>surface</td>\n",
       "      <td>communal standpipe</td>\n",
       "      <td>communal standpipe</td>\n",
       "    </tr>\n",
       "  </tbody>\n",
       "</table>\n",
       "<p>5 rows × 40 columns</p>\n",
       "</div>"
      ],
      "text/plain": [
       "      id  amount_tsh date_recorded        funder  gps_height     installer  \\\n",
       "0  69572      6000.0    2011-03-14         Roman        1390         Roman   \n",
       "1   8776         0.0    2013-03-06       Grumeti        1399       GRUMETI   \n",
       "2  34310        25.0    2013-02-25  Lottery Club         686  World vision   \n",
       "3  67743         0.0    2013-01-28        Unicef         263        UNICEF   \n",
       "4  19728         0.0    2011-07-13   Action In A           0       Artisan   \n",
       "\n",
       "   longitude   latitude              wpt_name  num_private  ... payment_type  \\\n",
       "0  34.938093  -9.856322                  none            0  ...     annually   \n",
       "1  34.698766  -2.147466              Zahanati            0  ...    never pay   \n",
       "2  37.460664  -3.821329           Kwa Mahundi            0  ...   per bucket   \n",
       "3  38.486161 -11.155298  Zahanati Ya Nanyumbu            0  ...    never pay   \n",
       "4  31.130847  -1.825359               Shuleni            0  ...    never pay   \n",
       "\n",
       "  water_quality quality_group      quantity  quantity_group  \\\n",
       "0          soft          good        enough          enough   \n",
       "1          soft          good  insufficient    insufficient   \n",
       "2          soft          good        enough          enough   \n",
       "3          soft          good           dry             dry   \n",
       "4          soft          good      seasonal        seasonal   \n",
       "\n",
       "                 source           source_type  source_class  \\\n",
       "0                spring                spring   groundwater   \n",
       "1  rainwater harvesting  rainwater harvesting       surface   \n",
       "2                   dam                   dam       surface   \n",
       "3           machine dbh              borehole   groundwater   \n",
       "4  rainwater harvesting  rainwater harvesting       surface   \n",
       "\n",
       "               waterpoint_type waterpoint_type_group  \n",
       "0           communal standpipe    communal standpipe  \n",
       "1           communal standpipe    communal standpipe  \n",
       "2  communal standpipe multiple    communal standpipe  \n",
       "3  communal standpipe multiple    communal standpipe  \n",
       "4           communal standpipe    communal standpipe  \n",
       "\n",
       "[5 rows x 40 columns]"
      ]
     },
     "execution_count": 2,
     "metadata": {},
     "output_type": "execute_result"
    }
   ],
   "source": [
    "#loading pump features df\n",
    "pump_features_df = pd.read_csv('Data/water_columns.csv')\n",
    "pump_features_df.head()"
   ]
  },
  {
   "cell_type": "code",
   "execution_count": 3,
   "metadata": {},
   "outputs": [
    {
     "data": {
      "text/html": [
       "<div>\n",
       "<style scoped>\n",
       "    .dataframe tbody tr th:only-of-type {\n",
       "        vertical-align: middle;\n",
       "    }\n",
       "\n",
       "    .dataframe tbody tr th {\n",
       "        vertical-align: top;\n",
       "    }\n",
       "\n",
       "    .dataframe thead th {\n",
       "        text-align: right;\n",
       "    }\n",
       "</style>\n",
       "<table border=\"1\" class=\"dataframe\">\n",
       "  <thead>\n",
       "    <tr style=\"text-align: right;\">\n",
       "      <th></th>\n",
       "      <th>id</th>\n",
       "      <th>status_group</th>\n",
       "    </tr>\n",
       "  </thead>\n",
       "  <tbody>\n",
       "    <tr>\n",
       "      <th>0</th>\n",
       "      <td>69572</td>\n",
       "      <td>functional</td>\n",
       "    </tr>\n",
       "    <tr>\n",
       "      <th>1</th>\n",
       "      <td>8776</td>\n",
       "      <td>functional</td>\n",
       "    </tr>\n",
       "    <tr>\n",
       "      <th>2</th>\n",
       "      <td>34310</td>\n",
       "      <td>functional</td>\n",
       "    </tr>\n",
       "    <tr>\n",
       "      <th>3</th>\n",
       "      <td>67743</td>\n",
       "      <td>non functional</td>\n",
       "    </tr>\n",
       "    <tr>\n",
       "      <th>4</th>\n",
       "      <td>19728</td>\n",
       "      <td>functional</td>\n",
       "    </tr>\n",
       "  </tbody>\n",
       "</table>\n",
       "</div>"
      ],
      "text/plain": [
       "      id    status_group\n",
       "0  69572      functional\n",
       "1   8776      functional\n",
       "2  34310      functional\n",
       "3  67743  non functional\n",
       "4  19728      functional"
      ]
     },
     "execution_count": 3,
     "metadata": {},
     "output_type": "execute_result"
    }
   ],
   "source": [
    "#loading pump functional status df\n",
    "pump_status_df = pd.read_csv('Data/water_status_group.csv')\n",
    "pump_status_df.head()"
   ]
  },
  {
   "cell_type": "code",
   "execution_count": 4,
   "metadata": {},
   "outputs": [
    {
     "data": {
      "text/html": [
       "<div>\n",
       "<style scoped>\n",
       "    .dataframe tbody tr th:only-of-type {\n",
       "        vertical-align: middle;\n",
       "    }\n",
       "\n",
       "    .dataframe tbody tr th {\n",
       "        vertical-align: top;\n",
       "    }\n",
       "\n",
       "    .dataframe thead th {\n",
       "        text-align: right;\n",
       "    }\n",
       "</style>\n",
       "<table border=\"1\" class=\"dataframe\">\n",
       "  <thead>\n",
       "    <tr style=\"text-align: right;\">\n",
       "      <th></th>\n",
       "      <th>id</th>\n",
       "      <th>status_group</th>\n",
       "      <th>amount_tsh</th>\n",
       "      <th>date_recorded</th>\n",
       "      <th>funder</th>\n",
       "      <th>gps_height</th>\n",
       "      <th>installer</th>\n",
       "      <th>longitude</th>\n",
       "      <th>latitude</th>\n",
       "      <th>wpt_name</th>\n",
       "      <th>...</th>\n",
       "      <th>payment_type</th>\n",
       "      <th>water_quality</th>\n",
       "      <th>quality_group</th>\n",
       "      <th>quantity</th>\n",
       "      <th>quantity_group</th>\n",
       "      <th>source</th>\n",
       "      <th>source_type</th>\n",
       "      <th>source_class</th>\n",
       "      <th>waterpoint_type</th>\n",
       "      <th>waterpoint_type_group</th>\n",
       "    </tr>\n",
       "  </thead>\n",
       "  <tbody>\n",
       "    <tr>\n",
       "      <th>0</th>\n",
       "      <td>69572</td>\n",
       "      <td>functional</td>\n",
       "      <td>6000.0</td>\n",
       "      <td>2011-03-14</td>\n",
       "      <td>Roman</td>\n",
       "      <td>1390</td>\n",
       "      <td>Roman</td>\n",
       "      <td>34.938093</td>\n",
       "      <td>-9.856322</td>\n",
       "      <td>none</td>\n",
       "      <td>...</td>\n",
       "      <td>annually</td>\n",
       "      <td>soft</td>\n",
       "      <td>good</td>\n",
       "      <td>enough</td>\n",
       "      <td>enough</td>\n",
       "      <td>spring</td>\n",
       "      <td>spring</td>\n",
       "      <td>groundwater</td>\n",
       "      <td>communal standpipe</td>\n",
       "      <td>communal standpipe</td>\n",
       "    </tr>\n",
       "    <tr>\n",
       "      <th>1</th>\n",
       "      <td>8776</td>\n",
       "      <td>functional</td>\n",
       "      <td>0.0</td>\n",
       "      <td>2013-03-06</td>\n",
       "      <td>Grumeti</td>\n",
       "      <td>1399</td>\n",
       "      <td>GRUMETI</td>\n",
       "      <td>34.698766</td>\n",
       "      <td>-2.147466</td>\n",
       "      <td>Zahanati</td>\n",
       "      <td>...</td>\n",
       "      <td>never pay</td>\n",
       "      <td>soft</td>\n",
       "      <td>good</td>\n",
       "      <td>insufficient</td>\n",
       "      <td>insufficient</td>\n",
       "      <td>rainwater harvesting</td>\n",
       "      <td>rainwater harvesting</td>\n",
       "      <td>surface</td>\n",
       "      <td>communal standpipe</td>\n",
       "      <td>communal standpipe</td>\n",
       "    </tr>\n",
       "    <tr>\n",
       "      <th>2</th>\n",
       "      <td>34310</td>\n",
       "      <td>functional</td>\n",
       "      <td>25.0</td>\n",
       "      <td>2013-02-25</td>\n",
       "      <td>Lottery Club</td>\n",
       "      <td>686</td>\n",
       "      <td>World vision</td>\n",
       "      <td>37.460664</td>\n",
       "      <td>-3.821329</td>\n",
       "      <td>Kwa Mahundi</td>\n",
       "      <td>...</td>\n",
       "      <td>per bucket</td>\n",
       "      <td>soft</td>\n",
       "      <td>good</td>\n",
       "      <td>enough</td>\n",
       "      <td>enough</td>\n",
       "      <td>dam</td>\n",
       "      <td>dam</td>\n",
       "      <td>surface</td>\n",
       "      <td>communal standpipe multiple</td>\n",
       "      <td>communal standpipe</td>\n",
       "    </tr>\n",
       "    <tr>\n",
       "      <th>3</th>\n",
       "      <td>67743</td>\n",
       "      <td>non functional</td>\n",
       "      <td>0.0</td>\n",
       "      <td>2013-01-28</td>\n",
       "      <td>Unicef</td>\n",
       "      <td>263</td>\n",
       "      <td>UNICEF</td>\n",
       "      <td>38.486161</td>\n",
       "      <td>-11.155298</td>\n",
       "      <td>Zahanati Ya Nanyumbu</td>\n",
       "      <td>...</td>\n",
       "      <td>never pay</td>\n",
       "      <td>soft</td>\n",
       "      <td>good</td>\n",
       "      <td>dry</td>\n",
       "      <td>dry</td>\n",
       "      <td>machine dbh</td>\n",
       "      <td>borehole</td>\n",
       "      <td>groundwater</td>\n",
       "      <td>communal standpipe multiple</td>\n",
       "      <td>communal standpipe</td>\n",
       "    </tr>\n",
       "    <tr>\n",
       "      <th>4</th>\n",
       "      <td>19728</td>\n",
       "      <td>functional</td>\n",
       "      <td>0.0</td>\n",
       "      <td>2011-07-13</td>\n",
       "      <td>Action In A</td>\n",
       "      <td>0</td>\n",
       "      <td>Artisan</td>\n",
       "      <td>31.130847</td>\n",
       "      <td>-1.825359</td>\n",
       "      <td>Shuleni</td>\n",
       "      <td>...</td>\n",
       "      <td>never pay</td>\n",
       "      <td>soft</td>\n",
       "      <td>good</td>\n",
       "      <td>seasonal</td>\n",
       "      <td>seasonal</td>\n",
       "      <td>rainwater harvesting</td>\n",
       "      <td>rainwater harvesting</td>\n",
       "      <td>surface</td>\n",
       "      <td>communal standpipe</td>\n",
       "      <td>communal standpipe</td>\n",
       "    </tr>\n",
       "  </tbody>\n",
       "</table>\n",
       "<p>5 rows × 41 columns</p>\n",
       "</div>"
      ],
      "text/plain": [
       "      id    status_group  amount_tsh date_recorded        funder  gps_height  \\\n",
       "0  69572      functional      6000.0    2011-03-14         Roman        1390   \n",
       "1   8776      functional         0.0    2013-03-06       Grumeti        1399   \n",
       "2  34310      functional        25.0    2013-02-25  Lottery Club         686   \n",
       "3  67743  non functional         0.0    2013-01-28        Unicef         263   \n",
       "4  19728      functional         0.0    2011-07-13   Action In A           0   \n",
       "\n",
       "      installer  longitude   latitude              wpt_name  ...  \\\n",
       "0         Roman  34.938093  -9.856322                  none  ...   \n",
       "1       GRUMETI  34.698766  -2.147466              Zahanati  ...   \n",
       "2  World vision  37.460664  -3.821329           Kwa Mahundi  ...   \n",
       "3        UNICEF  38.486161 -11.155298  Zahanati Ya Nanyumbu  ...   \n",
       "4       Artisan  31.130847  -1.825359               Shuleni  ...   \n",
       "\n",
       "   payment_type water_quality quality_group      quantity  quantity_group  \\\n",
       "0      annually          soft          good        enough          enough   \n",
       "1     never pay          soft          good  insufficient    insufficient   \n",
       "2    per bucket          soft          good        enough          enough   \n",
       "3     never pay          soft          good           dry             dry   \n",
       "4     never pay          soft          good      seasonal        seasonal   \n",
       "\n",
       "                 source           source_type source_class  \\\n",
       "0                spring                spring  groundwater   \n",
       "1  rainwater harvesting  rainwater harvesting      surface   \n",
       "2                   dam                   dam      surface   \n",
       "3           machine dbh              borehole  groundwater   \n",
       "4  rainwater harvesting  rainwater harvesting      surface   \n",
       "\n",
       "               waterpoint_type waterpoint_type_group  \n",
       "0           communal standpipe    communal standpipe  \n",
       "1           communal standpipe    communal standpipe  \n",
       "2  communal standpipe multiple    communal standpipe  \n",
       "3  communal standpipe multiple    communal standpipe  \n",
       "4           communal standpipe    communal standpipe  \n",
       "\n",
       "[5 rows x 41 columns]"
      ]
     },
     "execution_count": 4,
     "metadata": {},
     "output_type": "execute_result"
    }
   ],
   "source": [
    "#combining pump feature and pump status df into one df\n",
    "water_pump = pump_status_df.merge(pump_features_df, how='right')\n",
    "water_pump.head()"
   ]
  },
  {
   "cell_type": "code",
   "execution_count": 5,
   "metadata": {
    "scrolled": true
   },
   "outputs": [
    {
     "name": "stdout",
     "output_type": "stream",
     "text": [
      "<class 'pandas.core.frame.DataFrame'>\n",
      "Int64Index: 59400 entries, 0 to 59399\n",
      "Data columns (total 41 columns):\n",
      " #   Column                 Non-Null Count  Dtype  \n",
      "---  ------                 --------------  -----  \n",
      " 0   id                     59400 non-null  int64  \n",
      " 1   status_group           59400 non-null  object \n",
      " 2   amount_tsh             59400 non-null  float64\n",
      " 3   date_recorded          59400 non-null  object \n",
      " 4   funder                 55765 non-null  object \n",
      " 5   gps_height             59400 non-null  int64  \n",
      " 6   installer              55745 non-null  object \n",
      " 7   longitude              59400 non-null  float64\n",
      " 8   latitude               59400 non-null  float64\n",
      " 9   wpt_name               59400 non-null  object \n",
      " 10  num_private            59400 non-null  int64  \n",
      " 11  basin                  59400 non-null  object \n",
      " 12  subvillage             59029 non-null  object \n",
      " 13  region                 59400 non-null  object \n",
      " 14  region_code            59400 non-null  int64  \n",
      " 15  district_code          59400 non-null  int64  \n",
      " 16  lga                    59400 non-null  object \n",
      " 17  ward                   59400 non-null  object \n",
      " 18  population             59400 non-null  int64  \n",
      " 19  public_meeting         56066 non-null  object \n",
      " 20  recorded_by            59400 non-null  object \n",
      " 21  scheme_management      55523 non-null  object \n",
      " 22  scheme_name            31234 non-null  object \n",
      " 23  permit                 56344 non-null  object \n",
      " 24  construction_year      59400 non-null  int64  \n",
      " 25  extraction_type        59400 non-null  object \n",
      " 26  extraction_type_group  59400 non-null  object \n",
      " 27  extraction_type_class  59400 non-null  object \n",
      " 28  management             59400 non-null  object \n",
      " 29  management_group       59400 non-null  object \n",
      " 30  payment                59400 non-null  object \n",
      " 31  payment_type           59400 non-null  object \n",
      " 32  water_quality          59400 non-null  object \n",
      " 33  quality_group          59400 non-null  object \n",
      " 34  quantity               59400 non-null  object \n",
      " 35  quantity_group         59400 non-null  object \n",
      " 36  source                 59400 non-null  object \n",
      " 37  source_type            59400 non-null  object \n",
      " 38  source_class           59400 non-null  object \n",
      " 39  waterpoint_type        59400 non-null  object \n",
      " 40  waterpoint_type_group  59400 non-null  object \n",
      "dtypes: float64(3), int64(7), object(31)\n",
      "memory usage: 19.0+ MB\n"
     ]
    }
   ],
   "source": [
    "water_pump.info()"
   ]
  },
  {
   "cell_type": "code",
   "execution_count": 6,
   "metadata": {},
   "outputs": [
    {
     "data": {
      "text/html": [
       "<div>\n",
       "<style scoped>\n",
       "    .dataframe tbody tr th:only-of-type {\n",
       "        vertical-align: middle;\n",
       "    }\n",
       "\n",
       "    .dataframe tbody tr th {\n",
       "        vertical-align: top;\n",
       "    }\n",
       "\n",
       "    .dataframe thead th {\n",
       "        text-align: right;\n",
       "    }\n",
       "</style>\n",
       "<table border=\"1\" class=\"dataframe\">\n",
       "  <thead>\n",
       "    <tr style=\"text-align: right;\">\n",
       "      <th></th>\n",
       "      <th>id</th>\n",
       "      <th>amount_tsh</th>\n",
       "      <th>gps_height</th>\n",
       "      <th>longitude</th>\n",
       "      <th>latitude</th>\n",
       "      <th>num_private</th>\n",
       "      <th>region_code</th>\n",
       "      <th>district_code</th>\n",
       "      <th>population</th>\n",
       "      <th>construction_year</th>\n",
       "    </tr>\n",
       "  </thead>\n",
       "  <tbody>\n",
       "    <tr>\n",
       "      <th>count</th>\n",
       "      <td>59400.000000</td>\n",
       "      <td>59400.000000</td>\n",
       "      <td>59400.000000</td>\n",
       "      <td>59400.000000</td>\n",
       "      <td>5.940000e+04</td>\n",
       "      <td>59400.000000</td>\n",
       "      <td>59400.000000</td>\n",
       "      <td>59400.000000</td>\n",
       "      <td>59400.000000</td>\n",
       "      <td>59400.000000</td>\n",
       "    </tr>\n",
       "    <tr>\n",
       "      <th>mean</th>\n",
       "      <td>37115.131768</td>\n",
       "      <td>317.650385</td>\n",
       "      <td>668.297239</td>\n",
       "      <td>34.077427</td>\n",
       "      <td>-5.706033e+00</td>\n",
       "      <td>0.474141</td>\n",
       "      <td>15.297003</td>\n",
       "      <td>5.629747</td>\n",
       "      <td>179.909983</td>\n",
       "      <td>1300.652475</td>\n",
       "    </tr>\n",
       "    <tr>\n",
       "      <th>std</th>\n",
       "      <td>21453.128371</td>\n",
       "      <td>2997.574558</td>\n",
       "      <td>693.116350</td>\n",
       "      <td>6.567432</td>\n",
       "      <td>2.946019e+00</td>\n",
       "      <td>12.236230</td>\n",
       "      <td>17.587406</td>\n",
       "      <td>9.633649</td>\n",
       "      <td>471.482176</td>\n",
       "      <td>951.620547</td>\n",
       "    </tr>\n",
       "    <tr>\n",
       "      <th>min</th>\n",
       "      <td>0.000000</td>\n",
       "      <td>0.000000</td>\n",
       "      <td>-90.000000</td>\n",
       "      <td>0.000000</td>\n",
       "      <td>-1.164944e+01</td>\n",
       "      <td>0.000000</td>\n",
       "      <td>1.000000</td>\n",
       "      <td>0.000000</td>\n",
       "      <td>0.000000</td>\n",
       "      <td>0.000000</td>\n",
       "    </tr>\n",
       "    <tr>\n",
       "      <th>25%</th>\n",
       "      <td>18519.750000</td>\n",
       "      <td>0.000000</td>\n",
       "      <td>0.000000</td>\n",
       "      <td>33.090347</td>\n",
       "      <td>-8.540621e+00</td>\n",
       "      <td>0.000000</td>\n",
       "      <td>5.000000</td>\n",
       "      <td>2.000000</td>\n",
       "      <td>0.000000</td>\n",
       "      <td>0.000000</td>\n",
       "    </tr>\n",
       "    <tr>\n",
       "      <th>50%</th>\n",
       "      <td>37061.500000</td>\n",
       "      <td>0.000000</td>\n",
       "      <td>369.000000</td>\n",
       "      <td>34.908743</td>\n",
       "      <td>-5.021597e+00</td>\n",
       "      <td>0.000000</td>\n",
       "      <td>12.000000</td>\n",
       "      <td>3.000000</td>\n",
       "      <td>25.000000</td>\n",
       "      <td>1986.000000</td>\n",
       "    </tr>\n",
       "    <tr>\n",
       "      <th>75%</th>\n",
       "      <td>55656.500000</td>\n",
       "      <td>20.000000</td>\n",
       "      <td>1319.250000</td>\n",
       "      <td>37.178387</td>\n",
       "      <td>-3.326156e+00</td>\n",
       "      <td>0.000000</td>\n",
       "      <td>17.000000</td>\n",
       "      <td>5.000000</td>\n",
       "      <td>215.000000</td>\n",
       "      <td>2004.000000</td>\n",
       "    </tr>\n",
       "    <tr>\n",
       "      <th>max</th>\n",
       "      <td>74247.000000</td>\n",
       "      <td>350000.000000</td>\n",
       "      <td>2770.000000</td>\n",
       "      <td>40.345193</td>\n",
       "      <td>-2.000000e-08</td>\n",
       "      <td>1776.000000</td>\n",
       "      <td>99.000000</td>\n",
       "      <td>80.000000</td>\n",
       "      <td>30500.000000</td>\n",
       "      <td>2013.000000</td>\n",
       "    </tr>\n",
       "  </tbody>\n",
       "</table>\n",
       "</div>"
      ],
      "text/plain": [
       "                 id     amount_tsh    gps_height     longitude      latitude  \\\n",
       "count  59400.000000   59400.000000  59400.000000  59400.000000  5.940000e+04   \n",
       "mean   37115.131768     317.650385    668.297239     34.077427 -5.706033e+00   \n",
       "std    21453.128371    2997.574558    693.116350      6.567432  2.946019e+00   \n",
       "min        0.000000       0.000000    -90.000000      0.000000 -1.164944e+01   \n",
       "25%    18519.750000       0.000000      0.000000     33.090347 -8.540621e+00   \n",
       "50%    37061.500000       0.000000    369.000000     34.908743 -5.021597e+00   \n",
       "75%    55656.500000      20.000000   1319.250000     37.178387 -3.326156e+00   \n",
       "max    74247.000000  350000.000000   2770.000000     40.345193 -2.000000e-08   \n",
       "\n",
       "        num_private   region_code  district_code    population  \\\n",
       "count  59400.000000  59400.000000   59400.000000  59400.000000   \n",
       "mean       0.474141     15.297003       5.629747    179.909983   \n",
       "std       12.236230     17.587406       9.633649    471.482176   \n",
       "min        0.000000      1.000000       0.000000      0.000000   \n",
       "25%        0.000000      5.000000       2.000000      0.000000   \n",
       "50%        0.000000     12.000000       3.000000     25.000000   \n",
       "75%        0.000000     17.000000       5.000000    215.000000   \n",
       "max     1776.000000     99.000000      80.000000  30500.000000   \n",
       "\n",
       "       construction_year  \n",
       "count       59400.000000  \n",
       "mean         1300.652475  \n",
       "std           951.620547  \n",
       "min             0.000000  \n",
       "25%             0.000000  \n",
       "50%          1986.000000  \n",
       "75%          2004.000000  \n",
       "max          2013.000000  "
      ]
     },
     "execution_count": 6,
     "metadata": {},
     "output_type": "execute_result"
    }
   ],
   "source": [
    "water_pump.describe()"
   ]
  },
  {
   "cell_type": "code",
   "execution_count": 7,
   "metadata": {
    "scrolled": true
   },
   "outputs": [
    {
     "data": {
      "text/plain": [
       "id                           0\n",
       "status_group                 0\n",
       "amount_tsh                   0\n",
       "date_recorded                0\n",
       "funder                    3635\n",
       "gps_height                   0\n",
       "installer                 3655\n",
       "longitude                    0\n",
       "latitude                     0\n",
       "wpt_name                     0\n",
       "num_private                  0\n",
       "basin                        0\n",
       "subvillage                 371\n",
       "region                       0\n",
       "region_code                  0\n",
       "district_code                0\n",
       "lga                          0\n",
       "ward                         0\n",
       "population                   0\n",
       "public_meeting            3334\n",
       "recorded_by                  0\n",
       "scheme_management         3877\n",
       "scheme_name              28166\n",
       "permit                    3056\n",
       "construction_year            0\n",
       "extraction_type              0\n",
       "extraction_type_group        0\n",
       "extraction_type_class        0\n",
       "management                   0\n",
       "management_group             0\n",
       "payment                      0\n",
       "payment_type                 0\n",
       "water_quality                0\n",
       "quality_group                0\n",
       "quantity                     0\n",
       "quantity_group               0\n",
       "source                       0\n",
       "source_type                  0\n",
       "source_class                 0\n",
       "waterpoint_type              0\n",
       "waterpoint_type_group        0\n",
       "dtype: int64"
      ]
     },
     "execution_count": 7,
     "metadata": {},
     "output_type": "execute_result"
    }
   ],
   "source": [
    "water_pump.isnull().sum()"
   ]
  },
  {
   "cell_type": "code",
   "execution_count": 8,
   "metadata": {},
   "outputs": [
    {
     "data": {
      "text/plain": [
       "functional                 32259\n",
       "non functional             22824\n",
       "functional needs repair     4317\n",
       "Name: status_group, dtype: int64"
      ]
     },
     "execution_count": 8,
     "metadata": {},
     "output_type": "execute_result"
    }
   ],
   "source": [
    "#checking target values\n",
    "water_pump['status_group'].value_counts()"
   ]
  },
  {
   "cell_type": "code",
   "execution_count": 9,
   "metadata": {},
   "outputs": [
    {
     "data": {
      "text/plain": [
       "functional                 0.543081\n",
       "non functional             0.384242\n",
       "functional needs repair    0.072677\n",
       "Name: status_group, dtype: float64"
      ]
     },
     "execution_count": 9,
     "metadata": {},
     "output_type": "execute_result"
    }
   ],
   "source": [
    "#checking distribution of target values\n",
    "water_pump['status_group'].value_counts(normalize=True)"
   ]
  },
  {
   "cell_type": "code",
   "execution_count": 10,
   "metadata": {
    "scrolled": true
   },
   "outputs": [
    {
     "data": {
      "image/png": "[encoded data removed]",
      "text/plain": [
       "<Figure size 1080x720 with 1 Axes>"
      ]
     },
     "metadata": {
      "needs_background": "light"
     },
     "output_type": "display_data"
    }
   ],
   "source": [
    "fig, ax = plt.subplots(figsize = (15, 10))\n",
    "\n",
    "x = [\"Functional\", \"Functional Needs Repair\", \"Non Functional\"]\n",
    "height = [0.543081, 0.072677, 0.384242]\n",
    "ax.tick_params(axis=\"x\", labelsize=24)\n",
    "ax.tick_params(axis=\"y\", labelsize=18)\n",
    "\n",
    "ax = plt.bar(x=x, \n",
    "        height=height, color = [\"cadetblue\", \"lightcoral\", \"cadetblue\"])\n",
    "plt.title(\"Status of Water Pumps\", fontsize=30)\n",
    "plt.ylabel(\"Percentage\", fontsize=24);\n",
    "plt.ylim(0, .65)\n",
    "\n",
    "plt.text(.95, .09, '7%', \n",
    "         fontsize = 18, color = 'k')\n",
    "\n",
    "plt.text(1.95, .41, '39%', \n",
    "         fontsize = 18, color = 'k')\n",
    "plt.text(-.1, .56, '54%', \n",
    "         fontsize = 18, color = 'k');\n",
    "\n",
    "plt.savefig('./images/Well_Status_bar_Chart', bbox_inches=\"tight\", dpi=500);\n"
   ]
  },
  {
   "cell_type": "raw",
   "metadata": {},
   "source": []
  },
  {
   "cell_type": "markdown",
   "metadata": {},
   "source": [
    "## Data Preparation"
   ]
  },
  {
   "cell_type": "markdown",
   "metadata": {},
   "source": [
    "For our Data Preparation and Feature Engineering section - we dropped columns that offered information about data collection, included repetitive information from other columns, had too many unique responses that would be computationally expenive to encode, or were found to be of low feature importance in our modeling. We also used the data to create three new indicators: unknown_construction_yr, water_per_person, age_at_inspection.\n",
    "\n",
    "Our final model included information from 23 columns 59,399 observations."
   ]
  },
  {
   "cell_type": "code",
   "execution_count": 11,
   "metadata": {},
   "outputs": [
    {
     "data": {
      "text/html": [
       "<div>\n",
       "<style scoped>\n",
       "    .dataframe tbody tr th:only-of-type {\n",
       "        vertical-align: middle;\n",
       "    }\n",
       "\n",
       "    .dataframe tbody tr th {\n",
       "        vertical-align: top;\n",
       "    }\n",
       "\n",
       "    .dataframe thead th {\n",
       "        text-align: right;\n",
       "    }\n",
       "</style>\n",
       "<table border=\"1\" class=\"dataframe\">\n",
       "  <thead>\n",
       "    <tr style=\"text-align: right;\">\n",
       "      <th></th>\n",
       "      <th>count</th>\n",
       "      <th>unique</th>\n",
       "      <th>top</th>\n",
       "      <th>freq</th>\n",
       "    </tr>\n",
       "  </thead>\n",
       "  <tbody>\n",
       "    <tr>\n",
       "      <th>status_group</th>\n",
       "      <td>59400</td>\n",
       "      <td>3</td>\n",
       "      <td>functional</td>\n",
       "      <td>32259</td>\n",
       "    </tr>\n",
       "    <tr>\n",
       "      <th>date_recorded</th>\n",
       "      <td>59400</td>\n",
       "      <td>356</td>\n",
       "      <td>2011-03-15</td>\n",
       "      <td>572</td>\n",
       "    </tr>\n",
       "    <tr>\n",
       "      <th>funder</th>\n",
       "      <td>55765</td>\n",
       "      <td>1897</td>\n",
       "      <td>Government Of Tanzania</td>\n",
       "      <td>9084</td>\n",
       "    </tr>\n",
       "    <tr>\n",
       "      <th>installer</th>\n",
       "      <td>55745</td>\n",
       "      <td>2145</td>\n",
       "      <td>DWE</td>\n",
       "      <td>17402</td>\n",
       "    </tr>\n",
       "    <tr>\n",
       "      <th>wpt_name</th>\n",
       "      <td>59400</td>\n",
       "      <td>37400</td>\n",
       "      <td>none</td>\n",
       "      <td>3563</td>\n",
       "    </tr>\n",
       "    <tr>\n",
       "      <th>basin</th>\n",
       "      <td>59400</td>\n",
       "      <td>9</td>\n",
       "      <td>Lake Victoria</td>\n",
       "      <td>10248</td>\n",
       "    </tr>\n",
       "    <tr>\n",
       "      <th>subvillage</th>\n",
       "      <td>59029</td>\n",
       "      <td>19287</td>\n",
       "      <td>Madukani</td>\n",
       "      <td>508</td>\n",
       "    </tr>\n",
       "    <tr>\n",
       "      <th>region</th>\n",
       "      <td>59400</td>\n",
       "      <td>21</td>\n",
       "      <td>Iringa</td>\n",
       "      <td>5294</td>\n",
       "    </tr>\n",
       "    <tr>\n",
       "      <th>lga</th>\n",
       "      <td>59400</td>\n",
       "      <td>125</td>\n",
       "      <td>Njombe</td>\n",
       "      <td>2503</td>\n",
       "    </tr>\n",
       "    <tr>\n",
       "      <th>ward</th>\n",
       "      <td>59400</td>\n",
       "      <td>2092</td>\n",
       "      <td>Igosi</td>\n",
       "      <td>307</td>\n",
       "    </tr>\n",
       "    <tr>\n",
       "      <th>public_meeting</th>\n",
       "      <td>56066</td>\n",
       "      <td>2</td>\n",
       "      <td>True</td>\n",
       "      <td>51011</td>\n",
       "    </tr>\n",
       "    <tr>\n",
       "      <th>recorded_by</th>\n",
       "      <td>59400</td>\n",
       "      <td>1</td>\n",
       "      <td>GeoData Consultants Ltd</td>\n",
       "      <td>59400</td>\n",
       "    </tr>\n",
       "    <tr>\n",
       "      <th>scheme_management</th>\n",
       "      <td>55523</td>\n",
       "      <td>12</td>\n",
       "      <td>VWC</td>\n",
       "      <td>36793</td>\n",
       "    </tr>\n",
       "    <tr>\n",
       "      <th>scheme_name</th>\n",
       "      <td>31234</td>\n",
       "      <td>2696</td>\n",
       "      <td>K</td>\n",
       "      <td>682</td>\n",
       "    </tr>\n",
       "    <tr>\n",
       "      <th>permit</th>\n",
       "      <td>56344</td>\n",
       "      <td>2</td>\n",
       "      <td>True</td>\n",
       "      <td>38852</td>\n",
       "    </tr>\n",
       "    <tr>\n",
       "      <th>extraction_type</th>\n",
       "      <td>59400</td>\n",
       "      <td>18</td>\n",
       "      <td>gravity</td>\n",
       "      <td>26780</td>\n",
       "    </tr>\n",
       "    <tr>\n",
       "      <th>extraction_type_group</th>\n",
       "      <td>59400</td>\n",
       "      <td>13</td>\n",
       "      <td>gravity</td>\n",
       "      <td>26780</td>\n",
       "    </tr>\n",
       "    <tr>\n",
       "      <th>extraction_type_class</th>\n",
       "      <td>59400</td>\n",
       "      <td>7</td>\n",
       "      <td>gravity</td>\n",
       "      <td>26780</td>\n",
       "    </tr>\n",
       "    <tr>\n",
       "      <th>management</th>\n",
       "      <td>59400</td>\n",
       "      <td>12</td>\n",
       "      <td>vwc</td>\n",
       "      <td>40507</td>\n",
       "    </tr>\n",
       "    <tr>\n",
       "      <th>management_group</th>\n",
       "      <td>59400</td>\n",
       "      <td>5</td>\n",
       "      <td>user-group</td>\n",
       "      <td>52490</td>\n",
       "    </tr>\n",
       "    <tr>\n",
       "      <th>payment</th>\n",
       "      <td>59400</td>\n",
       "      <td>7</td>\n",
       "      <td>never pay</td>\n",
       "      <td>25348</td>\n",
       "    </tr>\n",
       "    <tr>\n",
       "      <th>payment_type</th>\n",
       "      <td>59400</td>\n",
       "      <td>7</td>\n",
       "      <td>never pay</td>\n",
       "      <td>25348</td>\n",
       "    </tr>\n",
       "    <tr>\n",
       "      <th>water_quality</th>\n",
       "      <td>59400</td>\n",
       "      <td>8</td>\n",
       "      <td>soft</td>\n",
       "      <td>50818</td>\n",
       "    </tr>\n",
       "    <tr>\n",
       "      <th>quality_group</th>\n",
       "      <td>59400</td>\n",
       "      <td>6</td>\n",
       "      <td>good</td>\n",
       "      <td>50818</td>\n",
       "    </tr>\n",
       "    <tr>\n",
       "      <th>quantity</th>\n",
       "      <td>59400</td>\n",
       "      <td>5</td>\n",
       "      <td>enough</td>\n",
       "      <td>33186</td>\n",
       "    </tr>\n",
       "    <tr>\n",
       "      <th>quantity_group</th>\n",
       "      <td>59400</td>\n",
       "      <td>5</td>\n",
       "      <td>enough</td>\n",
       "      <td>33186</td>\n",
       "    </tr>\n",
       "    <tr>\n",
       "      <th>source</th>\n",
       "      <td>59400</td>\n",
       "      <td>10</td>\n",
       "      <td>spring</td>\n",
       "      <td>17021</td>\n",
       "    </tr>\n",
       "    <tr>\n",
       "      <th>source_type</th>\n",
       "      <td>59400</td>\n",
       "      <td>7</td>\n",
       "      <td>spring</td>\n",
       "      <td>17021</td>\n",
       "    </tr>\n",
       "    <tr>\n",
       "      <th>source_class</th>\n",
       "      <td>59400</td>\n",
       "      <td>3</td>\n",
       "      <td>groundwater</td>\n",
       "      <td>45794</td>\n",
       "    </tr>\n",
       "    <tr>\n",
       "      <th>waterpoint_type</th>\n",
       "      <td>59400</td>\n",
       "      <td>7</td>\n",
       "      <td>communal standpipe</td>\n",
       "      <td>28522</td>\n",
       "    </tr>\n",
       "    <tr>\n",
       "      <th>waterpoint_type_group</th>\n",
       "      <td>59400</td>\n",
       "      <td>6</td>\n",
       "      <td>communal standpipe</td>\n",
       "      <td>34625</td>\n",
       "    </tr>\n",
       "  </tbody>\n",
       "</table>\n",
       "</div>"
      ],
      "text/plain": [
       "                       count unique                      top   freq\n",
       "status_group           59400      3               functional  32259\n",
       "date_recorded          59400    356               2011-03-15    572\n",
       "funder                 55765   1897   Government Of Tanzania   9084\n",
       "installer              55745   2145                      DWE  17402\n",
       "wpt_name               59400  37400                     none   3563\n",
       "basin                  59400      9            Lake Victoria  10248\n",
       "subvillage             59029  19287                 Madukani    508\n",
       "region                 59400     21                   Iringa   5294\n",
       "lga                    59400    125                   Njombe   2503\n",
       "ward                   59400   2092                    Igosi    307\n",
       "public_meeting         56066      2                     True  51011\n",
       "recorded_by            59400      1  GeoData Consultants Ltd  59400\n",
       "scheme_management      55523     12                      VWC  36793\n",
       "scheme_name            31234   2696                        K    682\n",
       "permit                 56344      2                     True  38852\n",
       "extraction_type        59400     18                  gravity  26780\n",
       "extraction_type_group  59400     13                  gravity  26780\n",
       "extraction_type_class  59400      7                  gravity  26780\n",
       "management             59400     12                      vwc  40507\n",
       "management_group       59400      5               user-group  52490\n",
       "payment                59400      7                never pay  25348\n",
       "payment_type           59400      7                never pay  25348\n",
       "water_quality          59400      8                     soft  50818\n",
       "quality_group          59400      6                     good  50818\n",
       "quantity               59400      5                   enough  33186\n",
       "quantity_group         59400      5                   enough  33186\n",
       "source                 59400     10                   spring  17021\n",
       "source_type            59400      7                   spring  17021\n",
       "source_class           59400      3              groundwater  45794\n",
       "waterpoint_type        59400      7       communal standpipe  28522\n",
       "waterpoint_type_group  59400      6       communal standpipe  34625"
      ]
     },
     "execution_count": 11,
     "metadata": {},
     "output_type": "execute_result"
    }
   ],
   "source": [
    "#exploring number of unique responses in each feature.\n",
    "#we can drop id - since its unique to each well.\n",
    "#lots of unqiue responses in several categorical columns \n",
    "#funder, installer, wpt_name, subvillage, ward, scheme name, - \n",
    "#we can drop these columns as the computing power required to encode these would be significant\n",
    "water_pump.describe(exclude='number').T"
   ]
  },
  {
   "cell_type": "code",
   "execution_count": 12,
   "metadata": {},
   "outputs": [
    {
     "name": "stdout",
     "output_type": "stream",
     "text": [
      "98\n",
      "\n",
      "\n",
      "0.0         41639\n",
      "500.0        3102\n",
      "50.0         2472\n",
      "1000.0       1488\n",
      "20.0         1463\n",
      "            ...  \n",
      "8500.0          1\n",
      "6300.0          1\n",
      "220.0           1\n",
      "138000.0        1\n",
      "12.0            1\n",
      "Name: amount_tsh, Length: 98, dtype: int64\n"
     ]
    }
   ],
   "source": [
    "#keeping feature\n",
    "#will use to create water per person feature\n",
    "print(water_pump['amount_tsh'].nunique())\n",
    "print()\n",
    "print ()\n",
    "print(water_pump['amount_tsh'].value_counts())"
   ]
  },
  {
   "cell_type": "code",
   "execution_count": 13,
   "metadata": {},
   "outputs": [
    {
     "name": "stdout",
     "output_type": "stream",
     "text": [
      "356\n",
      "\n",
      "\n",
      "2011-03-15    572\n",
      "2011-03-17    558\n",
      "2013-02-03    546\n",
      "2011-03-14    520\n",
      "2011-03-16    513\n",
      "             ... \n",
      "2011-09-12      1\n",
      "2004-03-06      1\n",
      "2012-01-21      1\n",
      "2011-08-31      1\n",
      "2011-09-01      1\n",
      "Name: date_recorded, Length: 356, dtype: int64\n"
     ]
    }
   ],
   "source": [
    "#using to calculate new age_at_inspection column, then will drop column\n",
    "print(water_pump['date_recorded'].nunique())\n",
    "print()\n",
    "print()\n",
    "print(water_pump['date_recorded'].value_counts())\n"
   ]
  },
  {
   "cell_type": "code",
   "execution_count": 14,
   "metadata": {},
   "outputs": [
    {
     "name": "stdout",
     "output_type": "stream",
     "text": [
      "2428\n",
      "\n",
      "\n",
      " 0       20438\n",
      "-15         60\n",
      "-16         55\n",
      "-13         55\n",
      "-20         52\n",
      "         ...  \n",
      " 2285        1\n",
      " 2424        1\n",
      " 2552        1\n",
      " 2413        1\n",
      " 2385        1\n",
      "Name: gps_height, Length: 2428, dtype: int64\n"
     ]
    }
   ],
   "source": [
    "#lots of \"0\" values - we think \"0\" is important so we are keeping feature\n",
    "print(water_pump['gps_height'].nunique())\n",
    "print()\n",
    "print()\n",
    "print(water_pump['gps_height'].value_counts())\n"
   ]
  },
  {
   "cell_type": "code",
   "execution_count": 15,
   "metadata": {},
   "outputs": [
    {
     "name": "stdout",
     "output_type": "stream",
     "text": [
      "57516\n",
      "\n",
      "\n",
      "0.000000     1812\n",
      "37.540901       2\n",
      "33.010510       2\n",
      "39.093484       2\n",
      "32.972719       2\n",
      "             ... \n",
      "37.579803       1\n",
      "33.196490       1\n",
      "34.017119       1\n",
      "33.788326       1\n",
      "30.163579       1\n",
      "Name: longitude, Length: 57516, dtype: int64\n"
     ]
    }
   ],
   "source": [
    "#will use to map locations then drop\n",
    "print(water_pump['longitude'].nunique())\n",
    "print()\n",
    "print()\n",
    "print(water_pump['longitude'].value_counts())\n"
   ]
  },
  {
   "cell_type": "code",
   "execution_count": 16,
   "metadata": {},
   "outputs": [
    {
     "name": "stdout",
     "output_type": "stream",
     "text": [
      "57517\n",
      "\n",
      "\n",
      "-2.000000e-08    1812\n",
      "-6.985842e+00       2\n",
      "-3.797579e+00       2\n",
      "-6.981884e+00       2\n",
      "-7.104625e+00       2\n",
      "                 ... \n",
      "-5.726001e+00       1\n",
      "-9.646831e+00       1\n",
      "-8.124530e+00       1\n",
      "-2.535985e+00       1\n",
      "-2.598965e+00       1\n",
      "Name: latitude, Length: 57517, dtype: int64\n"
     ]
    }
   ],
   "source": [
    "#will use to map locations then drop\n",
    "print(water_pump['latitude'].nunique())\n",
    "print()\n",
    "print()\n",
    "print(water_pump['latitude'].value_counts())\n"
   ]
  },
  {
   "cell_type": "code",
   "execution_count": 17,
   "metadata": {},
   "outputs": [
    {
     "name": "stdout",
     "output_type": "stream",
     "text": [
      "9\n",
      "\n",
      "\n",
      "Lake Victoria              10248\n",
      "Pangani                     8940\n",
      "Rufiji                      7976\n",
      "Internal                    7785\n",
      "Lake Tanganyika             6432\n",
      "Wami / Ruvu                 5987\n",
      "Lake Nyasa                  5085\n",
      "Ruvuma / Southern Coast     4493\n",
      "Lake Rukwa                  2454\n",
      "Name: basin, dtype: int64\n"
     ]
    }
   ],
   "source": [
    "#keeping feature\n",
    "print(water_pump['basin'].nunique())\n",
    "print()\n",
    "print()\n",
    "print(water_pump['basin'].value_counts())"
   ]
  },
  {
   "cell_type": "code",
   "execution_count": 18,
   "metadata": {},
   "outputs": [
    {
     "name": "stdout",
     "output_type": "stream",
     "text": [
      "21\n",
      "\n",
      "\n",
      "Iringa           5294\n",
      "Shinyanga        4982\n",
      "Mbeya            4639\n",
      "Kilimanjaro      4379\n",
      "Morogoro         4006\n",
      "Arusha           3350\n",
      "Kagera           3316\n",
      "Mwanza           3102\n",
      "Kigoma           2816\n",
      "Ruvuma           2640\n",
      "Pwani            2635\n",
      "Tanga            2547\n",
      "Dodoma           2201\n",
      "Singida          2093\n",
      "Mara             1969\n",
      "Tabora           1959\n",
      "Rukwa            1808\n",
      "Mtwara           1730\n",
      "Manyara          1583\n",
      "Lindi            1546\n",
      "Dar es Salaam     805\n",
      "Name: region, dtype: int64\n"
     ]
    }
   ],
   "source": [
    "#keeping feature\n",
    "print(water_pump['region'].nunique())\n",
    "print()\n",
    "print()\n",
    "print(water_pump['region'].value_counts())"
   ]
  },
  {
   "cell_type": "code",
   "execution_count": 19,
   "metadata": {},
   "outputs": [
    {
     "name": "stdout",
     "output_type": "stream",
     "text": [
      "27\n",
      "\n",
      "\n",
      "11    5300\n",
      "17    5011\n",
      "12    4639\n",
      "3     4379\n",
      "5     4040\n",
      "18    3324\n",
      "19    3047\n",
      "2     3024\n",
      "16    2816\n",
      "10    2640\n",
      "4     2513\n",
      "1     2201\n",
      "13    2093\n",
      "14    1979\n",
      "20    1969\n",
      "15    1808\n",
      "6     1609\n",
      "21    1583\n",
      "80    1238\n",
      "60    1025\n",
      "90     917\n",
      "7      805\n",
      "99     423\n",
      "9      390\n",
      "24     326\n",
      "8      300\n",
      "40       1\n",
      "Name: region_code, dtype: int64\n"
     ]
    }
   ],
   "source": [
    "#keeping feature\n",
    "print(water_pump['region_code'].nunique())\n",
    "print()\n",
    "print()\n",
    "print(water_pump['region_code'].value_counts())"
   ]
  },
  {
   "cell_type": "code",
   "execution_count": 20,
   "metadata": {},
   "outputs": [
    {
     "name": "stdout",
     "output_type": "stream",
     "text": [
      "20\n",
      "\n",
      "\n",
      "1     12203\n",
      "2     11173\n",
      "3      9998\n",
      "4      8999\n",
      "5      4356\n",
      "6      4074\n",
      "7      3343\n",
      "8      1043\n",
      "30      995\n",
      "33      874\n",
      "53      745\n",
      "43      505\n",
      "13      391\n",
      "23      293\n",
      "63      195\n",
      "62      109\n",
      "60       63\n",
      "0        23\n",
      "80       12\n",
      "67        6\n",
      "Name: district_code, dtype: int64\n"
     ]
    }
   ],
   "source": [
    "#drop column have several location features already\n",
    "print(water_pump['district_code'].nunique())\n",
    "print()\n",
    "print()\n",
    "print(water_pump['district_code'].value_counts())"
   ]
  },
  {
   "cell_type": "code",
   "execution_count": 21,
   "metadata": {},
   "outputs": [
    {
     "name": "stdout",
     "output_type": "stream",
     "text": [
      "125\n",
      "\n",
      "\n",
      "Njombe          2503\n",
      "Arusha Rural    1252\n",
      "Moshi Rural     1251\n",
      "Bariadi         1177\n",
      "Rungwe          1106\n",
      "                ... \n",
      "Moshi Urban       79\n",
      "Kigoma Urban      71\n",
      "Arusha Urban      63\n",
      "Lindi Urban       21\n",
      "Nyamagana          1\n",
      "Name: lga, Length: 125, dtype: int64\n"
     ]
    }
   ],
   "source": [
    "#keeping feature. will bin together urban groups\n",
    "print(water_pump['lga'].nunique())\n",
    "print()\n",
    "print()\n",
    "print(water_pump['lga'].value_counts())"
   ]
  },
  {
   "cell_type": "code",
   "execution_count": 22,
   "metadata": {},
   "outputs": [
    {
     "name": "stdout",
     "output_type": "stream",
     "text": [
      "Njombe          2503\n",
      "Arusha Rural    1252\n",
      "Moshi Rural     1251\n",
      "Bariadi         1177\n",
      "Rungwe          1106\n",
      "                ... \n",
      "Ilemela          142\n",
      "Mafia            132\n",
      "Tanga             99\n",
      "Kinondoni         93\n",
      "Nyamagana          1\n",
      "Name: lga, Length: 118, dtype: int64\n"
     ]
    }
   ],
   "source": [
    "#bin together the Urban groups\n",
    "water_pump['lga'] = water_pump['lga'].replace(\"Moshi Urban\", \"Urban\")\n",
    "water_pump['lga'] = water_pump['lga'].replace(\"Kigoma Urban\", \"Urban\")\n",
    "water_pump['lga'] = water_pump['lga'].replace(\"Arusha Urban\", \"Urban\")\n",
    "water_pump['lga'] = water_pump['lga'].replace(\"Lindi Urban\", \"Urban\")\n",
    "water_pump['lga'] = water_pump['lga'].replace(\"Bukoba Urban\", \"Urban\")\n",
    "water_pump['lga'] = water_pump['lga'].replace(\"Songea Urban\", \"Urban\")\n",
    "water_pump['lga'] = water_pump['lga'].replace(\"Morogoro Urban\", \"Urban\")\n",
    "water_pump['lga'] = water_pump['lga'].replace(\"Mtwara Urban\", \"Urban\")\n",
    "print(water_pump['lga'].value_counts())"
   ]
  },
  {
   "cell_type": "code",
   "execution_count": 23,
   "metadata": {},
   "outputs": [
    {
     "name": "stdout",
     "output_type": "stream",
     "text": [
      "1049\n",
      "\n",
      "\n",
      "0       21381\n",
      "1        7025\n",
      "200      1940\n",
      "150      1892\n",
      "250      1681\n",
      "        ...  \n",
      "3241        1\n",
      "1960        1\n",
      "1685        1\n",
      "2248        1\n",
      "1439        1\n",
      "Name: population, Length: 1049, dtype: int64\n"
     ]
    }
   ],
   "source": [
    "#will use to calculate a new \"water per person\" feature then will drop\n",
    "print(water_pump['population'].nunique())\n",
    "print()\n",
    "print()\n",
    "print(water_pump['population'].value_counts())"
   ]
  },
  {
   "cell_type": "code",
   "execution_count": 24,
   "metadata": {},
   "outputs": [],
   "source": [
    "#replace \"0\" with nan.\n",
    "#creating water per person feature.\n",
    "#then dropping population feature\n",
    "water_pump['population'].replace(to_replace=0, value=np.nan, inplace=True)\n",
    "water_pump['water_per_person'] = water_pump['amount_tsh']/water_pump['population']"
   ]
  },
  {
   "cell_type": "code",
   "execution_count": 25,
   "metadata": {},
   "outputs": [
    {
     "name": "stdout",
     "output_type": "stream",
     "text": [
      "2\n",
      "\n",
      "\n",
      "True     51011\n",
      "False     5055\n",
      "Name: public_meeting, dtype: int64\n"
     ]
    }
   ],
   "source": [
    "#there are a significant amount of nulls here. \n",
    "print(water_pump['public_meeting'].nunique())\n",
    "print()\n",
    "print()\n",
    "print(water_pump['public_meeting'].value_counts())"
   ]
  },
  {
   "cell_type": "code",
   "execution_count": 26,
   "metadata": {},
   "outputs": [
    {
     "name": "stdout",
     "output_type": "stream",
     "text": [
      "True       51011\n",
      "False       5055\n",
      "Unknown     3334\n",
      "Name: public_meeting, dtype: int64\n"
     ]
    }
   ],
   "source": [
    "#replacing nulls with \"unknown\"\n",
    "water_pump['public_meeting'].replace(to_replace=np.nan, value=\"Unknown\", inplace=True)\n",
    "print(water_pump['public_meeting'].value_counts())"
   ]
  },
  {
   "cell_type": "code",
   "execution_count": 27,
   "metadata": {},
   "outputs": [
    {
     "name": "stdout",
     "output_type": "stream",
     "text": [
      "12\n",
      "\n",
      "\n",
      "VWC                 36793\n",
      "WUG                  5206\n",
      "Water authority      3153\n",
      "WUA                  2883\n",
      "Water Board          2748\n",
      "Parastatal           1680\n",
      "Private operator     1063\n",
      "Company              1061\n",
      "Other                 766\n",
      "SWC                    97\n",
      "Trust                  72\n",
      "None                    1\n",
      "Name: scheme_management, dtype: int64\n"
     ]
    }
   ],
   "source": [
    "#keeping feature, we have 3877 nulls in column.\n",
    "print(water_pump['scheme_management'].nunique())\n",
    "print()\n",
    "print()\n",
    "print(water_pump['scheme_management'].value_counts())\n"
   ]
  },
  {
   "cell_type": "code",
   "execution_count": 28,
   "metadata": {},
   "outputs": [
    {
     "data": {
      "text/plain": [
       "status_group             scheme_management\n",
       "functional               VWC                  0.623972\n",
       "                         WUG                  0.098927\n",
       "                         Water Board          0.067564\n",
       "                         WUA                  0.065655\n",
       "                         Water authority      0.053248\n",
       "                         Parastatal           0.031791\n",
       "                         Private operator     0.023991\n",
       "                         Company              0.017574\n",
       "                         Other                0.015073\n",
       "                         Trust                0.001514\n",
       "                         SWC                  0.000658\n",
       "                         None                 0.000033\n",
       "functional needs repair  VWC                  0.570103\n",
       "                         WUG                  0.164143\n",
       "                         Water authority      0.109428\n",
       "                         WUA                  0.058378\n",
       "                         Parastatal           0.049340\n",
       "                         Water Board          0.027113\n",
       "                         Company              0.009038\n",
       "                         Private operator     0.005618\n",
       "                         Other                0.005374\n",
       "                         Trust                0.001221\n",
       "                         SWC                  0.000244\n",
       "non functional           VWC                  0.736539\n",
       "                         WUG                  0.072613\n",
       "                         Water authority      0.051656\n",
       "                         WUA                  0.030842\n",
       "                         Water Board          0.027753\n",
       "                         Parastatal           0.024331\n",
       "                         Company              0.023286\n",
       "                         Private operator     0.014779\n",
       "                         Other                0.013591\n",
       "                         SWC                  0.003612\n",
       "                         Trust                0.000998\n",
       "Name: scheme_management, dtype: float64"
      ]
     },
     "execution_count": 28,
     "metadata": {},
     "output_type": "execute_result"
    }
   ],
   "source": [
    "water_pump['scheme_management'].groupby(water_pump['status_group']).value_counts(normalize=True)"
   ]
  },
  {
   "cell_type": "code",
   "execution_count": 29,
   "metadata": {},
   "outputs": [
    {
     "name": "stdout",
     "output_type": "stream",
     "text": [
      "VWC                 36793\n",
      "WUG                  5206\n",
      "Unknown              3878\n",
      "Water authority      3153\n",
      "WUA                  2883\n",
      "Water Board          2748\n",
      "Parastatal           1680\n",
      "Private operator     1063\n",
      "Company              1061\n",
      "Other                 766\n",
      "SWC                    97\n",
      "Trust                  72\n",
      "Name: scheme_management, dtype: int64\n"
     ]
    }
   ],
   "source": [
    "#replacing nulls and none with \"unknown\"\n",
    "water_pump['scheme_management'].replace(to_replace=np.nan, value=\"Unknown\", inplace=True)\n",
    "water_pump['scheme_management'] = water_pump['scheme_management'].replace(\"None\", \"Unknown\")\n",
    "print(water_pump['scheme_management'].value_counts())"
   ]
  },
  {
   "cell_type": "code",
   "execution_count": 30,
   "metadata": {},
   "outputs": [
    {
     "name": "stdout",
     "output_type": "stream",
     "text": [
      "2\n",
      "\n",
      "\n",
      "True     38852\n",
      "False    17492\n",
      "Name: permit, dtype: int64\n"
     ]
    }
   ],
   "source": [
    "#keeping feature, have 3056 nulls\n",
    "print(water_pump['permit'].nunique())\n",
    "print()\n",
    "print()\n",
    "print(water_pump['permit'].value_counts())"
   ]
  },
  {
   "cell_type": "code",
   "execution_count": 31,
   "metadata": {},
   "outputs": [
    {
     "name": "stdout",
     "output_type": "stream",
     "text": [
      "True       38852\n",
      "False      17492\n",
      "Unknown     3056\n",
      "Name: permit, dtype: int64\n"
     ]
    }
   ],
   "source": [
    "#replacing nulls and none with \"unknown\"\n",
    "water_pump['permit'].replace(to_replace=np.nan, value=\"Unknown\", inplace=True)\n",
    "print(water_pump['permit'].value_counts())"
   ]
  },
  {
   "cell_type": "code",
   "execution_count": 32,
   "metadata": {},
   "outputs": [
    {
     "name": "stdout",
     "output_type": "stream",
     "text": [
      "55\n",
      "\n",
      "\n",
      "0       20709\n",
      "2010     2645\n",
      "2008     2613\n",
      "2009     2533\n",
      "2000     2091\n",
      "2007     1587\n",
      "2006     1471\n",
      "2003     1286\n",
      "2011     1256\n",
      "2004     1123\n",
      "2012     1084\n",
      "2002     1075\n",
      "1978     1037\n",
      "1995     1014\n",
      "2005     1011\n",
      "1999      979\n",
      "1998      966\n",
      "1990      954\n",
      "1985      945\n",
      "1980      811\n",
      "1996      811\n",
      "1984      779\n",
      "1982      744\n",
      "1994      738\n",
      "1972      708\n",
      "1974      676\n",
      "1997      644\n",
      "1992      640\n",
      "1993      608\n",
      "2001      540\n",
      "1988      521\n",
      "1983      488\n",
      "1975      437\n",
      "1986      434\n",
      "1976      414\n",
      "1970      411\n",
      "1991      324\n",
      "1989      316\n",
      "1987      302\n",
      "1981      238\n",
      "1977      202\n",
      "1979      192\n",
      "1973      184\n",
      "2013      176\n",
      "1971      145\n",
      "1960      102\n",
      "1967       88\n",
      "1963       85\n",
      "1968       77\n",
      "1969       59\n",
      "1964       40\n",
      "1962       30\n",
      "1961       21\n",
      "1965       19\n",
      "1966       17\n",
      "Name: construction_year, dtype: int64\n"
     ]
    }
   ],
   "source": [
    "#lots of unknown/zero values - almost half of data\n",
    "#use to calculate new feature age at inspection\n",
    "#will use to calculate new boolean feature of unknown_construction_yr\n",
    "print(water_pump['construction_year'].nunique())\n",
    "print()\n",
    "print()\n",
    "print(water_pump['construction_year'].value_counts())"
   ]
  },
  {
   "cell_type": "code",
   "execution_count": 33,
   "metadata": {},
   "outputs": [],
   "source": [
    "#changing 0 with nan so as to get appropriate True/False value for unknown construction year feature\n",
    "water_pump['construction_year'].replace(to_replace=0, value=np.nan, inplace=True)\n",
    "water_pump[\"unknown_construction_yr\"] = water_pump[\"construction_year\"].isnull()"
   ]
  },
  {
   "cell_type": "code",
   "execution_count": 34,
   "metadata": {},
   "outputs": [],
   "source": [
    "water_pump['age_at_inspection'] = water_pump['date_recorded'].str[:4].astype(int) - water_pump['construction_year'] "
   ]
  },
  {
   "cell_type": "code",
   "execution_count": 35,
   "metadata": {},
   "outputs": [
    {
     "data": {
      "text/plain": [
       "2010.0    2645\n",
       "2008.0    2613\n",
       "2009.0    2533\n",
       "2000.0    2091\n",
       "2007.0    1587\n",
       "2006.0    1471\n",
       "2003.0    1286\n",
       "2011.0    1256\n",
       "2004.0    1123\n",
       "2012.0    1084\n",
       "2002.0    1075\n",
       "1978.0    1037\n",
       "1995.0    1014\n",
       "2005.0    1011\n",
       "1999.0     979\n",
       "1998.0     966\n",
       "1990.0     954\n",
       "1985.0     945\n",
       "1996.0     811\n",
       "1980.0     811\n",
       "1984.0     779\n",
       "1982.0     744\n",
       "1994.0     738\n",
       "1972.0     708\n",
       "1974.0     676\n",
       "1997.0     644\n",
       "1992.0     640\n",
       "1993.0     608\n",
       "2001.0     540\n",
       "1988.0     521\n",
       "1983.0     488\n",
       "1975.0     437\n",
       "1986.0     434\n",
       "1976.0     414\n",
       "1970.0     411\n",
       "1991.0     324\n",
       "1989.0     316\n",
       "1987.0     302\n",
       "1981.0     238\n",
       "1977.0     202\n",
       "1979.0     192\n",
       "1973.0     184\n",
       "2013.0     176\n",
       "1971.0     145\n",
       "1960.0     102\n",
       "1967.0      88\n",
       "1963.0      85\n",
       "1968.0      77\n",
       "1969.0      59\n",
       "1964.0      40\n",
       "1962.0      30\n",
       "1961.0      21\n",
       "1965.0      19\n",
       "1966.0      17\n",
       "Name: construction_year, dtype: int64"
      ]
     },
     "execution_count": 35,
     "metadata": {},
     "output_type": "execute_result"
    }
   ],
   "source": [
    "water_pump['construction_year'].value_counts()"
   ]
  },
  {
   "cell_type": "code",
   "execution_count": 36,
   "metadata": {},
   "outputs": [
    {
     "name": "stdout",
     "output_type": "stream",
     "text": [
      "18\n",
      "\n",
      "\n",
      "gravity                      26780\n",
      "nira/tanira                   8154\n",
      "other                         6430\n",
      "submersible                   4764\n",
      "swn 80                        3670\n",
      "mono                          2865\n",
      "india mark ii                 2400\n",
      "afridev                       1770\n",
      "ksb                           1415\n",
      "other - rope pump              451\n",
      "other - swn 81                 229\n",
      "windmill                       117\n",
      "india mark iii                  98\n",
      "cemo                            90\n",
      "other - play pump               85\n",
      "walimi                          48\n",
      "climax                          32\n",
      "other - mkulima/shinyanga        2\n",
      "Name: extraction_type, dtype: int64\n"
     ]
    }
   ],
   "source": [
    "#drop - 5 dfferent 'other' groups, two india mark groups \n",
    "#researching we find these are types of pumps  \n",
    "#so drop in favor of extraction_type_group.\n",
    "print(water_pump['extraction_type'].nunique())\n",
    "print()\n",
    "print()\n",
    "print(water_pump['extraction_type'].value_counts())"
   ]
  },
  {
   "cell_type": "code",
   "execution_count": 37,
   "metadata": {},
   "outputs": [
    {
     "name": "stdout",
     "output_type": "stream",
     "text": [
      "13\n",
      "\n",
      "\n",
      "gravity            26780\n",
      "nira/tanira         8154\n",
      "other               6430\n",
      "submersible         6179\n",
      "swn 80              3670\n",
      "mono                2865\n",
      "india mark ii       2400\n",
      "afridev             1770\n",
      "rope pump            451\n",
      "other handpump       364\n",
      "other motorpump      122\n",
      "wind-powered         117\n",
      "india mark iii        98\n",
      "Name: extraction_type_group, dtype: int64\n"
     ]
    }
   ],
   "source": [
    "#keeping feature\n",
    "print(water_pump['extraction_type_group'].nunique())\n",
    "print()\n",
    "print()\n",
    "print(water_pump['extraction_type_group'].value_counts())"
   ]
  },
  {
   "cell_type": "code",
   "execution_count": 38,
   "metadata": {},
   "outputs": [
    {
     "name": "stdout",
     "output_type": "stream",
     "text": [
      "7\n",
      "\n",
      "\n",
      "gravity         26780\n",
      "handpump        16456\n",
      "other            6430\n",
      "submersible      6179\n",
      "motorpump        2987\n",
      "rope pump         451\n",
      "wind-powered      117\n",
      "Name: extraction_type_class, dtype: int64\n"
     ]
    }
   ],
   "source": [
    "#keeping feature - is more macro but losing the manufacturer breakdown\n",
    "#(this could be helpful info) - so we are keeping\n",
    "print(water_pump['extraction_type_class'].nunique())\n",
    "print()\n",
    "print()\n",
    "print(water_pump['extraction_type_class'].value_counts())"
   ]
  },
  {
   "cell_type": "code",
   "execution_count": 39,
   "metadata": {},
   "outputs": [
    {
     "name": "stdout",
     "output_type": "stream",
     "text": [
      "12\n",
      "\n",
      "\n",
      "vwc                 40507\n",
      "wug                  6515\n",
      "water board          2933\n",
      "wua                  2535\n",
      "private operator     1971\n",
      "parastatal           1768\n",
      "water authority       904\n",
      "other                 844\n",
      "company               685\n",
      "unknown               561\n",
      "other - school         99\n",
      "trust                  78\n",
      "Name: management, dtype: int64\n"
     ]
    }
   ],
   "source": [
    "#keeping but renaming other-school to school for clarity\n",
    "print(water_pump['management'].nunique())\n",
    "print()\n",
    "print()\n",
    "print(water_pump['management'].value_counts())\n"
   ]
  },
  {
   "cell_type": "code",
   "execution_count": 40,
   "metadata": {},
   "outputs": [
    {
     "name": "stdout",
     "output_type": "stream",
     "text": [
      "vwc                 40507\n",
      "wug                  6515\n",
      "water board          2933\n",
      "wua                  2535\n",
      "private operator     1971\n",
      "parastatal           1768\n",
      "water authority       904\n",
      "other                 844\n",
      "company               685\n",
      "unknown               561\n",
      "school                 99\n",
      "trust                  78\n",
      "Name: management, dtype: int64\n"
     ]
    }
   ],
   "source": [
    "water_pump['management'] = water_pump['management'].replace(\"other - school\", \"school\")\n",
    "print(water_pump['management'].value_counts())"
   ]
  },
  {
   "cell_type": "code",
   "execution_count": 41,
   "metadata": {},
   "outputs": [
    {
     "name": "stdout",
     "output_type": "stream",
     "text": [
      "5\n",
      "\n",
      "\n",
      "user-group    52490\n",
      "commercial     3638\n",
      "parastatal     1768\n",
      "other           943\n",
      "unknown         561\n",
      "Name: management_group, dtype: int64\n"
     ]
    }
   ],
   "source": [
    "#keeping feature\n",
    "print(water_pump['management_group'].nunique())\n",
    "print()\n",
    "print()\n",
    "print(water_pump['management_group'].value_counts())"
   ]
  },
  {
   "cell_type": "code",
   "execution_count": 42,
   "metadata": {},
   "outputs": [
    {
     "name": "stdout",
     "output_type": "stream",
     "text": [
      "7\n",
      "\n",
      "\n",
      "never pay                25348\n",
      "pay per bucket            8985\n",
      "pay monthly               8300\n",
      "unknown                   8157\n",
      "pay when scheme fails     3914\n",
      "pay annually              3642\n",
      "other                     1054\n",
      "Name: payment, dtype: int64\n"
     ]
    }
   ],
   "source": [
    "#keeping feature\n",
    "print(water_pump['payment'].nunique())\n",
    "print()\n",
    "print()\n",
    "print(water_pump['payment'].value_counts())\n"
   ]
  },
  {
   "cell_type": "code",
   "execution_count": 43,
   "metadata": {},
   "outputs": [
    {
     "name": "stdout",
     "output_type": "stream",
     "text": [
      "7\n",
      "\n",
      "\n",
      "never pay     25348\n",
      "per bucket     8985\n",
      "monthly        8300\n",
      "unknown        8157\n",
      "on failure     3914\n",
      "annually       3642\n",
      "other          1054\n",
      "Name: payment_type, dtype: int64\n"
     ]
    }
   ],
   "source": [
    "#drop - same values as payment feature\n",
    "print(water_pump['payment_type'].nunique())\n",
    "print()\n",
    "print()\n",
    "print(water_pump['payment_type'].value_counts())"
   ]
  },
  {
   "cell_type": "code",
   "execution_count": 44,
   "metadata": {},
   "outputs": [
    {
     "name": "stdout",
     "output_type": "stream",
     "text": [
      "8\n",
      "\n",
      "\n",
      "soft                  50818\n",
      "salty                  4856\n",
      "unknown                1876\n",
      "milky                   804\n",
      "coloured                490\n",
      "salty abandoned         339\n",
      "fluoride                200\n",
      "fluoride abandoned       17\n",
      "Name: water_quality, dtype: int64\n"
     ]
    }
   ],
   "source": [
    "#drop feature - same values as quality_group feature just grouped differently\n",
    "print(water_pump['water_quality'].nunique())\n",
    "print()\n",
    "print()\n",
    "print(water_pump['water_quality'].value_counts())"
   ]
  },
  {
   "cell_type": "code",
   "execution_count": 45,
   "metadata": {},
   "outputs": [
    {
     "name": "stdout",
     "output_type": "stream",
     "text": [
      "6\n",
      "\n",
      "\n",
      "good        50818\n",
      "salty        5195\n",
      "unknown      1876\n",
      "milky         804\n",
      "colored       490\n",
      "fluoride      217\n",
      "Name: quality_group, dtype: int64\n"
     ]
    }
   ],
   "source": [
    "#keeping feature water_quality and quality_group are similar: \n",
    "#the quality_group just groups the salty and flouride together, soft is same as good. \n",
    "print(water_pump['quality_group'].nunique())\n",
    "print()\n",
    "print()\n",
    "print(water_pump['quality_group'].value_counts())"
   ]
  },
  {
   "cell_type": "code",
   "execution_count": 46,
   "metadata": {},
   "outputs": [
    {
     "name": "stdout",
     "output_type": "stream",
     "text": [
      "5\n",
      "\n",
      "\n",
      "enough          33186\n",
      "insufficient    15129\n",
      "dry              6246\n",
      "seasonal         4050\n",
      "unknown           789\n",
      "Name: quantity, dtype: int64\n"
     ]
    }
   ],
   "source": [
    "#keep feature \n",
    "print(water_pump['quantity'].nunique())\n",
    "print()\n",
    "print()\n",
    "print(water_pump['quantity'].value_counts())"
   ]
  },
  {
   "cell_type": "code",
   "execution_count": 47,
   "metadata": {},
   "outputs": [
    {
     "name": "stdout",
     "output_type": "stream",
     "text": [
      "5\n",
      "\n",
      "\n",
      "enough          33186\n",
      "insufficient    15129\n",
      "dry              6246\n",
      "seasonal         4050\n",
      "unknown           789\n",
      "Name: quantity_group, dtype: int64\n"
     ]
    }
   ],
   "source": [
    "#drop - same values as quantity feature\n",
    "print(water_pump['quantity_group'].nunique())\n",
    "print()\n",
    "print()\n",
    "print(water_pump['quantity_group'].value_counts())"
   ]
  },
  {
   "cell_type": "code",
   "execution_count": 48,
   "metadata": {},
   "outputs": [
    {
     "name": "stdout",
     "output_type": "stream",
     "text": [
      "10\n",
      "\n",
      "\n",
      "spring                  17021\n",
      "shallow well            16824\n",
      "machine dbh             11075\n",
      "river                    9612\n",
      "rainwater harvesting     2295\n",
      "hand dtw                  874\n",
      "lake                      765\n",
      "dam                       656\n",
      "other                     212\n",
      "unknown                    66\n",
      "Name: source, dtype: int64\n"
     ]
    }
   ],
   "source": [
    "#source and source_type are the same except source_type has a \n",
    "#NaN for unknown and groups lake/river together\n",
    "print(water_pump['source'].nunique())\n",
    "print()\n",
    "print()\n",
    "print(water_pump['source'].value_counts())"
   ]
  },
  {
   "cell_type": "code",
   "execution_count": 49,
   "metadata": {},
   "outputs": [
    {
     "name": "stdout",
     "output_type": "stream",
     "text": [
      "7\n",
      "\n",
      "\n",
      "spring                  17021\n",
      "shallow well            16824\n",
      "borehole                11949\n",
      "river/lake              10377\n",
      "rainwater harvesting     2295\n",
      "dam                       656\n",
      "other                     278\n",
      "Name: source_type, dtype: int64\n"
     ]
    }
   ],
   "source": [
    "#drop, same as source feature just grouped differently\n",
    "print(water_pump['source_type'].nunique())\n",
    "print()\n",
    "print()\n",
    "print(water_pump['source_type'].value_counts())"
   ]
  },
  {
   "cell_type": "code",
   "execution_count": 50,
   "metadata": {},
   "outputs": [
    {
     "name": "stdout",
     "output_type": "stream",
     "text": [
      "3\n",
      "\n",
      "\n",
      "groundwater    45794\n",
      "surface        13328\n",
      "unknown          278\n",
      "Name: source_class, dtype: int64\n"
     ]
    }
   ],
   "source": [
    "#keep feature - same information as source feature just grouped between\n",
    "#groundwater and surface.\n",
    "print(water_pump['source_class'].nunique())\n",
    "print()\n",
    "print()\n",
    "print(water_pump['source_class'].value_counts())"
   ]
  },
  {
   "cell_type": "code",
   "execution_count": 51,
   "metadata": {},
   "outputs": [
    {
     "name": "stdout",
     "output_type": "stream",
     "text": [
      "7\n",
      "\n",
      "\n",
      "communal standpipe             28522\n",
      "hand pump                      17488\n",
      "other                           6380\n",
      "communal standpipe multiple     6103\n",
      "improved spring                  784\n",
      "cattle trough                    116\n",
      "dam                                7\n",
      "Name: waterpoint_type, dtype: int64\n"
     ]
    }
   ],
   "source": [
    "print(water_pump['waterpoint_type'].nunique())\n",
    "print()\n",
    "print()\n",
    "print(water_pump['waterpoint_type'].value_counts())"
   ]
  },
  {
   "cell_type": "code",
   "execution_count": 52,
   "metadata": {},
   "outputs": [
    {
     "name": "stdout",
     "output_type": "stream",
     "text": [
      "6\n",
      "\n",
      "\n",
      "communal standpipe    34625\n",
      "hand pump             17488\n",
      "other                  6380\n",
      "improved spring         784\n",
      "cattle trough           116\n",
      "dam                       7\n",
      "Name: waterpoint_type_group, dtype: int64\n"
     ]
    }
   ],
   "source": [
    "#drop feature - waterpoint type does a better job of grouping \n",
    "#communal standpipes and multiple communal standpipes\n",
    "print(water_pump['waterpoint_type_group'].nunique())\n",
    "print()\n",
    "print()\n",
    "print(water_pump['waterpoint_type_group'].value_counts())"
   ]
  },
  {
   "cell_type": "code",
   "execution_count": 53,
   "metadata": {},
   "outputs": [],
   "source": [
    "#creating 3 df for plotting long/lat in QGIS\n",
    "functional_df = water_pump[water_pump['status_group'] == 'functional'] \n",
    "non_functional_df = water_pump[water_pump['status_group'] == 'non functional'] \n",
    "functional_needs_repair_df = water_pump[water_pump['status_group'] == 'functional needs repair'] "
   ]
  },
  {
   "cell_type": "code",
   "execution_count": 54,
   "metadata": {},
   "outputs": [],
   "source": [
    "#exporting the 3 df\n",
    "functional_df.to_csv('./Data/functional_pumps.csv', index=False)\n",
    "non_functional_df.to_csv('./Data/non_functional.csv', index=False)\n",
    "functional_needs_repair_df.to_csv('./Data/functional_needs_repair.csv', index=False)"
   ]
  },
  {
   "cell_type": "markdown",
   "metadata": {},
   "source": [
    "**map of water pumps functioning and not functioning**\n",
    "- green= pump functioning\n",
    "- red= non functioning\n",
    "<img src='images/functional_non_function map.png' width=100%/>"
   ]
  },
  {
   "cell_type": "markdown",
   "metadata": {},
   "source": [
    "**map of water pumps in need of repair**\n",
    "<img src='images/repair_pump_map.png' width=100%/>"
   ]
  },
  {
   "cell_type": "markdown",
   "metadata": {},
   "source": [
    "**close up of internal basin**\n",
    "<img src='images/Internal_Basin_1.png' width=100%/>"
   ]
  },
  {
   "cell_type": "code",
   "execution_count": 55,
   "metadata": {},
   "outputs": [],
   "source": [
    "#dropping unused features\n",
    "drop_cols = [\"funder\", \"id\",\"subvillage\", \"district_code\", \"ward\", \"scheme_name\", \"installer\",\n",
    "             \"longitude\", \"latitude\", \"wpt_name\",\"date_recorded\", \"num_private\", \"population\",\n",
    "             \"extraction_type\", \"payment_type\", \"water_quality\", \"recorded_by\",\n",
    "             \"quantity_group\", \"source_type\", \"waterpoint_type_group\", \"construction_year\"]"
   ]
  },
  {
   "cell_type": "code",
   "execution_count": 56,
   "metadata": {},
   "outputs": [
    {
     "name": "stdout",
     "output_type": "stream",
     "text": [
      "<class 'pandas.core.frame.DataFrame'>\n",
      "Int64Index: 59400 entries, 0 to 59399\n",
      "Data columns (total 23 columns):\n",
      " #   Column                   Non-Null Count  Dtype  \n",
      "---  ------                   --------------  -----  \n",
      " 0   status_group             59400 non-null  object \n",
      " 1   amount_tsh               59400 non-null  float64\n",
      " 2   gps_height               59400 non-null  int64  \n",
      " 3   basin                    59400 non-null  object \n",
      " 4   region                   59400 non-null  object \n",
      " 5   region_code              59400 non-null  int64  \n",
      " 6   lga                      59400 non-null  object \n",
      " 7   public_meeting           59400 non-null  object \n",
      " 8   scheme_management        59400 non-null  object \n",
      " 9   permit                   59400 non-null  object \n",
      " 10  extraction_type_group    59400 non-null  object \n",
      " 11  extraction_type_class    59400 non-null  object \n",
      " 12  management               59400 non-null  object \n",
      " 13  management_group         59400 non-null  object \n",
      " 14  payment                  59400 non-null  object \n",
      " 15  quality_group            59400 non-null  object \n",
      " 16  quantity                 59400 non-null  object \n",
      " 17  source                   59400 non-null  object \n",
      " 18  source_class             59400 non-null  object \n",
      " 19  waterpoint_type          59400 non-null  object \n",
      " 20  water_per_person         38019 non-null  float64\n",
      " 21  unknown_construction_yr  59400 non-null  bool   \n",
      " 22  age_at_inspection        38691 non-null  float64\n",
      "dtypes: bool(1), float64(3), int64(2), object(17)\n",
      "memory usage: 13.0+ MB\n"
     ]
    }
   ],
   "source": [
    "water_pump.drop(drop_cols, axis=1, inplace=True)\n",
    "water_pump.info()"
   ]
  },
  {
   "cell_type": "code",
   "execution_count": 57,
   "metadata": {},
   "outputs": [
    {
     "data": {
      "text/plain": [
       "status_group                   0\n",
       "amount_tsh                     0\n",
       "gps_height                     0\n",
       "basin                          0\n",
       "region                         0\n",
       "region_code                    0\n",
       "lga                            0\n",
       "public_meeting                 0\n",
       "scheme_management              0\n",
       "permit                         0\n",
       "extraction_type_group          0\n",
       "extraction_type_class          0\n",
       "management                     0\n",
       "management_group               0\n",
       "payment                        0\n",
       "quality_group                  0\n",
       "quantity                       0\n",
       "source                         0\n",
       "source_class                   0\n",
       "waterpoint_type                0\n",
       "water_per_person           21381\n",
       "unknown_construction_yr        0\n",
       "age_at_inspection          20709\n",
       "dtype: int64"
      ]
     },
     "execution_count": 57,
     "metadata": {},
     "output_type": "execute_result"
    }
   ],
   "source": [
    "#sanity check for nulls\n",
    "water_pump.isnull().sum()"
   ]
  },
  {
   "cell_type": "code",
   "execution_count": 58,
   "metadata": {},
   "outputs": [],
   "source": [
    "#saving off new csv file for modeling notebook\n",
    "water_pump.to_csv('./Data/cleaned_water_pump.csv', index=False)"
   ]
  }
 ],
 "metadata": {
  "kernelspec": {
   "display_name": "Python (learn-env)",
   "language": "python",
   "name": "learn-env"
  },
  "language_info": {
   "codemirror_mode": {
    "name": "ipython",
    "version": 3
   },
   "file_extension": ".py",
   "mimetype": "text/x-python",
   "name": "python",
   "nbconvert_exporter": "python",
   "pygments_lexer": "ipython3",
   "version": "3.8.5"
  }
 },
 "nbformat": 4,
 "nbformat_minor": 4
}
